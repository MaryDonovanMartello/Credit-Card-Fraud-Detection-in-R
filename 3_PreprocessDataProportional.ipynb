{
 "cells": [
  {
   "cell_type": "markdown",
   "id": "3945c076",
   "metadata": {},
   "source": [
    "# Anomaly Detection in R"
   ]
  },
  {
   "cell_type": "markdown",
   "id": "2c73a062",
   "metadata": {},
   "source": [
    "# Mary Donovan Martello"
   ]
  },
  {
   "cell_type": "markdown",
   "id": "6b9e2857",
   "metadata": {},
   "source": [
    "## The goal of this project was to use R to design unsupervised predictive binary classification models to predict whether credit card transactions are fraudulent transactions.  This file randomly samples the dataset to create smaller datasets."
   ]
  },
  {
   "cell_type": "markdown",
   "id": "9c48ab36",
   "metadata": {},
   "source": [
    "## Part 3:  Sample Data for Smaller Datasets"
   ]
  },
  {
   "cell_type": "code",
   "execution_count": 2,
   "id": "a9751842",
   "metadata": {},
   "outputs": [],
   "source": [
    "# Importing required libraries\n",
    "library(dplyr)\n",
    "library(caret)\n",
    "library(ggplot2)\n",
    "library(caTools)\n",
    "library(ROSE)\n",
    "library(smotefamily)\n",
    "library(rpart)\n",
    "library(rpart.plot)\n",
    "library(psych)\n",
    "library(ltm)\n",
    "library(corrplot)\n",
    "library(e1071)\n",
    "library(data.table)\n",
    "\n",
    "suppressMessages(library(dplyr))\n",
    "suppressMessages(library(caTools))\n",
    "suppressMessages(library(ROSE))\n",
    "suppressMessages(library(smotefamily))\n",
    "suppressMessages(library(rpart.plot))\n",
    "suppressMessages(library(psych))\n",
    "suppressMessages(library(ltm))\n",
    "suppressMessages(library(corrplot))\n",
    "suppressMessages(library(e1071))\n",
    "suppressMessages(library(data.table))"
   ]
  },
  {
   "cell_type": "code",
   "execution_count": 3,
   "id": "96a42f65",
   "metadata": {},
   "outputs": [],
   "source": [
    "#Loading the dataset\n",
    "fulldf<-read.csv(\"creditcard.csv\")"
   ]
  },
  {
   "cell_type": "code",
   "execution_count": 4,
   "id": "940dd171",
   "metadata": {},
   "outputs": [],
   "source": [
    "# Convert class to a factor variable\n",
    "fulldf$Class <- factor(fulldf$Class, levels =  c(0,1))"
   ]
  },
  {
   "cell_type": "code",
   "execution_count": null,
   "id": "6a5893bb",
   "metadata": {},
   "outputs": [],
   "source": []
  },
  {
   "cell_type": "code",
   "execution_count": null,
   "id": "b6b28716",
   "metadata": {},
   "outputs": [],
   "source": []
  },
  {
   "cell_type": "code",
   "execution_count": null,
   "id": "2305a4f5",
   "metadata": {},
   "outputs": [],
   "source": []
  },
  {
   "cell_type": "markdown",
   "id": "f82f6d84",
   "metadata": {},
   "source": [
    "### Scaling"
   ]
  },
  {
   "cell_type": "markdown",
   "id": "1cffd947",
   "metadata": {},
   "source": [
    "**Note: Data does not need to be scaled because Time removed and all but one remaining feature is a PCA feature.**"
   ]
  },
  {
   "cell_type": "code",
   "execution_count": null,
   "id": "00b1acc2",
   "metadata": {},
   "outputs": [],
   "source": []
  },
  {
   "cell_type": "markdown",
   "id": "d5582861",
   "metadata": {},
   "source": [
    "### Reduce Sample Size"
   ]
  },
  {
   "cell_type": "markdown",
   "id": "fb4ca087",
   "metadata": {},
   "source": [
    "**The dimension of the original dataset is 31 features and 284,807 records.  The size of this original dataset was too large for my computing capabilities.  Sample the original dataset to use a smaller pro rata sample of the original dataset.**"
   ]
  },
  {
   "cell_type": "markdown",
   "id": "cc1e19b9",
   "metadata": {},
   "source": [
    "Dimension before reducing sample size:"
   ]
  },
  {
   "cell_type": "code",
   "execution_count": 6,
   "id": "e92dbddc",
   "metadata": {},
   "outputs": [
    {
     "data": {
      "text/html": [
       "<ol class=list-inline>\n",
       "\t<li>284807</li>\n",
       "\t<li>31</li>\n",
       "</ol>\n"
      ],
      "text/latex": [
       "\\begin{enumerate*}\n",
       "\\item 284807\n",
       "\\item 31\n",
       "\\end{enumerate*}\n"
      ],
      "text/markdown": [
       "1. 284807\n",
       "2. 31\n",
       "\n",
       "\n"
      ],
      "text/plain": [
       "[1] 284807     31"
      ]
     },
     "metadata": {},
     "output_type": "display_data"
    }
   ],
   "source": [
    "dim(fulldf)"
   ]
  },
  {
   "cell_type": "markdown",
   "id": "bbacaddc",
   "metadata": {},
   "source": [
    "Fraud distribution and percentage before reducing the dataset"
   ]
  },
  {
   "cell_type": "code",
   "execution_count": 7,
   "id": "937617b2",
   "metadata": {},
   "outputs": [
    {
     "data": {
      "text/plain": [
       "\n",
       "     0      1 \n",
       "284315    492 "
      ]
     },
     "metadata": {},
     "output_type": "display_data"
    }
   ],
   "source": [
    "table(fulldf$Class)"
   ]
  },
  {
   "cell_type": "code",
   "execution_count": 8,
   "id": "9cfd326b",
   "metadata": {},
   "outputs": [
    {
     "data": {
      "text/plain": [
       "\n",
       "          0           1 \n",
       "0.998272514 0.001727486 "
      ]
     },
     "metadata": {},
     "output_type": "display_data"
    }
   ],
   "source": [
    "# Get the percentage of fraud and non-fraud transactions before reducing the dataset\n",
    "prop.table(table(fulldf$Class))"
   ]
  },
  {
   "cell_type": "code",
   "execution_count": 12,
   "id": "ffcdfb2d",
   "metadata": {},
   "outputs": [
    {
     "data": {
      "text/plain": [
       "\n",
       "    0     1 \n",
       "56856   105 "
      ]
     },
     "metadata": {},
     "output_type": "display_data"
    },
    {
     "data": {
      "text/plain": [
       "\n",
       "          0           1 \n",
       "0.998156633 0.001843367 "
      ]
     },
     "metadata": {},
     "output_type": "display_data"
    },
    {
     "data": {
      "text/html": [
       "<ol class=list-inline>\n",
       "\t<li>56961</li>\n",
       "\t<li>31</li>\n",
       "</ol>\n"
      ],
      "text/latex": [
       "\\begin{enumerate*}\n",
       "\\item 56961\n",
       "\\item 31\n",
       "\\end{enumerate*}\n"
      ],
      "text/markdown": [
       "1. 56961\n",
       "2. 31\n",
       "\n",
       "\n"
      ],
      "text/plain": [
       "[1] 56961    31"
      ]
     },
     "metadata": {},
     "output_type": "display_data"
    }
   ],
   "source": [
    "#  select random samples in R using Dplyr Package\n",
    "set.seed(1)\n",
    "df <- fulldf %>% sample_frac(0.2)\n",
    "\n",
    "# Fraud distribution and percentage after reducing the dataset\n",
    "table(df$Class)\n",
    "\n",
    "# Get the percentage of fraud and non-fraud transactions after reducing the dataset\n",
    "prop.table(table(df$Class))\n",
    "\n",
    "# show dimension following the sampling\n",
    "dim(df)"
   ]
  },
  {
   "cell_type": "code",
   "execution_count": 13,
   "id": "20d1f1f4",
   "metadata": {},
   "outputs": [
    {
     "data": {
      "text/html": [
       "<table>\n",
       "<thead><tr><th scope=col>Time</th><th scope=col>V1</th><th scope=col>V2</th><th scope=col>V3</th><th scope=col>V4</th><th scope=col>V5</th><th scope=col>V6</th><th scope=col>V7</th><th scope=col>V8</th><th scope=col>V9</th><th scope=col>...</th><th scope=col>V21</th><th scope=col>V22</th><th scope=col>V23</th><th scope=col>V24</th><th scope=col>V25</th><th scope=col>V26</th><th scope=col>V27</th><th scope=col>V28</th><th scope=col>Amount</th><th scope=col>Class</th></tr></thead>\n",
       "<tbody>\n",
       "\t<tr><td>33209       </td><td>0.1579738   </td><td>-0.3135721  </td><td>-0.8799915  </td><td>-2.3710149  </td><td> 1.832820   </td><td> 3.3410355  </td><td>-0.8045669  </td><td> 0.01251665 </td><td>-0.9891706  </td><td>...         </td><td> 0.674059981</td><td>-0.8824945  </td><td>-0.26334793 </td><td>0.9186489   </td><td>1.0777848   </td><td>-0.3662552  </td><td>0.13243425  </td><td>0.22821326  </td><td>80.08       </td><td>0           </td></tr>\n",
       "\t<tr><td>77276       </td><td>1.2470640   </td><td>-0.3239156  </td><td> 0.9178714  </td><td>-0.7282708  </td><td>-1.180023   </td><td>-0.8173157  </td><td>-0.5494987  </td><td>-0.05259299 </td><td> 1.7699065  </td><td>...         </td><td>-0.008405836</td><td> 0.2422148  </td><td>-0.03969362 </td><td>0.4188275   </td><td>0.5116329   </td><td>-0.6877417  </td><td>0.09587039  </td><td>0.03602943  </td><td> 1.00       </td><td>0           </td></tr>\n",
       "</tbody>\n",
       "</table>\n"
      ],
      "text/latex": [
       "\\begin{tabular}{r|lllllllllllllllllllllllllllllll}\n",
       " Time & V1 & V2 & V3 & V4 & V5 & V6 & V7 & V8 & V9 & ... & V21 & V22 & V23 & V24 & V25 & V26 & V27 & V28 & Amount & Class\\\\\n",
       "\\hline\n",
       "\t 33209        & 0.1579738    & -0.3135721   & -0.8799915   & -2.3710149   &  1.832820    &  3.3410355   & -0.8045669   &  0.01251665  & -0.9891706   & ...          &  0.674059981 & -0.8824945   & -0.26334793  & 0.9186489    & 1.0777848    & -0.3662552   & 0.13243425   & 0.22821326   & 80.08        & 0           \\\\\n",
       "\t 77276        & 1.2470640    & -0.3239156   &  0.9178714   & -0.7282708   & -1.180023    & -0.8173157   & -0.5494987   & -0.05259299  &  1.7699065   & ...          & -0.008405836 &  0.2422148   & -0.03969362  & 0.4188275    & 0.5116329    & -0.6877417   & 0.09587039   & 0.03602943   &  1.00        & 0           \\\\\n",
       "\\end{tabular}\n"
      ],
      "text/markdown": [
       "\n",
       "| Time | V1 | V2 | V3 | V4 | V5 | V6 | V7 | V8 | V9 | ... | V21 | V22 | V23 | V24 | V25 | V26 | V27 | V28 | Amount | Class |\n",
       "|---|---|---|---|---|---|---|---|---|---|---|---|---|---|---|---|---|---|---|---|---|\n",
       "| 33209        | 0.1579738    | -0.3135721   | -0.8799915   | -2.3710149   |  1.832820    |  3.3410355   | -0.8045669   |  0.01251665  | -0.9891706   | ...          |  0.674059981 | -0.8824945   | -0.26334793  | 0.9186489    | 1.0777848    | -0.3662552   | 0.13243425   | 0.22821326   | 80.08        | 0            |\n",
       "| 77276        | 1.2470640    | -0.3239156   |  0.9178714   | -0.7282708   | -1.180023    | -0.8173157   | -0.5494987   | -0.05259299  |  1.7699065   | ...          | -0.008405836 |  0.2422148   | -0.03969362  | 0.4188275    | 0.5116329    | -0.6877417   | 0.09587039   | 0.03602943   |  1.00        | 0            |\n",
       "\n"
      ],
      "text/plain": [
       "  Time  V1        V2         V3         V4         V5        V6        \n",
       "1 33209 0.1579738 -0.3135721 -0.8799915 -2.3710149  1.832820  3.3410355\n",
       "2 77276 1.2470640 -0.3239156  0.9178714 -0.7282708 -1.180023 -0.8173157\n",
       "  V7         V8          V9         ... V21          V22        V23        \n",
       "1 -0.8045669  0.01251665 -0.9891706 ...  0.674059981 -0.8824945 -0.26334793\n",
       "2 -0.5494987 -0.05259299  1.7699065 ... -0.008405836  0.2422148 -0.03969362\n",
       "  V24       V25       V26        V27        V28        Amount Class\n",
       "1 0.9186489 1.0777848 -0.3662552 0.13243425 0.22821326 80.08  0    \n",
       "2 0.4188275 0.5116329 -0.6877417 0.09587039 0.03602943  1.00  0    "
      ]
     },
     "metadata": {},
     "output_type": "display_data"
    }
   ],
   "source": [
    "head(df, 2)"
   ]
  },
  {
   "cell_type": "code",
   "execution_count": null,
   "id": "9e08d968",
   "metadata": {},
   "outputs": [],
   "source": []
  },
  {
   "cell_type": "code",
   "execution_count": 11,
   "id": "1b465bb1",
   "metadata": {},
   "outputs": [],
   "source": [
    "write.csv(df,\"C:\\\\Users\\\\trave\\\\1_DSC680_Project3\\\\creditFraud10.csv\", row.names = FALSE)"
   ]
  },
  {
   "cell_type": "code",
   "execution_count": 14,
   "id": "fa8420b3",
   "metadata": {},
   "outputs": [],
   "source": [
    "write.csv(df,\"C:\\\\Users\\\\trave\\\\1_DSC680_Project3\\\\creditFraud20.csv\", row.names = FALSE)"
   ]
  },
  {
   "cell_type": "code",
   "execution_count": null,
   "id": "e3d1588e",
   "metadata": {},
   "outputs": [],
   "source": []
  },
  {
   "cell_type": "code",
   "execution_count": null,
   "id": "0c04c64b",
   "metadata": {},
   "outputs": [],
   "source": []
  },
  {
   "cell_type": "code",
   "execution_count": null,
   "id": "637d8e0d",
   "metadata": {},
   "outputs": [],
   "source": []
  }
 ],
 "metadata": {
  "kernelspec": {
   "display_name": "R",
   "language": "R",
   "name": "ir"
  },
  "language_info": {
   "codemirror_mode": "r",
   "file_extension": ".r",
   "mimetype": "text/x-r-source",
   "name": "R",
   "pygments_lexer": "r",
   "version": "3.6.1"
  }
 },
 "nbformat": 4,
 "nbformat_minor": 5
}
