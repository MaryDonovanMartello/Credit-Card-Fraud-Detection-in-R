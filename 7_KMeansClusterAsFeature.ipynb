{
 "cells": [
  {
   "cell_type": "markdown",
   "id": "52718fc8",
   "metadata": {},
   "source": [
    "# Anomaly Detection"
   ]
  },
  {
   "cell_type": "markdown",
   "id": "101800a9",
   "metadata": {},
   "source": [
    "# Mary Donovan Martello"
   ]
  },
  {
   "cell_type": "markdown",
   "id": "700c5572",
   "metadata": {},
   "source": [
    "## Part 7:  Use K Means Clusters as an Input Feature in a Supervised Feature."
   ]
  },
  {
   "cell_type": "code",
   "execution_count": null,
   "id": "43a3f09a",
   "metadata": {},
   "outputs": [],
   "source": []
  },
  {
   "cell_type": "code",
   "execution_count": 147,
   "id": "a9751842",
   "metadata": {},
   "outputs": [],
   "source": [
    "# Importing required libraries\n",
    "library(dplyr)\n",
    "library(caret)\n",
    "library(ggplot2)\n",
    "library(caTools)\n",
    "library(ROSE)\n",
    "library(smotefamily)\n",
    "library(rpart)\n",
    "library(rpart.plot)\n",
    "library(psych)\n",
    "library(ltm)\n",
    "library(corrplot)\n",
    "library(e1071)\n",
    "library(data.table)\n",
    "library(factoextra)\n",
    "library(NbClust)\n",
    "library(rminer)\n",
    "library(MLmetrics)\n",
    "\n",
    "\n",
    "suppressMessages(library(dplyr))\n",
    "suppressMessages(library(caTools))\n",
    "suppressMessages(library(ROSE))\n",
    "suppressMessages(library(smotefamily))\n",
    "suppressMessages(library(rpart.plot))\n",
    "suppressMessages(library(psych))\n",
    "suppressMessages(library(ltm))\n",
    "suppressMessages(library(corrplot))\n",
    "suppressMessages(library(e1071))\n",
    "suppressMessages(library(data.table))\n",
    "suppressMessages(library(factoextra))\n",
    "suppressMessages(library(NbClust))\n",
    "suppressMessages(library(rminer))\n",
    "suppressMessages(library(MLmetrics))"
   ]
  },
  {
   "cell_type": "code",
   "execution_count": 3,
   "id": "ea0714dc",
   "metadata": {},
   "outputs": [],
   "source": [
    "#Loading the dataset\n",
    "dfAll <- read.csv('creditFraud20.csv')"
   ]
  },
  {
   "cell_type": "code",
   "execution_count": null,
   "id": "f8f9979b",
   "metadata": {},
   "outputs": [],
   "source": []
  },
  {
   "cell_type": "markdown",
   "id": "33923c0e",
   "metadata": {},
   "source": [
    "### Create Subset of Features from Feature Selection"
   ]
  },
  {
   "cell_type": "code",
   "execution_count": 4,
   "id": "5fc217d5",
   "metadata": {},
   "outputs": [
    {
     "data": {
      "text/html": [
       "<table>\n",
       "<thead><tr><th scope=col>V4</th><th scope=col>V10</th><th scope=col>V12</th><th scope=col>V14</th><th scope=col>V17</th><th scope=col>Class</th></tr></thead>\n",
       "<tbody>\n",
       "\t<tr><td>-2.3710149</td><td>-0.3395744</td><td>-0.8130265</td><td>-1.1791100</td><td> 0.5734176</td><td>0         </td></tr>\n",
       "\t<tr><td>-0.7282708</td><td>-1.0898177</td><td> 0.9220560</td><td>-0.2163698</td><td>-0.1641099</td><td>0         </td></tr>\n",
       "</tbody>\n",
       "</table>\n"
      ],
      "text/latex": [
       "\\begin{tabular}{r|llllll}\n",
       " V4 & V10 & V12 & V14 & V17 & Class\\\\\n",
       "\\hline\n",
       "\t -2.3710149 & -0.3395744 & -0.8130265 & -1.1791100 &  0.5734176 & 0         \\\\\n",
       "\t -0.7282708 & -1.0898177 &  0.9220560 & -0.2163698 & -0.1641099 & 0         \\\\\n",
       "\\end{tabular}\n"
      ],
      "text/markdown": [
       "\n",
       "| V4 | V10 | V12 | V14 | V17 | Class |\n",
       "|---|---|---|---|---|---|\n",
       "| -2.3710149 | -0.3395744 | -0.8130265 | -1.1791100 |  0.5734176 | 0          |\n",
       "| -0.7282708 | -1.0898177 |  0.9220560 | -0.2163698 | -0.1641099 | 0          |\n",
       "\n"
      ],
      "text/plain": [
       "  V4         V10        V12        V14        V17        Class\n",
       "1 -2.3710149 -0.3395744 -0.8130265 -1.1791100  0.5734176 0    \n",
       "2 -0.7282708 -1.0898177  0.9220560 -0.2163698 -0.1641099 0    "
      ]
     },
     "metadata": {},
     "output_type": "display_data"
    }
   ],
   "source": [
    "dfSub <- dfAll[, c(5:5, 11:11, 13:13, 15:15, 18:18, 31:31)]\n",
    "head(dfSub, 2)"
   ]
  },
  {
   "cell_type": "code",
   "execution_count": null,
   "id": "84d590c1",
   "metadata": {},
   "outputs": [],
   "source": []
  },
  {
   "cell_type": "markdown",
   "id": "b78c68e1",
   "metadata": {},
   "source": [
    "### Data Preparation"
   ]
  },
  {
   "cell_type": "markdown",
   "id": "91b18569",
   "metadata": {},
   "source": [
    "### Drop Non-Normal Distribution Features"
   ]
  },
  {
   "cell_type": "code",
   "execution_count": null,
   "id": "cc8927e0",
   "metadata": {},
   "outputs": [],
   "source": []
  },
  {
   "cell_type": "code",
   "execution_count": 5,
   "id": "56064028",
   "metadata": {},
   "outputs": [
    {
     "data": {
      "text/html": [
       "<table>\n",
       "<thead><tr><th scope=col>V2</th><th scope=col>V3</th><th scope=col>V4</th><th scope=col>V5</th><th scope=col>V6</th><th scope=col>V7</th><th scope=col>V8</th><th scope=col>V9</th><th scope=col>V10</th><th scope=col>V11</th><th scope=col>...</th><th scope=col>V20</th><th scope=col>V21</th><th scope=col>V22</th><th scope=col>V23</th><th scope=col>V25</th><th scope=col>V26</th><th scope=col>V27</th><th scope=col>V28</th><th scope=col>Amount</th><th scope=col>Class</th></tr></thead>\n",
       "<tbody>\n",
       "\t<tr><td>-0.3135721  </td><td>-0.8799915  </td><td>-2.3710149  </td><td> 1.832820   </td><td> 3.3410355  </td><td>-0.8045669  </td><td> 0.01251665 </td><td>-0.9891706  </td><td>-0.3395744  </td><td>-0.05770153 </td><td>...         </td><td> 0.1487577  </td><td> 0.674059981</td><td>-0.8824945  </td><td>-0.26334793 </td><td>1.0777848   </td><td>-0.3662552  </td><td>0.13243425  </td><td>0.22821326  </td><td>80.08       </td><td>0           </td></tr>\n",
       "\t<tr><td>-0.3239156  </td><td> 0.9178714  </td><td>-0.7282708  </td><td>-1.180023   </td><td>-0.8173157  </td><td>-0.5494987  </td><td>-0.05259299 </td><td> 1.7699065  </td><td>-1.0898177  </td><td>-0.38001273 </td><td>...         </td><td>-0.1039912  </td><td>-0.008405836</td><td> 0.2422148  </td><td>-0.03969362 </td><td>0.5116329   </td><td>-0.6877417  </td><td>0.09587039  </td><td>0.03602943  </td><td> 1.00       </td><td>0           </td></tr>\n",
       "</tbody>\n",
       "</table>\n"
      ],
      "text/latex": [
       "\\begin{tabular}{r|llllllllllllllllllllllllllll}\n",
       " V2 & V3 & V4 & V5 & V6 & V7 & V8 & V9 & V10 & V11 & ... & V20 & V21 & V22 & V23 & V25 & V26 & V27 & V28 & Amount & Class\\\\\n",
       "\\hline\n",
       "\t -0.3135721   & -0.8799915   & -2.3710149   &  1.832820    &  3.3410355   & -0.8045669   &  0.01251665  & -0.9891706   & -0.3395744   & -0.05770153  & ...          &  0.1487577   &  0.674059981 & -0.8824945   & -0.26334793  & 1.0777848    & -0.3662552   & 0.13243425   & 0.22821326   & 80.08        & 0           \\\\\n",
       "\t -0.3239156   &  0.9178714   & -0.7282708   & -1.180023    & -0.8173157   & -0.5494987   & -0.05259299  &  1.7699065   & -1.0898177   & -0.38001273  & ...          & -0.1039912   & -0.008405836 &  0.2422148   & -0.03969362  & 0.5116329    & -0.6877417   & 0.09587039   & 0.03602943   &  1.00        & 0           \\\\\n",
       "\\end{tabular}\n"
      ],
      "text/markdown": [
       "\n",
       "| V2 | V3 | V4 | V5 | V6 | V7 | V8 | V9 | V10 | V11 | ... | V20 | V21 | V22 | V23 | V25 | V26 | V27 | V28 | Amount | Class |\n",
       "|---|---|---|---|---|---|---|---|---|---|---|---|---|---|---|---|---|---|---|---|---|\n",
       "| -0.3135721   | -0.8799915   | -2.3710149   |  1.832820    |  3.3410355   | -0.8045669   |  0.01251665  | -0.9891706   | -0.3395744   | -0.05770153  | ...          |  0.1487577   |  0.674059981 | -0.8824945   | -0.26334793  | 1.0777848    | -0.3662552   | 0.13243425   | 0.22821326   | 80.08        | 0            |\n",
       "| -0.3239156   |  0.9178714   | -0.7282708   | -1.180023    | -0.8173157   | -0.5494987   | -0.05259299  |  1.7699065   | -1.0898177   | -0.38001273  | ...          | -0.1039912   | -0.008405836 |  0.2422148   | -0.03969362  | 0.5116329    | -0.6877417   | 0.09587039   | 0.03602943   |  1.00        | 0            |\n",
       "\n"
      ],
      "text/plain": [
       "  V2         V3         V4         V5        V6         V7         V8         \n",
       "1 -0.3135721 -0.8799915 -2.3710149  1.832820  3.3410355 -0.8045669  0.01251665\n",
       "2 -0.3239156  0.9178714 -0.7282708 -1.180023 -0.8173157 -0.5494987 -0.05259299\n",
       "  V9         V10        V11         ... V20        V21          V22       \n",
       "1 -0.9891706 -0.3395744 -0.05770153 ...  0.1487577  0.674059981 -0.8824945\n",
       "2  1.7699065 -1.0898177 -0.38001273 ... -0.1039912 -0.008405836  0.2422148\n",
       "  V23         V25       V26        V27        V28        Amount Class\n",
       "1 -0.26334793 1.0777848 -0.3662552 0.13243425 0.22821326 80.08  0    \n",
       "2 -0.03969362 0.5116329 -0.6877417 0.09587039 0.03602943  1.00  0    "
      ]
     },
     "metadata": {},
     "output_type": "display_data"
    }
   ],
   "source": [
    "df <- dfAll[, c(3:24, 26:31)]\n",
    "head(df, 2)"
   ]
  },
  {
   "cell_type": "code",
   "execution_count": 6,
   "id": "f89e3150",
   "metadata": {},
   "outputs": [
    {
     "data": {
      "text/html": [
       "<ol class=list-inline>\n",
       "\t<li>56961</li>\n",
       "\t<li>28</li>\n",
       "</ol>\n"
      ],
      "text/latex": [
       "\\begin{enumerate*}\n",
       "\\item 56961\n",
       "\\item 28\n",
       "\\end{enumerate*}\n"
      ],
      "text/markdown": [
       "1. 56961\n",
       "2. 28\n",
       "\n",
       "\n"
      ],
      "text/plain": [
       "[1] 56961    28"
      ]
     },
     "metadata": {},
     "output_type": "display_data"
    }
   ],
   "source": [
    "dim(df)"
   ]
  },
  {
   "cell_type": "markdown",
   "id": "918dc4cc",
   "metadata": {},
   "source": [
    "**Split the Data into Training and Testing Sets**"
   ]
  },
  {
   "cell_type": "markdown",
   "id": "b0439113",
   "metadata": {},
   "source": [
    "**> Full Normal Dataset**"
   ]
  },
  {
   "cell_type": "code",
   "execution_count": 7,
   "id": "0c12be9c",
   "metadata": {},
   "outputs": [],
   "source": [
    "# set.seed(102) \n",
    "sample = sample.split(df$Amount, SplitRatio = .80)\n",
    "Train = subset(df, sample == TRUE)\n",
    "Test  = subset(df, sample == FALSE)\n"
   ]
  },
  {
   "cell_type": "code",
   "execution_count": 98,
   "id": "3f169769",
   "metadata": {},
   "outputs": [
    {
     "data": {
      "text/html": [
       "<ol class=list-inline>\n",
       "\t<li>56961</li>\n",
       "\t<li>28</li>\n",
       "</ol>\n"
      ],
      "text/latex": [
       "\\begin{enumerate*}\n",
       "\\item 56961\n",
       "\\item 28\n",
       "\\end{enumerate*}\n"
      ],
      "text/markdown": [
       "1. 56961\n",
       "2. 28\n",
       "\n",
       "\n"
      ],
      "text/plain": [
       "[1] 56961    28"
      ]
     },
     "metadata": {},
     "output_type": "display_data"
    }
   ],
   "source": [
    "dim(df)"
   ]
  },
  {
   "cell_type": "code",
   "execution_count": 102,
   "id": "7b079ba9",
   "metadata": {},
   "outputs": [
    {
     "data": {
      "text/html": [
       "<ol class=list-inline>\n",
       "\t<li>9285</li>\n",
       "\t<li>28</li>\n",
       "</ol>\n"
      ],
      "text/latex": [
       "\\begin{enumerate*}\n",
       "\\item 9285\n",
       "\\item 28\n",
       "\\end{enumerate*}\n"
      ],
      "text/markdown": [
       "1. 9285\n",
       "2. 28\n",
       "\n",
       "\n"
      ],
      "text/plain": [
       "[1] 9285   28"
      ]
     },
     "metadata": {},
     "output_type": "display_data"
    }
   ],
   "source": [
    "dim(Test)"
   ]
  },
  {
   "cell_type": "code",
   "execution_count": 28,
   "id": "3cc6a6f1",
   "metadata": {},
   "outputs": [
    {
     "data": {
      "text/html": [
       "<table>\n",
       "<thead><tr><th></th><th scope=col>V2</th><th scope=col>V3</th><th scope=col>V4</th><th scope=col>V5</th><th scope=col>V6</th><th scope=col>V7</th><th scope=col>V8</th><th scope=col>V9</th><th scope=col>V10</th><th scope=col>V11</th><th scope=col>...</th><th scope=col>V20</th><th scope=col>V21</th><th scope=col>V22</th><th scope=col>V23</th><th scope=col>V25</th><th scope=col>V26</th><th scope=col>V27</th><th scope=col>V28</th><th scope=col>Amount</th><th scope=col>Class</th></tr></thead>\n",
       "<tbody>\n",
       "\t<tr><th scope=row>1</th><td>-0.3135721 </td><td>-0.8799915 </td><td>-2.371015  </td><td>1.832820   </td><td>3.3410355  </td><td>-0.8045669 </td><td>0.01251665 </td><td>-0.9891706 </td><td>-0.3395744 </td><td>-0.05770153</td><td>...        </td><td> 0.14875768</td><td> 0.6740600 </td><td>-0.8824945 </td><td>-0.2633479 </td><td> 1.0777848 </td><td>-0.36625523</td><td>0.1324342  </td><td>0.2282133  </td><td>80.08      </td><td>0          </td></tr>\n",
       "\t<tr><th scope=row>3</th><td> 0.7837216 </td><td> 0.7148632 </td><td>-1.068535  </td><td>1.238372   </td><td>0.4431591  </td><td> 0.8106104 </td><td>0.13607391 </td><td>-0.7054481 </td><td>-0.6262094 </td><td> 0.29127375</td><td>...        </td><td>-0.07905931</td><td>-0.0511307 </td><td>-0.1710939 </td><td>-0.1074708 </td><td>-0.5394949 </td><td>-0.04552565</td><td>0.1218609  </td><td>0.1478635  </td><td>11.09      </td><td>0          </td></tr>\n",
       "</tbody>\n",
       "</table>\n"
      ],
      "text/latex": [
       "\\begin{tabular}{r|llllllllllllllllllllllllllll}\n",
       "  & V2 & V3 & V4 & V5 & V6 & V7 & V8 & V9 & V10 & V11 & ... & V20 & V21 & V22 & V23 & V25 & V26 & V27 & V28 & Amount & Class\\\\\n",
       "\\hline\n",
       "\t1 & -0.3135721  & -0.8799915  & -2.371015   & 1.832820    & 3.3410355   & -0.8045669  & 0.01251665  & -0.9891706  & -0.3395744  & -0.05770153 & ...         &  0.14875768 &  0.6740600  & -0.8824945  & -0.2633479  &  1.0777848  & -0.36625523 & 0.1324342   & 0.2282133   & 80.08       & 0          \\\\\n",
       "\t3 &  0.7837216  &  0.7148632  & -1.068535   & 1.238372    & 0.4431591   &  0.8106104  & 0.13607391  & -0.7054481  & -0.6262094  &  0.29127375 & ...         & -0.07905931 & -0.0511307  & -0.1710939  & -0.1074708  & -0.5394949  & -0.04552565 & 0.1218609   & 0.1478635   & 11.09       & 0          \\\\\n",
       "\\end{tabular}\n"
      ],
      "text/markdown": [
       "\n",
       "| <!--/--> | V2 | V3 | V4 | V5 | V6 | V7 | V8 | V9 | V10 | V11 | ... | V20 | V21 | V22 | V23 | V25 | V26 | V27 | V28 | Amount | Class |\n",
       "|---|---|---|---|---|---|---|---|---|---|---|---|---|---|---|---|---|---|---|---|---|---|\n",
       "| 1 | -0.3135721  | -0.8799915  | -2.371015   | 1.832820    | 3.3410355   | -0.8045669  | 0.01251665  | -0.9891706  | -0.3395744  | -0.05770153 | ...         |  0.14875768 |  0.6740600  | -0.8824945  | -0.2633479  |  1.0777848  | -0.36625523 | 0.1324342   | 0.2282133   | 80.08       | 0           |\n",
       "| 3 |  0.7837216  |  0.7148632  | -1.068535   | 1.238372    | 0.4431591   |  0.8106104  | 0.13607391  | -0.7054481  | -0.6262094  |  0.29127375 | ...         | -0.07905931 | -0.0511307  | -0.1710939  | -0.1074708  | -0.5394949  | -0.04552565 | 0.1218609   | 0.1478635   | 11.09       | 0           |\n",
       "\n"
      ],
      "text/plain": [
       "  V2         V3         V4        V5       V6        V7         V8        \n",
       "1 -0.3135721 -0.8799915 -2.371015 1.832820 3.3410355 -0.8045669 0.01251665\n",
       "3  0.7837216  0.7148632 -1.068535 1.238372 0.4431591  0.8106104 0.13607391\n",
       "  V9         V10        V11         ... V20         V21        V22       \n",
       "1 -0.9891706 -0.3395744 -0.05770153 ...  0.14875768  0.6740600 -0.8824945\n",
       "3 -0.7054481 -0.6262094  0.29127375 ... -0.07905931 -0.0511307 -0.1710939\n",
       "  V23        V25        V26         V27       V28       Amount Class\n",
       "1 -0.2633479  1.0777848 -0.36625523 0.1324342 0.2282133 80.08  0    \n",
       "3 -0.1074708 -0.5394949 -0.04552565 0.1218609 0.1478635 11.09  0    "
      ]
     },
     "metadata": {},
     "output_type": "display_data"
    }
   ],
   "source": [
    "head(Train, 2)"
   ]
  },
  {
   "cell_type": "code",
   "execution_count": 29,
   "id": "d10842da",
   "metadata": {},
   "outputs": [
    {
     "data": {
      "text/html": [
       "<ol class=list-inline>\n",
       "\t<li>47676</li>\n",
       "\t<li>28</li>\n",
       "</ol>\n"
      ],
      "text/latex": [
       "\\begin{enumerate*}\n",
       "\\item 47676\n",
       "\\item 28\n",
       "\\end{enumerate*}\n"
      ],
      "text/markdown": [
       "1. 47676\n",
       "2. 28\n",
       "\n",
       "\n"
      ],
      "text/plain": [
       "[1] 47676    28"
      ]
     },
     "metadata": {},
     "output_type": "display_data"
    }
   ],
   "source": [
    "dim(Train)"
   ]
  },
  {
   "cell_type": "code",
   "execution_count": 8,
   "id": "2a42ffe1",
   "metadata": {},
   "outputs": [],
   "source": [
    "# # drop the target variable\n",
    "XTrain <- Train[, c(1:27)]\n",
    "yTrain <- subset(Train, select=c(\"Class\"))\n",
    "\n",
    "XTest <- Test[, c(1:27)]\n",
    "yTest <- subset(Test, select=c(\"Class\"))"
   ]
  },
  {
   "cell_type": "code",
   "execution_count": 96,
   "id": "7e4ec211",
   "metadata": {},
   "outputs": [
    {
     "data": {
      "text/html": [
       "<ol class=list-inline>\n",
       "\t<li>9285</li>\n",
       "\t<li>28</li>\n",
       "</ol>\n"
      ],
      "text/latex": [
       "\\begin{enumerate*}\n",
       "\\item 9285\n",
       "\\item 28\n",
       "\\end{enumerate*}\n"
      ],
      "text/markdown": [
       "1. 9285\n",
       "2. 28\n",
       "\n",
       "\n"
      ],
      "text/plain": [
       "[1] 9285   28"
      ]
     },
     "metadata": {},
     "output_type": "display_data"
    }
   ],
   "source": [
    "dim(Test)"
   ]
  },
  {
   "cell_type": "markdown",
   "id": "7758991d",
   "metadata": {},
   "source": [
    "**> Select Subset**"
   ]
  },
  {
   "cell_type": "code",
   "execution_count": 99,
   "id": "a0150c2a",
   "metadata": {},
   "outputs": [],
   "source": [
    "# set.seed(103) \n",
    "sample2 = sample.split(dfSub$V4, SplitRatio = .80)\n",
    "TrainSub = subset(dfSub, sample2 == TRUE)\n",
    "TestSub  = subset(dfSub, sample2 == FALSE)"
   ]
  },
  {
   "cell_type": "code",
   "execution_count": 97,
   "id": "6c581859",
   "metadata": {},
   "outputs": [
    {
     "data": {
      "text/html": [
       "<ol class=list-inline>\n",
       "\t<li>56961</li>\n",
       "\t<li>6</li>\n",
       "</ol>\n"
      ],
      "text/latex": [
       "\\begin{enumerate*}\n",
       "\\item 56961\n",
       "\\item 6\n",
       "\\end{enumerate*}\n"
      ],
      "text/markdown": [
       "1. 56961\n",
       "2. 6\n",
       "\n",
       "\n"
      ],
      "text/plain": [
       "[1] 56961     6"
      ]
     },
     "metadata": {},
     "output_type": "display_data"
    }
   ],
   "source": [
    "dim(dfSub)"
   ]
  },
  {
   "cell_type": "code",
   "execution_count": 100,
   "id": "589942d3",
   "metadata": {},
   "outputs": [],
   "source": [
    "yTrainSub <- subset(TrainSub, select=c(\"Class\"))\n",
    "yTestSub <- subset(TestSub, select=c(\"Class\"))\n",
    "XTrainSub <- TrainSub[, c(1:5)]\n",
    "XTestSub <- TestSub[, c(1:5)]"
   ]
  },
  {
   "cell_type": "code",
   "execution_count": 101,
   "id": "9aa0a816",
   "metadata": {},
   "outputs": [
    {
     "data": {
      "text/html": [
       "<ol class=list-inline>\n",
       "\t<li>11393</li>\n",
       "\t<li>6</li>\n",
       "</ol>\n"
      ],
      "text/latex": [
       "\\begin{enumerate*}\n",
       "\\item 11393\n",
       "\\item 6\n",
       "\\end{enumerate*}\n"
      ],
      "text/markdown": [
       "1. 11393\n",
       "2. 6\n",
       "\n",
       "\n"
      ],
      "text/plain": [
       "[1] 11393     6"
      ]
     },
     "metadata": {},
     "output_type": "display_data"
    }
   ],
   "source": [
    "dim(TestSub)"
   ]
  },
  {
   "cell_type": "code",
   "execution_count": null,
   "id": "91e06aac",
   "metadata": {},
   "outputs": [],
   "source": []
  },
  {
   "cell_type": "code",
   "execution_count": null,
   "id": "d4524c50",
   "metadata": {},
   "outputs": [],
   "source": []
  },
  {
   "cell_type": "markdown",
   "id": "b2723a8a",
   "metadata": {},
   "source": [
    "### Modeling"
   ]
  },
  {
   "cell_type": "markdown",
   "id": "60f31654",
   "metadata": {},
   "source": [
    "**K Means Models (number of clusters determined in file 6_KMeansPlotClusters)**"
   ]
  },
  {
   "cell_type": "markdown",
   "id": "fa5bc902",
   "metadata": {},
   "source": [
    "**> Full Normal Dataset**"
   ]
  },
  {
   "cell_type": "code",
   "execution_count": 11,
   "id": "7b73224c",
   "metadata": {},
   "outputs": [],
   "source": [
    "# Compute k-means with k = 10\n",
    "set.seed(567)\n",
    "resultK10 <- kmeans(XTrain, 10, iter.max = 15, nstart = 50)\n"
   ]
  },
  {
   "cell_type": "code",
   "execution_count": 12,
   "id": "23e70cd3",
   "metadata": {},
   "outputs": [
    {
     "data": {
      "text/html": [
       "<ol class=list-inline>\n",
       "\t<li>37</li>\n",
       "\t<li>9434</li>\n",
       "\t<li>4</li>\n",
       "\t<li>88</li>\n",
       "\t<li>2039</li>\n",
       "\t<li>248</li>\n",
       "\t<li>603</li>\n",
       "\t<li>4338</li>\n",
       "\t<li>1082</li>\n",
       "\t<li>29803</li>\n",
       "</ol>\n"
      ],
      "text/latex": [
       "\\begin{enumerate*}\n",
       "\\item 37\n",
       "\\item 9434\n",
       "\\item 4\n",
       "\\item 88\n",
       "\\item 2039\n",
       "\\item 248\n",
       "\\item 603\n",
       "\\item 4338\n",
       "\\item 1082\n",
       "\\item 29803\n",
       "\\end{enumerate*}\n"
      ],
      "text/markdown": [
       "1. 37\n",
       "2. 9434\n",
       "3. 4\n",
       "4. 88\n",
       "5. 2039\n",
       "6. 248\n",
       "7. 603\n",
       "8. 4338\n",
       "9. 1082\n",
       "10. 29803\n",
       "\n",
       "\n"
      ],
      "text/plain": [
       " [1]    37  9434     4    88  2039   248   603  4338  1082 29803"
      ]
     },
     "metadata": {},
     "output_type": "display_data"
    }
   ],
   "source": [
    "# Cluster size\n",
    "resultK10$size"
   ]
  },
  {
   "cell_type": "code",
   "execution_count": 13,
   "id": "844c02a1",
   "metadata": {},
   "outputs": [
    {
     "data": {
      "text/plain": [
       "    \n",
       "         0     1\n",
       "  1     37     0\n",
       "  2   9419    15\n",
       "  3      4     0\n",
       "  4     88     0\n",
       "  5   2034     5\n",
       "  6    247     1\n",
       "  7    602     1\n",
       "  8   4334     4\n",
       "  9   1078     4\n",
       "  10 29742    61"
      ]
     },
     "metadata": {},
     "output_type": "display_data"
    }
   ],
   "source": [
    "table(resultK10$cluster, yTrain$Class)"
   ]
  },
  {
   "cell_type": "code",
   "execution_count": null,
   "id": "e3d1588e",
   "metadata": {},
   "outputs": [],
   "source": []
  },
  {
   "cell_type": "code",
   "execution_count": 46,
   "id": "6a97b8d9",
   "metadata": {},
   "outputs": [
    {
     "data": {
      "text/html": [
       "<table>\n",
       "<thead><tr><th></th><th scope=col>V2</th><th scope=col>V3</th><th scope=col>V4</th><th scope=col>V5</th><th scope=col>V6</th><th scope=col>V7</th><th scope=col>V8</th><th scope=col>V9</th><th scope=col>V10</th><th scope=col>V11</th><th scope=col>...</th><th scope=col>V21</th><th scope=col>V22</th><th scope=col>V23</th><th scope=col>V25</th><th scope=col>V26</th><th scope=col>V27</th><th scope=col>V28</th><th scope=col>Amount</th><th scope=col>Class</th><th scope=col>kclusters</th></tr></thead>\n",
       "<tbody>\n",
       "\t<tr><th scope=row>1</th><td>-0.3135721 </td><td>-0.8799915 </td><td>-2.371015  </td><td>1.832820   </td><td>3.3410355  </td><td>-0.8045669 </td><td>0.01251665 </td><td>-0.9891706 </td><td>-0.3395744 </td><td>-0.05770153</td><td>...        </td><td> 0.6740600 </td><td>-0.8824945 </td><td>-0.2633479 </td><td> 1.0777848 </td><td>-0.36625523</td><td>0.1324342  </td><td>0.2282133  </td><td>80.08      </td><td>0          </td><td> 2         </td></tr>\n",
       "\t<tr><th scope=row>3</th><td> 0.7837216 </td><td> 0.7148632 </td><td>-1.068535  </td><td>1.238372   </td><td>0.4431591  </td><td> 0.8106104 </td><td>0.13607391 </td><td>-0.7054481 </td><td>-0.6262094 </td><td> 0.29127375</td><td>...        </td><td>-0.0511307 </td><td>-0.1710939 </td><td>-0.1074708 </td><td>-0.5394949 </td><td>-0.04552565</td><td>0.1218609  </td><td>0.1478635  </td><td>11.09      </td><td>0          </td><td>10         </td></tr>\n",
       "</tbody>\n",
       "</table>\n"
      ],
      "text/latex": [
       "\\begin{tabular}{r|lllllllllllllllllllllllllllll}\n",
       "  & V2 & V3 & V4 & V5 & V6 & V7 & V8 & V9 & V10 & V11 & ... & V21 & V22 & V23 & V25 & V26 & V27 & V28 & Amount & Class & kclusters\\\\\n",
       "\\hline\n",
       "\t1 & -0.3135721  & -0.8799915  & -2.371015   & 1.832820    & 3.3410355   & -0.8045669  & 0.01251665  & -0.9891706  & -0.3395744  & -0.05770153 & ...         &  0.6740600  & -0.8824945  & -0.2633479  &  1.0777848  & -0.36625523 & 0.1324342   & 0.2282133   & 80.08       & 0           &  2         \\\\\n",
       "\t3 &  0.7837216  &  0.7148632  & -1.068535   & 1.238372    & 0.4431591   &  0.8106104  & 0.13607391  & -0.7054481  & -0.6262094  &  0.29127375 & ...         & -0.0511307  & -0.1710939  & -0.1074708  & -0.5394949  & -0.04552565 & 0.1218609   & 0.1478635   & 11.09       & 0           & 10         \\\\\n",
       "\\end{tabular}\n"
      ],
      "text/markdown": [
       "\n",
       "| <!--/--> | V2 | V3 | V4 | V5 | V6 | V7 | V8 | V9 | V10 | V11 | ... | V21 | V22 | V23 | V25 | V26 | V27 | V28 | Amount | Class | kclusters |\n",
       "|---|---|---|---|---|---|---|---|---|---|---|---|---|---|---|---|---|---|---|---|---|---|\n",
       "| 1 | -0.3135721  | -0.8799915  | -2.371015   | 1.832820    | 3.3410355   | -0.8045669  | 0.01251665  | -0.9891706  | -0.3395744  | -0.05770153 | ...         |  0.6740600  | -0.8824945  | -0.2633479  |  1.0777848  | -0.36625523 | 0.1324342   | 0.2282133   | 80.08       | 0           |  2          |\n",
       "| 3 |  0.7837216  |  0.7148632  | -1.068535   | 1.238372    | 0.4431591   |  0.8106104  | 0.13607391  | -0.7054481  | -0.6262094  |  0.29127375 | ...         | -0.0511307  | -0.1710939  | -0.1074708  | -0.5394949  | -0.04552565 | 0.1218609   | 0.1478635   | 11.09       | 0           | 10          |\n",
       "\n"
      ],
      "text/plain": [
       "  V2         V3         V4        V5       V6        V7         V8        \n",
       "1 -0.3135721 -0.8799915 -2.371015 1.832820 3.3410355 -0.8045669 0.01251665\n",
       "3  0.7837216  0.7148632 -1.068535 1.238372 0.4431591  0.8106104 0.13607391\n",
       "  V9         V10        V11         ... V21        V22        V23       \n",
       "1 -0.9891706 -0.3395744 -0.05770153 ...  0.6740600 -0.8824945 -0.2633479\n",
       "3 -0.7054481 -0.6262094  0.29127375 ... -0.0511307 -0.1710939 -0.1074708\n",
       "  V25        V26         V27       V28       Amount Class kclusters\n",
       "1  1.0777848 -0.36625523 0.1324342 0.2282133 80.08  0      2       \n",
       "3 -0.5394949 -0.04552565 0.1218609 0.1478635 11.09  0     10       "
      ]
     },
     "metadata": {},
     "output_type": "display_data"
    }
   ],
   "source": [
    "# Add the clusters as features to the original data \n",
    "# Train instead of XTrain for for training the model\n",
    "clustDf <- cbind(Train, kclusters = resultK10$cluster)\n",
    "head(clustDf, 2)"
   ]
  },
  {
   "cell_type": "code",
   "execution_count": 31,
   "id": "6778080f",
   "metadata": {},
   "outputs": [
    {
     "data": {
      "text/html": [
       "<ol class=list-inline>\n",
       "\t<li>47676</li>\n",
       "\t<li>29</li>\n",
       "</ol>\n"
      ],
      "text/latex": [
       "\\begin{enumerate*}\n",
       "\\item 47676\n",
       "\\item 29\n",
       "\\end{enumerate*}\n"
      ],
      "text/markdown": [
       "1. 47676\n",
       "2. 29\n",
       "\n",
       "\n"
      ],
      "text/plain": [
       "[1] 47676    29"
      ]
     },
     "metadata": {},
     "output_type": "display_data"
    }
   ],
   "source": [
    "dim(clustDf)"
   ]
  },
  {
   "cell_type": "code",
   "execution_count": 54,
   "id": "aa7c58d5",
   "metadata": {},
   "outputs": [
    {
     "data": {
      "text/html": [
       "<ol class=list-inline>\n",
       "\t<li>47676</li>\n",
       "\t<li>28</li>\n",
       "</ol>\n"
      ],
      "text/latex": [
       "\\begin{enumerate*}\n",
       "\\item 47676\n",
       "\\item 28\n",
       "\\end{enumerate*}\n"
      ],
      "text/markdown": [
       "1. 47676\n",
       "2. 28\n",
       "\n",
       "\n"
      ],
      "text/plain": [
       "[1] 47676    28"
      ]
     },
     "metadata": {},
     "output_type": "display_data"
    }
   ],
   "source": [
    "# drop the target variable\n",
    "XclustDf <- clustDf[, c(1:27, 29:29)]\n",
    "dim(XclustDf)"
   ]
  },
  {
   "cell_type": "code",
   "execution_count": null,
   "id": "3d8ad14c",
   "metadata": {},
   "outputs": [],
   "source": []
  },
  {
   "cell_type": "markdown",
   "id": "b69a33cc",
   "metadata": {},
   "source": [
    "**> Selected Subset**"
   ]
  },
  {
   "cell_type": "code",
   "execution_count": 15,
   "id": "997c0231",
   "metadata": {},
   "outputs": [],
   "source": [
    "# Compute k-means with k = 2\n",
    "set.seed(567)\n",
    "resultK2sub <- kmeans(XTrainSub, 2, iter.max = 15, nstart = 50)"
   ]
  },
  {
   "cell_type": "code",
   "execution_count": 16,
   "id": "f5ab61ff",
   "metadata": {},
   "outputs": [
    {
     "data": {
      "text/html": [
       "<ol class=list-inline>\n",
       "\t<li>23265</li>\n",
       "\t<li>22303</li>\n",
       "</ol>\n"
      ],
      "text/latex": [
       "\\begin{enumerate*}\n",
       "\\item 23265\n",
       "\\item 22303\n",
       "\\end{enumerate*}\n"
      ],
      "text/markdown": [
       "1. 23265\n",
       "2. 22303\n",
       "\n",
       "\n"
      ],
      "text/plain": [
       "[1] 23265 22303"
      ]
     },
     "metadata": {},
     "output_type": "display_data"
    }
   ],
   "source": [
    "# Cluster size\n",
    "resultK2sub$size"
   ]
  },
  {
   "cell_type": "code",
   "execution_count": 17,
   "id": "6c50b53c",
   "metadata": {},
   "outputs": [
    {
     "data": {
      "text/plain": [
       "   \n",
       "        0     1\n",
       "  1 23186    79\n",
       "  2 22303     0"
      ]
     },
     "metadata": {},
     "output_type": "display_data"
    }
   ],
   "source": [
    "table(resultK2sub$cluster, yTrainSub$Class)"
   ]
  },
  {
   "cell_type": "code",
   "execution_count": 47,
   "id": "abd7793d",
   "metadata": {},
   "outputs": [
    {
     "data": {
      "text/html": [
       "<table>\n",
       "<thead><tr><th></th><th scope=col>V4</th><th scope=col>V10</th><th scope=col>V12</th><th scope=col>V14</th><th scope=col>V17</th><th scope=col>Class</th><th scope=col>kclusters</th></tr></thead>\n",
       "<tbody>\n",
       "\t<tr><th scope=row>1</th><td>-2.371015 </td><td>-0.3395744</td><td>-0.8130265</td><td>-1.1791100</td><td>0.57341763</td><td>0         </td><td>2         </td></tr>\n",
       "\t<tr><th scope=row>4</th><td> 2.813508 </td><td> 0.8926488</td><td> 0.8545856</td><td>-0.5980116</td><td>0.04031759</td><td>0         </td><td>1         </td></tr>\n",
       "</tbody>\n",
       "</table>\n"
      ],
      "text/latex": [
       "\\begin{tabular}{r|lllllll}\n",
       "  & V4 & V10 & V12 & V14 & V17 & Class & kclusters\\\\\n",
       "\\hline\n",
       "\t1 & -2.371015  & -0.3395744 & -0.8130265 & -1.1791100 & 0.57341763 & 0          & 2         \\\\\n",
       "\t4 &  2.813508  &  0.8926488 &  0.8545856 & -0.5980116 & 0.04031759 & 0          & 1         \\\\\n",
       "\\end{tabular}\n"
      ],
      "text/markdown": [
       "\n",
       "| <!--/--> | V4 | V10 | V12 | V14 | V17 | Class | kclusters |\n",
       "|---|---|---|---|---|---|---|---|\n",
       "| 1 | -2.371015  | -0.3395744 | -0.8130265 | -1.1791100 | 0.57341763 | 0          | 2          |\n",
       "| 4 |  2.813508  |  0.8926488 |  0.8545856 | -0.5980116 | 0.04031759 | 0          | 1          |\n",
       "\n"
      ],
      "text/plain": [
       "  V4        V10        V12        V14        V17        Class kclusters\n",
       "1 -2.371015 -0.3395744 -0.8130265 -1.1791100 0.57341763 0     2        \n",
       "4  2.813508  0.8926488  0.8545856 -0.5980116 0.04031759 0     1        "
      ]
     },
     "metadata": {},
     "output_type": "display_data"
    }
   ],
   "source": [
    "# Add the cluster classifications to the original data\n",
    "# TrainSub instead of XTrainSub\n",
    "clustDfSub <- cbind(TrainSub, kclusters = resultK2sub$cluster)\n",
    "head(clustDfSub, 2)"
   ]
  },
  {
   "cell_type": "code",
   "execution_count": 56,
   "id": "a3184fe0",
   "metadata": {},
   "outputs": [
    {
     "data": {
      "text/html": [
       "<ol class=list-inline>\n",
       "\t<li>45568</li>\n",
       "\t<li>6</li>\n",
       "</ol>\n"
      ],
      "text/latex": [
       "\\begin{enumerate*}\n",
       "\\item 45568\n",
       "\\item 6\n",
       "\\end{enumerate*}\n"
      ],
      "text/markdown": [
       "1. 45568\n",
       "2. 6\n",
       "\n",
       "\n"
      ],
      "text/plain": [
       "[1] 45568     6"
      ]
     },
     "metadata": {},
     "output_type": "display_data"
    }
   ],
   "source": [
    "# drop the target variable\n",
    "XclustDfSub <- clustDfSub[, c(1:5, 7:7)]\n",
    "dim(XclustDfSub)"
   ]
  },
  {
   "cell_type": "code",
   "execution_count": null,
   "id": "3b4adf26",
   "metadata": {},
   "outputs": [],
   "source": []
  },
  {
   "cell_type": "markdown",
   "id": "e73e7f69",
   "metadata": {},
   "source": [
    "## Compare with Supervised Model"
   ]
  },
  {
   "cell_type": "code",
   "execution_count": null,
   "id": "b40f20e8",
   "metadata": {},
   "outputs": [],
   "source": []
  },
  {
   "cell_type": "markdown",
   "id": "79b7328a",
   "metadata": {},
   "source": [
    "**Supervised Classification DataSet**"
   ]
  },
  {
   "cell_type": "code",
   "execution_count": 148,
   "id": "4d97e150",
   "metadata": {},
   "outputs": [],
   "source": [
    "# import full dataset to be underbalanced\n",
    "underDf <- read.csv('creditcard.csv')"
   ]
  },
  {
   "cell_type": "code",
   "execution_count": 149,
   "id": "48b6c09a",
   "metadata": {},
   "outputs": [
    {
     "data": {
      "text/html": [
       "<table>\n",
       "<thead><tr><th scope=col>Time</th><th scope=col>V1</th><th scope=col>V2</th><th scope=col>V3</th><th scope=col>V4</th><th scope=col>V5</th><th scope=col>V6</th><th scope=col>V7</th><th scope=col>V8</th><th scope=col>V9</th><th scope=col>...</th><th scope=col>V21</th><th scope=col>V22</th><th scope=col>V23</th><th scope=col>V24</th><th scope=col>V25</th><th scope=col>V26</th><th scope=col>V27</th><th scope=col>V28</th><th scope=col>Amount</th><th scope=col>Class</th></tr></thead>\n",
       "<tbody>\n",
       "\t<tr><td>0           </td><td>-1.359807   </td><td>-0.07278117 </td><td>2.5363467   </td><td>1.3781552   </td><td>-0.33832077 </td><td> 0.46238778 </td><td> 0.23959855 </td><td>0.09869790  </td><td> 0.3637870  </td><td>...         </td><td>-0.01830678 </td><td> 0.2778376  </td><td>-0.1104739  </td><td> 0.06692807 </td><td> 0.1285394  </td><td>-0.1891148  </td><td> 0.133558377</td><td>-0.02105305 </td><td>149.62      </td><td>0           </td></tr>\n",
       "\t<tr><td>0           </td><td> 1.191857   </td><td> 0.26615071 </td><td>0.1664801   </td><td>0.4481541   </td><td> 0.06001765 </td><td>-0.08236081 </td><td>-0.07880298 </td><td>0.08510165  </td><td>-0.2554251  </td><td>...         </td><td>-0.22577525 </td><td>-0.6386720  </td><td> 0.1012880  </td><td>-0.33984648 </td><td> 0.1671704  </td><td> 0.1258945  </td><td>-0.008983099</td><td> 0.01472417 </td><td>  2.69      </td><td>0           </td></tr>\n",
       "\t<tr><td>1           </td><td>-1.358354   </td><td>-1.34016307 </td><td>1.7732093   </td><td>0.3797796   </td><td>-0.50319813 </td><td> 1.80049938 </td><td> 0.79146096 </td><td>0.24767579  </td><td>-1.5146543  </td><td>...         </td><td> 0.24799815 </td><td> 0.7716794  </td><td> 0.9094123  </td><td>-0.68928096 </td><td>-0.3276418  </td><td>-0.1390966  </td><td>-0.055352794</td><td>-0.05975184 </td><td>378.66      </td><td>0           </td></tr>\n",
       "</tbody>\n",
       "</table>\n"
      ],
      "text/latex": [
       "\\begin{tabular}{r|lllllllllllllllllllllllllllllll}\n",
       " Time & V1 & V2 & V3 & V4 & V5 & V6 & V7 & V8 & V9 & ... & V21 & V22 & V23 & V24 & V25 & V26 & V27 & V28 & Amount & Class\\\\\n",
       "\\hline\n",
       "\t 0            & -1.359807    & -0.07278117  & 2.5363467    & 1.3781552    & -0.33832077  &  0.46238778  &  0.23959855  & 0.09869790   &  0.3637870   & ...          & -0.01830678  &  0.2778376   & -0.1104739   &  0.06692807  &  0.1285394   & -0.1891148   &  0.133558377 & -0.02105305  & 149.62       & 0           \\\\\n",
       "\t 0            &  1.191857    &  0.26615071  & 0.1664801    & 0.4481541    &  0.06001765  & -0.08236081  & -0.07880298  & 0.08510165   & -0.2554251   & ...          & -0.22577525  & -0.6386720   &  0.1012880   & -0.33984648  &  0.1671704   &  0.1258945   & -0.008983099 &  0.01472417  &   2.69       & 0           \\\\\n",
       "\t 1            & -1.358354    & -1.34016307  & 1.7732093    & 0.3797796    & -0.50319813  &  1.80049938  &  0.79146096  & 0.24767579   & -1.5146543   & ...          &  0.24799815  &  0.7716794   &  0.9094123   & -0.68928096  & -0.3276418   & -0.1390966   & -0.055352794 & -0.05975184  & 378.66       & 0           \\\\\n",
       "\\end{tabular}\n"
      ],
      "text/markdown": [
       "\n",
       "| Time | V1 | V2 | V3 | V4 | V5 | V6 | V7 | V8 | V9 | ... | V21 | V22 | V23 | V24 | V25 | V26 | V27 | V28 | Amount | Class |\n",
       "|---|---|---|---|---|---|---|---|---|---|---|---|---|---|---|---|---|---|---|---|---|\n",
       "| 0            | -1.359807    | -0.07278117  | 2.5363467    | 1.3781552    | -0.33832077  |  0.46238778  |  0.23959855  | 0.09869790   |  0.3637870   | ...          | -0.01830678  |  0.2778376   | -0.1104739   |  0.06692807  |  0.1285394   | -0.1891148   |  0.133558377 | -0.02105305  | 149.62       | 0            |\n",
       "| 0            |  1.191857    |  0.26615071  | 0.1664801    | 0.4481541    |  0.06001765  | -0.08236081  | -0.07880298  | 0.08510165   | -0.2554251   | ...          | -0.22577525  | -0.6386720   |  0.1012880   | -0.33984648  |  0.1671704   |  0.1258945   | -0.008983099 |  0.01472417  |   2.69       | 0            |\n",
       "| 1            | -1.358354    | -1.34016307  | 1.7732093    | 0.3797796    | -0.50319813  |  1.80049938  |  0.79146096  | 0.24767579   | -1.5146543   | ...          |  0.24799815  |  0.7716794   |  0.9094123   | -0.68928096  | -0.3276418   | -0.1390966   | -0.055352794 | -0.05975184  | 378.66       | 0            |\n",
       "\n"
      ],
      "text/plain": [
       "  Time V1        V2          V3        V4        V5          V6         \n",
       "1 0    -1.359807 -0.07278117 2.5363467 1.3781552 -0.33832077  0.46238778\n",
       "2 0     1.191857  0.26615071 0.1664801 0.4481541  0.06001765 -0.08236081\n",
       "3 1    -1.358354 -1.34016307 1.7732093 0.3797796 -0.50319813  1.80049938\n",
       "  V7          V8         V9         ... V21         V22        V23       \n",
       "1  0.23959855 0.09869790  0.3637870 ... -0.01830678  0.2778376 -0.1104739\n",
       "2 -0.07880298 0.08510165 -0.2554251 ... -0.22577525 -0.6386720  0.1012880\n",
       "3  0.79146096 0.24767579 -1.5146543 ...  0.24799815  0.7716794  0.9094123\n",
       "  V24         V25        V26        V27          V28         Amount Class\n",
       "1  0.06692807  0.1285394 -0.1891148  0.133558377 -0.02105305 149.62 0    \n",
       "2 -0.33984648  0.1671704  0.1258945 -0.008983099  0.01472417   2.69 0    \n",
       "3 -0.68928096 -0.3276418 -0.1390966 -0.055352794 -0.05975184 378.66 0    "
      ]
     },
     "metadata": {},
     "output_type": "display_data"
    }
   ],
   "source": [
    "head(underDf, 3)"
   ]
  },
  {
   "cell_type": "code",
   "execution_count": 150,
   "id": "a302dc15",
   "metadata": {},
   "outputs": [
    {
     "data": {
      "text/html": [
       "<ol class=list-inline>\n",
       "\t<li>284807</li>\n",
       "\t<li>31</li>\n",
       "</ol>\n"
      ],
      "text/latex": [
       "\\begin{enumerate*}\n",
       "\\item 284807\n",
       "\\item 31\n",
       "\\end{enumerate*}\n"
      ],
      "text/markdown": [
       "1. 284807\n",
       "2. 31\n",
       "\n",
       "\n"
      ],
      "text/plain": [
       "[1] 284807     31"
      ]
     },
     "metadata": {},
     "output_type": "display_data"
    }
   ],
   "source": [
    "dim(underDf)"
   ]
  },
  {
   "cell_type": "code",
   "execution_count": null,
   "id": "c6b342b6",
   "metadata": {},
   "outputs": [],
   "source": []
  },
  {
   "cell_type": "markdown",
   "id": "63ddefc5",
   "metadata": {},
   "source": [
    "**> Full Dataset**"
   ]
  },
  {
   "cell_type": "code",
   "execution_count": 151,
   "id": "e2ea0c16",
   "metadata": {},
   "outputs": [
    {
     "data": {
      "text/html": [
       "<table>\n",
       "<thead><tr><th scope=col>Time</th><th scope=col>V1</th><th scope=col>V2</th><th scope=col>V3</th><th scope=col>V4</th><th scope=col>V5</th><th scope=col>V6</th><th scope=col>V7</th><th scope=col>V8</th><th scope=col>V9</th><th scope=col>...</th><th scope=col>V21</th><th scope=col>V22</th><th scope=col>V23</th><th scope=col>V24</th><th scope=col>V25</th><th scope=col>V26</th><th scope=col>V27</th><th scope=col>V28</th><th scope=col>Amount</th><th scope=col>Class</th></tr></thead>\n",
       "<tbody>\n",
       "\t<tr><td>0           </td><td>-1.359807   </td><td>-0.07278117 </td><td>2.5363467   </td><td>1.3781552   </td><td>-0.33832077 </td><td> 0.46238778 </td><td> 0.23959855 </td><td>0.09869790  </td><td> 0.3637870  </td><td>...         </td><td>-0.01830678 </td><td> 0.2778376  </td><td>-0.1104739  </td><td> 0.06692807 </td><td> 0.1285394  </td><td>-0.1891148  </td><td> 0.133558377</td><td>-0.02105305 </td><td>149.62      </td><td>0           </td></tr>\n",
       "\t<tr><td>0           </td><td> 1.191857   </td><td> 0.26615071 </td><td>0.1664801   </td><td>0.4481541   </td><td> 0.06001765 </td><td>-0.08236081 </td><td>-0.07880298 </td><td>0.08510165  </td><td>-0.2554251  </td><td>...         </td><td>-0.22577525 </td><td>-0.6386720  </td><td> 0.1012880  </td><td>-0.33984648 </td><td> 0.1671704  </td><td> 0.1258945  </td><td>-0.008983099</td><td> 0.01472417 </td><td>  2.69      </td><td>0           </td></tr>\n",
       "\t<tr><td>1           </td><td>-1.358354   </td><td>-1.34016307 </td><td>1.7732093   </td><td>0.3797796   </td><td>-0.50319813 </td><td> 1.80049938 </td><td> 0.79146096 </td><td>0.24767579  </td><td>-1.5146543  </td><td>...         </td><td> 0.24799815 </td><td> 0.7716794  </td><td> 0.9094123  </td><td>-0.68928096 </td><td>-0.3276418  </td><td>-0.1390966  </td><td>-0.055352794</td><td>-0.05975184 </td><td>378.66      </td><td>0           </td></tr>\n",
       "</tbody>\n",
       "</table>\n"
      ],
      "text/latex": [
       "\\begin{tabular}{r|lllllllllllllllllllllllllllllll}\n",
       " Time & V1 & V2 & V3 & V4 & V5 & V6 & V7 & V8 & V9 & ... & V21 & V22 & V23 & V24 & V25 & V26 & V27 & V28 & Amount & Class\\\\\n",
       "\\hline\n",
       "\t 0            & -1.359807    & -0.07278117  & 2.5363467    & 1.3781552    & -0.33832077  &  0.46238778  &  0.23959855  & 0.09869790   &  0.3637870   & ...          & -0.01830678  &  0.2778376   & -0.1104739   &  0.06692807  &  0.1285394   & -0.1891148   &  0.133558377 & -0.02105305  & 149.62       & 0           \\\\\n",
       "\t 0            &  1.191857    &  0.26615071  & 0.1664801    & 0.4481541    &  0.06001765  & -0.08236081  & -0.07880298  & 0.08510165   & -0.2554251   & ...          & -0.22577525  & -0.6386720   &  0.1012880   & -0.33984648  &  0.1671704   &  0.1258945   & -0.008983099 &  0.01472417  &   2.69       & 0           \\\\\n",
       "\t 1            & -1.358354    & -1.34016307  & 1.7732093    & 0.3797796    & -0.50319813  &  1.80049938  &  0.79146096  & 0.24767579   & -1.5146543   & ...          &  0.24799815  &  0.7716794   &  0.9094123   & -0.68928096  & -0.3276418   & -0.1390966   & -0.055352794 & -0.05975184  & 378.66       & 0           \\\\\n",
       "\\end{tabular}\n"
      ],
      "text/markdown": [
       "\n",
       "| Time | V1 | V2 | V3 | V4 | V5 | V6 | V7 | V8 | V9 | ... | V21 | V22 | V23 | V24 | V25 | V26 | V27 | V28 | Amount | Class |\n",
       "|---|---|---|---|---|---|---|---|---|---|---|---|---|---|---|---|---|---|---|---|---|\n",
       "| 0            | -1.359807    | -0.07278117  | 2.5363467    | 1.3781552    | -0.33832077  |  0.46238778  |  0.23959855  | 0.09869790   |  0.3637870   | ...          | -0.01830678  |  0.2778376   | -0.1104739   |  0.06692807  |  0.1285394   | -0.1891148   |  0.133558377 | -0.02105305  | 149.62       | 0            |\n",
       "| 0            |  1.191857    |  0.26615071  | 0.1664801    | 0.4481541    |  0.06001765  | -0.08236081  | -0.07880298  | 0.08510165   | -0.2554251   | ...          | -0.22577525  | -0.6386720   |  0.1012880   | -0.33984648  |  0.1671704   |  0.1258945   | -0.008983099 |  0.01472417  |   2.69       | 0            |\n",
       "| 1            | -1.358354    | -1.34016307  | 1.7732093    | 0.3797796    | -0.50319813  |  1.80049938  |  0.79146096  | 0.24767579   | -1.5146543   | ...          |  0.24799815  |  0.7716794   |  0.9094123   | -0.68928096  | -0.3276418   | -0.1390966   | -0.055352794 | -0.05975184  | 378.66       | 0            |\n",
       "\n"
      ],
      "text/plain": [
       "  Time V1        V2          V3        V4        V5          V6         \n",
       "1 0    -1.359807 -0.07278117 2.5363467 1.3781552 -0.33832077  0.46238778\n",
       "2 0     1.191857  0.26615071 0.1664801 0.4481541  0.06001765 -0.08236081\n",
       "3 1    -1.358354 -1.34016307 1.7732093 0.3797796 -0.50319813  1.80049938\n",
       "  V7          V8         V9         ... V21         V22        V23       \n",
       "1  0.23959855 0.09869790  0.3637870 ... -0.01830678  0.2778376 -0.1104739\n",
       "2 -0.07880298 0.08510165 -0.2554251 ... -0.22577525 -0.6386720  0.1012880\n",
       "3  0.79146096 0.24767579 -1.5146543 ...  0.24799815  0.7716794  0.9094123\n",
       "  V24         V25        V26        V27          V28         Amount Class\n",
       "1  0.06692807  0.1285394 -0.1891148  0.133558377 -0.02105305 149.62 0    \n",
       "2 -0.33984648  0.1671704  0.1258945 -0.008983099  0.01472417   2.69 0    \n",
       "3 -0.68928096 -0.3276418 -0.1390966 -0.055352794 -0.05975184 378.66 0    "
      ]
     },
     "metadata": {},
     "output_type": "display_data"
    }
   ],
   "source": [
    "# dataframe with original labels\n",
    "dfClass <- underDf[, c(3:24, 26:31)]\n",
    "head(underDf, 3)"
   ]
  },
  {
   "cell_type": "code",
   "execution_count": null,
   "id": "7fa5121f",
   "metadata": {},
   "outputs": [],
   "source": []
  },
  {
   "cell_type": "markdown",
   "id": "70685171",
   "metadata": {},
   "source": [
    "**> Selected Subset**"
   ]
  },
  {
   "cell_type": "code",
   "execution_count": 152,
   "id": "5ac5a693",
   "metadata": {},
   "outputs": [
    {
     "data": {
      "text/html": [
       "<table>\n",
       "<thead><tr><th scope=col>V4</th><th scope=col>V10</th><th scope=col>V12</th><th scope=col>V14</th><th scope=col>V17</th><th scope=col>Class</th></tr></thead>\n",
       "<tbody>\n",
       "\t<tr><td>1.3781552  </td><td> 0.09079417</td><td>-0.6178009 </td><td>-0.3111694 </td><td> 0.2079712 </td><td>0          </td></tr>\n",
       "\t<tr><td>0.4481541  </td><td>-0.16697441</td><td> 1.0652353 </td><td>-0.1437723 </td><td>-0.1148047 </td><td>0          </td></tr>\n",
       "</tbody>\n",
       "</table>\n"
      ],
      "text/latex": [
       "\\begin{tabular}{r|llllll}\n",
       " V4 & V10 & V12 & V14 & V17 & Class\\\\\n",
       "\\hline\n",
       "\t 1.3781552   &  0.09079417 & -0.6178009  & -0.3111694  &  0.2079712  & 0          \\\\\n",
       "\t 0.4481541   & -0.16697441 &  1.0652353  & -0.1437723  & -0.1148047  & 0          \\\\\n",
       "\\end{tabular}\n"
      ],
      "text/markdown": [
       "\n",
       "| V4 | V10 | V12 | V14 | V17 | Class |\n",
       "|---|---|---|---|---|---|\n",
       "| 1.3781552   |  0.09079417 | -0.6178009  | -0.3111694  |  0.2079712  | 0           |\n",
       "| 0.4481541   | -0.16697441 |  1.0652353  | -0.1437723  | -0.1148047  | 0           |\n",
       "\n"
      ],
      "text/plain": [
       "  V4        V10         V12        V14        V17        Class\n",
       "1 1.3781552  0.09079417 -0.6178009 -0.3111694  0.2079712 0    \n",
       "2 0.4481541 -0.16697441  1.0652353 -0.1437723 -0.1148047 0    "
      ]
     },
     "metadata": {},
     "output_type": "display_data"
    }
   ],
   "source": [
    "dfSubClass <- underDf[, c(5:5, 11:11, 13:13, 15:15, 18:18, 31:31)]\n",
    "head(dfSubClass, 2)"
   ]
  },
  {
   "cell_type": "code",
   "execution_count": null,
   "id": "3e083534",
   "metadata": {},
   "outputs": [],
   "source": []
  },
  {
   "cell_type": "markdown",
   "id": "94797260",
   "metadata": {},
   "source": [
    "**Split the Data into Training and Test Data**"
   ]
  },
  {
   "cell_type": "markdown",
   "id": "177854f2",
   "metadata": {},
   "source": [
    "**> Full Normal Data**"
   ]
  },
  {
   "cell_type": "code",
   "execution_count": 153,
   "id": "5dc69da4",
   "metadata": {},
   "outputs": [],
   "source": [
    "set.seed(102) \n",
    "sample3 = sample.split(dfClass$Amount, SplitRatio = .80)\n",
    "TrainClass = subset(dfClass, sample3 == TRUE)\n",
    "TestClass  = subset(dfClass, sample3 == FALSE)\n",
    "\n"
   ]
  },
  {
   "cell_type": "markdown",
   "id": "c4604c2b",
   "metadata": {},
   "source": [
    "**> Select Subset**"
   ]
  },
  {
   "cell_type": "code",
   "execution_count": 154,
   "id": "f041c6ae",
   "metadata": {},
   "outputs": [],
   "source": [
    "set.seed(103) \n",
    "sample4 = sample.split(dfSubClass$V4, SplitRatio = .80)\n",
    "TrainClassSub = subset(dfSubClass, sample4 == TRUE)\n",
    "TestClassSub  = subset(dfSubClass, sample4 == FALSE)\n"
   ]
  },
  {
   "cell_type": "markdown",
   "id": "978d4df6",
   "metadata": {},
   "source": [
    "**Undersample Training Data Only**"
   ]
  },
  {
   "cell_type": "markdown",
   "id": "5c10e797",
   "metadata": {},
   "source": [
    "**> Full Normal Dataset**"
   ]
  },
  {
   "cell_type": "code",
   "execution_count": 155,
   "id": "18bb6c58",
   "metadata": {},
   "outputs": [
    {
     "data": {
      "text/plain": [
       "\n",
       "     0      1 \n",
       "231496    419 "
      ]
     },
     "metadata": {},
     "output_type": "display_data"
    }
   ],
   "source": [
    "table(TrainClass$Class)"
   ]
  },
  {
   "cell_type": "code",
   "execution_count": 157,
   "id": "e142cc3f",
   "metadata": {},
   "outputs": [
    {
     "data": {
      "text/plain": [
       "\n",
       "  0   1 \n",
       "419 419 "
      ]
     },
     "metadata": {},
     "output_type": "display_data"
    }
   ],
   "source": [
    "# Random Under-Sampling (RUS)\n",
    "\n",
    "# set the number of non-fraud records to under sample to\n",
    "n_fraud <- 419\n",
    "new_frac_fraud <- 0.50\n",
    "new_n_total <- n_fraud/new_frac_fraud\n",
    "\n",
    "undersampling_result <- ovun.sample(Class ~ .,\n",
    "                                   data = TrainClass,\n",
    "                                   method = \"under\",\n",
    "                                   N = new_n_total,\n",
    "                                   seed =123)\n",
    "\n",
    "TrainClass <- undersampling_result$data\n",
    "\n",
    "table(TrainClass$Class)"
   ]
  },
  {
   "cell_type": "code",
   "execution_count": 159,
   "id": "e5e29523",
   "metadata": {},
   "outputs": [
    {
     "data": {
      "text/html": [
       "<ol class=list-inline>\n",
       "\t<li>838</li>\n",
       "\t<li>28</li>\n",
       "</ol>\n"
      ],
      "text/latex": [
       "\\begin{enumerate*}\n",
       "\\item 838\n",
       "\\item 28\n",
       "\\end{enumerate*}\n"
      ],
      "text/markdown": [
       "1. 838\n",
       "2. 28\n",
       "\n",
       "\n"
      ],
      "text/plain": [
       "[1] 838  28"
      ]
     },
     "metadata": {},
     "output_type": "display_data"
    }
   ],
   "source": [
    "dim(TrainClass)"
   ]
  },
  {
   "cell_type": "code",
   "execution_count": null,
   "id": "6faeb1f1",
   "metadata": {},
   "outputs": [],
   "source": []
  },
  {
   "cell_type": "markdown",
   "id": "808456e4",
   "metadata": {},
   "source": [
    "**> Select Features Subset**"
   ]
  },
  {
   "cell_type": "code",
   "execution_count": 156,
   "id": "94f40c70",
   "metadata": {},
   "outputs": [
    {
     "data": {
      "text/plain": [
       "\n",
       "     0      1 \n",
       "227453    392 "
      ]
     },
     "metadata": {},
     "output_type": "display_data"
    }
   ],
   "source": [
    "table(TrainClassSub$Class)"
   ]
  },
  {
   "cell_type": "code",
   "execution_count": 160,
   "id": "eaf83b4f",
   "metadata": {},
   "outputs": [
    {
     "data": {
      "text/plain": [
       "\n",
       "  0   1 \n",
       "392 392 "
      ]
     },
     "metadata": {},
     "output_type": "display_data"
    }
   ],
   "source": [
    "# Random Under-Sampling (RUS)\n",
    "\n",
    "# set the number of non-fraud records to under sample to\n",
    "n_fraud <- 392\n",
    "new_frac_fraud <- 0.50\n",
    "new_n_total <- n_fraud/new_frac_fraud\n",
    "\n",
    "undersampling_result <- ovun.sample(Class ~ .,\n",
    "                                   data = TrainClassSub,\n",
    "                                   method = \"under\",\n",
    "                                   N = new_n_total,\n",
    "                                   seed =123)\n",
    "\n",
    "TrainClassSub <- undersampling_result$data\n",
    "\n",
    "table(TrainClassSub$Class)"
   ]
  },
  {
   "cell_type": "code",
   "execution_count": 161,
   "id": "09a7e243",
   "metadata": {},
   "outputs": [
    {
     "data": {
      "text/html": [
       "<ol class=list-inline>\n",
       "\t<li>784</li>\n",
       "\t<li>6</li>\n",
       "</ol>\n"
      ],
      "text/latex": [
       "\\begin{enumerate*}\n",
       "\\item 784\n",
       "\\item 6\n",
       "\\end{enumerate*}\n"
      ],
      "text/markdown": [
       "1. 784\n",
       "2. 6\n",
       "\n",
       "\n"
      ],
      "text/plain": [
       "[1] 784   6"
      ]
     },
     "metadata": {},
     "output_type": "display_data"
    }
   ],
   "source": [
    "dim(TrainClassSub)"
   ]
  },
  {
   "cell_type": "code",
   "execution_count": null,
   "id": "a9cb9075",
   "metadata": {},
   "outputs": [],
   "source": []
  },
  {
   "cell_type": "markdown",
   "id": "c846ab03",
   "metadata": {},
   "source": [
    "**Separate Predictor and Dependent Features**"
   ]
  },
  {
   "cell_type": "markdown",
   "id": "8fc34b5d",
   "metadata": {},
   "source": [
    "**> Full Normal Dataset**"
   ]
  },
  {
   "cell_type": "code",
   "execution_count": 162,
   "id": "4f1d933f",
   "metadata": {},
   "outputs": [],
   "source": [
    "# drop the target variable\n",
    "XTrainClass <- TrainClass[, c(1:27)]\n",
    "yTrainClass <- subset(TrainClass, select=c(\"Class\"))\n",
    "\n",
    "XTestClass <- TestClass[, c(1:27)]\n",
    "yTestClass <- subset(TestClass, select=c(\"Class\"))"
   ]
  },
  {
   "cell_type": "markdown",
   "id": "d91a1d14",
   "metadata": {},
   "source": [
    "**> Select Features Subset**"
   ]
  },
  {
   "cell_type": "code",
   "execution_count": 163,
   "id": "d48f31c1",
   "metadata": {},
   "outputs": [],
   "source": [
    "# drop the target variable\n",
    "yTrainClassSub <- subset(TrainClassSub, select=c(\"Class\"))\n",
    "yTestClassSub <- subset(TestClassSub, select=c(\"Class\"))\n",
    "XTrainClassSub <- TrainClassSub[, c(1:5)]\n",
    "XTestClassSub <- TestClassSub[, c(1:5)]"
   ]
  },
  {
   "cell_type": "code",
   "execution_count": null,
   "id": "b7437923",
   "metadata": {},
   "outputs": [],
   "source": []
  },
  {
   "cell_type": "markdown",
   "id": "4f70855f",
   "metadata": {},
   "source": [
    "### Modeling"
   ]
  },
  {
   "cell_type": "markdown",
   "id": "0d747468",
   "metadata": {},
   "source": [
    "**> Full Normal Dataset**"
   ]
  },
  {
   "cell_type": "code",
   "execution_count": 49,
   "id": "3da1b727",
   "metadata": {},
   "outputs": [
    {
     "name": "stderr",
     "output_type": "stream",
     "text": [
      "Warning message:\n",
      "\"glm.fit: fitted probabilities numerically 0 or 1 occurred\"Warning message:\n",
      "\"glm.fit: fitted probabilities numerically 0 or 1 occurred\""
     ]
    }
   ],
   "source": [
    "# LR model with the kmeans cluster result as the target variable\n",
    "lrModelClust <- glm(Class ~ ., data = clustDf, family = binomial(), maxit = 100)\n",
    "\n"
   ]
  },
  {
   "cell_type": "code",
   "execution_count": 191,
   "id": "75b55539",
   "metadata": {},
   "outputs": [
    {
     "name": "stderr",
     "output_type": "stream",
     "text": [
      "Warning message:\n",
      "\"glm.fit: fitted probabilities numerically 0 or 1 occurred\""
     ]
    }
   ],
   "source": [
    "# LR model with original class labels as the target variable\n",
    "lrModelOrig <- glm(Class ~ ., data = TrainClass, family = binomial(), maxit = 100)"
   ]
  },
  {
   "cell_type": "markdown",
   "id": "c22f1f5c",
   "metadata": {},
   "source": [
    "**> Selected Subset**"
   ]
  },
  {
   "cell_type": "code",
   "execution_count": 51,
   "id": "5bf27214",
   "metadata": {},
   "outputs": [
    {
     "name": "stderr",
     "output_type": "stream",
     "text": [
      "Warning message:\n",
      "\"glm.fit: fitted probabilities numerically 0 or 1 occurred\"Warning message:\n",
      "\"glm.fit: fitted probabilities numerically 0 or 1 occurred\""
     ]
    }
   ],
   "source": [
    "# LR model with the kmeans cluster result as the target variable\n",
    "lrModelClustSub <- glm(Class ~ ., data = clustDfSub, family = binomial(), maxit = 100)\n",
    "\n"
   ]
  },
  {
   "cell_type": "code",
   "execution_count": 193,
   "id": "aa2723f3",
   "metadata": {},
   "outputs": [
    {
     "name": "stderr",
     "output_type": "stream",
     "text": [
      "Warning message:\n",
      "\"glm.fit: fitted probabilities numerically 0 or 1 occurred\""
     ]
    }
   ],
   "source": [
    "# LR model with original class labels as the target variable\n",
    "lrModelOrigSub <- glm(Class ~ ., data = TrainClassSub, family = binomial(), maxit = 100)"
   ]
  },
  {
   "cell_type": "code",
   "execution_count": null,
   "id": "7984b768",
   "metadata": {},
   "outputs": [],
   "source": []
  },
  {
   "cell_type": "markdown",
   "id": "a88455f5",
   "metadata": {},
   "source": [
    "### Predictions"
   ]
  },
  {
   "cell_type": "markdown",
   "id": "f7fa1abd",
   "metadata": {},
   "source": [
    "**> Full Normal Data**"
   ]
  },
  {
   "cell_type": "code",
   "execution_count": 58,
   "id": "12557ab3",
   "metadata": {},
   "outputs": [],
   "source": [
    "# predictions on training data\n",
    "\n",
    "# make predictions on kmeans clusters as target variable\n",
    "predLRClust <- predict(lrModelClust, XclustDf)"
   ]
  },
  {
   "cell_type": "code",
   "execution_count": 169,
   "id": "85f0f8bd",
   "metadata": {},
   "outputs": [],
   "source": [
    "# make predictions on original target labels\n",
    "predLROrig <- predict(lrModelOrig, XTrainClass)"
   ]
  },
  {
   "cell_type": "markdown",
   "id": "34909064",
   "metadata": {},
   "source": [
    "**> Selected Subset**"
   ]
  },
  {
   "cell_type": "code",
   "execution_count": 63,
   "id": "105aa511",
   "metadata": {},
   "outputs": [],
   "source": [
    "# predictions on training data\n",
    "\n",
    "# make predictions on kmeans clusters as target variable\n",
    "predLRClustSub <- predict(lrModelClustSub, XclustDfSub)"
   ]
  },
  {
   "cell_type": "code",
   "execution_count": 171,
   "id": "80619765",
   "metadata": {},
   "outputs": [],
   "source": [
    "# make predictions on original target labels\n",
    "predLROrigSub <- predict(lrModelOrigSub, XTrainClassSub)"
   ]
  },
  {
   "cell_type": "code",
   "execution_count": 172,
   "id": "2a0f0b69",
   "metadata": {},
   "outputs": [],
   "source": [
    "predLRClust <- as.numeric(as.character(predLRClust))\n",
    "\n",
    "predLROrig <- as.numeric(as.character(predLROrig))\n",
    "\n",
    "predLRClustSub <- as.numeric(as.character(predLRClustSub))\n",
    "\n",
    "predLROrigSub <- as.numeric(as.character(predLROrigSub))"
   ]
  },
  {
   "cell_type": "code",
   "execution_count": null,
   "id": "80ea0583",
   "metadata": {},
   "outputs": [],
   "source": []
  },
  {
   "cell_type": "markdown",
   "id": "d61789f0",
   "metadata": {},
   "source": [
    "### Evaluate Training Models"
   ]
  },
  {
   "cell_type": "markdown",
   "id": "f2ebf8c9",
   "metadata": {},
   "source": [
    "**> Full Normal Dataset**"
   ]
  },
  {
   "cell_type": "markdown",
   "id": "be12b605",
   "metadata": {},
   "source": [
    "**Confusion Matrix**"
   ]
  },
  {
   "cell_type": "code",
   "execution_count": 65,
   "id": "6709faf5",
   "metadata": {},
   "outputs": [],
   "source": [
    "# https://www.journaldev.com/47628/f1-score-in-r\n",
    "\n",
    "#error metrics -- Confusion Matrix\n",
    "err_metric=function(CM)\n",
    "{\n",
    "  TN =CM[1,1]\n",
    "  TP =CM[2,2]\n",
    "  FP =CM[1,2]\n",
    "  FN =CM[2,1]\n",
    "  precision =(TP)/(TP+FP)\n",
    "  recall_score =(TP)/(TP+FN)\n",
    " \n",
    "  f1_score=2*((precision*recall_score)/(precision+recall_score))\n",
    "  accuracy_model  =(TP+TN)/(TP+TN+FP+FN)\n",
    "  False_positive_rate =(FP)/(FP+TN)\n",
    "  False_negative_rate =(FN)/(FN+TP)\n",
    " \n",
    "  print(paste(\"Precision value of the model: \",round(precision,2)))\n",
    "  print(paste(\"Accuracy of the model: \",round(accuracy_model,2)))\n",
    "  print(paste(\"Recall value of the model: \",round(recall_score,2)))\n",
    "  print(paste(\"False Positive rate of the model: \",round(False_positive_rate,2)))\n",
    " \n",
    "  print(paste(\"False Negative rate of the model: \",round(False_negative_rate,2)))\n",
    " \n",
    "  print(paste(\"f1 score of the model: \",round(f1_score,2)))\n",
    "}\n",
    "\n"
   ]
  },
  {
   "cell_type": "code",
   "execution_count": 66,
   "id": "b6278c27",
   "metadata": {},
   "outputs": [
    {
     "name": "stdout",
     "output_type": "stream",
     "text": [
      "   predLRClust\n",
      "        0     1\n",
      "  0 47580     5\n",
      "  1    30    61\n",
      "[1] \"Precision value of the model:  0.92\"\n",
      "[1] \"Accuracy of the model:  1\"\n",
      "[1] \"Recall value of the model:  0.67\"\n",
      "[1] \"False Positive rate of the model:  0\"\n",
      "[1] \"False Negative rate of the model:  0.33\"\n",
      "[1] \"f1 score of the model:  0.78\"\n"
     ]
    }
   ],
   "source": [
    "# make confusion matrix with kmean clusters as a feature\n",
    "predLRClust <- ifelse(predLRClust > 0.5,1,0) # Probability check\n",
    "CM= table(yTrain$Class, predLRClust)\n",
    "print(CM)\n",
    "err_metric(CM)"
   ]
  },
  {
   "cell_type": "code",
   "execution_count": 67,
   "id": "821780fa",
   "metadata": {},
   "outputs": [
    {
     "data": {
      "text/html": [
       "0.777070063694267"
      ],
      "text/latex": [
       "0.777070063694267"
      ],
      "text/markdown": [
       "0.777070063694267"
      ],
      "text/plain": [
       "[1] 0.7770701"
      ]
     },
     "metadata": {},
     "output_type": "display_data"
    },
    {
     "data": {
      "text/html": [
       "0.67032967032967"
      ],
      "text/latex": [
       "0.67032967032967"
      ],
      "text/markdown": [
       "0.67032967032967"
      ],
      "text/plain": [
       "[1] 0.6703297"
      ]
     },
     "metadata": {},
     "output_type": "display_data"
    }
   ],
   "source": [
    "F1_Score(y_pred =predLRClust, y_true = yTrain$Class, positive = \"1\")\n",
    "Recall(y_pred = predLRClust, y_true = yTrain$Class, positive = \"1\")"
   ]
  },
  {
   "cell_type": "code",
   "execution_count": null,
   "id": "a8d3c295",
   "metadata": {},
   "outputs": [],
   "source": []
  },
  {
   "cell_type": "code",
   "execution_count": 173,
   "id": "e91a8475",
   "metadata": {},
   "outputs": [
    {
     "name": "stdout",
     "output_type": "stream",
     "text": [
      "   predLROrig\n",
      "      0   1\n",
      "  0 413   6\n",
      "  1  33 386\n",
      "[1] \"Precision value of the model:  0.98\"\n",
      "[1] \"Accuracy of the model:  0.95\"\n",
      "[1] \"Recall value of the model:  0.92\"\n",
      "[1] \"False Positive rate of the model:  0.01\"\n",
      "[1] \"False Negative rate of the model:  0.08\"\n",
      "[1] \"f1 score of the model:  0.95\"\n"
     ]
    }
   ],
   "source": [
    "# make confusion matrix with \n",
    "predLROrig <- ifelse(predLROrig > 0.5,1,0) # Probability check\n",
    "CM= table(yTrainClass$Class, predLROrig)\n",
    "print(CM)\n",
    "err_metric(CM)"
   ]
  },
  {
   "cell_type": "code",
   "execution_count": 174,
   "id": "3aa5c22d",
   "metadata": {},
   "outputs": [
    {
     "data": {
      "text/html": [
       "0.951911220715167"
      ],
      "text/latex": [
       "0.951911220715167"
      ],
      "text/markdown": [
       "0.951911220715167"
      ],
      "text/plain": [
       "[1] 0.9519112"
      ]
     },
     "metadata": {},
     "output_type": "display_data"
    },
    {
     "data": {
      "text/html": [
       "0.921241050119332"
      ],
      "text/latex": [
       "0.921241050119332"
      ],
      "text/markdown": [
       "0.921241050119332"
      ],
      "text/plain": [
       "[1] 0.9212411"
      ]
     },
     "metadata": {},
     "output_type": "display_data"
    }
   ],
   "source": [
    "F1_Score(y_pred = predLROrig, y_true = yTrainClass$Class, positive = \"1\")\n",
    "Recall(y_pred = predLROrig, y_true = yTrainClass$Class, positive = \"1\")"
   ]
  },
  {
   "cell_type": "code",
   "execution_count": null,
   "id": "206c65e0",
   "metadata": {},
   "outputs": [],
   "source": []
  },
  {
   "cell_type": "code",
   "execution_count": null,
   "id": "16a37fa8",
   "metadata": {},
   "outputs": [],
   "source": []
  },
  {
   "cell_type": "markdown",
   "id": "2141d9cd",
   "metadata": {},
   "source": [
    "**> Select Subset**"
   ]
  },
  {
   "cell_type": "code",
   "execution_count": 78,
   "id": "7521ab85",
   "metadata": {},
   "outputs": [
    {
     "name": "stdout",
     "output_type": "stream",
     "text": [
      "   predLRClustSub\n",
      "        0     1\n",
      "  0 45482     7\n",
      "  1    30    49\n",
      "[1] \"Precision value of the model:  0.88\"\n",
      "[1] \"Accuracy of the model:  1\"\n",
      "[1] \"Recall value of the model:  0.62\"\n",
      "[1] \"False Positive rate of the model:  0\"\n",
      "[1] \"False Negative rate of the model:  0.38\"\n",
      "[1] \"f1 score of the model:  0.73\"\n"
     ]
    }
   ],
   "source": [
    "# make confusion matrix with kmean clusters as input feature\n",
    "predLRClustSub <- ifelse(predLRClustSub > 0.5,1,0) # Probability check\n",
    "CM= table(yTrainSub$Class, predLRClustSub)\n",
    "print(CM)\n",
    "err_metric(CM)"
   ]
  },
  {
   "cell_type": "code",
   "execution_count": 79,
   "id": "1c1b5f6c",
   "metadata": {},
   "outputs": [
    {
     "data": {
      "text/html": [
       "0.725925925925926"
      ],
      "text/latex": [
       "0.725925925925926"
      ],
      "text/markdown": [
       "0.725925925925926"
      ],
      "text/plain": [
       "[1] 0.7259259"
      ]
     },
     "metadata": {},
     "output_type": "display_data"
    },
    {
     "data": {
      "text/html": [
       "0.620253164556962"
      ],
      "text/latex": [
       "0.620253164556962"
      ],
      "text/markdown": [
       "0.620253164556962"
      ],
      "text/plain": [
       "[1] 0.6202532"
      ]
     },
     "metadata": {},
     "output_type": "display_data"
    }
   ],
   "source": [
    "F1_Score(y_pred =predLRClustSub, y_true = yTrainSub$Class, positive = \"1\")\n",
    "Recall(y_pred = predLRClustSub, y_true = yTrainSub$Class, positive = \"1\")"
   ]
  },
  {
   "cell_type": "code",
   "execution_count": 177,
   "id": "a02f693a",
   "metadata": {},
   "outputs": [
    {
     "name": "stdout",
     "output_type": "stream",
     "text": [
      "   predLROrigSub\n",
      "      0   1\n",
      "  0 391   1\n",
      "  1  38 354\n",
      "[1] \"Precision value of the model:  1\"\n",
      "[1] \"Accuracy of the model:  0.95\"\n",
      "[1] \"Recall value of the model:  0.9\"\n",
      "[1] \"False Positive rate of the model:  0\"\n",
      "[1] \"False Negative rate of the model:  0.1\"\n",
      "[1] \"f1 score of the model:  0.95\"\n"
     ]
    }
   ],
   "source": [
    "# make confusion matrix \n",
    "predLROrigSub <- ifelse(predLROrigSub > 0.5, 1, 0) # Probability check\n",
    "CM= table(yTrainClassSub$Class, predLROrigSub)\n",
    "print(CM)\n",
    "err_metric(CM)"
   ]
  },
  {
   "cell_type": "code",
   "execution_count": 178,
   "id": "76807235",
   "metadata": {},
   "outputs": [
    {
     "data": {
      "text/html": [
       "0.947791164658635"
      ],
      "text/latex": [
       "0.947791164658635"
      ],
      "text/markdown": [
       "0.947791164658635"
      ],
      "text/plain": [
       "[1] 0.9477912"
      ]
     },
     "metadata": {},
     "output_type": "display_data"
    },
    {
     "data": {
      "text/html": [
       "0.903061224489796"
      ],
      "text/latex": [
       "0.903061224489796"
      ],
      "text/markdown": [
       "0.903061224489796"
      ],
      "text/plain": [
       "[1] 0.9030612"
      ]
     },
     "metadata": {},
     "output_type": "display_data"
    }
   ],
   "source": [
    "F1_Score(y_pred = predLROrigSub, y_true = yTrainClassSub$Class, positive = \"1\")\n",
    "Recall(y_pred = predLROrigSub, y_true = yTrainClassSub$Class, positive = \"1\")"
   ]
  },
  {
   "cell_type": "code",
   "execution_count": null,
   "id": "526c2594",
   "metadata": {},
   "outputs": [],
   "source": []
  },
  {
   "cell_type": "markdown",
   "id": "4ed87fa1",
   "metadata": {},
   "source": [
    "### Test Data"
   ]
  },
  {
   "cell_type": "markdown",
   "id": "84801b27",
   "metadata": {},
   "source": [
    "**Create Clusters for Full and Subset Test Datasets**"
   ]
  },
  {
   "cell_type": "code",
   "execution_count": null,
   "id": "0a7b22a7",
   "metadata": {},
   "outputs": [],
   "source": []
  },
  {
   "cell_type": "markdown",
   "id": "2eca8025",
   "metadata": {},
   "source": [
    "**> Full Normal Dataset**"
   ]
  },
  {
   "cell_type": "code",
   "execution_count": 203,
   "id": "fd5a90c1",
   "metadata": {},
   "outputs": [],
   "source": [
    "# Compute k-means with k = 10\n",
    "set.seed(567)\n",
    "resultK10Test <- kmeans(XTest, 10, iter.max = 15, nstart = 50)\n"
   ]
  },
  {
   "cell_type": "code",
   "execution_count": 204,
   "id": "7471161e",
   "metadata": {},
   "outputs": [
    {
     "data": {
      "text/html": [
       "<table>\n",
       "<thead><tr><th></th><th scope=col>V2</th><th scope=col>V3</th><th scope=col>V4</th><th scope=col>V5</th><th scope=col>V6</th><th scope=col>V7</th><th scope=col>V8</th><th scope=col>V9</th><th scope=col>V10</th><th scope=col>V11</th><th scope=col>...</th><th scope=col>V21</th><th scope=col>V22</th><th scope=col>V23</th><th scope=col>V25</th><th scope=col>V26</th><th scope=col>V27</th><th scope=col>V28</th><th scope=col>Amount</th><th scope=col>Class</th><th scope=col>kclusters</th></tr></thead>\n",
       "<tbody>\n",
       "\t<tr><th scope=row>2</th><td>-0.3239156  </td><td>0.9178714   </td><td>-0.7282708  </td><td>-1.1800225  </td><td>-0.8173157  </td><td>-0.5494987  </td><td>-0.05259299 </td><td> 1.769906   </td><td>-1.0898177  </td><td>-0.3800127  </td><td>...         </td><td>-0.008405836</td><td> 0.24221482 </td><td>-0.03969362 </td><td>0.5116329   </td><td>-0.6877417  </td><td>0.09587039  </td><td>0.03602943  </td><td>  1.00      </td><td>0           </td><td> 1          </td></tr>\n",
       "\t<tr><th scope=row>8</th><td>-1.5576956  </td><td>2.1790087   </td><td>-2.3847499  </td><td>-0.9778896  </td><td>-0.4124026  </td><td>-0.7876442  </td><td> 0.32045757 </td><td>-2.100417   </td><td> 0.9545297  </td><td> 0.4993855  </td><td>...         </td><td> 0.022861887</td><td>-0.08452142 </td><td> 0.24155116 </td><td>0.3186859   </td><td>-0.2840936  </td><td>0.23457658  </td><td>0.14608108  </td><td>152.65      </td><td>0           </td><td>10          </td></tr>\n",
       "</tbody>\n",
       "</table>\n"
      ],
      "text/latex": [
       "\\begin{tabular}{r|lllllllllllllllllllllllllllll}\n",
       "  & V2 & V3 & V4 & V5 & V6 & V7 & V8 & V9 & V10 & V11 & ... & V21 & V22 & V23 & V25 & V26 & V27 & V28 & Amount & Class & kclusters\\\\\n",
       "\\hline\n",
       "\t2 & -0.3239156   & 0.9178714    & -0.7282708   & -1.1800225   & -0.8173157   & -0.5494987   & -0.05259299  &  1.769906    & -1.0898177   & -0.3800127   & ...          & -0.008405836 &  0.24221482  & -0.03969362  & 0.5116329    & -0.6877417   & 0.09587039   & 0.03602943   &   1.00       & 0            &  1          \\\\\n",
       "\t8 & -1.5576956   & 2.1790087    & -2.3847499   & -0.9778896   & -0.4124026   & -0.7876442   &  0.32045757  & -2.100417    &  0.9545297   &  0.4993855   & ...          &  0.022861887 & -0.08452142  &  0.24155116  & 0.3186859    & -0.2840936   & 0.23457658   & 0.14608108   & 152.65       & 0            & 10          \\\\\n",
       "\\end{tabular}\n"
      ],
      "text/markdown": [
       "\n",
       "| <!--/--> | V2 | V3 | V4 | V5 | V6 | V7 | V8 | V9 | V10 | V11 | ... | V21 | V22 | V23 | V25 | V26 | V27 | V28 | Amount | Class | kclusters |\n",
       "|---|---|---|---|---|---|---|---|---|---|---|---|---|---|---|---|---|---|---|---|---|---|\n",
       "| 2 | -0.3239156   | 0.9178714    | -0.7282708   | -1.1800225   | -0.8173157   | -0.5494987   | -0.05259299  |  1.769906    | -1.0898177   | -0.3800127   | ...          | -0.008405836 |  0.24221482  | -0.03969362  | 0.5116329    | -0.6877417   | 0.09587039   | 0.03602943   |   1.00       | 0            |  1           |\n",
       "| 8 | -1.5576956   | 2.1790087    | -2.3847499   | -0.9778896   | -0.4124026   | -0.7876442   |  0.32045757  | -2.100417    |  0.9545297   |  0.4993855   | ...          |  0.022861887 | -0.08452142  |  0.24155116  | 0.3186859    | -0.2840936   | 0.23457658   | 0.14608108   | 152.65       | 0            | 10           |\n",
       "\n"
      ],
      "text/plain": [
       "  V2         V3        V4         V5         V6         V7         V8         \n",
       "2 -0.3239156 0.9178714 -0.7282708 -1.1800225 -0.8173157 -0.5494987 -0.05259299\n",
       "8 -1.5576956 2.1790087 -2.3847499 -0.9778896 -0.4124026 -0.7876442  0.32045757\n",
       "  V9        V10        V11        ... V21          V22         V23        \n",
       "2  1.769906 -1.0898177 -0.3800127 ... -0.008405836  0.24221482 -0.03969362\n",
       "8 -2.100417  0.9545297  0.4993855 ...  0.022861887 -0.08452142  0.24155116\n",
       "  V25       V26        V27        V28        Amount Class kclusters\n",
       "2 0.5116329 -0.6877417 0.09587039 0.03602943   1.00 0      1       \n",
       "8 0.3186859 -0.2840936 0.23457658 0.14608108 152.65 0     10       "
      ]
     },
     "metadata": {},
     "output_type": "display_data"
    },
    {
     "data": {
      "text/html": [
       "<ol class=list-inline>\n",
       "\t<li>9285</li>\n",
       "\t<li>28</li>\n",
       "</ol>\n"
      ],
      "text/latex": [
       "\\begin{enumerate*}\n",
       "\\item 9285\n",
       "\\item 28\n",
       "\\end{enumerate*}\n"
      ],
      "text/markdown": [
       "1. 9285\n",
       "2. 28\n",
       "\n",
       "\n"
      ],
      "text/plain": [
       "[1] 9285   28"
      ]
     },
     "metadata": {},
     "output_type": "display_data"
    }
   ],
   "source": [
    "# Add the clusters as features to the original data \n",
    "# Test instead of XTest \n",
    "clustDfTest <- cbind(Test, kclusters = resultK10Test$cluster)\n",
    "head(clustDfTest, 2)\n",
    "\n",
    "# drop the target variable\n",
    "XclustDfTest <- clustDfTest[, c(1:27, 29:29)]\n",
    "dim(XclustDfTest)"
   ]
  },
  {
   "cell_type": "markdown",
   "id": "8558fa16",
   "metadata": {},
   "source": [
    "**> Select Subset**"
   ]
  },
  {
   "cell_type": "code",
   "execution_count": 85,
   "id": "9c39618e",
   "metadata": {},
   "outputs": [],
   "source": [
    "# Compute k-means with k = 2\n",
    "set.seed(567)\n",
    "resultK2TestSub <- kmeans(XTestSub, 2, iter.max = 15, nstart = 50)\n"
   ]
  },
  {
   "cell_type": "code",
   "execution_count": 103,
   "id": "ae1ec8e0",
   "metadata": {},
   "outputs": [
    {
     "data": {
      "text/html": [
       "<table>\n",
       "<thead><tr><th></th><th scope=col>V2</th><th scope=col>V3</th><th scope=col>V4</th><th scope=col>V5</th><th scope=col>V6</th><th scope=col>V7</th><th scope=col>V8</th><th scope=col>V9</th><th scope=col>V10</th><th scope=col>V11</th><th scope=col>...</th><th scope=col>V21</th><th scope=col>V22</th><th scope=col>V23</th><th scope=col>V25</th><th scope=col>V26</th><th scope=col>V27</th><th scope=col>V28</th><th scope=col>Amount</th><th scope=col>Class</th><th scope=col>kclusters</th></tr></thead>\n",
       "<tbody>\n",
       "\t<tr><th scope=row>2</th><td>-0.3239156  </td><td>0.9178714   </td><td>-0.7282708  </td><td>-1.1800225  </td><td>-0.8173157  </td><td>-0.5494987  </td><td>-0.05259299 </td><td> 1.769906   </td><td>-1.0898177  </td><td>-0.3800127  </td><td>...         </td><td>-0.008405836</td><td> 0.24221482 </td><td>-0.03969362 </td><td>0.5116329   </td><td>-0.6877417  </td><td>0.09587039  </td><td>0.03602943  </td><td>  1.00      </td><td>0           </td><td>1           </td></tr>\n",
       "\t<tr><th scope=row>8</th><td>-1.5576956  </td><td>2.1790087   </td><td>-2.3847499  </td><td>-0.9778896  </td><td>-0.4124026  </td><td>-0.7876442  </td><td> 0.32045757 </td><td>-2.100417   </td><td> 0.9545297  </td><td> 0.4993855  </td><td>...         </td><td> 0.022861887</td><td>-0.08452142 </td><td> 0.24155116 </td><td>0.3186859   </td><td>-0.2840936  </td><td>0.23457658  </td><td>0.14608108  </td><td>152.65      </td><td>0           </td><td>1           </td></tr>\n",
       "</tbody>\n",
       "</table>\n"
      ],
      "text/latex": [
       "\\begin{tabular}{r|lllllllllllllllllllllllllllll}\n",
       "  & V2 & V3 & V4 & V5 & V6 & V7 & V8 & V9 & V10 & V11 & ... & V21 & V22 & V23 & V25 & V26 & V27 & V28 & Amount & Class & kclusters\\\\\n",
       "\\hline\n",
       "\t2 & -0.3239156   & 0.9178714    & -0.7282708   & -1.1800225   & -0.8173157   & -0.5494987   & -0.05259299  &  1.769906    & -1.0898177   & -0.3800127   & ...          & -0.008405836 &  0.24221482  & -0.03969362  & 0.5116329    & -0.6877417   & 0.09587039   & 0.03602943   &   1.00       & 0            & 1           \\\\\n",
       "\t8 & -1.5576956   & 2.1790087    & -2.3847499   & -0.9778896   & -0.4124026   & -0.7876442   &  0.32045757  & -2.100417    &  0.9545297   &  0.4993855   & ...          &  0.022861887 & -0.08452142  &  0.24155116  & 0.3186859    & -0.2840936   & 0.23457658   & 0.14608108   & 152.65       & 0            & 1           \\\\\n",
       "\\end{tabular}\n"
      ],
      "text/markdown": [
       "\n",
       "| <!--/--> | V2 | V3 | V4 | V5 | V6 | V7 | V8 | V9 | V10 | V11 | ... | V21 | V22 | V23 | V25 | V26 | V27 | V28 | Amount | Class | kclusters |\n",
       "|---|---|---|---|---|---|---|---|---|---|---|---|---|---|---|---|---|---|---|---|---|---|\n",
       "| 2 | -0.3239156   | 0.9178714    | -0.7282708   | -1.1800225   | -0.8173157   | -0.5494987   | -0.05259299  |  1.769906    | -1.0898177   | -0.3800127   | ...          | -0.008405836 |  0.24221482  | -0.03969362  | 0.5116329    | -0.6877417   | 0.09587039   | 0.03602943   |   1.00       | 0            | 1            |\n",
       "| 8 | -1.5576956   | 2.1790087    | -2.3847499   | -0.9778896   | -0.4124026   | -0.7876442   |  0.32045757  | -2.100417    |  0.9545297   |  0.4993855   | ...          |  0.022861887 | -0.08452142  |  0.24155116  | 0.3186859    | -0.2840936   | 0.23457658   | 0.14608108   | 152.65       | 0            | 1            |\n",
       "\n"
      ],
      "text/plain": [
       "  V2         V3        V4         V5         V6         V7         V8         \n",
       "2 -0.3239156 0.9178714 -0.7282708 -1.1800225 -0.8173157 -0.5494987 -0.05259299\n",
       "8 -1.5576956 2.1790087 -2.3847499 -0.9778896 -0.4124026 -0.7876442  0.32045757\n",
       "  V9        V10        V11        ... V21          V22         V23        \n",
       "2  1.769906 -1.0898177 -0.3800127 ... -0.008405836  0.24221482 -0.03969362\n",
       "8 -2.100417  0.9545297  0.4993855 ...  0.022861887 -0.08452142  0.24155116\n",
       "  V25       V26        V27        V28        Amount Class kclusters\n",
       "2 0.5116329 -0.6877417 0.09587039 0.03602943   1.00 0     1        \n",
       "8 0.3186859 -0.2840936 0.23457658 0.14608108 152.65 0     1        "
      ]
     },
     "metadata": {},
     "output_type": "display_data"
    },
    {
     "data": {
      "text/html": [
       "<ol class=list-inline>\n",
       "\t<li>11393</li>\n",
       "\t<li>6</li>\n",
       "</ol>\n"
      ],
      "text/latex": [
       "\\begin{enumerate*}\n",
       "\\item 11393\n",
       "\\item 6\n",
       "\\end{enumerate*}\n"
      ],
      "text/markdown": [
       "1. 11393\n",
       "2. 6\n",
       "\n",
       "\n"
      ],
      "text/plain": [
       "[1] 11393     6"
      ]
     },
     "metadata": {},
     "output_type": "display_data"
    }
   ],
   "source": [
    "# Add the clusters as features to the original data \n",
    "# Test instead of XTest \n",
    "clustDfTestSub <- cbind(TestSub, kclusters = resultK2TestSub$cluster)\n",
    "head(clustDfTest, 2)\n",
    "\n",
    "# drop the target variable\n",
    "XclustDfTestSub <- clustDfTestSub[, c(1:5, 7:7)]\n",
    "dim(XclustDfTestSub)"
   ]
  },
  {
   "cell_type": "code",
   "execution_count": null,
   "id": "ebd1271c",
   "metadata": {},
   "outputs": [],
   "source": []
  },
  {
   "cell_type": "markdown",
   "id": "51533f37",
   "metadata": {},
   "source": [
    "### Predictions"
   ]
  },
  {
   "cell_type": "code",
   "execution_count": 205,
   "id": "d60c17e7",
   "metadata": {},
   "outputs": [],
   "source": [
    "# Full Normal Dataset\n",
    "\n",
    "# make predictions with kmeans clusters as input features\n",
    "predLRClustTest <- predict(lrModelClust, XclustDfTest)\n",
    "\n",
    "# make predictions \n",
    "predLROrigTest <- predict(lrModelOrig, XTestClass)\n",
    "\n",
    "\n",
    "# Select Subset\n",
    "\n",
    "# make predictions with kmeans clusters as input features\n",
    "predLRClustTestSub <- predict(lrModelClustSub, XclustDfTestSub)\n",
    "\n",
    "# make predictions \n",
    "predLROrigTestSub <- predict(lrModelOrigSub, XTestClassSub)"
   ]
  },
  {
   "cell_type": "code",
   "execution_count": 206,
   "id": "b32b6119",
   "metadata": {},
   "outputs": [],
   "source": [
    "\n",
    "predLRClustTest <- as.numeric(as.character(predLRClustTest))\n",
    "\n",
    "predLROrigTest <- as.numeric(as.character(predLROrigTest))\n",
    "\n",
    "predLRClustTestSub <- as.numeric(as.character(predLRClustTestSub))\n",
    "\n",
    "predLROrigTestSub <- as.numeric(as.character(predLROrigTestSub))"
   ]
  },
  {
   "cell_type": "code",
   "execution_count": null,
   "id": "ce7f4c09",
   "metadata": {},
   "outputs": [],
   "source": []
  },
  {
   "cell_type": "code",
   "execution_count": 130,
   "id": "20349a74",
   "metadata": {},
   "outputs": [
    {
     "name": "stdout",
     "output_type": "stream",
     "text": [
      "   predLRClustTest\n",
      "       0    1\n",
      "  0 9269    2\n",
      "  1    7    7\n",
      "[1] \"Precision value of the model:  0.78\"\n",
      "[1] \"Accuracy of the model:  1\"\n",
      "[1] \"Recall value of the model:  0.5\"\n",
      "[1] \"False Positive rate of the model:  0\"\n",
      "[1] \"False Negative rate of the model:  0.5\"\n",
      "[1] \"f1 score of the model:  0.61\"\n"
     ]
    }
   ],
   "source": [
    "# make confusion matrix with kmean clusters as target label\n",
    "predLRClustTest <- ifelse(predLRClustTest > 0.5,1,0) # Probability check\n",
    "CM= table(yTest$Class, predLRClustTest)\n",
    "print(CM)\n",
    "err_metric(CM)\n"
   ]
  },
  {
   "cell_type": "code",
   "execution_count": 133,
   "id": "afa99c2b",
   "metadata": {},
   "outputs": [
    {
     "data": {
      "text/html": [
       "0.608695652173913"
      ],
      "text/latex": [
       "0.608695652173913"
      ],
      "text/markdown": [
       "0.608695652173913"
      ],
      "text/plain": [
       "[1] 0.6086957"
      ]
     },
     "metadata": {},
     "output_type": "display_data"
    },
    {
     "data": {
      "text/html": [
       "0.5"
      ],
      "text/latex": [
       "0.5"
      ],
      "text/markdown": [
       "0.5"
      ],
      "text/plain": [
       "[1] 0.5"
      ]
     },
     "metadata": {},
     "output_type": "display_data"
    }
   ],
   "source": [
    "F1_Score(y_pred = predLRClustTest, y_true = yTest$Class, positive = \"1\")\n",
    "Recall(y_pred = predLRClustTest, y_true = yTest$Class, positive = \"1\")"
   ]
  },
  {
   "cell_type": "code",
   "execution_count": null,
   "id": "e15b5494",
   "metadata": {},
   "outputs": [],
   "source": []
  },
  {
   "cell_type": "code",
   "execution_count": 185,
   "id": "7b76302c",
   "metadata": {},
   "outputs": [
    {
     "name": "stdout",
     "output_type": "stream",
     "text": [
      "   predLROrigTest\n",
      "        0     1\n",
      "  0 51771  1048\n",
      "  1     7    66\n",
      "[1] \"Precision value of the model:  0.06\"\n",
      "[1] \"Accuracy of the model:  0.98\"\n",
      "[1] \"Recall value of the model:  0.9\"\n",
      "[1] \"False Positive rate of the model:  0.02\"\n",
      "[1] \"False Negative rate of the model:  0.1\"\n",
      "[1] \"f1 score of the model:  0.11\"\n"
     ]
    }
   ],
   "source": [
    "# make confusion matrix with  original labels as target label\n",
    "predLROrigTest <- ifelse(predLROrigTest > 0.5,1,0) # Probability check\n",
    "CM= table(yTestClass$Class, predLROrigTest)\n",
    "print(CM)\n",
    "err_metric(CM)"
   ]
  },
  {
   "cell_type": "code",
   "execution_count": 186,
   "id": "b1a8a850",
   "metadata": {},
   "outputs": [
    {
     "data": {
      "text/html": [
       "0.111204717775906"
      ],
      "text/latex": [
       "0.111204717775906"
      ],
      "text/markdown": [
       "0.111204717775906"
      ],
      "text/plain": [
       "[1] 0.1112047"
      ]
     },
     "metadata": {},
     "output_type": "display_data"
    },
    {
     "data": {
      "text/html": [
       "0.904109589041096"
      ],
      "text/latex": [
       "0.904109589041096"
      ],
      "text/markdown": [
       "0.904109589041096"
      ],
      "text/plain": [
       "[1] 0.9041096"
      ]
     },
     "metadata": {},
     "output_type": "display_data"
    }
   ],
   "source": [
    "F1_Score(y_pred = predLROrigTest, y_true = yTestClass$Class, positive = \"1\")\n",
    "Recall(y_pred = predLROrigTest, y_true = yTestClass$Class, positive = \"1\")"
   ]
  },
  {
   "cell_type": "code",
   "execution_count": null,
   "id": "50570e2b",
   "metadata": {},
   "outputs": [],
   "source": []
  },
  {
   "cell_type": "code",
   "execution_count": 143,
   "id": "903095a6",
   "metadata": {},
   "outputs": [
    {
     "name": "stdout",
     "output_type": "stream",
     "text": [
      "   predLRClustTestSub\n",
      "        0     1\n",
      "  0 11376     2\n",
      "  1    11     4\n",
      "[1] \"Precision value of the model:  0.67\"\n",
      "[1] \"Accuracy of the model:  1\"\n",
      "[1] \"Recall value of the model:  0.27\"\n",
      "[1] \"False Positive rate of the model:  0\"\n",
      "[1] \"False Negative rate of the model:  0.73\"\n",
      "[1] \"f1 score of the model:  0.38\"\n"
     ]
    }
   ],
   "source": [
    "# make confusion matrix with kmean clusters as target label\n",
    "predLRClustTestSub <- ifelse(predLRClustTestSub > 0.5,1,0) # Probability check\n",
    "CM= table(yTestSub$Class, predLRClustTestSub)\n",
    "print(CM)\n",
    "err_metric(CM)"
   ]
  },
  {
   "cell_type": "code",
   "execution_count": 144,
   "id": "0c5a0991",
   "metadata": {},
   "outputs": [
    {
     "data": {
      "text/html": [
       "0.380952380952381"
      ],
      "text/latex": [
       "0.380952380952381"
      ],
      "text/markdown": [
       "0.380952380952381"
      ],
      "text/plain": [
       "[1] 0.3809524"
      ]
     },
     "metadata": {},
     "output_type": "display_data"
    },
    {
     "data": {
      "text/html": [
       "0.266666666666667"
      ],
      "text/latex": [
       "0.266666666666667"
      ],
      "text/markdown": [
       "0.266666666666667"
      ],
      "text/plain": [
       "[1] 0.2666667"
      ]
     },
     "metadata": {},
     "output_type": "display_data"
    }
   ],
   "source": [
    "F1_Score(y_pred =predLRClustTestSub, y_true = yTestSub$Class, positive = \"1\")\n",
    "Recall(y_pred = predLRClustTestSub, y_true = yTestSub$Class, positive = \"1\")"
   ]
  },
  {
   "cell_type": "code",
   "execution_count": null,
   "id": "99ac281a",
   "metadata": {},
   "outputs": [],
   "source": []
  },
  {
   "cell_type": "code",
   "execution_count": 189,
   "id": "2c8ff7b0",
   "metadata": {},
   "outputs": [
    {
     "name": "stdout",
     "output_type": "stream",
     "text": [
      "   predLROrigTestSub\n",
      "        0     1\n",
      "  0 56037   825\n",
      "  1    16    84\n",
      "[1] \"Precision value of the model:  0.09\"\n",
      "[1] \"Accuracy of the model:  0.99\"\n",
      "[1] \"Recall value of the model:  0.84\"\n",
      "[1] \"False Positive rate of the model:  0.01\"\n",
      "[1] \"False Negative rate of the model:  0.16\"\n",
      "[1] \"f1 score of the model:  0.17\"\n"
     ]
    }
   ],
   "source": [
    "# make confusion matrix with original labels as target label\n",
    "predLROrigTestSub <- ifelse(predLROrigTestSub > 0.5,1,0) # Probability check\n",
    "CM= table(yTestClassSub$Class, predLROrigTestSub)\n",
    "print(CM)\n",
    "err_metric(CM)"
   ]
  },
  {
   "cell_type": "code",
   "execution_count": 190,
   "id": "bf88bd32",
   "metadata": {},
   "outputs": [
    {
     "data": {
      "text/html": [
       "0.166501486620416"
      ],
      "text/latex": [
       "0.166501486620416"
      ],
      "text/markdown": [
       "0.166501486620416"
      ],
      "text/plain": [
       "[1] 0.1665015"
      ]
     },
     "metadata": {},
     "output_type": "display_data"
    },
    {
     "data": {
      "text/html": [
       "0.84"
      ],
      "text/latex": [
       "0.84"
      ],
      "text/markdown": [
       "0.84"
      ],
      "text/plain": [
       "[1] 0.84"
      ]
     },
     "metadata": {},
     "output_type": "display_data"
    }
   ],
   "source": [
    "F1_Score(y_pred = predLROrigTestSub, y_true = yTestClassSub$Class, positive = \"1\")\n",
    "Recall(y_pred = predLROrigTestSub, y_true = yTestClassSub$Class, positive = \"1\")\n"
   ]
  },
  {
   "cell_type": "code",
   "execution_count": null,
   "id": "baee841e",
   "metadata": {},
   "outputs": [],
   "source": []
  }
 ],
 "metadata": {
  "kernelspec": {
   "display_name": "R",
   "language": "R",
   "name": "ir"
  },
  "language_info": {
   "codemirror_mode": "r",
   "file_extension": ".r",
   "mimetype": "text/x-r-source",
   "name": "R",
   "pygments_lexer": "r",
   "version": "3.6.1"
  }
 },
 "nbformat": 4,
 "nbformat_minor": 5
}
