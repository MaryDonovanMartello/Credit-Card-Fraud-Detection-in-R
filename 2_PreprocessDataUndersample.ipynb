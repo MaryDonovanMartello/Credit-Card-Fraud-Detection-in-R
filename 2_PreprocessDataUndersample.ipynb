{
 "cells": [
  {
   "cell_type": "markdown",
   "id": "d4885928",
   "metadata": {},
   "source": [
    "# Anomaly Detection in R"
   ]
  },
  {
   "cell_type": "markdown",
   "id": "69be5d0c",
   "metadata": {},
   "source": [
    "# Mary Donovan Martello"
   ]
  },
  {
   "cell_type": "markdown",
   "id": "50cb85c4",
   "metadata": {},
   "source": [
    "## Part 2:  Undersample Data for Feature Selection and Supervised Learning"
   ]
  },
  {
   "cell_type": "code",
   "execution_count": null,
   "id": "12e5faaa",
   "metadata": {},
   "outputs": [],
   "source": []
  },
  {
   "cell_type": "code",
   "execution_count": 2,
   "id": "a9751842",
   "metadata": {},
   "outputs": [],
   "source": [
    "# Importing required libraries\n",
    "library(dplyr)\n",
    "library(caret)\n",
    "library(ggplot2)\n",
    "library(caTools)\n",
    "library(ROSE)\n",
    "library(smotefamily)\n",
    "library(rpart)\n",
    "library(rpart.plot)\n",
    "library(psych)\n",
    "library(ltm)\n",
    "library(corrplot)\n",
    "library(e1071)\n",
    "library(data.table)\n",
    "\n",
    "suppressMessages(library(dplyr))\n",
    "suppressMessages(library(caTools))\n",
    "suppressMessages(library(ROSE))\n",
    "suppressMessages(library(smotefamily))\n",
    "suppressMessages(library(rpart.plot))\n",
    "suppressMessages(library(psych))\n",
    "suppressMessages(library(ltm))\n",
    "suppressMessages(library(corrplot))\n",
    "suppressMessages(library(e1071))\n",
    "suppressMessages(library(data.table))"
   ]
  },
  {
   "cell_type": "code",
   "execution_count": 3,
   "id": "96a42f65",
   "metadata": {},
   "outputs": [],
   "source": [
    "#Loading the dataset\n",
    "fulldf<-read.csv(\"creditcard.csv\")"
   ]
  },
  {
   "cell_type": "code",
   "execution_count": 4,
   "id": "940dd171",
   "metadata": {},
   "outputs": [],
   "source": [
    "# Convert class to a factor variable\n",
    "fulldf$Class <- factor(fulldf$Class, levels =  c(0,1))"
   ]
  },
  {
   "cell_type": "code",
   "execution_count": null,
   "id": "561c3f4e",
   "metadata": {},
   "outputs": [],
   "source": []
  },
  {
   "cell_type": "markdown",
   "id": "9369065d",
   "metadata": {},
   "source": [
    "### Scaling"
   ]
  },
  {
   "cell_type": "markdown",
   "id": "c8507025",
   "metadata": {},
   "source": [
    "**Note: Data does not need to be scaled because Time removed and all but one remaining feature is a PCA feature.**"
   ]
  },
  {
   "cell_type": "code",
   "execution_count": null,
   "id": "fe77650b",
   "metadata": {},
   "outputs": [],
   "source": []
  },
  {
   "cell_type": "markdown",
   "id": "4115f85d",
   "metadata": {},
   "source": [
    "### Under Sample Data"
   ]
  },
  {
   "cell_type": "code",
   "execution_count": 5,
   "id": "f7e8e25b",
   "metadata": {},
   "outputs": [
    {
     "data": {
      "text/plain": [
       "\n",
       "  0   1 \n",
       "492 492 "
      ]
     },
     "metadata": {},
     "output_type": "display_data"
    }
   ],
   "source": [
    "# Random Under-Sampling (RUS)\n",
    "\n",
    "# set the number of non-fraud records to under sample to\n",
    "n_fraud <- 492\n",
    "new_frac_fraud <- 0.50\n",
    "new_n_total <- n_fraud/new_frac_fraud\n",
    "\n",
    "undersampling_result <- ovun.sample(Class ~ .,\n",
    "                                   data = fulldf,\n",
    "                                   method = \"under\",\n",
    "                                   N = new_n_total,\n",
    "                                   seed =123)\n",
    "\n",
    "undersampled_credit <- undersampling_result$data\n",
    "\n",
    "table(undersampled_credit$Class)"
   ]
  },
  {
   "cell_type": "code",
   "execution_count": null,
   "id": "859c4574",
   "metadata": {},
   "outputs": [],
   "source": []
  },
  {
   "cell_type": "code",
   "execution_count": 6,
   "id": "a06da54b",
   "metadata": {},
   "outputs": [
    {
     "data": {
      "text/html": [
       "<ol class=list-inline>\n",
       "\t<li>984</li>\n",
       "\t<li>31</li>\n",
       "</ol>\n"
      ],
      "text/latex": [
       "\\begin{enumerate*}\n",
       "\\item 984\n",
       "\\item 31\n",
       "\\end{enumerate*}\n"
      ],
      "text/markdown": [
       "1. 984\n",
       "2. 31\n",
       "\n",
       "\n"
      ],
      "text/plain": [
       "[1] 984  31"
      ]
     },
     "metadata": {},
     "output_type": "display_data"
    }
   ],
   "source": [
    "dim(undersampled_credit)"
   ]
  },
  {
   "cell_type": "code",
   "execution_count": null,
   "id": "9e08d968",
   "metadata": {},
   "outputs": [],
   "source": []
  },
  {
   "cell_type": "code",
   "execution_count": 8,
   "id": "13e192ce",
   "metadata": {},
   "outputs": [],
   "source": [
    "write.csv(undersampled_credit,\"C:\\\\Users\\\\trave\\\\1_DSC680_Project3\\\\smallCreditFraud.csv\", row.names = FALSE)"
   ]
  },
  {
   "cell_type": "code",
   "execution_count": null,
   "id": "03de9b3d",
   "metadata": {},
   "outputs": [],
   "source": []
  },
  {
   "cell_type": "code",
   "execution_count": null,
   "id": "e3d1588e",
   "metadata": {},
   "outputs": [],
   "source": []
  },
  {
   "cell_type": "code",
   "execution_count": null,
   "id": "0c04c64b",
   "metadata": {},
   "outputs": [],
   "source": []
  }
 ],
 "metadata": {
  "kernelspec": {
   "display_name": "R",
   "language": "R",
   "name": "ir"
  },
  "language_info": {
   "codemirror_mode": "r",
   "file_extension": ".r",
   "mimetype": "text/x-r-source",
   "name": "R",
   "pygments_lexer": "r",
   "version": "3.6.1"
  }
 },
 "nbformat": 4,
 "nbformat_minor": 5
}
