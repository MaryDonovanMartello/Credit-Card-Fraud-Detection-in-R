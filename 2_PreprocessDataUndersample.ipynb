{
 "cells": [
  {
   "cell_type": "markdown",
   "id": "d4885928",
   "metadata": {},
   "source": [
    "# Anomaly Detection in R"
   ]
  },
  {
   "cell_type": "markdown",
   "id": "69be5d0c",
   "metadata": {},
   "source": [
    "# Mary Donovan Martello"
   ]
  },
  {
   "cell_type": "markdown",
   "id": "debbcb97",
   "metadata": {},
   "source": [
    "## The goal of this project was to use R to design unsupervised predictive binary classification models to predict whether credit card transactions are fraudulent transactions.  This file prepares the dataset for feature selection and supervised learning models that are used for comparison with the unsupervised models."
   ]
  },
  {
   "cell_type": "markdown",
   "id": "50cb85c4",
   "metadata": {},
   "source": [
    "## Part 2:  Undersample Data for Feature Selection and Supervised Learning"
   ]
  },
  {
   "cell_type": "code",
   "execution_count": null,
   "id": "12e5faaa",
   "metadata": {},
   "outputs": [],
   "source": []
  },
  {
   "cell_type": "code",
   "execution_count": 2,
   "id": "a9751842",
   "metadata": {},
   "outputs": [],
   "source": [
    "# Importing required libraries\n",
    "library(dplyr)\n",
    "library(caret)\n",
    "library(ggplot2)\n",
    "library(caTools)\n",
    "library(ROSE)\n",
    "library(smotefamily)\n",
    "library(rpart)\n",
    "library(rpart.plot)\n",
    "library(psych)\n",
    "library(ltm)\n",
    "library(corrplot)\n",
    "library(e1071)\n",
    "library(data.table)\n",
    "\n",
    "suppressMessages(library(dplyr))\n",
    "suppressMessages(library(caTools))\n",
    "suppressMessages(library(ROSE))\n",
    "suppressMessages(library(smotefamily))\n",
    "suppressMessages(library(rpart.plot))\n",
    "suppressMessages(library(psych))\n",
    "suppressMessages(library(ltm))\n",
    "suppressMessages(library(corrplot))\n",
    "suppressMessages(library(e1071))\n",
    "suppressMessages(library(data.table))"
   ]
  },
  {
   "cell_type": "code",
   "execution_count": 3,
   "id": "96a42f65",
   "metadata": {},
   "outputs": [],
   "source": [
    "#Loading the dataset\n",
    "fulldf<-read.csv(\"creditcard.csv\")"
   ]
  },
  {
   "cell_type": "code",
   "execution_count": 4,
   "id": "940dd171",
   "metadata": {},
   "outputs": [],
   "source": [
    "# Convert class to a factor variable\n",
    "fulldf$Class <- factor(fulldf$Class, levels =  c(0,1))"
   ]
  },
  {
   "cell_type": "code",
   "execution_count": 6,
   "id": "561c3f4e",
   "metadata": {},
   "outputs": [
    {
     "data": {
      "text/html": [
       "<table>\n",
       "<thead><tr><th scope=col>Time</th><th scope=col>V1</th><th scope=col>V2</th><th scope=col>V3</th><th scope=col>V4</th><th scope=col>V5</th><th scope=col>V6</th><th scope=col>V7</th><th scope=col>V8</th><th scope=col>V9</th><th scope=col>...</th><th scope=col>V21</th><th scope=col>V22</th><th scope=col>V23</th><th scope=col>V24</th><th scope=col>V25</th><th scope=col>V26</th><th scope=col>V27</th><th scope=col>V28</th><th scope=col>Amount</th><th scope=col>Class</th></tr></thead>\n",
       "<tbody>\n",
       "\t<tr><td>0           </td><td>-1.359807   </td><td>-0.07278117 </td><td>2.5363467   </td><td>1.3781552   </td><td>-0.33832077 </td><td> 0.46238778 </td><td> 0.23959855 </td><td>0.09869790  </td><td> 0.3637870  </td><td>...         </td><td>-0.01830678 </td><td> 0.2778376  </td><td>-0.1104739  </td><td> 0.06692807 </td><td> 0.1285394  </td><td>-0.1891148  </td><td> 0.133558377</td><td>-0.02105305 </td><td>149.62      </td><td>0           </td></tr>\n",
       "\t<tr><td>0           </td><td> 1.191857   </td><td> 0.26615071 </td><td>0.1664801   </td><td>0.4481541   </td><td> 0.06001765 </td><td>-0.08236081 </td><td>-0.07880298 </td><td>0.08510165  </td><td>-0.2554251  </td><td>...         </td><td>-0.22577525 </td><td>-0.6386720  </td><td> 0.1012880  </td><td>-0.33984648 </td><td> 0.1671704  </td><td> 0.1258945  </td><td>-0.008983099</td><td> 0.01472417 </td><td>  2.69      </td><td>0           </td></tr>\n",
       "\t<tr><td>1           </td><td>-1.358354   </td><td>-1.34016307 </td><td>1.7732093   </td><td>0.3797796   </td><td>-0.50319813 </td><td> 1.80049938 </td><td> 0.79146096 </td><td>0.24767579  </td><td>-1.5146543  </td><td>...         </td><td> 0.24799815 </td><td> 0.7716794  </td><td> 0.9094123  </td><td>-0.68928096 </td><td>-0.3276418  </td><td>-0.1390966  </td><td>-0.055352794</td><td>-0.05975184 </td><td>378.66      </td><td>0           </td></tr>\n",
       "</tbody>\n",
       "</table>\n"
      ],
      "text/latex": [
       "\\begin{tabular}{r|lllllllllllllllllllllllllllllll}\n",
       " Time & V1 & V2 & V3 & V4 & V5 & V6 & V7 & V8 & V9 & ... & V21 & V22 & V23 & V24 & V25 & V26 & V27 & V28 & Amount & Class\\\\\n",
       "\\hline\n",
       "\t 0            & -1.359807    & -0.07278117  & 2.5363467    & 1.3781552    & -0.33832077  &  0.46238778  &  0.23959855  & 0.09869790   &  0.3637870   & ...          & -0.01830678  &  0.2778376   & -0.1104739   &  0.06692807  &  0.1285394   & -0.1891148   &  0.133558377 & -0.02105305  & 149.62       & 0           \\\\\n",
       "\t 0            &  1.191857    &  0.26615071  & 0.1664801    & 0.4481541    &  0.06001765  & -0.08236081  & -0.07880298  & 0.08510165   & -0.2554251   & ...          & -0.22577525  & -0.6386720   &  0.1012880   & -0.33984648  &  0.1671704   &  0.1258945   & -0.008983099 &  0.01472417  &   2.69       & 0           \\\\\n",
       "\t 1            & -1.358354    & -1.34016307  & 1.7732093    & 0.3797796    & -0.50319813  &  1.80049938  &  0.79146096  & 0.24767579   & -1.5146543   & ...          &  0.24799815  &  0.7716794   &  0.9094123   & -0.68928096  & -0.3276418   & -0.1390966   & -0.055352794 & -0.05975184  & 378.66       & 0           \\\\\n",
       "\\end{tabular}\n"
      ],
      "text/markdown": [
       "\n",
       "| Time | V1 | V2 | V3 | V4 | V5 | V6 | V7 | V8 | V9 | ... | V21 | V22 | V23 | V24 | V25 | V26 | V27 | V28 | Amount | Class |\n",
       "|---|---|---|---|---|---|---|---|---|---|---|---|---|---|---|---|---|---|---|---|---|\n",
       "| 0            | -1.359807    | -0.07278117  | 2.5363467    | 1.3781552    | -0.33832077  |  0.46238778  |  0.23959855  | 0.09869790   |  0.3637870   | ...          | -0.01830678  |  0.2778376   | -0.1104739   |  0.06692807  |  0.1285394   | -0.1891148   |  0.133558377 | -0.02105305  | 149.62       | 0            |\n",
       "| 0            |  1.191857    |  0.26615071  | 0.1664801    | 0.4481541    |  0.06001765  | -0.08236081  | -0.07880298  | 0.08510165   | -0.2554251   | ...          | -0.22577525  | -0.6386720   |  0.1012880   | -0.33984648  |  0.1671704   |  0.1258945   | -0.008983099 |  0.01472417  |   2.69       | 0            |\n",
       "| 1            | -1.358354    | -1.34016307  | 1.7732093    | 0.3797796    | -0.50319813  |  1.80049938  |  0.79146096  | 0.24767579   | -1.5146543   | ...          |  0.24799815  |  0.7716794   |  0.9094123   | -0.68928096  | -0.3276418   | -0.1390966   | -0.055352794 | -0.05975184  | 378.66       | 0            |\n",
       "\n"
      ],
      "text/plain": [
       "  Time V1        V2          V3        V4        V5          V6         \n",
       "1 0    -1.359807 -0.07278117 2.5363467 1.3781552 -0.33832077  0.46238778\n",
       "2 0     1.191857  0.26615071 0.1664801 0.4481541  0.06001765 -0.08236081\n",
       "3 1    -1.358354 -1.34016307 1.7732093 0.3797796 -0.50319813  1.80049938\n",
       "  V7          V8         V9         ... V21         V22        V23       \n",
       "1  0.23959855 0.09869790  0.3637870 ... -0.01830678  0.2778376 -0.1104739\n",
       "2 -0.07880298 0.08510165 -0.2554251 ... -0.22577525 -0.6386720  0.1012880\n",
       "3  0.79146096 0.24767579 -1.5146543 ...  0.24799815  0.7716794  0.9094123\n",
       "  V24         V25        V26        V27          V28         Amount Class\n",
       "1  0.06692807  0.1285394 -0.1891148  0.133558377 -0.02105305 149.62 0    \n",
       "2 -0.33984648  0.1671704  0.1258945 -0.008983099  0.01472417   2.69 0    \n",
       "3 -0.68928096 -0.3276418 -0.1390966 -0.055352794 -0.05975184 378.66 0    "
      ]
     },
     "metadata": {},
     "output_type": "display_data"
    }
   ],
   "source": [
    "fulldf%>%head(3)"
   ]
  },
  {
   "cell_type": "code",
   "execution_count": 5,
   "id": "c632b14f",
   "metadata": {},
   "outputs": [
    {
     "data": {
      "text/html": [
       "<ol class=list-inline>\n",
       "\t<li>284807</li>\n",
       "\t<li>31</li>\n",
       "</ol>\n"
      ],
      "text/latex": [
       "\\begin{enumerate*}\n",
       "\\item 284807\n",
       "\\item 31\n",
       "\\end{enumerate*}\n"
      ],
      "text/markdown": [
       "1. 284807\n",
       "2. 31\n",
       "\n",
       "\n"
      ],
      "text/plain": [
       "[1] 284807     31"
      ]
     },
     "metadata": {},
     "output_type": "display_data"
    }
   ],
   "source": [
    "dim(fulldf)"
   ]
  },
  {
   "cell_type": "markdown",
   "id": "9636e1a2",
   "metadata": {},
   "source": [
    "### The dataset contains transactions made by credit cards in September 2013 by European cardholders. The dimension of the dataset is 31 features and 284,807 records. The dataset is highly imbalanced with respect to the percent of records with fraud labels (0.17%) versus records with non-fraud labels (99.83%).  To have feature selection better identify the significant features in the fraudulent cases, under sample the data for feature selection."
   ]
  },
  {
   "cell_type": "markdown",
   "id": "9369065d",
   "metadata": {},
   "source": [
    "### Scaling"
   ]
  },
  {
   "cell_type": "markdown",
   "id": "c8507025",
   "metadata": {},
   "source": [
    "**Note: Data does not need to be scaled because Time removed and all but one remaining feature is a PCA feature.**"
   ]
  },
  {
   "cell_type": "code",
   "execution_count": null,
   "id": "fe77650b",
   "metadata": {},
   "outputs": [],
   "source": []
  },
  {
   "cell_type": "markdown",
   "id": "4115f85d",
   "metadata": {},
   "source": [
    "### Under Sample Data"
   ]
  },
  {
   "cell_type": "code",
   "execution_count": 5,
   "id": "f7e8e25b",
   "metadata": {},
   "outputs": [
    {
     "data": {
      "text/plain": [
       "\n",
       "  0   1 \n",
       "492 492 "
      ]
     },
     "metadata": {},
     "output_type": "display_data"
    }
   ],
   "source": [
    "# Random Under-Sampling (RUS)\n",
    "\n",
    "# set the number of non-fraud records to under sample to\n",
    "n_fraud <- 492\n",
    "new_frac_fraud <- 0.50\n",
    "new_n_total <- n_fraud/new_frac_fraud\n",
    "\n",
    "undersampling_result <- ovun.sample(Class ~ .,\n",
    "                                   data = fulldf,\n",
    "                                   method = \"under\",\n",
    "                                   N = new_n_total,\n",
    "                                   seed =123)\n",
    "\n",
    "undersampled_credit <- undersampling_result$data\n",
    "\n",
    "table(undersampled_credit$Class)"
   ]
  },
  {
   "cell_type": "code",
   "execution_count": null,
   "id": "859c4574",
   "metadata": {},
   "outputs": [],
   "source": []
  },
  {
   "cell_type": "code",
   "execution_count": 6,
   "id": "a06da54b",
   "metadata": {},
   "outputs": [
    {
     "data": {
      "text/html": [
       "<ol class=list-inline>\n",
       "\t<li>984</li>\n",
       "\t<li>31</li>\n",
       "</ol>\n"
      ],
      "text/latex": [
       "\\begin{enumerate*}\n",
       "\\item 984\n",
       "\\item 31\n",
       "\\end{enumerate*}\n"
      ],
      "text/markdown": [
       "1. 984\n",
       "2. 31\n",
       "\n",
       "\n"
      ],
      "text/plain": [
       "[1] 984  31"
      ]
     },
     "metadata": {},
     "output_type": "display_data"
    }
   ],
   "source": [
    "dim(undersampled_credit)"
   ]
  },
  {
   "cell_type": "code",
   "execution_count": null,
   "id": "9e08d968",
   "metadata": {},
   "outputs": [],
   "source": []
  },
  {
   "cell_type": "code",
   "execution_count": 8,
   "id": "13e192ce",
   "metadata": {},
   "outputs": [],
   "source": [
    "write.csv(undersampled_credit,\"C:\\\\Users\\\\trave\\\\1_DSC680_Project3\\\\smallCreditFraud.csv\", row.names = FALSE)"
   ]
  },
  {
   "cell_type": "code",
   "execution_count": null,
   "id": "03de9b3d",
   "metadata": {},
   "outputs": [],
   "source": []
  },
  {
   "cell_type": "code",
   "execution_count": null,
   "id": "e3d1588e",
   "metadata": {},
   "outputs": [],
   "source": []
  },
  {
   "cell_type": "code",
   "execution_count": null,
   "id": "0c04c64b",
   "metadata": {},
   "outputs": [],
   "source": []
  }
 ],
 "metadata": {
  "kernelspec": {
   "display_name": "R",
   "language": "R",
   "name": "ir"
  },
  "language_info": {
   "codemirror_mode": "r",
   "file_extension": ".r",
   "mimetype": "text/x-r-source",
   "name": "R",
   "pygments_lexer": "r",
   "version": "3.6.1"
  }
 },
 "nbformat": 4,
 "nbformat_minor": 5
}
