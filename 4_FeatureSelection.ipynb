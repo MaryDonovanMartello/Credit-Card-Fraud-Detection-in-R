{
 "cells": [
  {
   "cell_type": "markdown",
   "id": "7765faac",
   "metadata": {},
   "source": [
    "# Anomaly Detection"
   ]
  },
  {
   "cell_type": "markdown",
   "id": "8afdf12f",
   "metadata": {},
   "source": [
    "# Mary Donovan Martello"
   ]
  },
  {
   "cell_type": "markdown",
   "id": "a2c9ad19",
   "metadata": {},
   "source": [
    "## Part 4:  Feature Selection"
   ]
  },
  {
   "cell_type": "code",
   "execution_count": null,
   "id": "244bbdaa",
   "metadata": {},
   "outputs": [],
   "source": []
  },
  {
   "cell_type": "code",
   "execution_count": 2,
   "id": "a9751842",
   "metadata": {},
   "outputs": [],
   "source": [
    "# Importing required libraries\n",
    "library(dplyr)\n",
    "library(caret)\n",
    "library(ggplot2)\n",
    "library(caTools)\n",
    "library(ROSE)\n",
    "library(smotefamily)\n",
    "library(rpart)\n",
    "library(rpart.plot)\n",
    "library(psych)\n",
    "library(ltm)\n",
    "library(corrplot)\n",
    "library(e1071)\n",
    "library(data.table)\n",
    "library(Boruta)\n",
    "library(glmnet)\n",
    "\n",
    "suppressMessages(library(dplyr))\n",
    "suppressMessages(library(caTools))\n",
    "suppressMessages(library(ROSE))\n",
    "suppressMessages(library(smotefamily))\n",
    "suppressMessages(library(rpart.plot))\n",
    "suppressMessages(library(psych))\n",
    "suppressMessages(library(ltm))\n",
    "suppressMessages(library(corrplot))\n",
    "suppressMessages(library(e1071))\n",
    "suppressMessages(library(data.table))\n",
    "suppressMessages(library(Boruta))\n",
    "suppressMessages(library(glmnet))"
   ]
  },
  {
   "cell_type": "code",
   "execution_count": 3,
   "id": "96a42f65",
   "metadata": {},
   "outputs": [],
   "source": [
    "#Loading the dataset\n",
    "df<-read.csv(\"underCreditFraud.csv\")"
   ]
  },
  {
   "cell_type": "code",
   "execution_count": 6,
   "id": "940dd171",
   "metadata": {},
   "outputs": [],
   "source": [
    "# Convert class to a factor variable\n",
    "df$Class <- factor(df$Class, levels =  c(0,1))"
   ]
  },
  {
   "cell_type": "code",
   "execution_count": 8,
   "id": "d161830e",
   "metadata": {},
   "outputs": [
    {
     "data": {
      "text/html": [
       "<table>\n",
       "<thead><tr><th scope=col>Time</th><th scope=col>V1</th><th scope=col>V2</th><th scope=col>V3</th><th scope=col>V4</th><th scope=col>V5</th><th scope=col>V6</th><th scope=col>V7</th><th scope=col>V8</th><th scope=col>V9</th><th scope=col>...</th><th scope=col>V21</th><th scope=col>V22</th><th scope=col>V23</th><th scope=col>V24</th><th scope=col>V25</th><th scope=col>V26</th><th scope=col>V27</th><th scope=col>V28</th><th scope=col>Amount</th><th scope=col>Class</th></tr></thead>\n",
       "<tbody>\n",
       "\t<tr><td> 0.7060950 </td><td>-7.1611496 </td><td>-9.5276960 </td><td>-0.7676500 </td><td> 0.8197139 </td><td> 2.68075317</td><td>-3.6924339 </td><td>-3.2287123 </td><td> 0.03399092</td><td> 0.4791680 </td><td>...        </td><td>-1.41172852</td><td>-0.7350073 </td><td>-4.29441913</td><td> 0.46818309</td><td> 0.9408568 </td><td>-0.2294164 </td><td>-0.16228142</td><td>12.31462947</td><td> 1.0510166 </td><td>0          </td></tr>\n",
       "\t<tr><td>-0.2961341 </td><td>-1.3464797 </td><td> 2.0041061 </td><td>-0.2110211 </td><td>-0.0730863 </td><td> 0.38309537</td><td>-0.8884684 </td><td> 1.7183649 </td><td>-1.19713298</td><td> 2.9977536 </td><td>...        </td><td>-0.95558200</td><td> 0.7269934 </td><td>-0.14126942</td><td> 0.55569662</td><td>-0.4104047 </td><td>-1.3103510 </td><td> 0.03389793</td><td>-3.87525466</td><td>-0.3460722 </td><td>0          </td></tr>\n",
       "\t<tr><td>-0.3700262 </td><td> 0.6153610 </td><td>-0.1503378 </td><td> 0.5141724 </td><td> 0.3644025 </td><td>-0.54525864</td><td>-0.1194161 </td><td>-0.3387883 </td><td>-0.05926210</td><td>-1.0561095 </td><td>...        </td><td>-0.66424580</td><td>-1.2722529 </td><td> 0.28351344</td><td> 0.05772905</td><td> 0.2803584 </td><td>-1.2135285 </td><td> 0.20033985</td><td> 0.13881848</td><td>-0.1853094 </td><td>0          </td></tr>\n",
       "\t<tr><td> 0.4064833 </td><td> 0.9763179 </td><td> 0.1727092 </td><td>-0.0280621 </td><td> 2.6135335 </td><td> 0.07388474</td><td> 0.5926719 </td><td>-0.4442438 </td><td> 0.17150681</td><td>-0.2571146 </td><td>...        </td><td> 0.24104838</td><td> 0.8434608 </td><td> 0.25318808</td><td> 0.75303432</td><td>-0.2214362 </td><td> 0.1178566 </td><td> 0.02163840</td><td>-0.09113734</td><td>-0.3532288 </td><td>0          </td></tr>\n",
       "\t<tr><td> 1.0521603 </td><td> 0.0676940 </td><td> 0.4679862 </td><td> 0.4375608 </td><td> 0.7541529 </td><td> 0.16313154</td><td>-0.4026051 </td><td> 0.4801191 </td><td>-0.14077926</td><td>-0.5095993 </td><td>...        </td><td>-0.24041667</td><td>-0.5226028 </td><td> 0.08890892</td><td>-0.10752242</td><td>-1.6660149 </td><td> 1.2531235 </td><td> 0.40241708</td><td> 0.54520090</td><td>-0.3172860 </td><td>0          </td></tr>\n",
       "\t<tr><td>-0.3663622 </td><td> 0.6414456 </td><td>-0.3517435 </td><td> 0.3677919 </td><td>-0.5421759 </td><td>-0.68028328</td><td>-0.2973385 </td><td>-0.4990502 </td><td> 0.03933774</td><td>-1.0176385 </td><td>...        </td><td>-0.03724996</td><td>-0.3734531 </td><td> 0.27131534</td><td> 0.34390779</td><td> 0.1640336 </td><td>-1.0796544 </td><td> 0.03568452</td><td> 0.04686590</td><td>-0.2058996 </td><td>0          </td></tr>\n",
       "</tbody>\n",
       "</table>\n"
      ],
      "text/latex": [
       "\\begin{tabular}{r|lllllllllllllllllllllllllllllll}\n",
       " Time & V1 & V2 & V3 & V4 & V5 & V6 & V7 & V8 & V9 & ... & V21 & V22 & V23 & V24 & V25 & V26 & V27 & V28 & Amount & Class\\\\\n",
       "\\hline\n",
       "\t  0.7060950  & -7.1611496  & -9.5276960  & -0.7676500  &  0.8197139  &  2.68075317 & -3.6924339  & -3.2287123  &  0.03399092 &  0.4791680  & ...         & -1.41172852 & -0.7350073  & -4.29441913 &  0.46818309 &  0.9408568  & -0.2294164  & -0.16228142 & 12.31462947 &  1.0510166  & 0          \\\\\n",
       "\t -0.2961341  & -1.3464797  &  2.0041061  & -0.2110211  & -0.0730863  &  0.38309537 & -0.8884684  &  1.7183649  & -1.19713298 &  2.9977536  & ...         & -0.95558200 &  0.7269934  & -0.14126942 &  0.55569662 & -0.4104047  & -1.3103510  &  0.03389793 & -3.87525466 & -0.3460722  & 0          \\\\\n",
       "\t -0.3700262  &  0.6153610  & -0.1503378  &  0.5141724  &  0.3644025  & -0.54525864 & -0.1194161  & -0.3387883  & -0.05926210 & -1.0561095  & ...         & -0.66424580 & -1.2722529  &  0.28351344 &  0.05772905 &  0.2803584  & -1.2135285  &  0.20033985 &  0.13881848 & -0.1853094  & 0          \\\\\n",
       "\t  0.4064833  &  0.9763179  &  0.1727092  & -0.0280621  &  2.6135335  &  0.07388474 &  0.5926719  & -0.4442438  &  0.17150681 & -0.2571146  & ...         &  0.24104838 &  0.8434608  &  0.25318808 &  0.75303432 & -0.2214362  &  0.1178566  &  0.02163840 & -0.09113734 & -0.3532288  & 0          \\\\\n",
       "\t  1.0521603  &  0.0676940  &  0.4679862  &  0.4375608  &  0.7541529  &  0.16313154 & -0.4026051  &  0.4801191  & -0.14077926 & -0.5095993  & ...         & -0.24041667 & -0.5226028  &  0.08890892 & -0.10752242 & -1.6660149  &  1.2531235  &  0.40241708 &  0.54520090 & -0.3172860  & 0          \\\\\n",
       "\t -0.3663622  &  0.6414456  & -0.3517435  &  0.3677919  & -0.5421759  & -0.68028328 & -0.2973385  & -0.4990502  &  0.03933774 & -1.0176385  & ...         & -0.03724996 & -0.3734531  &  0.27131534 &  0.34390779 &  0.1640336  & -1.0796544  &  0.03568452 &  0.04686590 & -0.2058996  & 0          \\\\\n",
       "\\end{tabular}\n"
      ],
      "text/markdown": [
       "\n",
       "| Time | V1 | V2 | V3 | V4 | V5 | V6 | V7 | V8 | V9 | ... | V21 | V22 | V23 | V24 | V25 | V26 | V27 | V28 | Amount | Class |\n",
       "|---|---|---|---|---|---|---|---|---|---|---|---|---|---|---|---|---|---|---|---|---|\n",
       "|  0.7060950  | -7.1611496  | -9.5276960  | -0.7676500  |  0.8197139  |  2.68075317 | -3.6924339  | -3.2287123  |  0.03399092 |  0.4791680  | ...         | -1.41172852 | -0.7350073  | -4.29441913 |  0.46818309 |  0.9408568  | -0.2294164  | -0.16228142 | 12.31462947 |  1.0510166  | 0           |\n",
       "| -0.2961341  | -1.3464797  |  2.0041061  | -0.2110211  | -0.0730863  |  0.38309537 | -0.8884684  |  1.7183649  | -1.19713298 |  2.9977536  | ...         | -0.95558200 |  0.7269934  | -0.14126942 |  0.55569662 | -0.4104047  | -1.3103510  |  0.03389793 | -3.87525466 | -0.3460722  | 0           |\n",
       "| -0.3700262  |  0.6153610  | -0.1503378  |  0.5141724  |  0.3644025  | -0.54525864 | -0.1194161  | -0.3387883  | -0.05926210 | -1.0561095  | ...         | -0.66424580 | -1.2722529  |  0.28351344 |  0.05772905 |  0.2803584  | -1.2135285  |  0.20033985 |  0.13881848 | -0.1853094  | 0           |\n",
       "|  0.4064833  |  0.9763179  |  0.1727092  | -0.0280621  |  2.6135335  |  0.07388474 |  0.5926719  | -0.4442438  |  0.17150681 | -0.2571146  | ...         |  0.24104838 |  0.8434608  |  0.25318808 |  0.75303432 | -0.2214362  |  0.1178566  |  0.02163840 | -0.09113734 | -0.3532288  | 0           |\n",
       "|  1.0521603  |  0.0676940  |  0.4679862  |  0.4375608  |  0.7541529  |  0.16313154 | -0.4026051  |  0.4801191  | -0.14077926 | -0.5095993  | ...         | -0.24041667 | -0.5226028  |  0.08890892 | -0.10752242 | -1.6660149  |  1.2531235  |  0.40241708 |  0.54520090 | -0.3172860  | 0           |\n",
       "| -0.3663622  |  0.6414456  | -0.3517435  |  0.3677919  | -0.5421759  | -0.68028328 | -0.2973385  | -0.4990502  |  0.03933774 | -1.0176385  | ...         | -0.03724996 | -0.3734531  |  0.27131534 |  0.34390779 |  0.1640336  | -1.0796544  |  0.03568452 |  0.04686590 | -0.2058996  | 0           |\n",
       "\n"
      ],
      "text/plain": [
       "  Time       V1         V2         V3         V4         V5          V6        \n",
       "1  0.7060950 -7.1611496 -9.5276960 -0.7676500  0.8197139  2.68075317 -3.6924339\n",
       "2 -0.2961341 -1.3464797  2.0041061 -0.2110211 -0.0730863  0.38309537 -0.8884684\n",
       "3 -0.3700262  0.6153610 -0.1503378  0.5141724  0.3644025 -0.54525864 -0.1194161\n",
       "4  0.4064833  0.9763179  0.1727092 -0.0280621  2.6135335  0.07388474  0.5926719\n",
       "5  1.0521603  0.0676940  0.4679862  0.4375608  0.7541529  0.16313154 -0.4026051\n",
       "6 -0.3663622  0.6414456 -0.3517435  0.3677919 -0.5421759 -0.68028328 -0.2973385\n",
       "  V7         V8          V9         ... V21         V22        V23        \n",
       "1 -3.2287123  0.03399092  0.4791680 ... -1.41172852 -0.7350073 -4.29441913\n",
       "2  1.7183649 -1.19713298  2.9977536 ... -0.95558200  0.7269934 -0.14126942\n",
       "3 -0.3387883 -0.05926210 -1.0561095 ... -0.66424580 -1.2722529  0.28351344\n",
       "4 -0.4442438  0.17150681 -0.2571146 ...  0.24104838  0.8434608  0.25318808\n",
       "5  0.4801191 -0.14077926 -0.5095993 ... -0.24041667 -0.5226028  0.08890892\n",
       "6 -0.4990502  0.03933774 -1.0176385 ... -0.03724996 -0.3734531  0.27131534\n",
       "  V24         V25        V26        V27         V28         Amount     Class\n",
       "1  0.46818309  0.9408568 -0.2294164 -0.16228142 12.31462947  1.0510166 0    \n",
       "2  0.55569662 -0.4104047 -1.3103510  0.03389793 -3.87525466 -0.3460722 0    \n",
       "3  0.05772905  0.2803584 -1.2135285  0.20033985  0.13881848 -0.1853094 0    \n",
       "4  0.75303432 -0.2214362  0.1178566  0.02163840 -0.09113734 -0.3532288 0    \n",
       "5 -0.10752242 -1.6660149  1.2531235  0.40241708  0.54520090 -0.3172860 0    \n",
       "6  0.34390779  0.1640336 -1.0796544  0.03568452  0.04686590 -0.2058996 0    "
      ]
     },
     "metadata": {},
     "output_type": "display_data"
    }
   ],
   "source": [
    "df%>%head()"
   ]
  },
  {
   "cell_type": "code",
   "execution_count": 9,
   "id": "d7aeb010",
   "metadata": {},
   "outputs": [
    {
     "data": {
      "text/html": [
       "<ol class=list-inline>\n",
       "\t<li>984</li>\n",
       "\t<li>31</li>\n",
       "</ol>\n"
      ],
      "text/latex": [
       "\\begin{enumerate*}\n",
       "\\item 984\n",
       "\\item 31\n",
       "\\end{enumerate*}\n"
      ],
      "text/markdown": [
       "1. 984\n",
       "2. 31\n",
       "\n",
       "\n"
      ],
      "text/plain": [
       "[1] 984  31"
      ]
     },
     "metadata": {},
     "output_type": "display_data"
    }
   ],
   "source": [
    "dim(df)"
   ]
  },
  {
   "cell_type": "code",
   "execution_count": 10,
   "id": "1bc18c95",
   "metadata": {},
   "outputs": [
    {
     "data": {
      "text/html": [
       "0"
      ],
      "text/latex": [
       "0"
      ],
      "text/markdown": [
       "0"
      ],
      "text/plain": [
       "[1] 0"
      ]
     },
     "metadata": {},
     "output_type": "display_data"
    }
   ],
   "source": [
    "# Count the missing values\n",
    "sum(is.null(df))"
   ]
  },
  {
   "cell_type": "code",
   "execution_count": 11,
   "id": "81f9bec8",
   "metadata": {},
   "outputs": [
    {
     "data": {
      "text/plain": [
       "\n",
       "  0   1 \n",
       "492 492 "
      ]
     },
     "metadata": {},
     "output_type": "display_data"
    }
   ],
   "source": [
    "# Get the distribution of fraud and non-fraud transactions in the dataset\n",
    "table(df$Class)"
   ]
  },
  {
   "cell_type": "code",
   "execution_count": 12,
   "id": "685a5c8e",
   "metadata": {},
   "outputs": [
    {
     "data": {
      "text/plain": [
       "\n",
       "  0   1 \n",
       "0.5 0.5 "
      ]
     },
     "metadata": {},
     "output_type": "display_data"
    }
   ],
   "source": [
    "# Get the percentage of fraud and legit transactions in the datasets\n",
    "prop.table(table(df$Class))"
   ]
  },
  {
   "cell_type": "code",
   "execution_count": 13,
   "id": "fda93612",
   "metadata": {},
   "outputs": [],
   "source": [
    "# turns off scientific notation\n",
    "options(scipen = 999)"
   ]
  },
  {
   "cell_type": "code",
   "execution_count": null,
   "id": "5434d852",
   "metadata": {},
   "outputs": [],
   "source": []
  },
  {
   "cell_type": "markdown",
   "id": "daac730c",
   "metadata": {},
   "source": [
    "### Scale Data"
   ]
  },
  {
   "cell_type": "code",
   "execution_count": null,
   "id": "8fe8543e",
   "metadata": {},
   "outputs": [],
   "source": [
    "# remove the target variable\n",
    "numDf <- df[, (1:30)]\n",
    "\n",
    "# scale\n",
    "scaledDf <- scale(numDf, center = TRUE, scale = TRUE)\n",
    "\n",
    "# add target variable back to the df\n",
    "Class <- df$Class\n",
    "Class <- as.data.table(Class)\n",
    "df <- cbind(scaledDf, Class)"
   ]
  },
  {
   "cell_type": "code",
   "execution_count": null,
   "id": "182b0b32",
   "metadata": {},
   "outputs": [],
   "source": []
  },
  {
   "cell_type": "code",
   "execution_count": null,
   "id": "06d4f046",
   "metadata": {},
   "outputs": [],
   "source": []
  },
  {
   "cell_type": "markdown",
   "id": "410a618e",
   "metadata": {},
   "source": [
    "### Feature Selection"
   ]
  },
  {
   "cell_type": "code",
   "execution_count": 14,
   "id": "950b0106",
   "metadata": {},
   "outputs": [
    {
     "data": {
      "text/html": [],
      "text/latex": [],
      "text/markdown": [],
      "text/plain": [
       "integer(0)"
      ]
     },
     "metadata": {},
     "output_type": "display_data"
    }
   ],
   "source": [
    "# Remove Zero and Near Zero-Variance Predictors\n",
    "#    install.packages(\"caret\")\n",
    "#library(caret)\n",
    "nzv <- nearZeroVar(df)\n",
    "nzv"
   ]
  },
  {
   "cell_type": "code",
   "execution_count": 15,
   "id": "a39c6474",
   "metadata": {},
   "outputs": [
    {
     "name": "stdout",
     "output_type": "stream",
     "text": [
      " int(0) \n"
     ]
    }
   ],
   "source": [
    "str(nzv)"
   ]
  },
  {
   "cell_type": "code",
   "execution_count": 16,
   "id": "0c5f3475",
   "metadata": {},
   "outputs": [
    {
     "name": "stdout",
     "output_type": "stream",
     "text": [
      " int(0) \n"
     ]
    }
   ],
   "source": [
    "str(-nzv)"
   ]
  },
  {
   "cell_type": "code",
   "execution_count": 103,
   "id": "f4346b18",
   "metadata": {},
   "outputs": [],
   "source": []
  },
  {
   "cell_type": "code",
   "execution_count": 17,
   "id": "0c8f1a55",
   "metadata": {},
   "outputs": [
    {
     "name": "stdout",
     "output_type": "stream",
     "text": [
      "ROC curve variable importance\n",
      "\n",
      "  only 20 most important variables shown (out of 30)\n",
      "\n",
      "    Importance\n",
      "V14     0.9495\n",
      "V4      0.9458\n",
      "V12     0.9369\n",
      "V11     0.9195\n",
      "V10     0.9180\n",
      "V3      0.9139\n",
      "V2      0.8603\n",
      "V16     0.8475\n",
      "V7      0.8355\n",
      "V9      0.8322\n",
      "V17     0.8073\n",
      "V1      0.7883\n",
      "V6      0.7624\n",
      "V21     0.7443\n",
      "V18     0.7377\n",
      "V5      0.6983\n",
      "V27     0.6979\n",
      "V8      0.6580\n",
      "V20     0.6501\n",
      "V19     0.6408\n"
     ]
    },
    {
     "data": {
      "image/png": "[encoded data removed]",
      "text/plain": [
       "plot without title"
      ]
     },
     "metadata": {},
     "output_type": "display_data"
    }
   ],
   "source": [
    "# Rank Features By Importance\n",
    "#  Learning Vector Quantization (LVQ) model. \n",
    "# prepare training scheme\n",
    "control <- trainControl(method=\"repeatedcv\", number=10, repeats=3)\n",
    "# train the model\n",
    "modelLVQ <- train(Class~., data=df, method=\"lvq\", preProcess=\"scale\", trControl=control)\n",
    "# estimate variable importance\n",
    "importance <- varImp(modelLVQ, scale=FALSE)\n",
    "# summarize importance\n",
    "print(importance)\n",
    "# plot importance\n",
    "plot(importance)"
   ]
  },
  {
   "cell_type": "code",
   "execution_count": null,
   "id": "e5318b64",
   "metadata": {},
   "outputs": [],
   "source": [
    "#  Recursive Feature Elimination \n",
    "# A Random Forest algorithm is used on each iteration to evaluate the model. The algorithm is configured to explore all possible subsets of the attributes.\n",
    "# https://machinelearningmastery.com/feature-selection-with-the-caret-r-package/\n"
   ]
  },
  {
   "cell_type": "code",
   "execution_count": 18,
   "id": "577fb528",
   "metadata": {},
   "outputs": [
    {
     "data": {
      "text/html": [
       "<ol class=list-inline>\n",
       "\t<li>984</li>\n",
       "\t<li>31</li>\n",
       "</ol>\n"
      ],
      "text/latex": [
       "\\begin{enumerate*}\n",
       "\\item 984\n",
       "\\item 31\n",
       "\\end{enumerate*}\n"
      ],
      "text/markdown": [
       "1. 984\n",
       "2. 31\n",
       "\n",
       "\n"
      ],
      "text/plain": [
       "[1] 984  31"
      ]
     },
     "metadata": {},
     "output_type": "display_data"
    }
   ],
   "source": [
    "dim(df)"
   ]
  },
  {
   "cell_type": "code",
   "execution_count": 19,
   "id": "4d633dbd",
   "metadata": {},
   "outputs": [
    {
     "name": "stdout",
     "output_type": "stream",
     "text": [
      "\n",
      "Recursive feature selection\n",
      "\n",
      "Outer resampling method: Cross-Validated (10 fold) \n",
      "\n",
      "Resampling performance over subset size:\n",
      "\n",
      " Variables Accuracy  Kappa AccuracySD KappaSD Selected\n",
      "         1   0.8393 0.6787    0.03536 0.07073         \n",
      "         2   0.9187 0.8374    0.02869 0.05739         \n",
      "         3   0.9330 0.8659    0.03026 0.06053         \n",
      "         4   0.9451 0.8903    0.02873 0.05744         \n",
      "         5   0.9461 0.8923    0.02742 0.05484         \n",
      "         6   0.9421 0.8842    0.02693 0.05389         \n",
      "         7   0.9411 0.8822    0.02725 0.05449         \n",
      "         8   0.9421 0.8842    0.02973 0.05946         \n",
      "         9   0.9431 0.8862    0.02944 0.05887         \n",
      "        10   0.9370 0.8740    0.02973 0.05945         \n",
      "        11   0.9441 0.8883    0.02984 0.05966         \n",
      "        12   0.9431 0.8862    0.02824 0.05645         \n",
      "        13   0.9462 0.8924    0.02814 0.05627         \n",
      "        14   0.9451 0.8903    0.02438 0.04877         \n",
      "        15   0.9472 0.8944    0.02511 0.05022         \n",
      "        16   0.9482 0.8965    0.02909 0.05817        *\n",
      "        17   0.9441 0.8883    0.02662 0.05325         \n",
      "        18   0.9462 0.8924    0.02737 0.05473         \n",
      "        19   0.9441 0.8882    0.02716 0.05434         \n",
      "        20   0.9462 0.8923    0.02614 0.05228         \n",
      "        21   0.9441 0.8883    0.02619 0.05236         \n",
      "        22   0.9441 0.8883    0.02790 0.05578         \n",
      "        23   0.9441 0.8882    0.02535 0.05070         \n",
      "        24   0.9441 0.8883    0.02790 0.05578         \n",
      "        25   0.9451 0.8903    0.02621 0.05243         \n",
      "        26   0.9431 0.8862    0.02989 0.05977         \n",
      "        27   0.9451 0.8903    0.02577 0.05154         \n",
      "        28   0.9441 0.8883    0.02951 0.05901         \n",
      "        29   0.9431 0.8862    0.02753 0.05506         \n",
      "        30   0.9452 0.8903    0.02909 0.05819         \n",
      "\n",
      "The top 5 variables (out of 16):\n",
      "   V4, V14, V10, V12, V17\n",
      "\n"
     ]
    },
    {
     "data": {
      "text/html": [
       "<ol class=list-inline>\n",
       "\t<li>'V4'</li>\n",
       "\t<li>'V14'</li>\n",
       "\t<li>'V10'</li>\n",
       "\t<li>'V12'</li>\n",
       "\t<li>'V17'</li>\n",
       "\t<li>'V11'</li>\n",
       "\t<li>'V3'</li>\n",
       "\t<li>'V19'</li>\n",
       "\t<li>'V16'</li>\n",
       "\t<li>'V20'</li>\n",
       "\t<li>'Amount'</li>\n",
       "\t<li>'V8'</li>\n",
       "\t<li>'V23'</li>\n",
       "\t<li>'V7'</li>\n",
       "\t<li>'V21'</li>\n",
       "\t<li>'V1'</li>\n",
       "</ol>\n"
      ],
      "text/latex": [
       "\\begin{enumerate*}\n",
       "\\item 'V4'\n",
       "\\item 'V14'\n",
       "\\item 'V10'\n",
       "\\item 'V12'\n",
       "\\item 'V17'\n",
       "\\item 'V11'\n",
       "\\item 'V3'\n",
       "\\item 'V19'\n",
       "\\item 'V16'\n",
       "\\item 'V20'\n",
       "\\item 'Amount'\n",
       "\\item 'V8'\n",
       "\\item 'V23'\n",
       "\\item 'V7'\n",
       "\\item 'V21'\n",
       "\\item 'V1'\n",
       "\\end{enumerate*}\n"
      ],
      "text/markdown": [
       "1. 'V4'\n",
       "2. 'V14'\n",
       "3. 'V10'\n",
       "4. 'V12'\n",
       "5. 'V17'\n",
       "6. 'V11'\n",
       "7. 'V3'\n",
       "8. 'V19'\n",
       "9. 'V16'\n",
       "10. 'V20'\n",
       "11. 'Amount'\n",
       "12. 'V8'\n",
       "13. 'V23'\n",
       "14. 'V7'\n",
       "15. 'V21'\n",
       "16. 'V1'\n",
       "\n",
       "\n"
      ],
      "text/plain": [
       " [1] \"V4\"     \"V14\"    \"V10\"    \"V12\"    \"V17\"    \"V11\"    \"V3\"     \"V19\"   \n",
       " [9] \"V16\"    \"V20\"    \"Amount\" \"V8\"     \"V23\"    \"V7\"     \"V21\"    \"V1\"    "
      ]
     },
     "metadata": {},
     "output_type": "display_data"
    },
    {
     "data": {
      "image/png": "[encoded data removed]",
      "text/plain": [
       "plot without title"
      ]
     },
     "metadata": {},
     "output_type": "display_data"
    }
   ],
   "source": [
    "# define the control using a random forest selection function\n",
    "control <- rfeControl(functions=rfFuncs, method=\"cv\", number=10)\n",
    "# run the RFE algorithm\n",
    "results <- rfe(df[,1:30], df[,31], sizes=c(1:30), rfeControl=control)\n",
    "# summarize the results\n",
    "print(results)\n",
    "# list the chosen features\n",
    "predictors(results)\n",
    "# plot the results\n",
    "plot(results, type=c(\"g\", \"o\"))"
   ]
  },
  {
   "cell_type": "code",
   "execution_count": 36,
   "id": "81eba9cf",
   "metadata": {},
   "outputs": [
    {
     "name": "stdout",
     "output_type": "stream",
     "text": [
      "\n",
      "Recursive feature selection\n",
      "\n",
      "Outer resampling method: Cross-Validated (10 fold) \n",
      "\n",
      "Resampling performance over subset size:\n",
      "\n",
      " Variables Accuracy  Kappa AccuracySD KappaSD Selected\n",
      "         1   0.8364 0.6728    0.05360 0.10718         \n",
      "         2   0.9238 0.8476    0.02910 0.05826         \n",
      "         3   0.9350 0.8700    0.02532 0.05066         \n",
      "         4   0.9411 0.8821    0.02704 0.05411        *\n",
      "         5   0.9391 0.8781    0.03165 0.06334         \n",
      "        10   0.9350 0.8700    0.03912 0.07831         \n",
      "        15   0.9380 0.8760    0.03589 0.07184         \n",
      "        18   0.9370 0.8740    0.03630 0.07267         \n",
      "        30   0.9370 0.8740    0.03439 0.06884         \n",
      "\n",
      "The top 4 variables (out of 4):\n",
      "   V4, V14, V10, V12\n",
      "\n"
     ]
    },
    {
     "data": {
      "text/html": [
       "<ol class=list-inline>\n",
       "\t<li>'V4'</li>\n",
       "\t<li>'V14'</li>\n",
       "\t<li>'V10'</li>\n",
       "\t<li>'V12'</li>\n",
       "</ol>\n"
      ],
      "text/latex": [
       "\\begin{enumerate*}\n",
       "\\item 'V4'\n",
       "\\item 'V14'\n",
       "\\item 'V10'\n",
       "\\item 'V12'\n",
       "\\end{enumerate*}\n"
      ],
      "text/markdown": [
       "1. 'V4'\n",
       "2. 'V14'\n",
       "3. 'V10'\n",
       "4. 'V12'\n",
       "\n",
       "\n"
      ],
      "text/plain": [
       "[1] \"V4\"  \"V14\" \"V10\" \"V12\""
      ]
     },
     "metadata": {},
     "output_type": "display_data"
    },
    {
     "data": {
      "image/png": "[encoded data removed]",
      "text/plain": [
       "plot without title"
      ]
     },
     "metadata": {},
     "output_type": "display_data"
    }
   ],
   "source": [
    "# define the control using a random forest selection function\n",
    "control <- rfeControl(functions=rfFuncs, method=\"cv\", number=10)\n",
    "# run the RFE algorithm\n",
    "# The sizes determines the number of most important features the rfe should iterate. Below, I have set the size as 1 to 5, 10, 15 and 18.\n",
    "subsets <- c(1:5, 10, 15, 18)\n",
    "results <- rfe(df[,1:30], df[,31], sizes=subsets, rfeControl=control)\n",
    "# summarize the results\n",
    "print(results)\n",
    "# list the chosen features\n",
    "predictors(results)\n",
    "# plot the results\n",
    "plot(results, type=c(\"g\", \"o\"))"
   ]
  },
  {
   "cell_type": "code",
   "execution_count": null,
   "id": "081377bd",
   "metadata": {},
   "outputs": [],
   "source": []
  },
  {
   "cell_type": "code",
   "execution_count": null,
   "id": "468a0843",
   "metadata": {},
   "outputs": [],
   "source": []
  },
  {
   "cell_type": "markdown",
   "id": "94060aa8",
   "metadata": {},
   "source": [
    "**Boruta**"
   ]
  },
  {
   "cell_type": "code",
   "execution_count": 27,
   "id": "b36be45a",
   "metadata": {},
   "outputs": [],
   "source": [
    "# Perform Boruta search\n",
    "boruta_output <- Boruta(Class ~ ., data=na.omit(df), doTrace=0)"
   ]
  },
  {
   "cell_type": "code",
   "execution_count": 28,
   "id": "68235487",
   "metadata": {},
   "outputs": [
    {
     "data": {
      "text/html": [
       "<ol class=list-inline>\n",
       "\t<li>'finalDecision'</li>\n",
       "\t<li>'ImpHistory'</li>\n",
       "\t<li>'pValue'</li>\n",
       "\t<li>'maxRuns'</li>\n",
       "\t<li>'light'</li>\n",
       "\t<li>'mcAdj'</li>\n",
       "\t<li>'timeTaken'</li>\n",
       "\t<li>'roughfixed'</li>\n",
       "\t<li>'call'</li>\n",
       "\t<li>'impSource'</li>\n",
       "</ol>\n"
      ],
      "text/latex": [
       "\\begin{enumerate*}\n",
       "\\item 'finalDecision'\n",
       "\\item 'ImpHistory'\n",
       "\\item 'pValue'\n",
       "\\item 'maxRuns'\n",
       "\\item 'light'\n",
       "\\item 'mcAdj'\n",
       "\\item 'timeTaken'\n",
       "\\item 'roughfixed'\n",
       "\\item 'call'\n",
       "\\item 'impSource'\n",
       "\\end{enumerate*}\n"
      ],
      "text/markdown": [
       "1. 'finalDecision'\n",
       "2. 'ImpHistory'\n",
       "3. 'pValue'\n",
       "4. 'maxRuns'\n",
       "5. 'light'\n",
       "6. 'mcAdj'\n",
       "7. 'timeTaken'\n",
       "8. 'roughfixed'\n",
       "9. 'call'\n",
       "10. 'impSource'\n",
       "\n",
       "\n"
      ],
      "text/plain": [
       " [1] \"finalDecision\" \"ImpHistory\"    \"pValue\"        \"maxRuns\"      \n",
       " [5] \"light\"         \"mcAdj\"         \"timeTaken\"     \"roughfixed\"   \n",
       " [9] \"call\"          \"impSource\"    "
      ]
     },
     "metadata": {},
     "output_type": "display_data"
    }
   ],
   "source": [
    "names(boruta_output)"
   ]
  },
  {
   "cell_type": "code",
   "execution_count": 29,
   "id": "8e1f7380",
   "metadata": {},
   "outputs": [
    {
     "name": "stdout",
     "output_type": "stream",
     "text": [
      " [1] \"V1\"     \"V2\"     \"V3\"     \"V4\"     \"V5\"     \"V6\"     \"V7\"     \"V8\"    \n",
      " [9] \"V9\"     \"V10\"    \"V11\"    \"V12\"    \"V13\"    \"V14\"    \"V15\"    \"V16\"   \n",
      "[17] \"V17\"    \"V18\"    \"V19\"    \"V20\"    \"V21\"    \"V22\"    \"V23\"    \"V25\"   \n",
      "[25] \"V26\"    \"V27\"    \"V28\"    \"Amount\"\n"
     ]
    }
   ],
   "source": [
    "# Get significant variables including tentatives\n",
    "boruta_signif <- getSelectedAttributes(boruta_output, withTentative = TRUE)\n",
    "print(boruta_signif) "
   ]
  },
  {
   "cell_type": "code",
   "execution_count": 30,
   "id": "126383ad",
   "metadata": {},
   "outputs": [
    {
     "name": "stdout",
     "output_type": "stream",
     "text": [
      " [1] \"V1\"     \"V2\"     \"V3\"     \"V4\"     \"V5\"     \"V6\"     \"V7\"     \"V8\"    \n",
      " [9] \"V9\"     \"V10\"    \"V11\"    \"V12\"    \"V14\"    \"V16\"    \"V17\"    \"V18\"   \n",
      "[17] \"V19\"    \"V20\"    \"V21\"    \"V22\"    \"V23\"    \"V25\"    \"V26\"    \"V27\"   \n",
      "[25] \"V28\"    \"Amount\"\n"
     ]
    }
   ],
   "source": [
    "# Do a tentative rough fix\n",
    "roughFixMod <- TentativeRoughFix(boruta_output)\n",
    "boruta_signif <- getSelectedAttributes(roughFixMod)\n",
    "print(boruta_signif)"
   ]
  },
  {
   "cell_type": "code",
   "execution_count": 31,
   "id": "c23af8c8",
   "metadata": {},
   "outputs": [
    {
     "data": {
      "text/html": [
       "<table>\n",
       "<thead><tr><th></th><th scope=col>meanImp</th><th scope=col>decision</th></tr></thead>\n",
       "<tbody>\n",
       "\t<tr><th scope=row>V4</th><td>26.66816 </td><td>Confirmed</td></tr>\n",
       "\t<tr><th scope=row>V14</th><td>24.12718 </td><td>Confirmed</td></tr>\n",
       "\t<tr><th scope=row>V10</th><td>18.67462 </td><td>Confirmed</td></tr>\n",
       "\t<tr><th scope=row>V12</th><td>17.27650 </td><td>Confirmed</td></tr>\n",
       "\t<tr><th scope=row>V11</th><td>14.97228 </td><td>Confirmed</td></tr>\n",
       "\t<tr><th scope=row>V17</th><td>14.17940 </td><td>Confirmed</td></tr>\n",
       "</tbody>\n",
       "</table>\n"
      ],
      "text/latex": [
       "\\begin{tabular}{r|ll}\n",
       "  & meanImp & decision\\\\\n",
       "\\hline\n",
       "\tV4 & 26.66816  & Confirmed\\\\\n",
       "\tV14 & 24.12718  & Confirmed\\\\\n",
       "\tV10 & 18.67462  & Confirmed\\\\\n",
       "\tV12 & 17.27650  & Confirmed\\\\\n",
       "\tV11 & 14.97228  & Confirmed\\\\\n",
       "\tV17 & 14.17940  & Confirmed\\\\\n",
       "\\end{tabular}\n"
      ],
      "text/markdown": [
       "\n",
       "| <!--/--> | meanImp | decision |\n",
       "|---|---|---|\n",
       "| V4 | 26.66816  | Confirmed |\n",
       "| V14 | 24.12718  | Confirmed |\n",
       "| V10 | 18.67462  | Confirmed |\n",
       "| V12 | 17.27650  | Confirmed |\n",
       "| V11 | 14.97228  | Confirmed |\n",
       "| V17 | 14.17940  | Confirmed |\n",
       "\n"
      ],
      "text/plain": [
       "    meanImp  decision \n",
       "V4  26.66816 Confirmed\n",
       "V14 24.12718 Confirmed\n",
       "V10 18.67462 Confirmed\n",
       "V12 17.27650 Confirmed\n",
       "V11 14.97228 Confirmed\n",
       "V17 14.17940 Confirmed"
      ]
     },
     "metadata": {},
     "output_type": "display_data"
    }
   ],
   "source": [
    "# Variable Importance Scores\n",
    "imps <- attStats(roughFixMod)\n",
    "imps2 = imps[imps$decision != 'Rejected', c('meanImp', 'decision')]\n",
    "head(imps2[order(-imps2$meanImp), ])  # descending sort"
   ]
  },
  {
   "cell_type": "markdown",
   "id": "9fcca386",
   "metadata": {},
   "source": [
    "**Lasso Regression**"
   ]
  },
  {
   "cell_type": "code",
   "execution_count": 34,
   "id": "e0bc6948",
   "metadata": {},
   "outputs": [
    {
     "name": "stderr",
     "output_type": "stream",
     "text": [
      "Warning message:\n",
      "\"executing %dopar% sequentially: no parallel backend registered\""
     ]
    },
    {
     "data": {
      "image/png": "[encoded data removed]",
      "text/plain": [
       "plot without title"
      ]
     },
     "metadata": {},
     "output_type": "display_data"
    }
   ],
   "source": [
    "x <- as.matrix(df[,-31]) # all X vars\n",
    "#y <- as.double(as.matrix(ifelse(df[, 31]=='normal', 0, 1))) # Only Class\n",
    "y <- df[, 31]\n",
    "\n",
    "# Fit the LASSO model (Lasso: Alpha = 1)\n",
    "set.seed(100)\n",
    "cv.lasso <- cv.glmnet(x, y, family='binomial', alpha=1, parallel=TRUE, standardize=TRUE, type.measure='auc')\n",
    "\n",
    "# Results\n",
    "plot(cv.lasso)"
   ]
  },
  {
   "cell_type": "code",
   "execution_count": 35,
   "id": "d3178409",
   "metadata": {},
   "outputs": [
    {
     "name": "stdout",
     "output_type": "stream",
     "text": [
      "Min Lambda:  0.00224807 \n",
      " 1Sd Lambda:  0.0230097"
     ]
    },
    {
     "data": {
      "text/html": [
       "<dl class=dl-horizontal>\n",
       "\t<dt>(Intercept)</dt>\n",
       "\t\t<dd>-2.8</dd>\n",
       "\t<dt>Time</dt>\n",
       "\t\t<dd>-0.16</dd>\n",
       "\t<dt>V3</dt>\n",
       "\t\t<dd>-0.07</dd>\n",
       "\t<dt>V4</dt>\n",
       "\t\t<dd>1.06</dd>\n",
       "\t<dt>V5</dt>\n",
       "\t\t<dd>0.27</dd>\n",
       "\t<dt>V6</dt>\n",
       "\t\t<dd>-0.23</dd>\n",
       "\t<dt>V8</dt>\n",
       "\t\t<dd>-0.23</dd>\n",
       "\t<dt>V9</dt>\n",
       "\t\t<dd>-0.05</dd>\n",
       "\t<dt>V10</dt>\n",
       "\t\t<dd>-0.4</dd>\n",
       "\t<dt>V11</dt>\n",
       "\t\t<dd>0.17</dd>\n",
       "\t<dt>V12</dt>\n",
       "\t\t<dd>-0.5</dd>\n",
       "\t<dt>V13</dt>\n",
       "\t\t<dd>-0.23</dd>\n",
       "\t<dt>V14</dt>\n",
       "\t\t<dd>-0.65</dd>\n",
       "\t<dt>V15</dt>\n",
       "\t\t<dd>-0.04</dd>\n",
       "\t<dt>V18</dt>\n",
       "\t\t<dd>0.02</dd>\n",
       "\t<dt>V19</dt>\n",
       "\t\t<dd>-0.01</dd>\n",
       "\t<dt>V20</dt>\n",
       "\t\t<dd>-0.05</dd>\n",
       "\t<dt>V22</dt>\n",
       "\t\t<dd>0.12</dd>\n",
       "\t<dt>V23</dt>\n",
       "\t\t<dd>0.03</dd>\n",
       "\t<dt>V26</dt>\n",
       "\t\t<dd>-0.17</dd>\n",
       "\t<dt>V28</dt>\n",
       "\t\t<dd>-0.05</dd>\n",
       "\t<dt>Amount</dt>\n",
       "\t\t<dd>0.21</dd>\n",
       "</dl>\n"
      ],
      "text/latex": [
       "\\begin{description*}\n",
       "\\item[(Intercept)] -2.8\n",
       "\\item[Time] -0.16\n",
       "\\item[V3] -0.07\n",
       "\\item[V4] 1.06\n",
       "\\item[V5] 0.27\n",
       "\\item[V6] -0.23\n",
       "\\item[V8] -0.23\n",
       "\\item[V9] -0.05\n",
       "\\item[V10] -0.4\n",
       "\\item[V11] 0.17\n",
       "\\item[V12] -0.5\n",
       "\\item[V13] -0.23\n",
       "\\item[V14] -0.65\n",
       "\\item[V15] -0.04\n",
       "\\item[V18] 0.02\n",
       "\\item[V19] -0.01\n",
       "\\item[V20] -0.05\n",
       "\\item[V22] 0.12\n",
       "\\item[V23] 0.03\n",
       "\\item[V26] -0.17\n",
       "\\item[V28] -0.05\n",
       "\\item[Amount] 0.21\n",
       "\\end{description*}\n"
      ],
      "text/markdown": [
       "(Intercept)\n",
       ":   -2.8Time\n",
       ":   -0.16V3\n",
       ":   -0.07V4\n",
       ":   1.06V5\n",
       ":   0.27V6\n",
       ":   -0.23V8\n",
       ":   -0.23V9\n",
       ":   -0.05V10\n",
       ":   -0.4V11\n",
       ":   0.17V12\n",
       ":   -0.5V13\n",
       ":   -0.23V14\n",
       ":   -0.65V15\n",
       ":   -0.04V18\n",
       ":   0.02V19\n",
       ":   -0.01V20\n",
       ":   -0.05V22\n",
       ":   0.12V23\n",
       ":   0.03V26\n",
       ":   -0.17V28\n",
       ":   -0.05Amount\n",
       ":   0.21\n",
       "\n"
      ],
      "text/plain": [
       "(Intercept)        Time          V3          V4          V5          V6 \n",
       "      -2.80       -0.16       -0.07        1.06        0.27       -0.23 \n",
       "         V8          V9         V10         V11         V12         V13 \n",
       "      -0.23       -0.05       -0.40        0.17       -0.50       -0.23 \n",
       "        V14         V15         V18         V19         V20         V22 \n",
       "      -0.65       -0.04        0.02       -0.01       -0.05        0.12 \n",
       "        V23         V26         V28      Amount \n",
       "       0.03       -0.17       -0.05        0.21 "
      ]
     },
     "metadata": {},
     "output_type": "display_data"
    }
   ],
   "source": [
    "#The best lambda value is stored inside 'cv.lasso$lambda.min'\n",
    "\n",
    "# plot(cv.lasso$glmnet.fit, xvar=\"lambda\", label=TRUE)\n",
    "cat('Min Lambda: ', cv.lasso$lambda.min, '\\n 1Sd Lambda: ', cv.lasso$lambda.1se)\n",
    "df_coef <- round(as.matrix(coef(cv.lasso, s=cv.lasso$lambda.min)), 2)\n",
    "\n",
    "# See all contributing variables\n",
    "df_coef[df_coef[, 1] != 0, ]"
   ]
  },
  {
   "cell_type": "markdown",
   "id": "0a375c83",
   "metadata": {},
   "source": [
    "The above output shows what variables LASSO considered important. A high positive or low negative implies more important is that variable."
   ]
  },
  {
   "cell_type": "code",
   "execution_count": null,
   "id": "59fcfc2c",
   "metadata": {},
   "outputs": [],
   "source": []
  },
  {
   "cell_type": "code",
   "execution_count": null,
   "id": "6f4135d9",
   "metadata": {},
   "outputs": [],
   "source": []
  }
 ],
 "metadata": {
  "kernelspec": {
   "display_name": "R",
   "language": "R",
   "name": "ir"
  },
  "language_info": {
   "codemirror_mode": "r",
   "file_extension": ".r",
   "mimetype": "text/x-r-source",
   "name": "R",
   "pygments_lexer": "r",
   "version": "3.6.1"
  }
 },
 "nbformat": 4,
 "nbformat_minor": 5
}
