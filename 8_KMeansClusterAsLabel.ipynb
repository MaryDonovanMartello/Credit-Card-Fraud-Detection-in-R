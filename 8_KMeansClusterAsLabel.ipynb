{
 "cells": [
  {
   "cell_type": "markdown",
   "id": "1e947e91",
   "metadata": {},
   "source": [
    "# Anomaly Detection"
   ]
  },
  {
   "cell_type": "markdown",
   "id": "5cea8d06",
   "metadata": {},
   "source": [
    "# Mary Donovan Martello"
   ]
  },
  {
   "cell_type": "markdown",
   "id": "d0e877d6",
   "metadata": {},
   "source": [
    "## Part 8:  K Means Clusters as the Classification Labels in a Supervised Model"
   ]
  },
  {
   "cell_type": "code",
   "execution_count": null,
   "id": "43a3f09a",
   "metadata": {},
   "outputs": [],
   "source": []
  },
  {
   "cell_type": "code",
   "execution_count": 2,
   "id": "a9751842",
   "metadata": {},
   "outputs": [],
   "source": [
    "# Importing required libraries\n",
    "library(dplyr)\n",
    "library(caret)\n",
    "library(ggplot2)\n",
    "library(caTools)\n",
    "library(ROSE)\n",
    "library(smotefamily)\n",
    "library(rpart)\n",
    "library(rpart.plot)\n",
    "library(psych)\n",
    "library(ltm)\n",
    "library(corrplot)\n",
    "library(e1071)\n",
    "library(data.table)\n",
    "library(factoextra)\n",
    "library(NbClust)\n",
    "library(rminer)\n",
    "library(MLmetrics)\n",
    "\n",
    "\n",
    "suppressMessages(library(dplyr))\n",
    "suppressMessages(library(caTools))\n",
    "suppressMessages(library(ROSE))\n",
    "suppressMessages(library(smotefamily))\n",
    "suppressMessages(library(rpart.plot))\n",
    "suppressMessages(library(psych))\n",
    "suppressMessages(library(ltm))\n",
    "suppressMessages(library(corrplot))\n",
    "suppressMessages(library(e1071))\n",
    "suppressMessages(library(data.table))\n",
    "suppressMessages(library(factoextra))\n",
    "suppressMessages(library(NbClust))\n",
    "suppressMessages(library(rminer))\n",
    "suppressMessages(library(MLmetrics))"
   ]
  },
  {
   "cell_type": "code",
   "execution_count": 3,
   "id": "ea0714dc",
   "metadata": {},
   "outputs": [],
   "source": [
    "#Loading the dataset\n",
    "dfAll <- read.csv('creditFraud20.csv')"
   ]
  },
  {
   "cell_type": "code",
   "execution_count": null,
   "id": "f8f9979b",
   "metadata": {},
   "outputs": [],
   "source": []
  },
  {
   "cell_type": "markdown",
   "id": "33923c0e",
   "metadata": {},
   "source": [
    "### Create Subset of Features from Feature Selection"
   ]
  },
  {
   "cell_type": "code",
   "execution_count": 4,
   "id": "5fc217d5",
   "metadata": {},
   "outputs": [
    {
     "data": {
      "text/html": [
       "<table>\n",
       "<thead><tr><th scope=col>V4</th><th scope=col>V10</th><th scope=col>V12</th><th scope=col>V14</th><th scope=col>V17</th><th scope=col>Class</th></tr></thead>\n",
       "<tbody>\n",
       "\t<tr><td>-2.3710149</td><td>-0.3395744</td><td>-0.8130265</td><td>-1.1791100</td><td> 0.5734176</td><td>0         </td></tr>\n",
       "\t<tr><td>-0.7282708</td><td>-1.0898177</td><td> 0.9220560</td><td>-0.2163698</td><td>-0.1641099</td><td>0         </td></tr>\n",
       "</tbody>\n",
       "</table>\n"
      ],
      "text/latex": [
       "\\begin{tabular}{r|llllll}\n",
       " V4 & V10 & V12 & V14 & V17 & Class\\\\\n",
       "\\hline\n",
       "\t -2.3710149 & -0.3395744 & -0.8130265 & -1.1791100 &  0.5734176 & 0         \\\\\n",
       "\t -0.7282708 & -1.0898177 &  0.9220560 & -0.2163698 & -0.1641099 & 0         \\\\\n",
       "\\end{tabular}\n"
      ],
      "text/markdown": [
       "\n",
       "| V4 | V10 | V12 | V14 | V17 | Class |\n",
       "|---|---|---|---|---|---|\n",
       "| -2.3710149 | -0.3395744 | -0.8130265 | -1.1791100 |  0.5734176 | 0          |\n",
       "| -0.7282708 | -1.0898177 |  0.9220560 | -0.2163698 | -0.1641099 | 0          |\n",
       "\n"
      ],
      "text/plain": [
       "  V4         V10        V12        V14        V17        Class\n",
       "1 -2.3710149 -0.3395744 -0.8130265 -1.1791100  0.5734176 0    \n",
       "2 -0.7282708 -1.0898177  0.9220560 -0.2163698 -0.1641099 0    "
      ]
     },
     "metadata": {},
     "output_type": "display_data"
    }
   ],
   "source": [
    "dfSub <- dfAll[, c(5:5, 11:11, 13:13, 15:15, 18:18, 31:31)]\n",
    "head(dfSub, 2)"
   ]
  },
  {
   "cell_type": "code",
   "execution_count": null,
   "id": "84d590c1",
   "metadata": {},
   "outputs": [],
   "source": []
  },
  {
   "cell_type": "markdown",
   "id": "b78c68e1",
   "metadata": {},
   "source": [
    "### Data Preparation"
   ]
  },
  {
   "cell_type": "markdown",
   "id": "2a30af39",
   "metadata": {},
   "source": [
    "**Change the Class values from 0 and 1 to 2 and 1 to match the clustering values.**"
   ]
  },
  {
   "cell_type": "code",
   "execution_count": null,
   "id": "16682ed5",
   "metadata": {},
   "outputs": [],
   "source": []
  },
  {
   "cell_type": "markdown",
   "id": "48e6e89e",
   "metadata": {},
   "source": [
    "**> Full Dataset**"
   ]
  },
  {
   "cell_type": "code",
   "execution_count": 5,
   "id": "d15c0097",
   "metadata": {},
   "outputs": [],
   "source": [
    "# replicate data\n",
    "dfClust <- dfAll\n",
    "# replace the values\n",
    "dfClust[dfClust == 1] <- 1\n",
    "dfClust[dfClust == 0] <- 2"
   ]
  },
  {
   "cell_type": "markdown",
   "id": "d61c039c",
   "metadata": {},
   "source": [
    "**> Selected Subset**"
   ]
  },
  {
   "cell_type": "code",
   "execution_count": 6,
   "id": "2e92f50c",
   "metadata": {},
   "outputs": [],
   "source": [
    "# replicate data\n",
    "dfClustSub <- dfSub\n",
    "# replace the values\n",
    "dfClustSub[dfClustSub == 1] <- 1\n",
    "dfClustSub[dfClustSub == 0] <- 2"
   ]
  },
  {
   "cell_type": "markdown",
   "id": "91b18569",
   "metadata": {},
   "source": [
    "### Drop Non-Normal Distribution Features"
   ]
  },
  {
   "cell_type": "code",
   "execution_count": null,
   "id": "cc8927e0",
   "metadata": {},
   "outputs": [],
   "source": []
  },
  {
   "cell_type": "code",
   "execution_count": 7,
   "id": "56064028",
   "metadata": {},
   "outputs": [
    {
     "data": {
      "text/html": [
       "<table>\n",
       "<thead><tr><th scope=col>V2</th><th scope=col>V3</th><th scope=col>V4</th><th scope=col>V5</th><th scope=col>V6</th><th scope=col>V7</th><th scope=col>V8</th><th scope=col>V9</th><th scope=col>V10</th><th scope=col>V11</th><th scope=col>...</th><th scope=col>V20</th><th scope=col>V21</th><th scope=col>V22</th><th scope=col>V23</th><th scope=col>V25</th><th scope=col>V26</th><th scope=col>V27</th><th scope=col>V28</th><th scope=col>Amount</th><th scope=col>Class</th></tr></thead>\n",
       "<tbody>\n",
       "\t<tr><td>-0.3135721  </td><td>-0.8799915  </td><td>-2.3710149  </td><td> 1.832820   </td><td> 3.3410355  </td><td>-0.8045669  </td><td> 0.01251665 </td><td>-0.9891706  </td><td>-0.3395744  </td><td>-0.05770153 </td><td>...         </td><td> 0.1487577  </td><td> 0.674059981</td><td>-0.8824945  </td><td>-0.26334793 </td><td>1.0777848   </td><td>-0.3662552  </td><td>0.13243425  </td><td>0.22821326  </td><td>80.08       </td><td>2           </td></tr>\n",
       "\t<tr><td>-0.3239156  </td><td> 0.9178714  </td><td>-0.7282708  </td><td>-1.180023   </td><td>-0.8173157  </td><td>-0.5494987  </td><td>-0.05259299 </td><td> 1.7699065  </td><td>-1.0898177  </td><td>-0.38001273 </td><td>...         </td><td>-0.1039912  </td><td>-0.008405836</td><td> 0.2422148  </td><td>-0.03969362 </td><td>0.5116329   </td><td>-0.6877417  </td><td>0.09587039  </td><td>0.03602943  </td><td> 1.00       </td><td>2           </td></tr>\n",
       "</tbody>\n",
       "</table>\n"
      ],
      "text/latex": [
       "\\begin{tabular}{r|llllllllllllllllllllllllllll}\n",
       " V2 & V3 & V4 & V5 & V6 & V7 & V8 & V9 & V10 & V11 & ... & V20 & V21 & V22 & V23 & V25 & V26 & V27 & V28 & Amount & Class\\\\\n",
       "\\hline\n",
       "\t -0.3135721   & -0.8799915   & -2.3710149   &  1.832820    &  3.3410355   & -0.8045669   &  0.01251665  & -0.9891706   & -0.3395744   & -0.05770153  & ...          &  0.1487577   &  0.674059981 & -0.8824945   & -0.26334793  & 1.0777848    & -0.3662552   & 0.13243425   & 0.22821326   & 80.08        & 2           \\\\\n",
       "\t -0.3239156   &  0.9178714   & -0.7282708   & -1.180023    & -0.8173157   & -0.5494987   & -0.05259299  &  1.7699065   & -1.0898177   & -0.38001273  & ...          & -0.1039912   & -0.008405836 &  0.2422148   & -0.03969362  & 0.5116329    & -0.6877417   & 0.09587039   & 0.03602943   &  1.00        & 2           \\\\\n",
       "\\end{tabular}\n"
      ],
      "text/markdown": [
       "\n",
       "| V2 | V3 | V4 | V5 | V6 | V7 | V8 | V9 | V10 | V11 | ... | V20 | V21 | V22 | V23 | V25 | V26 | V27 | V28 | Amount | Class |\n",
       "|---|---|---|---|---|---|---|---|---|---|---|---|---|---|---|---|---|---|---|---|---|\n",
       "| -0.3135721   | -0.8799915   | -2.3710149   |  1.832820    |  3.3410355   | -0.8045669   |  0.01251665  | -0.9891706   | -0.3395744   | -0.05770153  | ...          |  0.1487577   |  0.674059981 | -0.8824945   | -0.26334793  | 1.0777848    | -0.3662552   | 0.13243425   | 0.22821326   | 80.08        | 2            |\n",
       "| -0.3239156   |  0.9178714   | -0.7282708   | -1.180023    | -0.8173157   | -0.5494987   | -0.05259299  |  1.7699065   | -1.0898177   | -0.38001273  | ...          | -0.1039912   | -0.008405836 |  0.2422148   | -0.03969362  | 0.5116329    | -0.6877417   | 0.09587039   | 0.03602943   |  1.00        | 2            |\n",
       "\n"
      ],
      "text/plain": [
       "  V2         V3         V4         V5        V6         V7         V8         \n",
       "1 -0.3135721 -0.8799915 -2.3710149  1.832820  3.3410355 -0.8045669  0.01251665\n",
       "2 -0.3239156  0.9178714 -0.7282708 -1.180023 -0.8173157 -0.5494987 -0.05259299\n",
       "  V9         V10        V11         ... V20        V21          V22       \n",
       "1 -0.9891706 -0.3395744 -0.05770153 ...  0.1487577  0.674059981 -0.8824945\n",
       "2  1.7699065 -1.0898177 -0.38001273 ... -0.1039912 -0.008405836  0.2422148\n",
       "  V23         V25       V26        V27        V28        Amount Class\n",
       "1 -0.26334793 1.0777848 -0.3662552 0.13243425 0.22821326 80.08  2    \n",
       "2 -0.03969362 0.5116329 -0.6877417 0.09587039 0.03602943  1.00  2    "
      ]
     },
     "metadata": {},
     "output_type": "display_data"
    }
   ],
   "source": [
    "df <- dfClust[, c(3:24, 26:31)]\n",
    "head(df, 2)"
   ]
  },
  {
   "cell_type": "code",
   "execution_count": 8,
   "id": "f89e3150",
   "metadata": {},
   "outputs": [
    {
     "data": {
      "text/html": [
       "<ol class=list-inline>\n",
       "\t<li>56961</li>\n",
       "\t<li>28</li>\n",
       "</ol>\n"
      ],
      "text/latex": [
       "\\begin{enumerate*}\n",
       "\\item 56961\n",
       "\\item 28\n",
       "\\end{enumerate*}\n"
      ],
      "text/markdown": [
       "1. 56961\n",
       "2. 28\n",
       "\n",
       "\n"
      ],
      "text/plain": [
       "[1] 56961    28"
      ]
     },
     "metadata": {},
     "output_type": "display_data"
    }
   ],
   "source": [
    "dim(df)"
   ]
  },
  {
   "cell_type": "markdown",
   "id": "918dc4cc",
   "metadata": {},
   "source": [
    "**Split the Data into Training and Testing Sets**"
   ]
  },
  {
   "cell_type": "markdown",
   "id": "b0439113",
   "metadata": {},
   "source": [
    "**> Full Normal Dataset**"
   ]
  },
  {
   "cell_type": "code",
   "execution_count": 9,
   "id": "0c12be9c",
   "metadata": {},
   "outputs": [],
   "source": [
    "# set.seed(102) \n",
    "sample = sample.split(df$Amount, SplitRatio = .80)\n",
    "Train = subset(df, sample == TRUE)\n",
    "Test  = subset(df, sample == FALSE)\n"
   ]
  },
  {
   "cell_type": "code",
   "execution_count": 10,
   "id": "2a42ffe1",
   "metadata": {},
   "outputs": [],
   "source": [
    "# # drop the target variable\n",
    "XTrain <- Train[, c(1:27)]\n",
    "yTrain <- subset(Train, select=c(\"Class\"))\n",
    "\n",
    "XTest <- Test[, c(1:27)]\n",
    "yTest <- subset(Test, select=c(\"Class\"))"
   ]
  },
  {
   "cell_type": "markdown",
   "id": "7758991d",
   "metadata": {},
   "source": [
    "**> Select Subset**"
   ]
  },
  {
   "cell_type": "code",
   "execution_count": 11,
   "id": "a0150c2a",
   "metadata": {},
   "outputs": [],
   "source": [
    "# set.seed(103) \n",
    "sample2 = sample.split(dfClustSub$V4, SplitRatio = .80)\n",
    "TrainSub = subset(dfClustSub, sample2 == TRUE)\n",
    "TestSub  = subset(dfClustSub, sample2 == FALSE)"
   ]
  },
  {
   "cell_type": "code",
   "execution_count": 12,
   "id": "589942d3",
   "metadata": {},
   "outputs": [],
   "source": [
    "yTrainSub <- subset(TrainSub, select=c(\"Class\"))\n",
    "yTestSub <- subset(TestSub, select=c(\"Class\"))\n",
    "XTrainSub <- TrainSub[, c(1:5)]\n",
    "XTestSub <- TestSub[, c(1:5)]"
   ]
  },
  {
   "cell_type": "code",
   "execution_count": null,
   "id": "9aa0a816",
   "metadata": {},
   "outputs": [],
   "source": []
  },
  {
   "cell_type": "markdown",
   "id": "b2723a8a",
   "metadata": {},
   "source": [
    "### Modeling"
   ]
  },
  {
   "cell_type": "markdown",
   "id": "d530a366",
   "metadata": {},
   "source": [
    "### Two Clusters Only - For Comparing to a Supervised Model"
   ]
  },
  {
   "cell_type": "markdown",
   "id": "fa5bc902",
   "metadata": {},
   "source": [
    "**> Full Normal Dataset**"
   ]
  },
  {
   "cell_type": "code",
   "execution_count": 13,
   "id": "7b73224c",
   "metadata": {},
   "outputs": [],
   "source": [
    "# Compute k-means with k = 2\n",
    "set.seed(567)\n",
    "resultK2 <- kmeans(XTrain, 2, iter.max = 15, nstart = 50)\n"
   ]
  },
  {
   "cell_type": "code",
   "execution_count": 14,
   "id": "23e70cd3",
   "metadata": {},
   "outputs": [
    {
     "data": {
      "text/html": [
       "<ol class=list-inline>\n",
       "\t<li>46451</li>\n",
       "\t<li>1225</li>\n",
       "</ol>\n"
      ],
      "text/latex": [
       "\\begin{enumerate*}\n",
       "\\item 46451\n",
       "\\item 1225\n",
       "\\end{enumerate*}\n"
      ],
      "text/markdown": [
       "1. 46451\n",
       "2. 1225\n",
       "\n",
       "\n"
      ],
      "text/plain": [
       "[1] 46451  1225"
      ]
     },
     "metadata": {},
     "output_type": "display_data"
    }
   ],
   "source": [
    "# Cluster size\n",
    "resultK2$size"
   ]
  },
  {
   "cell_type": "code",
   "execution_count": 15,
   "id": "844c02a1",
   "metadata": {},
   "outputs": [
    {
     "data": {
      "text/plain": [
       "   \n",
       "        1     2\n",
       "  1    73 46378\n",
       "  2     4  1221"
      ]
     },
     "metadata": {},
     "output_type": "display_data"
    }
   ],
   "source": [
    "table(resultK2$cluster, yTrain$Class)"
   ]
  },
  {
   "cell_type": "code",
   "execution_count": null,
   "id": "e3d1588e",
   "metadata": {},
   "outputs": [],
   "source": []
  },
  {
   "cell_type": "code",
   "execution_count": 16,
   "id": "6a97b8d9",
   "metadata": {},
   "outputs": [
    {
     "data": {
      "text/html": [
       "<table>\n",
       "<thead><tr><th scope=col>V2</th><th scope=col>V3</th><th scope=col>V4</th><th scope=col>V5</th><th scope=col>V6</th><th scope=col>V7</th><th scope=col>V8</th><th scope=col>V9</th><th scope=col>V10</th><th scope=col>V11</th><th scope=col>...</th><th scope=col>V20</th><th scope=col>V21</th><th scope=col>V22</th><th scope=col>V23</th><th scope=col>V25</th><th scope=col>V26</th><th scope=col>V27</th><th scope=col>V28</th><th scope=col>Amount</th><th scope=col>cluster</th></tr></thead>\n",
       "<tbody>\n",
       "\t<tr><td>-0.3135721  </td><td>-0.8799915  </td><td>-2.3710149  </td><td> 1.832820   </td><td> 3.3410355  </td><td>-0.8045669  </td><td> 0.01251665 </td><td>-0.9891706  </td><td>-0.3395744  </td><td>-0.05770153 </td><td>...         </td><td> 0.1487577  </td><td> 0.674059981</td><td>-0.8824945  </td><td>-0.26334793 </td><td>1.0777848   </td><td>-0.3662552  </td><td>0.13243425  </td><td>0.22821326  </td><td>80.08       </td><td>1           </td></tr>\n",
       "\t<tr><td>-0.3239156  </td><td> 0.9178714  </td><td>-0.7282708  </td><td>-1.180023   </td><td>-0.8173157  </td><td>-0.5494987  </td><td>-0.05259299 </td><td> 1.7699065  </td><td>-1.0898177  </td><td>-0.38001273 </td><td>...         </td><td>-0.1039912  </td><td>-0.008405836</td><td> 0.2422148  </td><td>-0.03969362 </td><td>0.5116329   </td><td>-0.6877417  </td><td>0.09587039  </td><td>0.03602943  </td><td> 1.00       </td><td>1           </td></tr>\n",
       "</tbody>\n",
       "</table>\n"
      ],
      "text/latex": [
       "\\begin{tabular}{r|llllllllllllllllllllllllllll}\n",
       " V2 & V3 & V4 & V5 & V6 & V7 & V8 & V9 & V10 & V11 & ... & V20 & V21 & V22 & V23 & V25 & V26 & V27 & V28 & Amount & cluster\\\\\n",
       "\\hline\n",
       "\t -0.3135721   & -0.8799915   & -2.3710149   &  1.832820    &  3.3410355   & -0.8045669   &  0.01251665  & -0.9891706   & -0.3395744   & -0.05770153  & ...          &  0.1487577   &  0.674059981 & -0.8824945   & -0.26334793  & 1.0777848    & -0.3662552   & 0.13243425   & 0.22821326   & 80.08        & 1           \\\\\n",
       "\t -0.3239156   &  0.9178714   & -0.7282708   & -1.180023    & -0.8173157   & -0.5494987   & -0.05259299  &  1.7699065   & -1.0898177   & -0.38001273  & ...          & -0.1039912   & -0.008405836 &  0.2422148   & -0.03969362  & 0.5116329    & -0.6877417   & 0.09587039   & 0.03602943   &  1.00        & 1           \\\\\n",
       "\\end{tabular}\n"
      ],
      "text/markdown": [
       "\n",
       "| V2 | V3 | V4 | V5 | V6 | V7 | V8 | V9 | V10 | V11 | ... | V20 | V21 | V22 | V23 | V25 | V26 | V27 | V28 | Amount | cluster |\n",
       "|---|---|---|---|---|---|---|---|---|---|---|---|---|---|---|---|---|---|---|---|---|\n",
       "| -0.3135721   | -0.8799915   | -2.3710149   |  1.832820    |  3.3410355   | -0.8045669   |  0.01251665  | -0.9891706   | -0.3395744   | -0.05770153  | ...          |  0.1487577   |  0.674059981 | -0.8824945   | -0.26334793  | 1.0777848    | -0.3662552   | 0.13243425   | 0.22821326   | 80.08        | 1            |\n",
       "| -0.3239156   |  0.9178714   | -0.7282708   | -1.180023    | -0.8173157   | -0.5494987   | -0.05259299  |  1.7699065   | -1.0898177   | -0.38001273  | ...          | -0.1039912   | -0.008405836 |  0.2422148   | -0.03969362  | 0.5116329    | -0.6877417   | 0.09587039   | 0.03602943   |  1.00        | 1            |\n",
       "\n"
      ],
      "text/plain": [
       "  V2         V3         V4         V5        V6         V7         V8         \n",
       "1 -0.3135721 -0.8799915 -2.3710149  1.832820  3.3410355 -0.8045669  0.01251665\n",
       "2 -0.3239156  0.9178714 -0.7282708 -1.180023 -0.8173157 -0.5494987 -0.05259299\n",
       "  V9         V10        V11         ... V20        V21          V22       \n",
       "1 -0.9891706 -0.3395744 -0.05770153 ...  0.1487577  0.674059981 -0.8824945\n",
       "2  1.7699065 -1.0898177 -0.38001273 ... -0.1039912 -0.008405836  0.2422148\n",
       "  V23         V25       V26        V27        V28        Amount cluster\n",
       "1 -0.26334793 1.0777848 -0.3662552 0.13243425 0.22821326 80.08  1      \n",
       "2 -0.03969362 0.5116329 -0.6877417 0.09587039 0.03602943  1.00  1      "
      ]
     },
     "metadata": {},
     "output_type": "display_data"
    }
   ],
   "source": [
    "# Add the cluster classifications to the original data\n",
    "clustDf <- cbind(XTrain, cluster = resultK2$cluster)\n",
    "head(clustDf, 2)"
   ]
  },
  {
   "cell_type": "code",
   "execution_count": null,
   "id": "6778080f",
   "metadata": {},
   "outputs": [],
   "source": []
  },
  {
   "cell_type": "code",
   "execution_count": 17,
   "id": "8c98acca",
   "metadata": {},
   "outputs": [
    {
     "data": {
      "image/png": "[encoded data removed]",
      "text/plain": [
       "plot without title"
      ]
     },
     "metadata": {},
     "output_type": "display_data"
    }
   ],
   "source": [
    "# scatter plot of two significant features, colored by the clusters feature\n",
    "ggplot(clustDf, aes(x = V4, y = V14, color=cluster)) + geom_point(alpha = 0.4) + \n",
    "    labs(x = \"V4\", y = \"V14\")"
   ]
  },
  {
   "cell_type": "code",
   "execution_count": null,
   "id": "aa7c58d5",
   "metadata": {},
   "outputs": [],
   "source": []
  },
  {
   "cell_type": "markdown",
   "id": "b69a33cc",
   "metadata": {},
   "source": [
    "**> Selected Subset**"
   ]
  },
  {
   "cell_type": "code",
   "execution_count": 18,
   "id": "997c0231",
   "metadata": {},
   "outputs": [],
   "source": [
    "# Compute k-means with k = 2\n",
    "set.seed(567)\n",
    "resultK2sub <- kmeans(XTrainSub, 2, iter.max = 15, nstart = 50)"
   ]
  },
  {
   "cell_type": "code",
   "execution_count": 19,
   "id": "f5ab61ff",
   "metadata": {},
   "outputs": [
    {
     "data": {
      "text/html": [
       "<ol class=list-inline>\n",
       "\t<li>22492</li>\n",
       "\t<li>23076</li>\n",
       "</ol>\n"
      ],
      "text/latex": [
       "\\begin{enumerate*}\n",
       "\\item 22492\n",
       "\\item 23076\n",
       "\\end{enumerate*}\n"
      ],
      "text/markdown": [
       "1. 22492\n",
       "2. 23076\n",
       "\n",
       "\n"
      ],
      "text/plain": [
       "[1] 22492 23076"
      ]
     },
     "metadata": {},
     "output_type": "display_data"
    }
   ],
   "source": [
    "# Cluster size\n",
    "resultK2sub$size"
   ]
  },
  {
   "cell_type": "code",
   "execution_count": 20,
   "id": "6c50b53c",
   "metadata": {},
   "outputs": [
    {
     "data": {
      "text/plain": [
       "   \n",
       "        1     2\n",
       "  1     2 22490\n",
       "  2    80 22996"
      ]
     },
     "metadata": {},
     "output_type": "display_data"
    }
   ],
   "source": [
    "table(resultK2sub$cluster, yTrainSub$Class)"
   ]
  },
  {
   "cell_type": "code",
   "execution_count": 21,
   "id": "abd7793d",
   "metadata": {},
   "outputs": [
    {
     "data": {
      "text/html": [
       "<table>\n",
       "<thead><tr><th scope=col>V4</th><th scope=col>V10</th><th scope=col>V12</th><th scope=col>V14</th><th scope=col>V17</th><th scope=col>cluster</th></tr></thead>\n",
       "<tbody>\n",
       "\t<tr><td>-2.3710149</td><td>-0.3395744</td><td>-0.8130265</td><td>-1.1791100</td><td> 0.5734176</td><td>1         </td></tr>\n",
       "\t<tr><td>-0.7282708</td><td>-1.0898177</td><td> 0.9220560</td><td>-0.2163698</td><td>-0.1641099</td><td>1         </td></tr>\n",
       "</tbody>\n",
       "</table>\n"
      ],
      "text/latex": [
       "\\begin{tabular}{r|llllll}\n",
       " V4 & V10 & V12 & V14 & V17 & cluster\\\\\n",
       "\\hline\n",
       "\t -2.3710149 & -0.3395744 & -0.8130265 & -1.1791100 &  0.5734176 & 1         \\\\\n",
       "\t -0.7282708 & -1.0898177 &  0.9220560 & -0.2163698 & -0.1641099 & 1         \\\\\n",
       "\\end{tabular}\n"
      ],
      "text/markdown": [
       "\n",
       "| V4 | V10 | V12 | V14 | V17 | cluster |\n",
       "|---|---|---|---|---|---|\n",
       "| -2.3710149 | -0.3395744 | -0.8130265 | -1.1791100 |  0.5734176 | 1          |\n",
       "| -0.7282708 | -1.0898177 |  0.9220560 | -0.2163698 | -0.1641099 | 1          |\n",
       "\n"
      ],
      "text/plain": [
       "  V4         V10        V12        V14        V17        cluster\n",
       "1 -2.3710149 -0.3395744 -0.8130265 -1.1791100  0.5734176 1      \n",
       "2 -0.7282708 -1.0898177  0.9220560 -0.2163698 -0.1641099 1      "
      ]
     },
     "metadata": {},
     "output_type": "display_data"
    }
   ],
   "source": [
    "# Add the cluster classifications to the original data\n",
    "clustDfSub <- cbind(XTrainSub, cluster = resultK2sub$cluster)\n",
    "head(clustDfSub, 2)"
   ]
  },
  {
   "cell_type": "code",
   "execution_count": 22,
   "id": "b9df028e",
   "metadata": {},
   "outputs": [
    {
     "data": {
      "image/png": "[encoded data removed]",
      "text/plain": [
       "plot without title"
      ]
     },
     "metadata": {},
     "output_type": "display_data"
    }
   ],
   "source": [
    "# scatter plot of two significant features, colored by the clusters feature\n",
    "ggplot(clustDfSub, aes(x = V4, y = V14, color=cluster)) + geom_point(alpha = 0.4) + \n",
    "    labs(x = \"V4\", y = \"V14\")"
   ]
  },
  {
   "cell_type": "code",
   "execution_count": null,
   "id": "a3184fe0",
   "metadata": {},
   "outputs": [],
   "source": []
  },
  {
   "cell_type": "markdown",
   "id": "e73e7f69",
   "metadata": {},
   "source": [
    "## Compare with Supervised Model"
   ]
  },
  {
   "cell_type": "markdown",
   "id": "a8bccd54",
   "metadata": {},
   "source": [
    "### Data for classification model and predictions; to compare with kmeans predictions"
   ]
  },
  {
   "cell_type": "markdown",
   "id": "6dd5e48c",
   "metadata": {},
   "source": [
    "**Change the cluster labels from 1 and 2 to 1 and 0 to match the Class labels from original dataframe.**"
   ]
  },
  {
   "cell_type": "markdown",
   "id": "5bc0eb21",
   "metadata": {},
   "source": [
    "**> Full Normal Dataset**"
   ]
  },
  {
   "cell_type": "code",
   "execution_count": 23,
   "id": "30aa4722",
   "metadata": {},
   "outputs": [],
   "source": [
    "# change the cluster labels from 1 and 2 to 1 and 0 to match the Class labels from original dataframe\n",
    "\n",
    "#replicate the dataframe\n",
    "kmeanDf <- clustDf\n",
    "\n",
    "# replace the label values back to original 0 and 1\n",
    "kmeanDf[kmeanDf == 1] <- 1\n",
    "kmeanDf[kmeanDf == 2] <- 0"
   ]
  },
  {
   "cell_type": "code",
   "execution_count": 24,
   "id": "d33c50c2",
   "metadata": {},
   "outputs": [],
   "source": [
    "# drop the target variable\n",
    "XkmeanDf <- kmeanDf[, c(1:27)]\n",
    "ykmeanDf <- subset(kmeanDf, select=c(\"cluster\"))\n",
    "\n"
   ]
  },
  {
   "cell_type": "markdown",
   "id": "5c6cffce",
   "metadata": {},
   "source": [
    "**> Selected Subset**"
   ]
  },
  {
   "cell_type": "code",
   "execution_count": 25,
   "id": "4541acc6",
   "metadata": {},
   "outputs": [],
   "source": [
    "# change the cluster labels from 1 and 2 to 1 and 0 to match the Class labels from original dataframe\n",
    "\n",
    "#replicate the dataframe\n",
    "kmeanDfSub <- clustDfSub\n",
    "\n",
    "# replace the label values back to original 0 and 1\n",
    "kmeanDfSub[kmeanDfSub == 1] <- 1\n",
    "kmeanDfSub[kmeanDfSub == 2] <- 0"
   ]
  },
  {
   "cell_type": "code",
   "execution_count": 26,
   "id": "457e9562",
   "metadata": {},
   "outputs": [],
   "source": [
    "# drop the target variable\n",
    "XkmeanDfSub <- kmeanDfSub[, c(1:5)]\n",
    "ykmeanDfSub <- subset(kmeanDfSub, select=c(\"cluster\"))"
   ]
  },
  {
   "cell_type": "code",
   "execution_count": null,
   "id": "b40f20e8",
   "metadata": {},
   "outputs": [],
   "source": []
  },
  {
   "cell_type": "markdown",
   "id": "79b7328a",
   "metadata": {},
   "source": [
    "**Supervised Classification DataSet**"
   ]
  },
  {
   "cell_type": "code",
   "execution_count": 85,
   "id": "2335cc57",
   "metadata": {},
   "outputs": [],
   "source": [
    "# import full dataset to be underbalanced\n",
    "underDf <- read.csv('creditcard.csv')"
   ]
  },
  {
   "cell_type": "code",
   "execution_count": 86,
   "id": "48b6c09a",
   "metadata": {},
   "outputs": [
    {
     "data": {
      "text/html": [
       "<table>\n",
       "<thead><tr><th scope=col>Time</th><th scope=col>V1</th><th scope=col>V2</th><th scope=col>V3</th><th scope=col>V4</th><th scope=col>V5</th><th scope=col>V6</th><th scope=col>V7</th><th scope=col>V8</th><th scope=col>V9</th><th scope=col>...</th><th scope=col>V21</th><th scope=col>V22</th><th scope=col>V23</th><th scope=col>V24</th><th scope=col>V25</th><th scope=col>V26</th><th scope=col>V27</th><th scope=col>V28</th><th scope=col>Amount</th><th scope=col>Class</th></tr></thead>\n",
       "<tbody>\n",
       "\t<tr><td>0           </td><td>-1.359807   </td><td>-0.07278117 </td><td>2.5363467   </td><td>1.3781552   </td><td>-0.33832077 </td><td> 0.46238778 </td><td> 0.23959855 </td><td>0.09869790  </td><td> 0.3637870  </td><td>...         </td><td>-0.01830678 </td><td> 0.2778376  </td><td>-0.1104739  </td><td> 0.06692807 </td><td> 0.1285394  </td><td>-0.1891148  </td><td> 0.133558377</td><td>-0.02105305 </td><td>149.62      </td><td>0           </td></tr>\n",
       "\t<tr><td>0           </td><td> 1.191857   </td><td> 0.26615071 </td><td>0.1664801   </td><td>0.4481541   </td><td> 0.06001765 </td><td>-0.08236081 </td><td>-0.07880298 </td><td>0.08510165  </td><td>-0.2554251  </td><td>...         </td><td>-0.22577525 </td><td>-0.6386720  </td><td> 0.1012880  </td><td>-0.33984648 </td><td> 0.1671704  </td><td> 0.1258945  </td><td>-0.008983099</td><td> 0.01472417 </td><td>  2.69      </td><td>0           </td></tr>\n",
       "\t<tr><td>1           </td><td>-1.358354   </td><td>-1.34016307 </td><td>1.7732093   </td><td>0.3797796   </td><td>-0.50319813 </td><td> 1.80049938 </td><td> 0.79146096 </td><td>0.24767579  </td><td>-1.5146543  </td><td>...         </td><td> 0.24799815 </td><td> 0.7716794  </td><td> 0.9094123  </td><td>-0.68928096 </td><td>-0.3276418  </td><td>-0.1390966  </td><td>-0.055352794</td><td>-0.05975184 </td><td>378.66      </td><td>0           </td></tr>\n",
       "</tbody>\n",
       "</table>\n"
      ],
      "text/latex": [
       "\\begin{tabular}{r|lllllllllllllllllllllllllllllll}\n",
       " Time & V1 & V2 & V3 & V4 & V5 & V6 & V7 & V8 & V9 & ... & V21 & V22 & V23 & V24 & V25 & V26 & V27 & V28 & Amount & Class\\\\\n",
       "\\hline\n",
       "\t 0            & -1.359807    & -0.07278117  & 2.5363467    & 1.3781552    & -0.33832077  &  0.46238778  &  0.23959855  & 0.09869790   &  0.3637870   & ...          & -0.01830678  &  0.2778376   & -0.1104739   &  0.06692807  &  0.1285394   & -0.1891148   &  0.133558377 & -0.02105305  & 149.62       & 0           \\\\\n",
       "\t 0            &  1.191857    &  0.26615071  & 0.1664801    & 0.4481541    &  0.06001765  & -0.08236081  & -0.07880298  & 0.08510165   & -0.2554251   & ...          & -0.22577525  & -0.6386720   &  0.1012880   & -0.33984648  &  0.1671704   &  0.1258945   & -0.008983099 &  0.01472417  &   2.69       & 0           \\\\\n",
       "\t 1            & -1.358354    & -1.34016307  & 1.7732093    & 0.3797796    & -0.50319813  &  1.80049938  &  0.79146096  & 0.24767579   & -1.5146543   & ...          &  0.24799815  &  0.7716794   &  0.9094123   & -0.68928096  & -0.3276418   & -0.1390966   & -0.055352794 & -0.05975184  & 378.66       & 0           \\\\\n",
       "\\end{tabular}\n"
      ],
      "text/markdown": [
       "\n",
       "| Time | V1 | V2 | V3 | V4 | V5 | V6 | V7 | V8 | V9 | ... | V21 | V22 | V23 | V24 | V25 | V26 | V27 | V28 | Amount | Class |\n",
       "|---|---|---|---|---|---|---|---|---|---|---|---|---|---|---|---|---|---|---|---|---|\n",
       "| 0            | -1.359807    | -0.07278117  | 2.5363467    | 1.3781552    | -0.33832077  |  0.46238778  |  0.23959855  | 0.09869790   |  0.3637870   | ...          | -0.01830678  |  0.2778376   | -0.1104739   |  0.06692807  |  0.1285394   | -0.1891148   |  0.133558377 | -0.02105305  | 149.62       | 0            |\n",
       "| 0            |  1.191857    |  0.26615071  | 0.1664801    | 0.4481541    |  0.06001765  | -0.08236081  | -0.07880298  | 0.08510165   | -0.2554251   | ...          | -0.22577525  | -0.6386720   |  0.1012880   | -0.33984648  |  0.1671704   |  0.1258945   | -0.008983099 |  0.01472417  |   2.69       | 0            |\n",
       "| 1            | -1.358354    | -1.34016307  | 1.7732093    | 0.3797796    | -0.50319813  |  1.80049938  |  0.79146096  | 0.24767579   | -1.5146543   | ...          |  0.24799815  |  0.7716794   |  0.9094123   | -0.68928096  | -0.3276418   | -0.1390966   | -0.055352794 | -0.05975184  | 378.66       | 0            |\n",
       "\n"
      ],
      "text/plain": [
       "  Time V1        V2          V3        V4        V5          V6         \n",
       "1 0    -1.359807 -0.07278117 2.5363467 1.3781552 -0.33832077  0.46238778\n",
       "2 0     1.191857  0.26615071 0.1664801 0.4481541  0.06001765 -0.08236081\n",
       "3 1    -1.358354 -1.34016307 1.7732093 0.3797796 -0.50319813  1.80049938\n",
       "  V7          V8         V9         ... V21         V22        V23       \n",
       "1  0.23959855 0.09869790  0.3637870 ... -0.01830678  0.2778376 -0.1104739\n",
       "2 -0.07880298 0.08510165 -0.2554251 ... -0.22577525 -0.6386720  0.1012880\n",
       "3  0.79146096 0.24767579 -1.5146543 ...  0.24799815  0.7716794  0.9094123\n",
       "  V24         V25        V26        V27          V28         Amount Class\n",
       "1  0.06692807  0.1285394 -0.1891148  0.133558377 -0.02105305 149.62 0    \n",
       "2 -0.33984648  0.1671704  0.1258945 -0.008983099  0.01472417   2.69 0    \n",
       "3 -0.68928096 -0.3276418 -0.1390966 -0.055352794 -0.05975184 378.66 0    "
      ]
     },
     "metadata": {},
     "output_type": "display_data"
    }
   ],
   "source": [
    "head(underDf, 3)"
   ]
  },
  {
   "cell_type": "code",
   "execution_count": 87,
   "id": "a302dc15",
   "metadata": {},
   "outputs": [
    {
     "data": {
      "text/html": [
       "<ol class=list-inline>\n",
       "\t<li>284807</li>\n",
       "\t<li>31</li>\n",
       "</ol>\n"
      ],
      "text/latex": [
       "\\begin{enumerate*}\n",
       "\\item 284807\n",
       "\\item 31\n",
       "\\end{enumerate*}\n"
      ],
      "text/markdown": [
       "1. 284807\n",
       "2. 31\n",
       "\n",
       "\n"
      ],
      "text/plain": [
       "[1] 284807     31"
      ]
     },
     "metadata": {},
     "output_type": "display_data"
    }
   ],
   "source": [
    "dim(underDf)"
   ]
  },
  {
   "cell_type": "code",
   "execution_count": null,
   "id": "c6b342b6",
   "metadata": {},
   "outputs": [],
   "source": []
  },
  {
   "cell_type": "markdown",
   "id": "63ddefc5",
   "metadata": {},
   "source": [
    "**> Full Dataset**"
   ]
  },
  {
   "cell_type": "code",
   "execution_count": 88,
   "id": "e2ea0c16",
   "metadata": {},
   "outputs": [
    {
     "data": {
      "text/html": [
       "<table>\n",
       "<thead><tr><th scope=col>Time</th><th scope=col>V1</th><th scope=col>V2</th><th scope=col>V3</th><th scope=col>V4</th><th scope=col>V5</th><th scope=col>V6</th><th scope=col>V7</th><th scope=col>V8</th><th scope=col>V9</th><th scope=col>...</th><th scope=col>V21</th><th scope=col>V22</th><th scope=col>V23</th><th scope=col>V24</th><th scope=col>V25</th><th scope=col>V26</th><th scope=col>V27</th><th scope=col>V28</th><th scope=col>Amount</th><th scope=col>Class</th></tr></thead>\n",
       "<tbody>\n",
       "\t<tr><td>0           </td><td>-1.359807   </td><td>-0.07278117 </td><td>2.5363467   </td><td>1.3781552   </td><td>-0.33832077 </td><td> 0.46238778 </td><td> 0.23959855 </td><td>0.09869790  </td><td> 0.3637870  </td><td>...         </td><td>-0.01830678 </td><td> 0.2778376  </td><td>-0.1104739  </td><td> 0.06692807 </td><td> 0.1285394  </td><td>-0.1891148  </td><td> 0.133558377</td><td>-0.02105305 </td><td>149.62      </td><td>0           </td></tr>\n",
       "\t<tr><td>0           </td><td> 1.191857   </td><td> 0.26615071 </td><td>0.1664801   </td><td>0.4481541   </td><td> 0.06001765 </td><td>-0.08236081 </td><td>-0.07880298 </td><td>0.08510165  </td><td>-0.2554251  </td><td>...         </td><td>-0.22577525 </td><td>-0.6386720  </td><td> 0.1012880  </td><td>-0.33984648 </td><td> 0.1671704  </td><td> 0.1258945  </td><td>-0.008983099</td><td> 0.01472417 </td><td>  2.69      </td><td>0           </td></tr>\n",
       "\t<tr><td>1           </td><td>-1.358354   </td><td>-1.34016307 </td><td>1.7732093   </td><td>0.3797796   </td><td>-0.50319813 </td><td> 1.80049938 </td><td> 0.79146096 </td><td>0.24767579  </td><td>-1.5146543  </td><td>...         </td><td> 0.24799815 </td><td> 0.7716794  </td><td> 0.9094123  </td><td>-0.68928096 </td><td>-0.3276418  </td><td>-0.1390966  </td><td>-0.055352794</td><td>-0.05975184 </td><td>378.66      </td><td>0           </td></tr>\n",
       "</tbody>\n",
       "</table>\n"
      ],
      "text/latex": [
       "\\begin{tabular}{r|lllllllllllllllllllllllllllllll}\n",
       " Time & V1 & V2 & V3 & V4 & V5 & V6 & V7 & V8 & V9 & ... & V21 & V22 & V23 & V24 & V25 & V26 & V27 & V28 & Amount & Class\\\\\n",
       "\\hline\n",
       "\t 0            & -1.359807    & -0.07278117  & 2.5363467    & 1.3781552    & -0.33832077  &  0.46238778  &  0.23959855  & 0.09869790   &  0.3637870   & ...          & -0.01830678  &  0.2778376   & -0.1104739   &  0.06692807  &  0.1285394   & -0.1891148   &  0.133558377 & -0.02105305  & 149.62       & 0           \\\\\n",
       "\t 0            &  1.191857    &  0.26615071  & 0.1664801    & 0.4481541    &  0.06001765  & -0.08236081  & -0.07880298  & 0.08510165   & -0.2554251   & ...          & -0.22577525  & -0.6386720   &  0.1012880   & -0.33984648  &  0.1671704   &  0.1258945   & -0.008983099 &  0.01472417  &   2.69       & 0           \\\\\n",
       "\t 1            & -1.358354    & -1.34016307  & 1.7732093    & 0.3797796    & -0.50319813  &  1.80049938  &  0.79146096  & 0.24767579   & -1.5146543   & ...          &  0.24799815  &  0.7716794   &  0.9094123   & -0.68928096  & -0.3276418   & -0.1390966   & -0.055352794 & -0.05975184  & 378.66       & 0           \\\\\n",
       "\\end{tabular}\n"
      ],
      "text/markdown": [
       "\n",
       "| Time | V1 | V2 | V3 | V4 | V5 | V6 | V7 | V8 | V9 | ... | V21 | V22 | V23 | V24 | V25 | V26 | V27 | V28 | Amount | Class |\n",
       "|---|---|---|---|---|---|---|---|---|---|---|---|---|---|---|---|---|---|---|---|---|\n",
       "| 0            | -1.359807    | -0.07278117  | 2.5363467    | 1.3781552    | -0.33832077  |  0.46238778  |  0.23959855  | 0.09869790   |  0.3637870   | ...          | -0.01830678  |  0.2778376   | -0.1104739   |  0.06692807  |  0.1285394   | -0.1891148   |  0.133558377 | -0.02105305  | 149.62       | 0            |\n",
       "| 0            |  1.191857    |  0.26615071  | 0.1664801    | 0.4481541    |  0.06001765  | -0.08236081  | -0.07880298  | 0.08510165   | -0.2554251   | ...          | -0.22577525  | -0.6386720   |  0.1012880   | -0.33984648  |  0.1671704   |  0.1258945   | -0.008983099 |  0.01472417  |   2.69       | 0            |\n",
       "| 1            | -1.358354    | -1.34016307  | 1.7732093    | 0.3797796    | -0.50319813  |  1.80049938  |  0.79146096  | 0.24767579   | -1.5146543   | ...          |  0.24799815  |  0.7716794   |  0.9094123   | -0.68928096  | -0.3276418   | -0.1390966   | -0.055352794 | -0.05975184  | 378.66       | 0            |\n",
       "\n"
      ],
      "text/plain": [
       "  Time V1        V2          V3        V4        V5          V6         \n",
       "1 0    -1.359807 -0.07278117 2.5363467 1.3781552 -0.33832077  0.46238778\n",
       "2 0     1.191857  0.26615071 0.1664801 0.4481541  0.06001765 -0.08236081\n",
       "3 1    -1.358354 -1.34016307 1.7732093 0.3797796 -0.50319813  1.80049938\n",
       "  V7          V8         V9         ... V21         V22        V23       \n",
       "1  0.23959855 0.09869790  0.3637870 ... -0.01830678  0.2778376 -0.1104739\n",
       "2 -0.07880298 0.08510165 -0.2554251 ... -0.22577525 -0.6386720  0.1012880\n",
       "3  0.79146096 0.24767579 -1.5146543 ...  0.24799815  0.7716794  0.9094123\n",
       "  V24         V25        V26        V27          V28         Amount Class\n",
       "1  0.06692807  0.1285394 -0.1891148  0.133558377 -0.02105305 149.62 0    \n",
       "2 -0.33984648  0.1671704  0.1258945 -0.008983099  0.01472417   2.69 0    \n",
       "3 -0.68928096 -0.3276418 -0.1390966 -0.055352794 -0.05975184 378.66 0    "
      ]
     },
     "metadata": {},
     "output_type": "display_data"
    }
   ],
   "source": [
    "# dataframe with original labels\n",
    "dfClass <- underDf[, c(3:24, 26:31)]\n",
    "head(underDf, 3)"
   ]
  },
  {
   "cell_type": "code",
   "execution_count": 130,
   "id": "7fa5121f",
   "metadata": {},
   "outputs": [
    {
     "data": {
      "text/html": [
       "<ol class=list-inline>\n",
       "\t<li>284807</li>\n",
       "\t<li>28</li>\n",
       "</ol>\n"
      ],
      "text/latex": [
       "\\begin{enumerate*}\n",
       "\\item 284807\n",
       "\\item 28\n",
       "\\end{enumerate*}\n"
      ],
      "text/markdown": [
       "1. 284807\n",
       "2. 28\n",
       "\n",
       "\n"
      ],
      "text/plain": [
       "[1] 284807     28"
      ]
     },
     "metadata": {},
     "output_type": "display_data"
    }
   ],
   "source": [
    "dim(dfClass)"
   ]
  },
  {
   "cell_type": "markdown",
   "id": "70685171",
   "metadata": {},
   "source": [
    "**> Selected Subset**"
   ]
  },
  {
   "cell_type": "code",
   "execution_count": 89,
   "id": "5ac5a693",
   "metadata": {},
   "outputs": [
    {
     "data": {
      "text/html": [
       "<table>\n",
       "<thead><tr><th scope=col>V4</th><th scope=col>V10</th><th scope=col>V12</th><th scope=col>V14</th><th scope=col>V17</th><th scope=col>Class</th></tr></thead>\n",
       "<tbody>\n",
       "\t<tr><td>1.3781552  </td><td> 0.09079417</td><td>-0.6178009 </td><td>-0.3111694 </td><td> 0.2079712 </td><td>0          </td></tr>\n",
       "\t<tr><td>0.4481541  </td><td>-0.16697441</td><td> 1.0652353 </td><td>-0.1437723 </td><td>-0.1148047 </td><td>0          </td></tr>\n",
       "</tbody>\n",
       "</table>\n"
      ],
      "text/latex": [
       "\\begin{tabular}{r|llllll}\n",
       " V4 & V10 & V12 & V14 & V17 & Class\\\\\n",
       "\\hline\n",
       "\t 1.3781552   &  0.09079417 & -0.6178009  & -0.3111694  &  0.2079712  & 0          \\\\\n",
       "\t 0.4481541   & -0.16697441 &  1.0652353  & -0.1437723  & -0.1148047  & 0          \\\\\n",
       "\\end{tabular}\n"
      ],
      "text/markdown": [
       "\n",
       "| V4 | V10 | V12 | V14 | V17 | Class |\n",
       "|---|---|---|---|---|---|\n",
       "| 1.3781552   |  0.09079417 | -0.6178009  | -0.3111694  |  0.2079712  | 0           |\n",
       "| 0.4481541   | -0.16697441 |  1.0652353  | -0.1437723  | -0.1148047  | 0           |\n",
       "\n"
      ],
      "text/plain": [
       "  V4        V10         V12        V14        V17        Class\n",
       "1 1.3781552  0.09079417 -0.6178009 -0.3111694  0.2079712 0    \n",
       "2 0.4481541 -0.16697441  1.0652353 -0.1437723 -0.1148047 0    "
      ]
     },
     "metadata": {},
     "output_type": "display_data"
    }
   ],
   "source": [
    "dfSubClass <- underDf[, c(5:5, 11:11, 13:13, 15:15, 18:18, 31:31)]\n",
    "head(dfSubClass, 2)"
   ]
  },
  {
   "cell_type": "code",
   "execution_count": null,
   "id": "3e083534",
   "metadata": {},
   "outputs": [],
   "source": []
  },
  {
   "cell_type": "markdown",
   "id": "94797260",
   "metadata": {},
   "source": [
    "**Split the Data into Training and Test Data**"
   ]
  },
  {
   "cell_type": "markdown",
   "id": "177854f2",
   "metadata": {},
   "source": [
    "**> Full Normal Data**"
   ]
  },
  {
   "cell_type": "code",
   "execution_count": 90,
   "id": "5dc69da4",
   "metadata": {},
   "outputs": [],
   "source": [
    "set.seed(102) \n",
    "sample3 = sample.split(dfClass$Amount, SplitRatio = .80)\n",
    "TrainClass = subset(dfClass, sample3 == TRUE)\n",
    "TestClass  = subset(dfClass, sample3 == FALSE)\n"
   ]
  },
  {
   "cell_type": "code",
   "execution_count": 131,
   "id": "2004cd07",
   "metadata": {},
   "outputs": [
    {
     "data": {
      "text/html": [
       "<ol class=list-inline>\n",
       "\t<li>52892</li>\n",
       "\t<li>28</li>\n",
       "</ol>\n"
      ],
      "text/latex": [
       "\\begin{enumerate*}\n",
       "\\item 52892\n",
       "\\item 28\n",
       "\\end{enumerate*}\n"
      ],
      "text/markdown": [
       "1. 52892\n",
       "2. 28\n",
       "\n",
       "\n"
      ],
      "text/plain": [
       "[1] 52892    28"
      ]
     },
     "metadata": {},
     "output_type": "display_data"
    }
   ],
   "source": [
    "dim(TestClass)"
   ]
  },
  {
   "cell_type": "markdown",
   "id": "c4604c2b",
   "metadata": {},
   "source": [
    "**> Select Subset**"
   ]
  },
  {
   "cell_type": "code",
   "execution_count": 91,
   "id": "f041c6ae",
   "metadata": {},
   "outputs": [],
   "source": [
    "set.seed(103) \n",
    "sample4 = sample.split(dfSubClass$V4, SplitRatio = .80)\n",
    "TrainClassSub = subset(dfSubClass, sample4 == TRUE)\n",
    "TestClassSub  = subset(dfSubClass, sample4 == FALSE)\n"
   ]
  },
  {
   "cell_type": "code",
   "execution_count": null,
   "id": "512a17bf",
   "metadata": {},
   "outputs": [],
   "source": []
  },
  {
   "cell_type": "markdown",
   "id": "88e7d6bd",
   "metadata": {},
   "source": [
    "**Undersampling Training Data Only**"
   ]
  },
  {
   "cell_type": "markdown",
   "id": "5dd992a1",
   "metadata": {},
   "source": [
    "**> Full Normal Dataset**"
   ]
  },
  {
   "cell_type": "code",
   "execution_count": 93,
   "id": "587d60b1",
   "metadata": {},
   "outputs": [
    {
     "data": {
      "text/plain": [
       "\n",
       "     0      1 \n",
       "231496    419 "
      ]
     },
     "metadata": {},
     "output_type": "display_data"
    }
   ],
   "source": [
    "table(TrainClass$Class)"
   ]
  },
  {
   "cell_type": "code",
   "execution_count": 94,
   "id": "77676c37",
   "metadata": {},
   "outputs": [
    {
     "data": {
      "text/plain": [
       "\n",
       "  0   1 \n",
       "419 419 "
      ]
     },
     "metadata": {},
     "output_type": "display_data"
    }
   ],
   "source": [
    "# Random Under-Sampling (RUS)\n",
    "\n",
    "# set the number of non-fraud records to under sample to\n",
    "n_fraud <- 419\n",
    "new_frac_fraud <- 0.50\n",
    "new_n_total <- n_fraud/new_frac_fraud\n",
    "\n",
    "undersampling_result <- ovun.sample(Class ~ .,\n",
    "                                   data = TrainClass,\n",
    "                                   method = \"under\",\n",
    "                                   N = new_n_total,\n",
    "                                   seed =123)\n",
    "\n",
    "TrainClass <- undersampling_result$data\n",
    "\n",
    "table(TrainClass$Class)"
   ]
  },
  {
   "cell_type": "code",
   "execution_count": 95,
   "id": "b20aa940",
   "metadata": {},
   "outputs": [
    {
     "data": {
      "text/html": [
       "<ol class=list-inline>\n",
       "\t<li>838</li>\n",
       "\t<li>28</li>\n",
       "</ol>\n"
      ],
      "text/latex": [
       "\\begin{enumerate*}\n",
       "\\item 838\n",
       "\\item 28\n",
       "\\end{enumerate*}\n"
      ],
      "text/markdown": [
       "1. 838\n",
       "2. 28\n",
       "\n",
       "\n"
      ],
      "text/plain": [
       "[1] 838  28"
      ]
     },
     "metadata": {},
     "output_type": "display_data"
    }
   ],
   "source": [
    "dim(TrainClass)"
   ]
  },
  {
   "cell_type": "code",
   "execution_count": null,
   "id": "96b4c5b1",
   "metadata": {},
   "outputs": [],
   "source": []
  },
  {
   "cell_type": "code",
   "execution_count": null,
   "id": "033bcafb",
   "metadata": {},
   "outputs": [],
   "source": []
  },
  {
   "cell_type": "markdown",
   "id": "991a2360",
   "metadata": {},
   "source": [
    "**> Select Feature Subset**"
   ]
  },
  {
   "cell_type": "code",
   "execution_count": 92,
   "id": "b5574e40",
   "metadata": {},
   "outputs": [
    {
     "data": {
      "text/plain": [
       "\n",
       "     0      1 \n",
       "227453    392 "
      ]
     },
     "metadata": {},
     "output_type": "display_data"
    }
   ],
   "source": [
    "table(TrainClassSub$Class)"
   ]
  },
  {
   "cell_type": "code",
   "execution_count": 96,
   "id": "9441472d",
   "metadata": {},
   "outputs": [
    {
     "data": {
      "text/plain": [
       "\n",
       "  0   1 \n",
       "392 392 "
      ]
     },
     "metadata": {},
     "output_type": "display_data"
    }
   ],
   "source": [
    "# Random Under-Sampling (RUS)\n",
    "\n",
    "# set the number of non-fraud records to under sample to\n",
    "n_fraud <- 392\n",
    "new_frac_fraud <- 0.50\n",
    "new_n_total <- n_fraud/new_frac_fraud\n",
    "\n",
    "undersampling_result <- ovun.sample(Class ~ .,\n",
    "                                   data = TrainClassSub,\n",
    "                                   method = \"under\",\n",
    "                                   N = new_n_total,\n",
    "                                   seed =123)\n",
    "\n",
    "TrainClassSub <- undersampling_result$data\n",
    "\n",
    "table(TrainClassSub$Class)"
   ]
  },
  {
   "cell_type": "code",
   "execution_count": 97,
   "id": "221c832b",
   "metadata": {},
   "outputs": [
    {
     "data": {
      "text/html": [
       "<ol class=list-inline>\n",
       "\t<li>784</li>\n",
       "\t<li>6</li>\n",
       "</ol>\n"
      ],
      "text/latex": [
       "\\begin{enumerate*}\n",
       "\\item 784\n",
       "\\item 6\n",
       "\\end{enumerate*}\n"
      ],
      "text/markdown": [
       "1. 784\n",
       "2. 6\n",
       "\n",
       "\n"
      ],
      "text/plain": [
       "[1] 784   6"
      ]
     },
     "metadata": {},
     "output_type": "display_data"
    }
   ],
   "source": [
    "dim(TrainClassSub)"
   ]
  },
  {
   "cell_type": "markdown",
   "id": "ddaae92e",
   "metadata": {},
   "source": [
    "**Separate Predictor Features and Target Feature**"
   ]
  },
  {
   "cell_type": "markdown",
   "id": "345defa8",
   "metadata": {},
   "source": [
    "**> Full Normal Dataset**"
   ]
  },
  {
   "cell_type": "code",
   "execution_count": 98,
   "id": "5679bbf7",
   "metadata": {},
   "outputs": [],
   "source": [
    "# drop the target variable\n",
    "XTrainClass <- TrainClass[, c(1:27)]\n",
    "yTrainClass <- subset(TrainClass, select=c(\"Class\"))\n",
    "\n",
    "XTestClass <- TestClass[, c(1:27)]\n",
    "yTestClass <- subset(TestClass, select=c(\"Class\"))"
   ]
  },
  {
   "cell_type": "markdown",
   "id": "7a7b59a3",
   "metadata": {},
   "source": [
    "**> Select Feature Subset**"
   ]
  },
  {
   "cell_type": "code",
   "execution_count": 99,
   "id": "3fa0c913",
   "metadata": {},
   "outputs": [],
   "source": [
    "# drop the target variable\n",
    "yTrainClassSub <- subset(TrainClassSub, select=c(\"Class\"))\n",
    "yTestClassSub <- subset(TestClassSub, select=c(\"Class\"))\n",
    "XTrainClassSub <- TrainClassSub[, c(1:5)]\n",
    "XTestClassSub <- TestClassSub[, c(1:5)]"
   ]
  },
  {
   "cell_type": "code",
   "execution_count": null,
   "id": "5b2f9bd5",
   "metadata": {},
   "outputs": [],
   "source": []
  },
  {
   "cell_type": "code",
   "execution_count": null,
   "id": "fcc35405",
   "metadata": {},
   "outputs": [],
   "source": []
  },
  {
   "cell_type": "markdown",
   "id": "4f70855f",
   "metadata": {},
   "source": [
    "### Modeling"
   ]
  },
  {
   "cell_type": "markdown",
   "id": "0d747468",
   "metadata": {},
   "source": [
    "**> Full Normal Dataset**"
   ]
  },
  {
   "cell_type": "code",
   "execution_count": 35,
   "id": "3da1b727",
   "metadata": {},
   "outputs": [
    {
     "name": "stderr",
     "output_type": "stream",
     "text": [
      "Warning message:\n",
      "\"glm.fit: fitted probabilities numerically 0 or 1 occurred\"Warning message:\n",
      "\"glm.fit: fitted probabilities numerically 0 or 1 occurred\""
     ]
    }
   ],
   "source": [
    "# LR model with the kmeans cluster result as the target variable\n",
    "lrModelK2 <- glm(cluster ~ ., data = kmeanDf, family = binomial(), maxit = 100)\n",
    "\n"
   ]
  },
  {
   "cell_type": "code",
   "execution_count": 100,
   "id": "cf722315",
   "metadata": {},
   "outputs": [
    {
     "name": "stderr",
     "output_type": "stream",
     "text": [
      "Warning message:\n",
      "\"glm.fit: fitted probabilities numerically 0 or 1 occurred\""
     ]
    }
   ],
   "source": [
    "# LR model with original class labels as the target variable\n",
    "lrModelOrig <- glm(Class ~ ., data = TrainClass, family = binomial(), maxit = 100)"
   ]
  },
  {
   "cell_type": "markdown",
   "id": "c22f1f5c",
   "metadata": {},
   "source": [
    "**> Selected Subset**"
   ]
  },
  {
   "cell_type": "code",
   "execution_count": 39,
   "id": "5bf27214",
   "metadata": {},
   "outputs": [
    {
     "name": "stderr",
     "output_type": "stream",
     "text": [
      "Warning message:\n",
      "\"glm.fit: algorithm did not converge\"Warning message:\n",
      "\"glm.fit: fitted probabilities numerically 0 or 1 occurred\"Warning message:\n",
      "\"glm.fit: fitted probabilities numerically 0 or 1 occurred\""
     ]
    }
   ],
   "source": [
    "# LR model with the kmeans cluster result as the target variable\n",
    "lrModelK2Sub <- glm(cluster ~ ., data = kmeanDfSub, family = binomial(), maxit = 100)\n",
    "\n"
   ]
  },
  {
   "cell_type": "code",
   "execution_count": 102,
   "id": "d834b009",
   "metadata": {},
   "outputs": [
    {
     "name": "stderr",
     "output_type": "stream",
     "text": [
      "Warning message:\n",
      "\"glm.fit: fitted probabilities numerically 0 or 1 occurred\""
     ]
    }
   ],
   "source": [
    "# LR model with original class labels as the target variable\n",
    "lrModelOrigSub <- glm(Class ~ ., data = TrainClassSub, family = binomial(), maxit = 100)"
   ]
  },
  {
   "cell_type": "code",
   "execution_count": null,
   "id": "7984b768",
   "metadata": {},
   "outputs": [],
   "source": []
  },
  {
   "cell_type": "markdown",
   "id": "a88455f5",
   "metadata": {},
   "source": [
    "### Predictions"
   ]
  },
  {
   "cell_type": "markdown",
   "id": "f7fa1abd",
   "metadata": {},
   "source": [
    "**> Full Normal Data**"
   ]
  },
  {
   "cell_type": "code",
   "execution_count": 42,
   "id": "12557ab3",
   "metadata": {},
   "outputs": [],
   "source": [
    "# predictions on training data\n",
    "\n",
    "# make predictions on kmeans clusters as target variable\n",
    "predLRk2 <- predict(lrModelK2, XkmeanDf)\n",
    "\n"
   ]
  },
  {
   "cell_type": "code",
   "execution_count": 105,
   "id": "85f0f8bd",
   "metadata": {},
   "outputs": [],
   "source": [
    "# make predictions on original target labels\n",
    "predLROrig <- predict(lrModelOrig, XTrainClass)\n"
   ]
  },
  {
   "cell_type": "markdown",
   "id": "34909064",
   "metadata": {},
   "source": [
    "**> Selected Subset**"
   ]
  },
  {
   "cell_type": "code",
   "execution_count": 44,
   "id": "105aa511",
   "metadata": {},
   "outputs": [],
   "source": [
    "# predictions on training data\n",
    "\n",
    "# make predictions on kmeans clusters as target variable\n",
    "predLRk2Sub <- predict(lrModelK2Sub, XkmeanDfSub)\n"
   ]
  },
  {
   "cell_type": "code",
   "execution_count": 107,
   "id": "3e769ff9",
   "metadata": {},
   "outputs": [],
   "source": [
    "# make predictions on original target labels\n",
    "predLROrigSub <- predict(lrModelOrigSub, XTrainClassSub)"
   ]
  },
  {
   "cell_type": "code",
   "execution_count": 108,
   "id": "2a0f0b69",
   "metadata": {},
   "outputs": [],
   "source": [
    "\n",
    "predLRk2 <- as.numeric(as.character(predLRk2))\n",
    "\n",
    "predLROrig <- as.numeric(as.character(predLROrig))\n",
    "\n",
    "predLRk2Sub <- as.numeric(as.character(predLRk2Sub))\n",
    "\n",
    "predLROrigSub <- as.numeric(as.character(predLROrigSub))"
   ]
  },
  {
   "cell_type": "code",
   "execution_count": null,
   "id": "80ea0583",
   "metadata": {},
   "outputs": [],
   "source": []
  },
  {
   "cell_type": "markdown",
   "id": "d61789f0",
   "metadata": {},
   "source": [
    "### Evaluate Training Models"
   ]
  },
  {
   "cell_type": "markdown",
   "id": "f2ebf8c9",
   "metadata": {},
   "source": [
    "**> Full Normal Dataset**"
   ]
  },
  {
   "cell_type": "markdown",
   "id": "be12b605",
   "metadata": {},
   "source": [
    "**Confusion Matrix**"
   ]
  },
  {
   "cell_type": "code",
   "execution_count": 47,
   "id": "6709faf5",
   "metadata": {},
   "outputs": [],
   "source": [
    "# https://www.journaldev.com/47628/f1-score-in-r\n",
    "\n",
    "#error metrics -- Confusion Matrix\n",
    "err_metric=function(CM)\n",
    "{\n",
    "  TN =CM[1,1]\n",
    "  TP =CM[2,2]\n",
    "  FP =CM[1,2]\n",
    "  FN =CM[2,1]\n",
    "  precision =(TP)/(TP+FP)\n",
    "  recall_score =(TP)/(TP+FN)\n",
    " \n",
    "  f1_score=2*((precision*recall_score)/(precision+recall_score))\n",
    "  accuracy_model  =(TP+TN)/(TP+TN+FP+FN)\n",
    "  False_positive_rate =(FP)/(FP+TN)\n",
    "  False_negative_rate =(FN)/(FN+TP)\n",
    " \n",
    "  print(paste(\"Precision value of the model: \",round(precision,2)))\n",
    "  print(paste(\"Accuracy of the model: \",round(accuracy_model,2)))\n",
    "  print(paste(\"Recall value of the model: \",round(recall_score,2)))\n",
    "  print(paste(\"False Positive rate of the model: \",round(False_positive_rate,2)))\n",
    " \n",
    "  print(paste(\"False Negative rate of the model: \",round(False_negative_rate,2)))\n",
    " \n",
    "  print(paste(\"f1 score of the model: \",round(f1_score,2)))\n",
    "}\n",
    "\n"
   ]
  },
  {
   "cell_type": "code",
   "execution_count": 48,
   "id": "b6278c27",
   "metadata": {},
   "outputs": [
    {
     "name": "stdout",
     "output_type": "stream",
     "text": [
      "   predLRk2\n",
      "        0     1\n",
      "  0  1199    26\n",
      "  1    28 46423\n",
      "[1] \"Precision value of the model:  1\"\n",
      "[1] \"Accuracy of the model:  1\"\n",
      "[1] \"Recall value of the model:  1\"\n",
      "[1] \"False Positive rate of the model:  0.02\"\n",
      "[1] \"False Negative rate of the model:  0\"\n",
      "[1] \"f1 score of the model:  1\"\n"
     ]
    }
   ],
   "source": [
    "# make confusion matrix with kmean clusters as target label\n",
    "predLRk2 <- ifelse(predLRk2 > 0.5,1,0) # Probability check\n",
    "CM= table(ykmeanDf$cluster, predLRk2)\n",
    "print(CM)\n",
    "err_metric(CM)"
   ]
  },
  {
   "cell_type": "code",
   "execution_count": 49,
   "id": "821780fa",
   "metadata": {},
   "outputs": [
    {
     "data": {
      "text/html": [
       "0.999418729817007"
      ],
      "text/latex": [
       "0.999418729817007"
      ],
      "text/markdown": [
       "0.999418729817007"
      ],
      "text/plain": [
       "[1] 0.9994187"
      ]
     },
     "metadata": {},
     "output_type": "display_data"
    },
    {
     "data": {
      "text/html": [
       "0.999397214268799"
      ],
      "text/latex": [
       "0.999397214268799"
      ],
      "text/markdown": [
       "0.999397214268799"
      ],
      "text/plain": [
       "[1] 0.9993972"
      ]
     },
     "metadata": {},
     "output_type": "display_data"
    }
   ],
   "source": [
    "F1_Score(y_pred =predLRk2, y_true = ykmeanDf$cluster, positive = \"1\")\n",
    "Recall(y_pred = predLRk2, y_true = ykmeanDf$cluster, positive = \"1\")"
   ]
  },
  {
   "cell_type": "code",
   "execution_count": null,
   "id": "a8d3c295",
   "metadata": {},
   "outputs": [],
   "source": []
  },
  {
   "cell_type": "code",
   "execution_count": 109,
   "id": "e91a8475",
   "metadata": {},
   "outputs": [
    {
     "name": "stdout",
     "output_type": "stream",
     "text": [
      "   predLROrig\n",
      "      0   1\n",
      "  0 413   6\n",
      "  1  33 386\n",
      "[1] \"Precision value of the model:  0.98\"\n",
      "[1] \"Accuracy of the model:  0.95\"\n",
      "[1] \"Recall value of the model:  0.92\"\n",
      "[1] \"False Positive rate of the model:  0.01\"\n",
      "[1] \"False Negative rate of the model:  0.08\"\n",
      "[1] \"f1 score of the model:  0.95\"\n"
     ]
    }
   ],
   "source": [
    "# make confusion matrix with kmean clusters as target label\n",
    "predLROrig <- ifelse(predLROrig > 0.5,1,0) # Probability check\n",
    "CM= table(yTrainClass$Class, predLROrig)\n",
    "print(CM)\n",
    "err_metric(CM)"
   ]
  },
  {
   "cell_type": "code",
   "execution_count": 110,
   "id": "3aa5c22d",
   "metadata": {},
   "outputs": [
    {
     "data": {
      "text/html": [
       "0.951911220715167"
      ],
      "text/latex": [
       "0.951911220715167"
      ],
      "text/markdown": [
       "0.951911220715167"
      ],
      "text/plain": [
       "[1] 0.9519112"
      ]
     },
     "metadata": {},
     "output_type": "display_data"
    },
    {
     "data": {
      "text/html": [
       "0.921241050119332"
      ],
      "text/latex": [
       "0.921241050119332"
      ],
      "text/markdown": [
       "0.921241050119332"
      ],
      "text/plain": [
       "[1] 0.9212411"
      ]
     },
     "metadata": {},
     "output_type": "display_data"
    }
   ],
   "source": [
    "F1_Score(y_pred = predLROrig, y_true = yTrainClass$Class, positive = \"1\")\n",
    "Recall(y_pred = predLROrig, y_true = yTrainClass$Class, positive = \"1\")"
   ]
  },
  {
   "cell_type": "code",
   "execution_count": null,
   "id": "206c65e0",
   "metadata": {},
   "outputs": [],
   "source": []
  },
  {
   "cell_type": "code",
   "execution_count": null,
   "id": "16a37fa8",
   "metadata": {},
   "outputs": [],
   "source": []
  },
  {
   "cell_type": "markdown",
   "id": "2141d9cd",
   "metadata": {},
   "source": [
    "**> Select Subset**"
   ]
  },
  {
   "cell_type": "code",
   "execution_count": 58,
   "id": "7521ab85",
   "metadata": {},
   "outputs": [
    {
     "name": "stdout",
     "output_type": "stream",
     "text": [
      "   predLRk2Sub\n",
      "        0     1\n",
      "  0 23076     0\n",
      "  1     0 22492\n",
      "[1] \"Precision value of the model:  1\"\n",
      "[1] \"Accuracy of the model:  1\"\n",
      "[1] \"Recall value of the model:  1\"\n",
      "[1] \"False Positive rate of the model:  0\"\n",
      "[1] \"False Negative rate of the model:  0\"\n",
      "[1] \"f1 score of the model:  1\"\n"
     ]
    }
   ],
   "source": [
    "# make confusion matrix with kmean clusters as target label\n",
    "predLRk2Sub <- ifelse(predLRk2Sub > 0.5,1,0) # Probability check\n",
    "CM= table(ykmeanDfSub$cluster, predLRk2Sub)\n",
    "print(CM)\n",
    "err_metric(CM)"
   ]
  },
  {
   "cell_type": "code",
   "execution_count": 59,
   "id": "1c1b5f6c",
   "metadata": {},
   "outputs": [
    {
     "data": {
      "text/html": [
       "1"
      ],
      "text/latex": [
       "1"
      ],
      "text/markdown": [
       "1"
      ],
      "text/plain": [
       "[1] 1"
      ]
     },
     "metadata": {},
     "output_type": "display_data"
    },
    {
     "data": {
      "text/html": [
       "1"
      ],
      "text/latex": [
       "1"
      ],
      "text/markdown": [
       "1"
      ],
      "text/plain": [
       "[1] 1"
      ]
     },
     "metadata": {},
     "output_type": "display_data"
    }
   ],
   "source": [
    "F1_Score(y_pred =predLRk2Sub, y_true = ykmeanDfSub$cluster, positive = \"1\")\n",
    "Recall(y_pred = predLRk2Sub, y_true = ykmeanDfSub$cluster, positive = \"1\")"
   ]
  },
  {
   "cell_type": "code",
   "execution_count": null,
   "id": "526c2594",
   "metadata": {},
   "outputs": [],
   "source": []
  },
  {
   "cell_type": "markdown",
   "id": "4ed87fa1",
   "metadata": {},
   "source": [
    "### Test Data"
   ]
  },
  {
   "cell_type": "markdown",
   "id": "84801b27",
   "metadata": {},
   "source": [
    "**Create Clusters for Full and Subset Test Datasets**"
   ]
  },
  {
   "cell_type": "code",
   "execution_count": null,
   "id": "0a7b22a7",
   "metadata": {},
   "outputs": [],
   "source": []
  },
  {
   "cell_type": "markdown",
   "id": "2eca8025",
   "metadata": {},
   "source": [
    "**> Full Normal Dataset**"
   ]
  },
  {
   "cell_type": "code",
   "execution_count": 64,
   "id": "fd5a90c1",
   "metadata": {},
   "outputs": [
    {
     "data": {
      "text/html": [
       "<ol class=list-inline>\n",
       "\t<li>460</li>\n",
       "\t<li>8825</li>\n",
       "</ol>\n"
      ],
      "text/latex": [
       "\\begin{enumerate*}\n",
       "\\item 460\n",
       "\\item 8825\n",
       "\\end{enumerate*}\n"
      ],
      "text/markdown": [
       "1. 460\n",
       "2. 8825\n",
       "\n",
       "\n"
      ],
      "text/plain": [
       "[1]  460 8825"
      ]
     },
     "metadata": {},
     "output_type": "display_data"
    },
    {
     "data": {
      "text/plain": [
       "   \n",
       "       1    2\n",
       "  1    1  459\n",
       "  2   27 8798"
      ]
     },
     "metadata": {},
     "output_type": "display_data"
    },
    {
     "data": {
      "image/png": "[encoded data removed]",
      "text/plain": [
       "plot without title"
      ]
     },
     "metadata": {},
     "output_type": "display_data"
    }
   ],
   "source": [
    "# Compute k-means with k = 2\n",
    "set.seed(567)\n",
    "resultK2Test <- kmeans(XTest, 2, iter.max = 15, nstart = 50)\n",
    "# Cluster size\n",
    "resultK2Test$size\n",
    "table(resultK2Test$cluster, yTest$Class)\n",
    "# Add the cluster classifications to the original data\n",
    "clustDfTest <- cbind(XTest, cluster = resultK2Test$cluster)\n",
    "\n",
    "# scatter plot of two significant features, colored by the clusters feature\n",
    "ggplot(clustDfTest, aes(x = V4, y = V14, color=cluster)) + geom_point(alpha = 0.4) + \n",
    "    labs(x = \"V4\", y = \"V14\")\n"
   ]
  },
  {
   "cell_type": "markdown",
   "id": "8558fa16",
   "metadata": {},
   "source": [
    "**> Select Subset**"
   ]
  },
  {
   "cell_type": "code",
   "execution_count": 65,
   "id": "9c39618e",
   "metadata": {},
   "outputs": [
    {
     "data": {
      "text/html": [
       "<ol class=list-inline>\n",
       "\t<li>5818</li>\n",
       "\t<li>5575</li>\n",
       "</ol>\n"
      ],
      "text/latex": [
       "\\begin{enumerate*}\n",
       "\\item 5818\n",
       "\\item 5575\n",
       "\\end{enumerate*}\n"
      ],
      "text/markdown": [
       "1. 5818\n",
       "2. 5575\n",
       "\n",
       "\n"
      ],
      "text/plain": [
       "[1] 5818 5575"
      ]
     },
     "metadata": {},
     "output_type": "display_data"
    },
    {
     "data": {
      "text/plain": [
       "   \n",
       "       1    2\n",
       "  1   23 5795\n",
       "  2    0 5575"
      ]
     },
     "metadata": {},
     "output_type": "display_data"
    },
    {
     "data": {
      "image/png": "[encoded data removed]",
      "text/plain": [
       "plot without title"
      ]
     },
     "metadata": {},
     "output_type": "display_data"
    }
   ],
   "source": [
    "# Compute k-means with k = 2\n",
    "set.seed(567)\n",
    "resultK2TestSub <- kmeans(XTestSub, 2, iter.max = 15, nstart = 50)\n",
    "# Cluster size\n",
    "resultK2TestSub$size\n",
    "table(resultK2TestSub$cluster, yTestSub$Class)\n",
    "# Add the cluster classifications to the original data\n",
    "clustDfTestSub <- cbind(XTestSub, cluster = resultK2TestSub$cluster)\n",
    "\n",
    "# scatter plot of two significant features, colored by the clusters feature\n",
    "ggplot(clustDfTestSub, aes(x = V4, y = V14, color=cluster)) + geom_point(alpha = 0.4) + \n",
    "    labs(x = \"V4\", y = \"V14\")"
   ]
  },
  {
   "cell_type": "code",
   "execution_count": null,
   "id": "ae1ec8e0",
   "metadata": {},
   "outputs": [],
   "source": []
  },
  {
   "cell_type": "markdown",
   "id": "34e65069",
   "metadata": {},
   "source": [
    "**Data Preparation**"
   ]
  },
  {
   "cell_type": "code",
   "execution_count": 66,
   "id": "14ee1265",
   "metadata": {},
   "outputs": [],
   "source": [
    "# Full Normal Dataset: change the cluster labels from 1 and 2 to 1 and 0 to match the Class labels from original dataframe\n",
    "#replicate the dataframe\n",
    "kmeanDfTest <- clustDfTest\n",
    "\n",
    "# replace the label values back to original 0 and 1\n",
    "kmeanDfTest[kmeanDfTest == 1] <- 1\n",
    "kmeanDfTest[kmeanDfTest == 2] <- 0\n",
    "\n",
    "# drop the target variable\n",
    "XkmeanDfTest <- kmeanDfTest[, c(1:27)]\n",
    "ykmeanDfTest <- subset(kmeanDfTest, select=c(\"cluster\"))\n",
    "\n",
    "# Select Subset: change the cluster labels from 1 and 2 to 1 and 0 to match the Class labels from original dataframe\n",
    "\n",
    "#replicate the dataframe\n",
    "kmeanDfTestSub <- clustDfTestSub\n",
    "\n",
    "# replace the label values back to original 0 and 1\n",
    "kmeanDfTestSub[kmeanDfTestSub == 1] <- 1\n",
    "kmeanDfTestSub[kmeanDfTestSub == 2] <- 0\n",
    "\n",
    "# drop the target variable\n",
    "XkmeanDfTestSub <- kmeanDfTestSub[, c(1:5)]\n",
    "ykmeanDfTestSub <- subset(kmeanDfTestSub, select=c(\"cluster\"))"
   ]
  },
  {
   "cell_type": "code",
   "execution_count": null,
   "id": "ebd1271c",
   "metadata": {},
   "outputs": [],
   "source": []
  },
  {
   "cell_type": "markdown",
   "id": "51533f37",
   "metadata": {},
   "source": [
    "### Predictions"
   ]
  },
  {
   "cell_type": "code",
   "execution_count": 117,
   "id": "d60c17e7",
   "metadata": {},
   "outputs": [],
   "source": [
    "# Full Normal Dataset\n",
    "\n",
    "# make predictions on kmeans clusters as target variable\n",
    "predLRk2Test <- predict(lrModelK2, XkmeanDfTest)\n",
    "\n",
    "# make predictions on original target labels\n",
    "predLROrigTest <- predict(lrModelOrig, XTestClass)\n",
    "\n",
    "\n",
    "# Select Subset\n",
    "\n",
    "# make predictions on kmeans clusters as target variable\n",
    "predLRk2TestSub <- predict(lrModelK2Sub, XkmeanDfTestSub)\n",
    "\n",
    "# make predictions on original target labels\n",
    "predLROrigTestSub <- predict(lrModelOrigSub, XTestClassSub)"
   ]
  },
  {
   "cell_type": "code",
   "execution_count": 118,
   "id": "b32b6119",
   "metadata": {},
   "outputs": [],
   "source": [
    "\n",
    "predLRk2Test <- as.numeric(as.character(predLRk2Test))\n",
    "\n",
    "predLROrigTest <- as.numeric(as.character(predLROrigTest))\n",
    "\n",
    "\n",
    "predLRk2TestSub <- as.numeric(as.character(predLRk2TestSub))\n",
    "\n",
    "predLROrigTestSub <- as.numeric(as.character(predLROrigTestSub))"
   ]
  },
  {
   "cell_type": "code",
   "execution_count": null,
   "id": "613f6d9e",
   "metadata": {},
   "outputs": [],
   "source": []
  },
  {
   "cell_type": "code",
   "execution_count": 73,
   "id": "20349a74",
   "metadata": {},
   "outputs": [
    {
     "name": "stdout",
     "output_type": "stream",
     "text": [
      "   predLRk2Test\n",
      "       0    1\n",
      "  0    0 8825\n",
      "  1   19  441\n",
      "[1] \"Precision value of the model:  0.05\"\n",
      "[1] \"Accuracy of the model:  0.05\"\n",
      "[1] \"Recall value of the model:  0.96\"\n",
      "[1] \"False Positive rate of the model:  1\"\n",
      "[1] \"False Negative rate of the model:  0.04\"\n",
      "[1] \"f1 score of the model:  0.09\"\n"
     ]
    }
   ],
   "source": [
    "# make confusion matrix with kmean clusters as target label\n",
    "predLRk2Test <- ifelse(predLRk2Test > 0.5,1,0) # Probability check\n",
    "CM= table(ykmeanDfTest$cluster, predLRk2Test)\n",
    "print(CM)\n",
    "err_metric(CM)\n"
   ]
  },
  {
   "cell_type": "code",
   "execution_count": 74,
   "id": "afa99c2b",
   "metadata": {},
   "outputs": [
    {
     "data": {
      "text/html": [
       "0.0906847624922887"
      ],
      "text/latex": [
       "0.0906847624922887"
      ],
      "text/markdown": [
       "0.0906847624922887"
      ],
      "text/plain": [
       "[1] 0.09068476"
      ]
     },
     "metadata": {},
     "output_type": "display_data"
    },
    {
     "data": {
      "text/html": [
       "0.958695652173913"
      ],
      "text/latex": [
       "0.958695652173913"
      ],
      "text/markdown": [
       "0.958695652173913"
      ],
      "text/plain": [
       "[1] 0.9586957"
      ]
     },
     "metadata": {},
     "output_type": "display_data"
    }
   ],
   "source": [
    "F1_Score(y_pred = predLRk2Test, y_true = ykmeanDfTest$cluster, positive = \"1\")\n",
    "Recall(y_pred = predLRk2Test, y_true = ykmeanDfTest$cluster, positive = \"1\")"
   ]
  },
  {
   "cell_type": "code",
   "execution_count": null,
   "id": "e15b5494",
   "metadata": {},
   "outputs": [],
   "source": []
  },
  {
   "cell_type": "code",
   "execution_count": 121,
   "id": "7b76302c",
   "metadata": {},
   "outputs": [
    {
     "name": "stdout",
     "output_type": "stream",
     "text": [
      "   predLROrigTest\n",
      "        0     1\n",
      "  0 51771  1048\n",
      "  1     7    66\n",
      "[1] \"Precision value of the model:  0.06\"\n",
      "[1] \"Accuracy of the model:  0.98\"\n",
      "[1] \"Recall value of the model:  0.9\"\n",
      "[1] \"False Positive rate of the model:  0.02\"\n",
      "[1] \"False Negative rate of the model:  0.1\"\n",
      "[1] \"f1 score of the model:  0.11\"\n"
     ]
    }
   ],
   "source": [
    "# make confusion matrix with  original labels as target label\n",
    "predLROrigTest <- ifelse(predLROrigTest > 0.5,1,0) # Probability check\n",
    "CM= table(yTestClass$Class, predLROrigTest)\n",
    "print(CM)\n",
    "err_metric(CM)"
   ]
  },
  {
   "cell_type": "code",
   "execution_count": 122,
   "id": "b1a8a850",
   "metadata": {},
   "outputs": [
    {
     "data": {
      "text/html": [
       "0.111204717775906"
      ],
      "text/latex": [
       "0.111204717775906"
      ],
      "text/markdown": [
       "0.111204717775906"
      ],
      "text/plain": [
       "[1] 0.1112047"
      ]
     },
     "metadata": {},
     "output_type": "display_data"
    },
    {
     "data": {
      "text/html": [
       "0.904109589041096"
      ],
      "text/latex": [
       "0.904109589041096"
      ],
      "text/markdown": [
       "0.904109589041096"
      ],
      "text/plain": [
       "[1] 0.9041096"
      ]
     },
     "metadata": {},
     "output_type": "display_data"
    }
   ],
   "source": [
    "F1_Score(y_pred = predLROrigTest, y_true = yTestClass$Class, positive = \"1\")\n",
    "Recall(y_pred = predLROrigTest, y_true = yTestClass$Class, positive = \"1\")"
   ]
  },
  {
   "cell_type": "code",
   "execution_count": null,
   "id": "50570e2b",
   "metadata": {},
   "outputs": [],
   "source": []
  },
  {
   "cell_type": "code",
   "execution_count": null,
   "id": "4a262f3b",
   "metadata": {},
   "outputs": [],
   "source": []
  },
  {
   "cell_type": "code",
   "execution_count": 81,
   "id": "903095a6",
   "metadata": {},
   "outputs": [
    {
     "name": "stdout",
     "output_type": "stream",
     "text": [
      "   predLRk2TestSub\n",
      "       0    1\n",
      "  0   11 5564\n",
      "  1 5753   65\n",
      "[1] \"Precision value of the model:  0.01\"\n",
      "[1] \"Accuracy of the model:  0.01\"\n",
      "[1] \"Recall value of the model:  0.01\"\n",
      "[1] \"False Positive rate of the model:  1\"\n",
      "[1] \"False Negative rate of the model:  0.99\"\n",
      "[1] \"f1 score of the model:  0.01\"\n"
     ]
    }
   ],
   "source": [
    "# make confusion matrix with kmean clusters as target label\n",
    "predLRk2TestSub <- ifelse(predLRk2TestSub > 0.5,1,0) # Probability check\n",
    "CM= table(ykmeanDfTestSub$cluster, predLRk2TestSub)\n",
    "print(CM)\n",
    "err_metric(CM)"
   ]
  },
  {
   "cell_type": "code",
   "execution_count": 82,
   "id": "0c5a0991",
   "metadata": {},
   "outputs": [
    {
     "data": {
      "text/html": [
       "0.0113566873416616"
      ],
      "text/latex": [
       "0.0113566873416616"
      ],
      "text/markdown": [
       "0.0113566873416616"
      ],
      "text/plain": [
       "[1] 0.01135669"
      ]
     },
     "metadata": {},
     "output_type": "display_data"
    },
    {
     "data": {
      "text/html": [
       "0.0111722241320041"
      ],
      "text/latex": [
       "0.0111722241320041"
      ],
      "text/markdown": [
       "0.0111722241320041"
      ],
      "text/plain": [
       "[1] 0.01117222"
      ]
     },
     "metadata": {},
     "output_type": "display_data"
    }
   ],
   "source": [
    "F1_Score(y_pred =predLRk2TestSub, y_true = ykmeanDfTestSub$cluster, positive = \"1\")\n",
    "Recall(y_pred = predLRk2TestSub, y_true = ykmeanDfTestSub$cluster, positive = \"1\")"
   ]
  },
  {
   "cell_type": "code",
   "execution_count": null,
   "id": "99ac281a",
   "metadata": {},
   "outputs": [],
   "source": []
  },
  {
   "cell_type": "code",
   "execution_count": 125,
   "id": "2c8ff7b0",
   "metadata": {},
   "outputs": [
    {
     "name": "stdout",
     "output_type": "stream",
     "text": [
      "   predLROrigTestSub\n",
      "        0     1\n",
      "  0 56037   825\n",
      "  1    16    84\n",
      "[1] \"Precision value of the model:  0.09\"\n",
      "[1] \"Accuracy of the model:  0.99\"\n",
      "[1] \"Recall value of the model:  0.84\"\n",
      "[1] \"False Positive rate of the model:  0.01\"\n",
      "[1] \"False Negative rate of the model:  0.16\"\n",
      "[1] \"f1 score of the model:  0.17\"\n"
     ]
    }
   ],
   "source": [
    "# make confusion matrix with original labels as target label\n",
    "predLROrigTestSub <- ifelse(predLROrigTestSub > 0.5,1,0) # Probability check\n",
    "CM= table(yTestClassSub$Class, predLROrigTestSub)\n",
    "print(CM)\n",
    "err_metric(CM)"
   ]
  },
  {
   "cell_type": "code",
   "execution_count": 126,
   "id": "bf88bd32",
   "metadata": {},
   "outputs": [
    {
     "data": {
      "text/html": [
       "0.166501486620416"
      ],
      "text/latex": [
       "0.166501486620416"
      ],
      "text/markdown": [
       "0.166501486620416"
      ],
      "text/plain": [
       "[1] 0.1665015"
      ]
     },
     "metadata": {},
     "output_type": "display_data"
    },
    {
     "data": {
      "text/html": [
       "0.84"
      ],
      "text/latex": [
       "0.84"
      ],
      "text/markdown": [
       "0.84"
      ],
      "text/plain": [
       "[1] 0.84"
      ]
     },
     "metadata": {},
     "output_type": "display_data"
    }
   ],
   "source": [
    "F1_Score(y_pred = predLROrigTestSub, y_true = yTestClassSub$Class, positive = \"1\")\n",
    "Recall(y_pred = predLROrigTestSub, y_true = yTestClassSub$Class, positive = \"1\")\n"
   ]
  },
  {
   "cell_type": "code",
   "execution_count": null,
   "id": "baee841e",
   "metadata": {},
   "outputs": [],
   "source": []
  }
 ],
 "metadata": {
  "kernelspec": {
   "display_name": "R",
   "language": "R",
   "name": "ir"
  },
  "language_info": {
   "codemirror_mode": "r",
   "file_extension": ".r",
   "mimetype": "text/x-r-source",
   "name": "R",
   "pygments_lexer": "r",
   "version": "3.6.1"
  }
 },
 "nbformat": 4,
 "nbformat_minor": 5
}
