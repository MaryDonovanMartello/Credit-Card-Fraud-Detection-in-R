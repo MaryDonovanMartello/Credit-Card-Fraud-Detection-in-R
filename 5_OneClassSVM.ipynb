{
 "cells": [
  {
   "cell_type": "markdown",
   "id": "da9d498f",
   "metadata": {},
   "source": [
    "# Anomaly Detection in R"
   ]
  },
  {
   "cell_type": "markdown",
   "id": "f5d7d465",
   "metadata": {},
   "source": [
    "# Mary Donovan Martello"
   ]
  },
  {
   "cell_type": "markdown",
   "id": "46d39d3b",
   "metadata": {},
   "source": [
    "## The goal of this project was to use R to design unsupervised predictive binary classification models to predict whether credit card transactions are fraudulent transactions.  The unsupervised learning methods I analyzed were One Class Support Vector Machine, K means clustering and DBSCAN clustering.  I compared the results of the unsupervised learning models with supervised classification models.  In each model, I tested a dataset with all the input features except the three non-normal features dropped.  I also tested each model with only the 5 features we identified as the most significant features.  This notebook is the One Class Support Vector Machine model and comparative supervised models."
   ]
  },
  {
   "cell_type": "markdown",
   "id": "ecc1413e",
   "metadata": {},
   "source": [
    "## Part 5:  One Class SVM vs Supervised SVM"
   ]
  },
  {
   "cell_type": "code",
   "execution_count": null,
   "id": "f322235f",
   "metadata": {},
   "outputs": [],
   "source": []
  },
  {
   "cell_type": "code",
   "execution_count": 2,
   "id": "a9751842",
   "metadata": {},
   "outputs": [],
   "source": [
    "# Importing required libraries\n",
    "library(dplyr)\n",
    "library(caret)\n",
    "library(ggplot2)\n",
    "library(caTools)\n",
    "library(ROSE)\n",
    "library(smotefamily)\n",
    "library(rpart)\n",
    "library(rpart.plot)\n",
    "library(psych)\n",
    "library(ltm)\n",
    "library(corrplot)\n",
    "library(e1071)\n",
    "library(data.table)\n",
    "library(factoextra)\n",
    "library(NbClust)\n",
    "library(rminer)\n",
    "library(MLmetrics)\n",
    "library(fpc)\n",
    "library(dbscan)\n",
    "library(e1071)\n",
    "library(caret)\n",
    "library(NLP)\n",
    "library(tm)\n",
    "\n",
    "suppressMessages(library(dplyr))\n",
    "suppressMessages(library(caTools))\n",
    "suppressMessages(library(ROSE))\n",
    "suppressMessages(library(smotefamily))\n",
    "suppressMessages(library(rpart.plot))\n",
    "suppressMessages(library(psych))\n",
    "suppressMessages(library(ltm))\n",
    "suppressMessages(library(corrplot))\n",
    "suppressMessages(library(e1071))\n",
    "suppressMessages(library(data.table))\n",
    "suppressMessages(library(factoextra))\n",
    "suppressMessages(library(NbClust))\n",
    "suppressMessages(library(rminer))\n",
    "suppressMessages(library(MLmetrics))\n",
    "suppressMessages(library(fpc))\n",
    "suppressMessages(library(dbscan))\n",
    "suppressMessages(library(e1071))\n",
    "suppressMessages(library(caret))\n",
    "suppressMessages(library(NLP))\n",
    "suppressMessages(library(tm))"
   ]
  },
  {
   "cell_type": "code",
   "execution_count": null,
   "id": "ad350435",
   "metadata": {},
   "outputs": [],
   "source": []
  },
  {
   "cell_type": "markdown",
   "id": "31025e7d",
   "metadata": {},
   "source": [
    "### This notebook uses the dataset that was randomly sampled in the 3_PreprocessDataProportional notebook due to the large size of the original dataset."
   ]
  },
  {
   "cell_type": "code",
   "execution_count": 3,
   "id": "ea0714dc",
   "metadata": {},
   "outputs": [],
   "source": [
    "#Loading the dataset\n",
    "dfAll <- read.csv('creditFraud20.csv')"
   ]
  },
  {
   "cell_type": "code",
   "execution_count": 4,
   "id": "fa5dbd76",
   "metadata": {},
   "outputs": [],
   "source": [
    "# turn off scientific notation\n",
    "options(scipen = 999)"
   ]
  },
  {
   "cell_type": "code",
   "execution_count": 5,
   "id": "c2114d00",
   "metadata": {},
   "outputs": [
    {
     "data": {
      "text/html": [
       "<table>\n",
       "<thead><tr><th scope=col>Time</th><th scope=col>V1</th><th scope=col>V2</th><th scope=col>V3</th><th scope=col>V4</th><th scope=col>V5</th><th scope=col>V6</th><th scope=col>V7</th><th scope=col>V8</th><th scope=col>V9</th><th scope=col>...</th><th scope=col>V21</th><th scope=col>V22</th><th scope=col>V23</th><th scope=col>V24</th><th scope=col>V25</th><th scope=col>V26</th><th scope=col>V27</th><th scope=col>V28</th><th scope=col>Amount</th><th scope=col>Class</th></tr></thead>\n",
       "<tbody>\n",
       "\t<tr><td>33209       </td><td>0.1579738   </td><td>-0.3135721  </td><td>-0.8799915  </td><td>-2.3710149  </td><td> 1.832820   </td><td> 3.3410355  </td><td>-0.8045669  </td><td> 0.01251665 </td><td>-0.9891706  </td><td>...         </td><td> 0.674059981</td><td>-0.8824945  </td><td>-0.26334793 </td><td>0.9186489   </td><td>1.0777848   </td><td>-0.3662552  </td><td>0.13243425  </td><td>0.22821326  </td><td>80.08       </td><td>0           </td></tr>\n",
       "\t<tr><td>77276       </td><td>1.2470640   </td><td>-0.3239156  </td><td> 0.9178714  </td><td>-0.7282708  </td><td>-1.180023   </td><td>-0.8173157  </td><td>-0.5494987  </td><td>-0.05259299 </td><td> 1.7699065  </td><td>...         </td><td>-0.008405836</td><td> 0.2422148  </td><td>-0.03969362 </td><td>0.4188275   </td><td>0.5116329   </td><td>-0.6877417  </td><td>0.09587039  </td><td>0.03602943  </td><td> 1.00       </td><td>0           </td></tr>\n",
       "</tbody>\n",
       "</table>\n"
      ],
      "text/latex": [
       "\\begin{tabular}{r|lllllllllllllllllllllllllllllll}\n",
       " Time & V1 & V2 & V3 & V4 & V5 & V6 & V7 & V8 & V9 & ... & V21 & V22 & V23 & V24 & V25 & V26 & V27 & V28 & Amount & Class\\\\\n",
       "\\hline\n",
       "\t 33209        & 0.1579738    & -0.3135721   & -0.8799915   & -2.3710149   &  1.832820    &  3.3410355   & -0.8045669   &  0.01251665  & -0.9891706   & ...          &  0.674059981 & -0.8824945   & -0.26334793  & 0.9186489    & 1.0777848    & -0.3662552   & 0.13243425   & 0.22821326   & 80.08        & 0           \\\\\n",
       "\t 77276        & 1.2470640    & -0.3239156   &  0.9178714   & -0.7282708   & -1.180023    & -0.8173157   & -0.5494987   & -0.05259299  &  1.7699065   & ...          & -0.008405836 &  0.2422148   & -0.03969362  & 0.4188275    & 0.5116329    & -0.6877417   & 0.09587039   & 0.03602943   &  1.00        & 0           \\\\\n",
       "\\end{tabular}\n"
      ],
      "text/markdown": [
       "\n",
       "| Time | V1 | V2 | V3 | V4 | V5 | V6 | V7 | V8 | V9 | ... | V21 | V22 | V23 | V24 | V25 | V26 | V27 | V28 | Amount | Class |\n",
       "|---|---|---|---|---|---|---|---|---|---|---|---|---|---|---|---|---|---|---|---|---|\n",
       "| 33209        | 0.1579738    | -0.3135721   | -0.8799915   | -2.3710149   |  1.832820    |  3.3410355   | -0.8045669   |  0.01251665  | -0.9891706   | ...          |  0.674059981 | -0.8824945   | -0.26334793  | 0.9186489    | 1.0777848    | -0.3662552   | 0.13243425   | 0.22821326   | 80.08        | 0            |\n",
       "| 77276        | 1.2470640    | -0.3239156   |  0.9178714   | -0.7282708   | -1.180023    | -0.8173157   | -0.5494987   | -0.05259299  |  1.7699065   | ...          | -0.008405836 |  0.2422148   | -0.03969362  | 0.4188275    | 0.5116329    | -0.6877417   | 0.09587039   | 0.03602943   |  1.00        | 0            |\n",
       "\n"
      ],
      "text/plain": [
       "  Time  V1        V2         V3         V4         V5        V6        \n",
       "1 33209 0.1579738 -0.3135721 -0.8799915 -2.3710149  1.832820  3.3410355\n",
       "2 77276 1.2470640 -0.3239156  0.9178714 -0.7282708 -1.180023 -0.8173157\n",
       "  V7         V8          V9         ... V21          V22        V23        \n",
       "1 -0.8045669  0.01251665 -0.9891706 ...  0.674059981 -0.8824945 -0.26334793\n",
       "2 -0.5494987 -0.05259299  1.7699065 ... -0.008405836  0.2422148 -0.03969362\n",
       "  V24       V25       V26        V27        V28        Amount Class\n",
       "1 0.9186489 1.0777848 -0.3662552 0.13243425 0.22821326 80.08  0    \n",
       "2 0.4188275 0.5116329 -0.6877417 0.09587039 0.03602943  1.00  0    "
      ]
     },
     "metadata": {},
     "output_type": "display_data"
    }
   ],
   "source": [
    "head(dfAll, 2)"
   ]
  },
  {
   "cell_type": "code",
   "execution_count": null,
   "id": "2921032d",
   "metadata": {},
   "outputs": [],
   "source": []
  },
  {
   "cell_type": "markdown",
   "id": "04d6e438",
   "metadata": {},
   "source": [
    "### Create Subset of Features from Feature Selection"
   ]
  },
  {
   "cell_type": "code",
   "execution_count": 6,
   "id": "d15c0097",
   "metadata": {},
   "outputs": [
    {
     "data": {
      "text/html": [
       "<table>\n",
       "<thead><tr><th scope=col>V4</th><th scope=col>V10</th><th scope=col>V12</th><th scope=col>V14</th><th scope=col>V17</th><th scope=col>Class</th></tr></thead>\n",
       "<tbody>\n",
       "\t<tr><td>-2.3710149</td><td>-0.3395744</td><td>-0.8130265</td><td>-1.1791100</td><td> 0.5734176</td><td>0         </td></tr>\n",
       "\t<tr><td>-0.7282708</td><td>-1.0898177</td><td> 0.9220560</td><td>-0.2163698</td><td>-0.1641099</td><td>0         </td></tr>\n",
       "</tbody>\n",
       "</table>\n"
      ],
      "text/latex": [
       "\\begin{tabular}{r|llllll}\n",
       " V4 & V10 & V12 & V14 & V17 & Class\\\\\n",
       "\\hline\n",
       "\t -2.3710149 & -0.3395744 & -0.8130265 & -1.1791100 &  0.5734176 & 0         \\\\\n",
       "\t -0.7282708 & -1.0898177 &  0.9220560 & -0.2163698 & -0.1641099 & 0         \\\\\n",
       "\\end{tabular}\n"
      ],
      "text/markdown": [
       "\n",
       "| V4 | V10 | V12 | V14 | V17 | Class |\n",
       "|---|---|---|---|---|---|\n",
       "| -2.3710149 | -0.3395744 | -0.8130265 | -1.1791100 |  0.5734176 | 0          |\n",
       "| -0.7282708 | -1.0898177 |  0.9220560 | -0.2163698 | -0.1641099 | 0          |\n",
       "\n"
      ],
      "text/plain": [
       "  V4         V10        V12        V14        V17        Class\n",
       "1 -2.3710149 -0.3395744 -0.8130265 -1.1791100  0.5734176 0    \n",
       "2 -0.7282708 -1.0898177  0.9220560 -0.2163698 -0.1641099 0    "
      ]
     },
     "metadata": {},
     "output_type": "display_data"
    }
   ],
   "source": [
    "dfSub <- dfAll[, c(5:5, 11:11, 13:13, 15:15, 18:18, 31:31)]\n",
    "head(dfSub, 2)"
   ]
  },
  {
   "cell_type": "code",
   "execution_count": 129,
   "id": "73097bd1",
   "metadata": {},
   "outputs": [
    {
     "name": "stderr",
     "output_type": "stream",
     "text": [
      "`stat_bin()` using `bins = 30`. Pick better value with `binwidth`.\n",
      "`stat_bin()` using `bins = 30`. Pick better value with `binwidth`.\n"
     ]
    },
    {
     "data": {
      "image/png": "[encoded data removed]",
      "text/plain": [
       "plot without title"
      ]
     },
     "metadata": {},
     "output_type": "display_data"
    },
    {
     "name": "stderr",
     "output_type": "stream",
     "text": [
      "`stat_bin()` using `bins = 30`. Pick better value with `binwidth`.\n"
     ]
    },
    {
     "data": {
      "image/png": "[encoded data removed]",
      "text/plain": [
       "plot without title"
      ]
     },
     "metadata": {},
     "output_type": "display_data"
    },
    {
     "name": "stderr",
     "output_type": "stream",
     "text": [
      "`stat_bin()` using `bins = 30`. Pick better value with `binwidth`.\n"
     ]
    },
    {
     "data": {
      "image/png": "[encoded data removed]",
      "text/plain": [
       "plot without title"
      ]
     },
     "metadata": {},
     "output_type": "display_data"
    },
    {
     "name": "stderr",
     "output_type": "stream",
     "text": [
      "`stat_bin()` using `bins = 30`. Pick better value with `binwidth`.\n"
     ]
    },
    {
     "data": {
      "image/png": "[encoded data removed]",
      "text/plain": [
       "plot without title"
      ]
     },
     "metadata": {},
     "output_type": "display_data"
    },
    {
     "name": "stderr",
     "output_type": "stream",
     "text": [
      "`stat_bin()` using `bins = 30`. Pick better value with `binwidth`.\n"
     ]
    },
    {
     "data": {
      "image/png": "[encoded data removed]",
      "text/plain": [
       "plot without title"
      ]
     },
     "metadata": {},
     "output_type": "display_data"
    },
    {
     "data": {
      "image/png": "[encoded data removed]",
      "text/plain": [
       "plot without title"
      ]
     },
     "metadata": {},
     "output_type": "display_data"
    }
   ],
   "source": [
    "# check normal distributions in the subset of features\n",
    "for (i in dfSub){\n",
    "    print(ggplot(dfSub, aes(x=i)) + geom_histogram())\n",
    "}"
   ]
  },
  {
   "cell_type": "markdown",
   "id": "91b18569",
   "metadata": {},
   "source": [
    "### Drop Non-Normal Distribution Features"
   ]
  },
  {
   "cell_type": "code",
   "execution_count": null,
   "id": "cc8927e0",
   "metadata": {},
   "outputs": [],
   "source": []
  },
  {
   "cell_type": "code",
   "execution_count": 59,
   "id": "6247278e",
   "metadata": {},
   "outputs": [
    {
     "name": "stderr",
     "output_type": "stream",
     "text": [
      "`stat_bin()` using `bins = 30`. Pick better value with `binwidth`.\n",
      "`stat_bin()` using `bins = 30`. Pick better value with `binwidth`.\n"
     ]
    },
    {
     "data": {
      "image/png": "[encoded data removed]",
      "text/plain": [
       "plot without title"
      ]
     },
     "metadata": {},
     "output_type": "display_data"
    },
    {
     "name": "stderr",
     "output_type": "stream",
     "text": [
      "`stat_bin()` using `bins = 30`. Pick better value with `binwidth`.\n"
     ]
    },
    {
     "data": {
      "image/png": "[encoded data removed]",
      "text/plain": [
       "plot without title"
      ]
     },
     "metadata": {},
     "output_type": "display_data"
    },
    {
     "name": "stderr",
     "output_type": "stream",
     "text": [
      "`stat_bin()` using `bins = 30`. Pick better value with `binwidth`.\n"
     ]
    },
    {
     "data": {
      "image/png": "[encoded data removed]",
      "text/plain": [
       "plot without title"
      ]
     },
     "metadata": {},
     "output_type": "display_data"
    },
    {
     "name": "stderr",
     "output_type": "stream",
     "text": [
      "`stat_bin()` using `bins = 30`. Pick better value with `binwidth`.\n"
     ]
    },
    {
     "data": {
      "image/png": "[encoded data removed]",
      "text/plain": [
       "plot without title"
      ]
     },
     "metadata": {},
     "output_type": "display_data"
    },
    {
     "name": "stderr",
     "output_type": "stream",
     "text": [
      "`stat_bin()` using `bins = 30`. Pick better value with `binwidth`.\n"
     ]
    },
    {
     "data": {
      "image/png": "[encoded data removed]",
      "text/plain": [
       "plot without title"
      ]
     },
     "metadata": {},
     "output_type": "display_data"
    },
    {
     "name": "stderr",
     "output_type": "stream",
     "text": [
      "`stat_bin()` using `bins = 30`. Pick better value with `binwidth`.\n"
     ]
    },
    {
     "data": {
      "image/png": "[encoded data removed]",
      "text/plain": [
       "plot without title"
      ]
     },
     "metadata": {},
     "output_type": "display_data"
    },
    {
     "name": "stderr",
     "output_type": "stream",
     "text": [
      "`stat_bin()` using `bins = 30`. Pick better value with `binwidth`.\n"
     ]
    },
    {
     "data": {
      "image/png": "[encoded data removed]",
      "text/plain": [
       "plot without title"
      ]
     },
     "metadata": {},
     "output_type": "display_data"
    },
    {
     "name": "stderr",
     "output_type": "stream",
     "text": [
      "`stat_bin()` using `bins = 30`. Pick better value with `binwidth`.\n"
     ]
    },
    {
     "data": {
      "image/png": "[encoded data removed]",
      "text/plain": [
       "plot without title"
      ]
     },
     "metadata": {},
     "output_type": "display_data"
    },
    {
     "name": "stderr",
     "output_type": "stream",
     "text": [
      "`stat_bin()` using `bins = 30`. Pick better value with `binwidth`.\n"
     ]
    },
    {
     "data": {
      "image/png": "[encoded data removed]",
      "text/plain": [
       "plot without title"
      ]
     },
     "metadata": {},
     "output_type": "display_data"
    },
    {
     "name": "stderr",
     "output_type": "stream",
     "text": [
      "`stat_bin()` using `bins = 30`. Pick better value with `binwidth`.\n"
     ]
    },
    {
     "data": {
      "image/png": "[encoded data removed]",
      "text/plain": [
       "plot without title"
      ]
     },
     "metadata": {},
     "output_type": "display_data"
    },
    {
     "name": "stderr",
     "output_type": "stream",
     "text": [
      "`stat_bin()` using `bins = 30`. Pick better value with `binwidth`.\n"
     ]
    },
    {
     "data": {
      "image/png": "[encoded data removed]",
      "text/plain": [
       "plot without title"
      ]
     },
     "metadata": {},
     "output_type": "display_data"
    },
    {
     "name": "stderr",
     "output_type": "stream",
     "text": [
      "`stat_bin()` using `bins = 30`. Pick better value with `binwidth`.\n"
     ]
    },
    {
     "data": {
      "image/png": "[encoded data removed]",
      "text/plain": [
       "plot without title"
      ]
     },
     "metadata": {},
     "output_type": "display_data"
    },
    {
     "name": "stderr",
     "output_type": "stream",
     "text": [
      "`stat_bin()` using `bins = 30`. Pick better value with `binwidth`.\n"
     ]
    },
    {
     "data": {
      "image/png": "[encoded data removed]",
      "text/plain": [
       "plot without title"
      ]
     },
     "metadata": {},
     "output_type": "display_data"
    },
    {
     "name": "stderr",
     "output_type": "stream",
     "text": [
      "`stat_bin()` using `bins = 30`. Pick better value with `binwidth`.\n"
     ]
    },
    {
     "data": {
      "image/png": "[encoded data removed]",
      "text/plain": [
       "plot without title"
      ]
     },
     "metadata": {},
     "output_type": "display_data"
    },
    {
     "name": "stderr",
     "output_type": "stream",
     "text": [
      "`stat_bin()` using `bins = 30`. Pick better value with `binwidth`.\n"
     ]
    },
    {
     "data": {
      "image/png": "[encoded data removed]",
      "text/plain": [
       "plot without title"
      ]
     },
     "metadata": {},
     "output_type": "display_data"
    },
    {
     "name": "stderr",
     "output_type": "stream",
     "text": [
      "`stat_bin()` using `bins = 30`. Pick better value with `binwidth`.\n"
     ]
    },
    {
     "data": {
      "image/png": "[encoded data removed]",
      "text/plain": [
       "plot without title"
      ]
     },
     "metadata": {},
     "output_type": "display_data"
    },
    {
     "name": "stderr",
     "output_type": "stream",
     "text": [
      "`stat_bin()` using `bins = 30`. Pick better value with `binwidth`.\n"
     ]
    },
    {
     "data": {
      "image/png": "[encoded data removed]",
      "text/plain": [
       "plot without title"
      ]
     },
     "metadata": {},
     "output_type": "display_data"
    },
    {
     "name": "stderr",
     "output_type": "stream",
     "text": [
      "`stat_bin()` using `bins = 30`. Pick better value with `binwidth`.\n"
     ]
    },
    {
     "data": {
      "image/png": "[encoded data removed]",
      "text/plain": [
       "plot without title"
      ]
     },
     "metadata": {},
     "output_type": "display_data"
    },
    {
     "name": "stderr",
     "output_type": "stream",
     "text": [
      "`stat_bin()` using `bins = 30`. Pick better value with `binwidth`.\n"
     ]
    },
    {
     "data": {
      "image/png": "[encoded data removed]",
      "text/plain": [
       "plot without title"
      ]
     },
     "metadata": {},
     "output_type": "display_data"
    },
    {
     "name": "stderr",
     "output_type": "stream",
     "text": [
      "`stat_bin()` using `bins = 30`. Pick better value with `binwidth`.\n"
     ]
    },
    {
     "data": {
      "image/png": "[encoded data removed]",
      "text/plain": [
       "plot without title"
      ]
     },
     "metadata": {},
     "output_type": "display_data"
    },
    {
     "name": "stderr",
     "output_type": "stream",
     "text": [
      "`stat_bin()` using `bins = 30`. Pick better value with `binwidth`.\n"
     ]
    },
    {
     "data": {
      "image/png": "[encoded data removed]",
      "text/plain": [
       "plot without title"
      ]
     },
     "metadata": {},
     "output_type": "display_data"
    },
    {
     "name": "stderr",
     "output_type": "stream",
     "text": [
      "`stat_bin()` using `bins = 30`. Pick better value with `binwidth`.\n"
     ]
    },
    {
     "data": {
      "image/png": "[encoded data removed]",
      "text/plain": [
       "plot without title"
      ]
     },
     "metadata": {},
     "output_type": "display_data"
    },
    {
     "name": "stderr",
     "output_type": "stream",
     "text": [
      "`stat_bin()` using `bins = 30`. Pick better value with `binwidth`.\n"
     ]
    },
    {
     "data": {
      "image/png": "[encoded data removed]",
      "text/plain": [
       "plot without title"
      ]
     },
     "metadata": {},
     "output_type": "display_data"
    },
    {
     "name": "stderr",
     "output_type": "stream",
     "text": [
      "`stat_bin()` using `bins = 30`. Pick better value with `binwidth`.\n"
     ]
    },
    {
     "data": {
      "image/png": "[encoded data removed]",
      "text/plain": [
       "plot without title"
      ]
     },
     "metadata": {},
     "output_type": "display_data"
    },
    {
     "name": "stderr",
     "output_type": "stream",
     "text": [
      "`stat_bin()` using `bins = 30`. Pick better value with `binwidth`.\n"
     ]
    },
    {
     "data": {
      "image/png": "[encoded data removed]",
      "text/plain": [
       "plot without title"
      ]
     },
     "metadata": {},
     "output_type": "display_data"
    },
    {
     "name": "stderr",
     "output_type": "stream",
     "text": [
      "`stat_bin()` using `bins = 30`. Pick better value with `binwidth`.\n"
     ]
    },
    {
     "data": {
      "image/png": "[encoded data removed]",
      "text/plain": [
       "plot without title"
      ]
     },
     "metadata": {},
     "output_type": "display_data"
    },
    {
     "name": "stderr",
     "output_type": "stream",
     "text": [
      "`stat_bin()` using `bins = 30`. Pick better value with `binwidth`.\n"
     ]
    },
    {
     "data": {
      "image/png": "[encoded data removed]",
      "text/plain": [
       "plot without title"
      ]
     },
     "metadata": {},
     "output_type": "display_data"
    },
    {
     "name": "stderr",
     "output_type": "stream",
     "text": [
      "`stat_bin()` using `bins = 30`. Pick better value with `binwidth`.\n"
     ]
    },
    {
     "data": {
      "image/png": "[encoded data removed]",
      "text/plain": [
       "plot without title"
      ]
     },
     "metadata": {},
     "output_type": "display_data"
    },
    {
     "name": "stderr",
     "output_type": "stream",
     "text": [
      "`stat_bin()` using `bins = 30`. Pick better value with `binwidth`.\n"
     ]
    },
    {
     "data": {
      "image/png": "[encoded data removed]",
      "text/plain": [
       "plot without title"
      ]
     },
     "metadata": {},
     "output_type": "display_data"
    },
    {
     "name": "stderr",
     "output_type": "stream",
     "text": [
      "`stat_bin()` using `bins = 30`. Pick better value with `binwidth`.\n"
     ]
    },
    {
     "data": {
      "image/png": "[encoded data removed]",
      "text/plain": [
       "plot without title"
      ]
     },
     "metadata": {},
     "output_type": "display_data"
    },
    {
     "data": {
      "image/png": "[encoded data removed]",
      "text/plain": [
       "plot without title"
      ]
     },
     "metadata": {},
     "output_type": "display_data"
    }
   ],
   "source": [
    "# check normal distributions\n",
    "for (i in df){\n",
    "    print(ggplot(df, aes(x=i)) + geom_histogram())\n",
    "}"
   ]
  },
  {
   "cell_type": "markdown",
   "id": "4897b64e",
   "metadata": {},
   "source": [
    "**Variables with non-normal distributions.**"
   ]
  },
  {
   "cell_type": "code",
   "execution_count": null,
   "id": "26861dc4",
   "metadata": {},
   "outputs": [],
   "source": []
  },
  {
   "cell_type": "code",
   "execution_count": 7,
   "id": "56064028",
   "metadata": {},
   "outputs": [
    {
     "data": {
      "text/html": [
       "<table>\n",
       "<thead><tr><th scope=col>V2</th><th scope=col>V3</th><th scope=col>V4</th><th scope=col>V5</th><th scope=col>V6</th><th scope=col>V7</th><th scope=col>V8</th><th scope=col>V9</th><th scope=col>V10</th><th scope=col>V11</th><th scope=col>...</th><th scope=col>V20</th><th scope=col>V21</th><th scope=col>V22</th><th scope=col>V23</th><th scope=col>V25</th><th scope=col>V26</th><th scope=col>V27</th><th scope=col>V28</th><th scope=col>Amount</th><th scope=col>Class</th></tr></thead>\n",
       "<tbody>\n",
       "\t<tr><td>-0.3135721  </td><td>-0.8799915  </td><td>-2.3710149  </td><td> 1.832820   </td><td> 3.3410355  </td><td>-0.8045669  </td><td> 0.01251665 </td><td>-0.9891706  </td><td>-0.3395744  </td><td>-0.05770153 </td><td>...         </td><td> 0.1487577  </td><td> 0.674059981</td><td>-0.8824945  </td><td>-0.26334793 </td><td>1.0777848   </td><td>-0.3662552  </td><td>0.13243425  </td><td>0.22821326  </td><td>80.08       </td><td>0           </td></tr>\n",
       "\t<tr><td>-0.3239156  </td><td> 0.9178714  </td><td>-0.7282708  </td><td>-1.180023   </td><td>-0.8173157  </td><td>-0.5494987  </td><td>-0.05259299 </td><td> 1.7699065  </td><td>-1.0898177  </td><td>-0.38001273 </td><td>...         </td><td>-0.1039912  </td><td>-0.008405836</td><td> 0.2422148  </td><td>-0.03969362 </td><td>0.5116329   </td><td>-0.6877417  </td><td>0.09587039  </td><td>0.03602943  </td><td> 1.00       </td><td>0           </td></tr>\n",
       "</tbody>\n",
       "</table>\n"
      ],
      "text/latex": [
       "\\begin{tabular}{r|llllllllllllllllllllllllllll}\n",
       " V2 & V3 & V4 & V5 & V6 & V7 & V8 & V9 & V10 & V11 & ... & V20 & V21 & V22 & V23 & V25 & V26 & V27 & V28 & Amount & Class\\\\\n",
       "\\hline\n",
       "\t -0.3135721   & -0.8799915   & -2.3710149   &  1.832820    &  3.3410355   & -0.8045669   &  0.01251665  & -0.9891706   & -0.3395744   & -0.05770153  & ...          &  0.1487577   &  0.674059981 & -0.8824945   & -0.26334793  & 1.0777848    & -0.3662552   & 0.13243425   & 0.22821326   & 80.08        & 0           \\\\\n",
       "\t -0.3239156   &  0.9178714   & -0.7282708   & -1.180023    & -0.8173157   & -0.5494987   & -0.05259299  &  1.7699065   & -1.0898177   & -0.38001273  & ...          & -0.1039912   & -0.008405836 &  0.2422148   & -0.03969362  & 0.5116329    & -0.6877417   & 0.09587039   & 0.03602943   &  1.00        & 0           \\\\\n",
       "\\end{tabular}\n"
      ],
      "text/markdown": [
       "\n",
       "| V2 | V3 | V4 | V5 | V6 | V7 | V8 | V9 | V10 | V11 | ... | V20 | V21 | V22 | V23 | V25 | V26 | V27 | V28 | Amount | Class |\n",
       "|---|---|---|---|---|---|---|---|---|---|---|---|---|---|---|---|---|---|---|---|---|\n",
       "| -0.3135721   | -0.8799915   | -2.3710149   |  1.832820    |  3.3410355   | -0.8045669   |  0.01251665  | -0.9891706   | -0.3395744   | -0.05770153  | ...          |  0.1487577   |  0.674059981 | -0.8824945   | -0.26334793  | 1.0777848    | -0.3662552   | 0.13243425   | 0.22821326   | 80.08        | 0            |\n",
       "| -0.3239156   |  0.9178714   | -0.7282708   | -1.180023    | -0.8173157   | -0.5494987   | -0.05259299  |  1.7699065   | -1.0898177   | -0.38001273  | ...          | -0.1039912   | -0.008405836 |  0.2422148   | -0.03969362  | 0.5116329    | -0.6877417   | 0.09587039   | 0.03602943   |  1.00        | 0            |\n",
       "\n"
      ],
      "text/plain": [
       "  V2         V3         V4         V5        V6         V7         V8         \n",
       "1 -0.3135721 -0.8799915 -2.3710149  1.832820  3.3410355 -0.8045669  0.01251665\n",
       "2 -0.3239156  0.9178714 -0.7282708 -1.180023 -0.8173157 -0.5494987 -0.05259299\n",
       "  V9         V10        V11         ... V20        V21          V22       \n",
       "1 -0.9891706 -0.3395744 -0.05770153 ...  0.1487577  0.674059981 -0.8824945\n",
       "2  1.7699065 -1.0898177 -0.38001273 ... -0.1039912 -0.008405836  0.2422148\n",
       "  V23         V25       V26        V27        V28        Amount Class\n",
       "1 -0.26334793 1.0777848 -0.3662552 0.13243425 0.22821326 80.08  0    \n",
       "2 -0.03969362 0.5116329 -0.6877417 0.09587039 0.03602943  1.00  0    "
      ]
     },
     "metadata": {},
     "output_type": "display_data"
    }
   ],
   "source": [
    "# drop these features from the full dataframe (i.e., not the subset feature)\n",
    "df <- dfAll[, c(3:24, 26:31)]\n",
    "head(df, 2)"
   ]
  },
  {
   "cell_type": "code",
   "execution_count": 8,
   "id": "f89e3150",
   "metadata": {},
   "outputs": [
    {
     "data": {
      "text/html": [
       "<ol class=list-inline>\n",
       "\t<li>56961</li>\n",
       "\t<li>28</li>\n",
       "</ol>\n"
      ],
      "text/latex": [
       "\\begin{enumerate*}\n",
       "\\item 56961\n",
       "\\item 28\n",
       "\\end{enumerate*}\n"
      ],
      "text/markdown": [
       "1. 56961\n",
       "2. 28\n",
       "\n",
       "\n"
      ],
      "text/plain": [
       "[1] 56961    28"
      ]
     },
     "metadata": {},
     "output_type": "display_data"
    }
   ],
   "source": [
    "dim(df)"
   ]
  },
  {
   "cell_type": "markdown",
   "id": "60a79c2a",
   "metadata": {},
   "source": [
    "### Data Preparation"
   ]
  },
  {
   "cell_type": "markdown",
   "id": "fa41c14b",
   "metadata": {},
   "source": [
    "**Creating classes of TRUE and FALSE instead of 1 and 0 for one-class SVM model.**"
   ]
  },
  {
   "cell_type": "markdown",
   "id": "1e5e34b0",
   "metadata": {},
   "source": [
    "**> Full Normal Dataset**"
   ]
  },
  {
   "cell_type": "code",
   "execution_count": 9,
   "id": "fdd5d6e7",
   "metadata": {},
   "outputs": [],
   "source": [
    "# creating classes of TRUE and FALSE in addition to 1 and 0\n",
    "\n",
    "df$wordClass[df$Class== 1] <- \"TRUE\"\n",
    "df$wordClass[df$Class!= 1] <- \"FALSE\""
   ]
  },
  {
   "cell_type": "code",
   "execution_count": 10,
   "id": "42cf5987",
   "metadata": {},
   "outputs": [
    {
     "data": {
      "text/plain": [
       "\n",
       "    0     1 \n",
       "56856   105 "
      ]
     },
     "metadata": {},
     "output_type": "display_data"
    },
    {
     "data": {
      "text/plain": [
       "\n",
       "FALSE  TRUE \n",
       "56856   105 "
      ]
     },
     "metadata": {},
     "output_type": "display_data"
    }
   ],
   "source": [
    "table(df$Class)\n",
    "table(df$wordClass)"
   ]
  },
  {
   "cell_type": "code",
   "execution_count": 11,
   "id": "b8b192f5",
   "metadata": {},
   "outputs": [
    {
     "data": {
      "text/html": [
       "<ol class=list-inline>\n",
       "\t<li>56961</li>\n",
       "\t<li>29</li>\n",
       "</ol>\n"
      ],
      "text/latex": [
       "\\begin{enumerate*}\n",
       "\\item 56961\n",
       "\\item 29\n",
       "\\end{enumerate*}\n"
      ],
      "text/markdown": [
       "1. 56961\n",
       "2. 29\n",
       "\n",
       "\n"
      ],
      "text/plain": [
       "[1] 56961    29"
      ]
     },
     "metadata": {},
     "output_type": "display_data"
    }
   ],
   "source": [
    "dim(df)"
   ]
  },
  {
   "cell_type": "markdown",
   "id": "c6fff807",
   "metadata": {},
   "source": [
    "**> Selected Subset**"
   ]
  },
  {
   "cell_type": "code",
   "execution_count": 12,
   "id": "0f8a9001",
   "metadata": {},
   "outputs": [],
   "source": [
    "# creating classes of TRUE and FALSE in addition to 1 and 0\n",
    "\n",
    "dfSub$wordClass[dfSub$Class== 1] <- \"TRUE\"\n",
    "dfSub$wordClass[dfSub$Class!= 1] <- \"FALSE\""
   ]
  },
  {
   "cell_type": "code",
   "execution_count": 13,
   "id": "38672716",
   "metadata": {},
   "outputs": [
    {
     "data": {
      "text/plain": [
       "\n",
       "    0     1 \n",
       "56856   105 "
      ]
     },
     "metadata": {},
     "output_type": "display_data"
    },
    {
     "data": {
      "text/plain": [
       "\n",
       "FALSE  TRUE \n",
       "56856   105 "
      ]
     },
     "metadata": {},
     "output_type": "display_data"
    }
   ],
   "source": [
    "table(dfSub$Class)\n",
    "table(dfSub$wordClass)"
   ]
  },
  {
   "cell_type": "code",
   "execution_count": null,
   "id": "4aa744b8",
   "metadata": {},
   "outputs": [],
   "source": []
  },
  {
   "cell_type": "markdown",
   "id": "96a1ed87",
   "metadata": {},
   "source": [
    "**One Class SVM models are unsupervised learning models because they only train on the positive records in the dataset.  Subset the data to include only the fraud records.**"
   ]
  },
  {
   "cell_type": "markdown",
   "id": "873e4d0f",
   "metadata": {},
   "source": [
    "**> Full Normal Dataset**"
   ]
  },
  {
   "cell_type": "code",
   "execution_count": 14,
   "id": "a27ebb29",
   "metadata": {},
   "outputs": [],
   "source": [
    "# only use positive class to train so create a training subset for that\n",
    "trainPositive <- subset(df, wordClass == \"TRUE\")"
   ]
  },
  {
   "cell_type": "code",
   "execution_count": 15,
   "id": "43297bfc",
   "metadata": {},
   "outputs": [
    {
     "data": {
      "text/html": [
       "<ol class=list-inline>\n",
       "\t<li>105</li>\n",
       "\t<li>29</li>\n",
       "</ol>\n"
      ],
      "text/latex": [
       "\\begin{enumerate*}\n",
       "\\item 105\n",
       "\\item 29\n",
       "\\end{enumerate*}\n"
      ],
      "text/markdown": [
       "1. 105\n",
       "2. 29\n",
       "\n",
       "\n"
      ],
      "text/plain": [
       "[1] 105  29"
      ]
     },
     "metadata": {},
     "output_type": "display_data"
    }
   ],
   "source": [
    "dim(trainPositive)"
   ]
  },
  {
   "cell_type": "markdown",
   "id": "ea936bca",
   "metadata": {},
   "source": [
    "**> Selected Subset**"
   ]
  },
  {
   "cell_type": "code",
   "execution_count": 16,
   "id": "6fe55283",
   "metadata": {},
   "outputs": [],
   "source": [
    "# only use positive class to train so create a training subset for that\n",
    "trainPosSub <- subset(dfSub, wordClass == \"TRUE\")"
   ]
  },
  {
   "cell_type": "code",
   "execution_count": null,
   "id": "88063d8a",
   "metadata": {},
   "outputs": [],
   "source": []
  },
  {
   "cell_type": "markdown",
   "id": "175ebf53",
   "metadata": {},
   "source": [
    "**Split Data into Training and Testing Data**"
   ]
  },
  {
   "cell_type": "code",
   "execution_count": 17,
   "id": "20d09963",
   "metadata": {},
   "outputs": [],
   "source": [
    "# inTrain is an index created for splitting data\n",
    "inTrain<-createDataPartition(1:nrow(trainPositive),p=0.6,list=FALSE)"
   ]
  },
  {
   "cell_type": "code",
   "execution_count": 19,
   "id": "074a6fb9",
   "metadata": {},
   "outputs": [
    {
     "data": {
      "text/html": [
       "<table>\n",
       "<thead><tr><th></th><th scope=col>V2</th><th scope=col>V3</th><th scope=col>V4</th><th scope=col>V5</th><th scope=col>V6</th><th scope=col>V7</th><th scope=col>V8</th><th scope=col>V9</th><th scope=col>V10</th><th scope=col>V11</th><th scope=col>...</th><th scope=col>V21</th><th scope=col>V22</th><th scope=col>V23</th><th scope=col>V25</th><th scope=col>V26</th><th scope=col>V27</th><th scope=col>V28</th><th scope=col>Amount</th><th scope=col>Class</th><th scope=col>wordClass</th></tr></thead>\n",
       "<tbody>\n",
       "\t<tr><th scope=row>250</th><td>2.361594   </td><td>-3.171195  </td><td>1.970759   </td><td> 0.4747614 </td><td>-1.902598  </td><td>-0.05517781</td><td>0.27783123 </td><td>-1.7458542 </td><td>-2.516628  </td><td>0.8740516  </td><td>...        </td><td>0.4732111  </td><td> 0.71940030</td><td> 0.1224578 </td><td>-0.6192593 </td><td>-0.484280  </td><td>0.6835346  </td><td>0.4432995  </td><td> 39.90     </td><td>1          </td><td>TRUE       </td></tr>\n",
       "\t<tr><th scope=row>1237</th><td>1.145381   </td><td>-4.602878  </td><td>2.091803   </td><td>-0.4732239 </td><td>-2.085436  </td><td>-1.67124403</td><td>0.09439659 </td><td> 0.3377988 </td><td>-4.431810  </td><td>4.8719799  </td><td>...        </td><td>0.4014157  </td><td>-0.08493342</td><td>-0.1976844 </td><td> 0.3875973 </td><td>-0.553527  </td><td>0.5162745  </td><td>0.2708282  </td><td>147.87     </td><td>1          </td><td>TRUE       </td></tr>\n",
       "</tbody>\n",
       "</table>\n"
      ],
      "text/latex": [
       "\\begin{tabular}{r|lllllllllllllllllllllllllllll}\n",
       "  & V2 & V3 & V4 & V5 & V6 & V7 & V8 & V9 & V10 & V11 & ... & V21 & V22 & V23 & V25 & V26 & V27 & V28 & Amount & Class & wordClass\\\\\n",
       "\\hline\n",
       "\t250 & 2.361594    & -3.171195   & 1.970759    &  0.4747614  & -1.902598   & -0.05517781 & 0.27783123  & -1.7458542  & -2.516628   & 0.8740516   & ...         & 0.4732111   &  0.71940030 &  0.1224578  & -0.6192593  & -0.484280   & 0.6835346   & 0.4432995   &  39.90      & 1           & TRUE       \\\\\n",
       "\t1237 & 1.145381    & -4.602878   & 2.091803    & -0.4732239  & -2.085436   & -1.67124403 & 0.09439659  &  0.3377988  & -4.431810   & 4.8719799   & ...         & 0.4014157   & -0.08493342 & -0.1976844  &  0.3875973  & -0.553527   & 0.5162745   & 0.2708282   & 147.87      & 1           & TRUE       \\\\\n",
       "\\end{tabular}\n"
      ],
      "text/markdown": [
       "\n",
       "| <!--/--> | V2 | V3 | V4 | V5 | V6 | V7 | V8 | V9 | V10 | V11 | ... | V21 | V22 | V23 | V25 | V26 | V27 | V28 | Amount | Class | wordClass |\n",
       "|---|---|---|---|---|---|---|---|---|---|---|---|---|---|---|---|---|---|---|---|---|---|\n",
       "| 250 | 2.361594    | -3.171195   | 1.970759    |  0.4747614  | -1.902598   | -0.05517781 | 0.27783123  | -1.7458542  | -2.516628   | 0.8740516   | ...         | 0.4732111   |  0.71940030 |  0.1224578  | -0.6192593  | -0.484280   | 0.6835346   | 0.4432995   |  39.90      | 1           | TRUE        |\n",
       "| 1237 | 1.145381    | -4.602878   | 2.091803    | -0.4732239  | -2.085436   | -1.67124403 | 0.09439659  |  0.3377988  | -4.431810   | 4.8719799   | ...         | 0.4014157   | -0.08493342 | -0.1976844  |  0.3875973  | -0.553527   | 0.5162745   | 0.2708282   | 147.87      | 1           | TRUE        |\n",
       "\n"
      ],
      "text/plain": [
       "     V2       V3        V4       V5         V6        V7          V8        \n",
       "250  2.361594 -3.171195 1.970759  0.4747614 -1.902598 -0.05517781 0.27783123\n",
       "1237 1.145381 -4.602878 2.091803 -0.4732239 -2.085436 -1.67124403 0.09439659\n",
       "     V9         V10       V11       ... V21       V22         V23       \n",
       "250  -1.7458542 -2.516628 0.8740516 ... 0.4732111  0.71940030  0.1224578\n",
       "1237  0.3377988 -4.431810 4.8719799 ... 0.4014157 -0.08493342 -0.1976844\n",
       "     V25        V26       V27       V28       Amount Class wordClass\n",
       "250  -0.6192593 -0.484280 0.6835346 0.4432995  39.90 1     TRUE     \n",
       "1237  0.3875973 -0.553527 0.5162745 0.2708282 147.87 1     TRUE     "
      ]
     },
     "metadata": {},
     "output_type": "display_data"
    }
   ],
   "source": [
    "head(trainPositive, 2)"
   ]
  },
  {
   "cell_type": "markdown",
   "id": "3caf1103",
   "metadata": {},
   "source": [
    "**> Full Normal Dataset**"
   ]
  },
  {
   "cell_type": "code",
   "execution_count": 18,
   "id": "dcb14e40",
   "metadata": {},
   "outputs": [],
   "source": [
    "# training data\n",
    "\n",
    "# select numeric columns for training df (do not include Class variable b/c using wordClass as the target)\n",
    "trainpredictors<-trainPositive[inTrain, 1:27]\n",
    "\n",
    "# select label column from training df\n",
    "trainLabels<-trainPositive[inTrain, 29]"
   ]
  },
  {
   "cell_type": "code",
   "execution_count": 25,
   "id": "0b18d444",
   "metadata": {},
   "outputs": [],
   "source": [
    "# testing data\n",
    "\n",
    "# create test dataset of positive labels (all but the inTrain training set)\n",
    "testPositive<-trainPositive[-inTrain,]\n",
    "\n",
    "# create a negative class for testing\n",
    "testNegative<-subset(df, wordClass== \"FALSE\")\n",
    "\n",
    "# combine the test datasets \n",
    "testPosNeg<-rbind(testPositive, testNegative)\n",
    "\n",
    "# select numeric columns for test df\n",
    "testpredictors<-testPosNeg[,1:27]\n",
    "\n",
    "# select label column from test df\n",
    "testLabels<-testPosNeg[,29]"
   ]
  },
  {
   "cell_type": "markdown",
   "id": "1bdba9ea",
   "metadata": {},
   "source": [
    "**> Selected Subset**"
   ]
  },
  {
   "cell_type": "code",
   "execution_count": 26,
   "id": "8fdd5761",
   "metadata": {},
   "outputs": [],
   "source": [
    "# training data\n",
    "\n",
    "# select numeric columns for training df (do not include Class variable b/c using wordClass as the target)\n",
    "trainpredictorsSub<-trainPosSub[inTrain, 1:5]\n",
    "\n",
    "# select label column from training df\n",
    "trainLabelsSub<-trainPosSub[inTrain, 7]"
   ]
  },
  {
   "cell_type": "code",
   "execution_count": 27,
   "id": "f394afb1",
   "metadata": {},
   "outputs": [],
   "source": [
    "# testing data\n",
    "\n",
    "# create test dataset of positive labels (all but the inTrain training set)\n",
    "testPosSub<-trainPosSub[-inTrain,]\n",
    "\n",
    "# create a negative class for testing\n",
    "testNegSub<-subset(dfSub, wordClass== \"FALSE\")\n",
    "\n",
    "# combine the test datasets \n",
    "testPosNegSub<-rbind(testPosSub, testNegSub)\n",
    "\n",
    "# select numeric columns for test df\n",
    "testpredictorsSub<-testPosNegSub[,1:5]\n",
    "\n",
    "# select label column from test df\n",
    "testLabelsSub<-testPosNegSub[,7]"
   ]
  },
  {
   "cell_type": "code",
   "execution_count": null,
   "id": "af9c485a",
   "metadata": {},
   "outputs": [],
   "source": []
  },
  {
   "cell_type": "markdown",
   "id": "532b89a2",
   "metadata": {},
   "source": [
    "## One Class SVM Model"
   ]
  },
  {
   "cell_type": "markdown",
   "id": "94fb2a9d",
   "metadata": {},
   "source": [
    "**> Full Normal Dataset**"
   ]
  },
  {
   "cell_type": "code",
   "execution_count": 28,
   "id": "9cdd7136",
   "metadata": {},
   "outputs": [],
   "source": [
    "# svm model; parameters are the numeric features from the training df\n",
    "\n",
    "# use cross-validation\n",
    "set.seed(123)\n",
    "train.control <- trainControl(method = \"cv\", number = 10) \n",
    "\n",
    "svm.model<-svm(trainpredictors, y=NULL,\n",
    "           type='one-classification',\n",
    "           nu=0.10,\n",
    "           gamma = .05,\n",
    "               # data already scaled\n",
    "           scale=FALSE,\n",
    "           kernel=\"radial\", trControl = train.control)"
   ]
  },
  {
   "cell_type": "markdown",
   "id": "c07c8aba",
   "metadata": {},
   "source": [
    "**> Selected Subset**"
   ]
  },
  {
   "cell_type": "code",
   "execution_count": 29,
   "id": "0dad188b",
   "metadata": {},
   "outputs": [],
   "source": [
    "# svm model; parameters are the numeric features from the training df\n",
    "\n",
    "# use cross-validation\n",
    "set.seed(123) \n",
    "train.control <- trainControl(method = \"cv\", number = 10) \n",
    "\n",
    "svmSub.model<-svm(trainpredictorsSub, y=NULL,\n",
    "           type='one-classification',\n",
    "           nu=0.10,\n",
    "           gamma = .05,\n",
    "               # data already scaled\n",
    "           scale=FALSE,\n",
    "           kernel=\"radial\", trControl = train.control)"
   ]
  },
  {
   "cell_type": "code",
   "execution_count": null,
   "id": "752be178",
   "metadata": {},
   "outputs": [],
   "source": []
  },
  {
   "cell_type": "markdown",
   "id": "e2c2b7f9",
   "metadata": {},
   "source": [
    "### Predictions"
   ]
  },
  {
   "cell_type": "markdown",
   "id": "0f581892",
   "metadata": {},
   "source": [
    "**> Full Normal Dataset**"
   ]
  },
  {
   "cell_type": "code",
   "execution_count": 30,
   "id": "642be7e9",
   "metadata": {},
   "outputs": [],
   "source": [
    "# make predictions\n",
    "svm.predtrain<-predict(svm.model,trainpredictors)\n",
    "svm.predtest<-predict(svm.model,testpredictors)"
   ]
  },
  {
   "cell_type": "code",
   "execution_count": 31,
   "id": "1f4b6d85",
   "metadata": {},
   "outputs": [],
   "source": [
    "# compare predictions to true labels\n",
    "confTrain<-table(Predicted=svm.predtrain, Reference=trainLabels)\n",
    "confTest<-table(Predicted=svm.predtest, Reference=testLabels)"
   ]
  },
  {
   "cell_type": "code",
   "execution_count": 32,
   "id": "354945fb",
   "metadata": {},
   "outputs": [
    {
     "data": {
      "text/plain": [
       "Confusion Matrix and Statistics\n",
       "\n",
       "         Reference\n",
       "Predicted FALSE  TRUE\n",
       "    FALSE 56856    39\n",
       "    TRUE      0     1\n",
       "                                          \n",
       "               Accuracy : 0.9993          \n",
       "                 95% CI : (0.9991, 0.9995)\n",
       "    No Information Rate : 0.9993          \n",
       "    P-Value [Acc > NIR] : 0.4789          \n",
       "                                          \n",
       "                  Kappa : 0.0487          \n",
       "                                          \n",
       " Mcnemar's Test P-Value : 0.000000001166  \n",
       "                                          \n",
       "            Sensitivity : 0.02500000      \n",
       "            Specificity : 1.00000000      \n",
       "         Pos Pred Value : 1.00000000      \n",
       "         Neg Pred Value : 0.99931453      \n",
       "             Prevalence : 0.00070304      \n",
       "         Detection Rate : 0.00001758      \n",
       "   Detection Prevalence : 0.00001758      \n",
       "      Balanced Accuracy : 0.51250000      \n",
       "                                          \n",
       "       'Positive' Class : TRUE            \n",
       "                                          "
      ]
     },
     "metadata": {},
     "output_type": "display_data"
    }
   ],
   "source": [
    "# test confusion matrix\n",
    "confusionMatrix(confTest, positive='TRUE')"
   ]
  },
  {
   "cell_type": "code",
   "execution_count": null,
   "id": "6ee6b52a",
   "metadata": {},
   "outputs": [],
   "source": []
  },
  {
   "cell_type": "markdown",
   "id": "83da53c3",
   "metadata": {},
   "source": [
    "**> Selected Subset**"
   ]
  },
  {
   "cell_type": "code",
   "execution_count": 33,
   "id": "789484aa",
   "metadata": {},
   "outputs": [],
   "source": [
    "# make predictions\n",
    "svmSub.predtrain<-predict(svmSub.model,trainpredictorsSub)\n",
    "svmSub.predtest<-predict(svmSub.model,testpredictorsSub)"
   ]
  },
  {
   "cell_type": "code",
   "execution_count": 34,
   "id": "d50a17b3",
   "metadata": {},
   "outputs": [],
   "source": [
    "# compare predictions to true labels\n",
    "confTrainSub<-table(Predicted=svmSub.predtrain, Reference=trainLabelsSub)\n",
    "confTestSub<-table(Predicted=svmSub.predtest, Reference=testLabelsSub)"
   ]
  },
  {
   "cell_type": "code",
   "execution_count": 35,
   "id": "6307609b",
   "metadata": {},
   "outputs": [
    {
     "data": {
      "text/plain": [
       "Confusion Matrix and Statistics\n",
       "\n",
       "         Reference\n",
       "Predicted FALSE  TRUE\n",
       "    FALSE 41193    21\n",
       "    TRUE  15663    19\n",
       "                                             \n",
       "               Accuracy : 0.7243             \n",
       "                 95% CI : (0.7206, 0.728)    \n",
       "    No Information Rate : 0.9993             \n",
       "    P-Value [Acc > NIR] : 1                  \n",
       "                                             \n",
       "                  Kappa : 0.001              \n",
       "                                             \n",
       " Mcnemar's Test P-Value : <0.0000000000000002\n",
       "                                             \n",
       "            Sensitivity : 0.4750000          \n",
       "            Specificity : 0.7245146          \n",
       "         Pos Pred Value : 0.0012116          \n",
       "         Neg Pred Value : 0.9994905          \n",
       "             Prevalence : 0.0007030          \n",
       "         Detection Rate : 0.0003339          \n",
       "   Detection Prevalence : 0.2756257          \n",
       "      Balanced Accuracy : 0.5997573          \n",
       "                                             \n",
       "       'Positive' Class : TRUE               \n",
       "                                             "
      ]
     },
     "metadata": {},
     "output_type": "display_data"
    }
   ],
   "source": [
    "# test confusion matrix\n",
    "confusionMatrix(confTestSub, positive='TRUE')"
   ]
  },
  {
   "cell_type": "code",
   "execution_count": null,
   "id": "c215a6bb",
   "metadata": {},
   "outputs": [],
   "source": []
  },
  {
   "cell_type": "markdown",
   "id": "0f10db90",
   "metadata": {},
   "source": [
    "## Compare with Supervised Model"
   ]
  },
  {
   "cell_type": "markdown",
   "id": "439db1f1",
   "metadata": {},
   "source": [
    "### In order to analyze how well the One Class SVM model may have performed, I also tested a supervised SVM model on the data."
   ]
  },
  {
   "cell_type": "markdown",
   "id": "05bd15da",
   "metadata": {},
   "source": [
    "**Data for classification model and predictions; to compare with One-Class SVM model**"
   ]
  },
  {
   "cell_type": "code",
   "execution_count": 64,
   "id": "d181c5a2",
   "metadata": {},
   "outputs": [],
   "source": [
    "# import full dataset to be underbalanced\n",
    "underDf <- read.csv('creditcard.csv')"
   ]
  },
  {
   "cell_type": "code",
   "execution_count": 65,
   "id": "a302dc15",
   "metadata": {},
   "outputs": [
    {
     "data": {
      "text/html": [
       "<ol class=list-inline>\n",
       "\t<li>284807</li>\n",
       "\t<li>31</li>\n",
       "</ol>\n"
      ],
      "text/latex": [
       "\\begin{enumerate*}\n",
       "\\item 284807\n",
       "\\item 31\n",
       "\\end{enumerate*}\n"
      ],
      "text/markdown": [
       "1. 284807\n",
       "2. 31\n",
       "\n",
       "\n"
      ],
      "text/plain": [
       "[1] 284807     31"
      ]
     },
     "metadata": {},
     "output_type": "display_data"
    }
   ],
   "source": [
    "dim(underDf)"
   ]
  },
  {
   "cell_type": "markdown",
   "id": "93e255ed",
   "metadata": {},
   "source": [
    "**Create Subset for Selected Features from Feature Selection**"
   ]
  },
  {
   "cell_type": "code",
   "execution_count": 66,
   "id": "dd11a312",
   "metadata": {},
   "outputs": [
    {
     "data": {
      "text/html": [
       "<table>\n",
       "<thead><tr><th scope=col>V4</th><th scope=col>V10</th><th scope=col>V12</th><th scope=col>V14</th><th scope=col>V17</th><th scope=col>Class</th></tr></thead>\n",
       "<tbody>\n",
       "\t<tr><td>1.3781552  </td><td> 0.09079417</td><td>-0.6178009 </td><td>-0.3111694 </td><td> 0.2079712 </td><td>0          </td></tr>\n",
       "\t<tr><td>0.4481541  </td><td>-0.16697441</td><td> 1.0652353 </td><td>-0.1437723 </td><td>-0.1148047 </td><td>0          </td></tr>\n",
       "</tbody>\n",
       "</table>\n"
      ],
      "text/latex": [
       "\\begin{tabular}{r|llllll}\n",
       " V4 & V10 & V12 & V14 & V17 & Class\\\\\n",
       "\\hline\n",
       "\t 1.3781552   &  0.09079417 & -0.6178009  & -0.3111694  &  0.2079712  & 0          \\\\\n",
       "\t 0.4481541   & -0.16697441 &  1.0652353  & -0.1437723  & -0.1148047  & 0          \\\\\n",
       "\\end{tabular}\n"
      ],
      "text/markdown": [
       "\n",
       "| V4 | V10 | V12 | V14 | V17 | Class |\n",
       "|---|---|---|---|---|---|\n",
       "| 1.3781552   |  0.09079417 | -0.6178009  | -0.3111694  |  0.2079712  | 0           |\n",
       "| 0.4481541   | -0.16697441 |  1.0652353  | -0.1437723  | -0.1148047  | 0           |\n",
       "\n"
      ],
      "text/plain": [
       "  V4        V10         V12        V14        V17        Class\n",
       "1 1.3781552  0.09079417 -0.6178009 -0.3111694  0.2079712 0    \n",
       "2 0.4481541 -0.16697441  1.0652353 -0.1437723 -0.1148047 0    "
      ]
     },
     "metadata": {},
     "output_type": "display_data"
    }
   ],
   "source": [
    "dfSubClass <- underDf[, c(5:5, 11:11, 13:13, 15:15, 18:18, 31:31)]\n",
    "head(dfSubClass, 2)"
   ]
  },
  {
   "cell_type": "code",
   "execution_count": null,
   "id": "ae48489b",
   "metadata": {},
   "outputs": [],
   "source": []
  },
  {
   "cell_type": "markdown",
   "id": "81c21e1e",
   "metadata": {},
   "source": [
    "### Data Preparation"
   ]
  },
  {
   "cell_type": "markdown",
   "id": "6043dd86",
   "metadata": {},
   "source": [
    "**Remove non-normal features**"
   ]
  },
  {
   "cell_type": "code",
   "execution_count": 67,
   "id": "e2ea0c16",
   "metadata": {},
   "outputs": [
    {
     "data": {
      "text/html": [
       "<table>\n",
       "<thead><tr><th scope=col>Time</th><th scope=col>V1</th><th scope=col>V2</th><th scope=col>V3</th><th scope=col>V4</th><th scope=col>V5</th><th scope=col>V6</th><th scope=col>V7</th><th scope=col>V8</th><th scope=col>V9</th><th scope=col>...</th><th scope=col>V21</th><th scope=col>V22</th><th scope=col>V23</th><th scope=col>V24</th><th scope=col>V25</th><th scope=col>V26</th><th scope=col>V27</th><th scope=col>V28</th><th scope=col>Amount</th><th scope=col>Class</th></tr></thead>\n",
       "<tbody>\n",
       "\t<tr><td>0           </td><td>-1.359807   </td><td>-0.07278117 </td><td>2.5363467   </td><td>1.3781552   </td><td>-0.33832077 </td><td> 0.46238778 </td><td> 0.23959855 </td><td>0.09869790  </td><td> 0.3637870  </td><td>...         </td><td>-0.01830678 </td><td> 0.2778376  </td><td>-0.1104739  </td><td> 0.06692807 </td><td> 0.1285394  </td><td>-0.1891148  </td><td> 0.133558377</td><td>-0.02105305 </td><td>149.62      </td><td>0           </td></tr>\n",
       "\t<tr><td>0           </td><td> 1.191857   </td><td> 0.26615071 </td><td>0.1664801   </td><td>0.4481541   </td><td> 0.06001765 </td><td>-0.08236081 </td><td>-0.07880298 </td><td>0.08510165  </td><td>-0.2554251  </td><td>...         </td><td>-0.22577525 </td><td>-0.6386720  </td><td> 0.1012880  </td><td>-0.33984648 </td><td> 0.1671704  </td><td> 0.1258945  </td><td>-0.008983099</td><td> 0.01472417 </td><td>  2.69      </td><td>0           </td></tr>\n",
       "\t<tr><td>1           </td><td>-1.358354   </td><td>-1.34016307 </td><td>1.7732093   </td><td>0.3797796   </td><td>-0.50319813 </td><td> 1.80049938 </td><td> 0.79146096 </td><td>0.24767579  </td><td>-1.5146543  </td><td>...         </td><td> 0.24799815 </td><td> 0.7716794  </td><td> 0.9094123  </td><td>-0.68928096 </td><td>-0.3276418  </td><td>-0.1390966  </td><td>-0.055352794</td><td>-0.05975184 </td><td>378.66      </td><td>0           </td></tr>\n",
       "</tbody>\n",
       "</table>\n"
      ],
      "text/latex": [
       "\\begin{tabular}{r|lllllllllllllllllllllllllllllll}\n",
       " Time & V1 & V2 & V3 & V4 & V5 & V6 & V7 & V8 & V9 & ... & V21 & V22 & V23 & V24 & V25 & V26 & V27 & V28 & Amount & Class\\\\\n",
       "\\hline\n",
       "\t 0            & -1.359807    & -0.07278117  & 2.5363467    & 1.3781552    & -0.33832077  &  0.46238778  &  0.23959855  & 0.09869790   &  0.3637870   & ...          & -0.01830678  &  0.2778376   & -0.1104739   &  0.06692807  &  0.1285394   & -0.1891148   &  0.133558377 & -0.02105305  & 149.62       & 0           \\\\\n",
       "\t 0            &  1.191857    &  0.26615071  & 0.1664801    & 0.4481541    &  0.06001765  & -0.08236081  & -0.07880298  & 0.08510165   & -0.2554251   & ...          & -0.22577525  & -0.6386720   &  0.1012880   & -0.33984648  &  0.1671704   &  0.1258945   & -0.008983099 &  0.01472417  &   2.69       & 0           \\\\\n",
       "\t 1            & -1.358354    & -1.34016307  & 1.7732093    & 0.3797796    & -0.50319813  &  1.80049938  &  0.79146096  & 0.24767579   & -1.5146543   & ...          &  0.24799815  &  0.7716794   &  0.9094123   & -0.68928096  & -0.3276418   & -0.1390966   & -0.055352794 & -0.05975184  & 378.66       & 0           \\\\\n",
       "\\end{tabular}\n"
      ],
      "text/markdown": [
       "\n",
       "| Time | V1 | V2 | V3 | V4 | V5 | V6 | V7 | V8 | V9 | ... | V21 | V22 | V23 | V24 | V25 | V26 | V27 | V28 | Amount | Class |\n",
       "|---|---|---|---|---|---|---|---|---|---|---|---|---|---|---|---|---|---|---|---|---|\n",
       "| 0            | -1.359807    | -0.07278117  | 2.5363467    | 1.3781552    | -0.33832077  |  0.46238778  |  0.23959855  | 0.09869790   |  0.3637870   | ...          | -0.01830678  |  0.2778376   | -0.1104739   |  0.06692807  |  0.1285394   | -0.1891148   |  0.133558377 | -0.02105305  | 149.62       | 0            |\n",
       "| 0            |  1.191857    |  0.26615071  | 0.1664801    | 0.4481541    |  0.06001765  | -0.08236081  | -0.07880298  | 0.08510165   | -0.2554251   | ...          | -0.22577525  | -0.6386720   |  0.1012880   | -0.33984648  |  0.1671704   |  0.1258945   | -0.008983099 |  0.01472417  |   2.69       | 0            |\n",
       "| 1            | -1.358354    | -1.34016307  | 1.7732093    | 0.3797796    | -0.50319813  |  1.80049938  |  0.79146096  | 0.24767579   | -1.5146543   | ...          |  0.24799815  |  0.7716794   |  0.9094123   | -0.68928096  | -0.3276418   | -0.1390966   | -0.055352794 | -0.05975184  | 378.66       | 0            |\n",
       "\n"
      ],
      "text/plain": [
       "  Time V1        V2          V3        V4        V5          V6         \n",
       "1 0    -1.359807 -0.07278117 2.5363467 1.3781552 -0.33832077  0.46238778\n",
       "2 0     1.191857  0.26615071 0.1664801 0.4481541  0.06001765 -0.08236081\n",
       "3 1    -1.358354 -1.34016307 1.7732093 0.3797796 -0.50319813  1.80049938\n",
       "  V7          V8         V9         ... V21         V22        V23       \n",
       "1  0.23959855 0.09869790  0.3637870 ... -0.01830678  0.2778376 -0.1104739\n",
       "2 -0.07880298 0.08510165 -0.2554251 ... -0.22577525 -0.6386720  0.1012880\n",
       "3  0.79146096 0.24767579 -1.5146543 ...  0.24799815  0.7716794  0.9094123\n",
       "  V24         V25        V26        V27          V28         Amount Class\n",
       "1  0.06692807  0.1285394 -0.1891148  0.133558377 -0.02105305 149.62 0    \n",
       "2 -0.33984648  0.1671704  0.1258945 -0.008983099  0.01472417   2.69 0    \n",
       "3 -0.68928096 -0.3276418 -0.1390966 -0.055352794 -0.05975184 378.66 0    "
      ]
     },
     "metadata": {},
     "output_type": "display_data"
    }
   ],
   "source": [
    "# remove non-normal features\n",
    "dfClass <- underDf[, c(3:24, 26:31)]\n",
    "head(underDf, 3)"
   ]
  },
  {
   "cell_type": "code",
   "execution_count": 96,
   "id": "d408fa7a",
   "metadata": {},
   "outputs": [
    {
     "data": {
      "text/html": [
       "<ol class=list-inline>\n",
       "\t<li>284807</li>\n",
       "\t<li>28</li>\n",
       "</ol>\n"
      ],
      "text/latex": [
       "\\begin{enumerate*}\n",
       "\\item 284807\n",
       "\\item 28\n",
       "\\end{enumerate*}\n"
      ],
      "text/markdown": [
       "1. 284807\n",
       "2. 28\n",
       "\n",
       "\n"
      ],
      "text/plain": [
       "[1] 284807     28"
      ]
     },
     "metadata": {},
     "output_type": "display_data"
    }
   ],
   "source": [
    "dim(dfClass)"
   ]
  },
  {
   "cell_type": "markdown",
   "id": "e49ada52",
   "metadata": {},
   "source": [
    "**Split the data into training and test data**"
   ]
  },
  {
   "cell_type": "markdown",
   "id": "26302397",
   "metadata": {},
   "source": [
    "**> Full Normal Dataset**"
   ]
  },
  {
   "cell_type": "code",
   "execution_count": 68,
   "id": "4bad238e",
   "metadata": {},
   "outputs": [],
   "source": [
    "set.seed(103) \n",
    "sample = sample.split(dfClass$Amount, SplitRatio = .80)\n",
    "TrainClass = subset(dfClass, sample == TRUE)\n",
    "TestClass  = subset(dfClass, sample == FALSE)"
   ]
  },
  {
   "cell_type": "code",
   "execution_count": 97,
   "id": "f4ce5674",
   "metadata": {},
   "outputs": [
    {
     "data": {
      "text/html": [
       "<ol class=list-inline>\n",
       "\t<li>828</li>\n",
       "\t<li>28</li>\n",
       "</ol>\n"
      ],
      "text/latex": [
       "\\begin{enumerate*}\n",
       "\\item 828\n",
       "\\item 28\n",
       "\\end{enumerate*}\n"
      ],
      "text/markdown": [
       "1. 828\n",
       "2. 28\n",
       "\n",
       "\n"
      ],
      "text/plain": [
       "[1] 828  28"
      ]
     },
     "metadata": {},
     "output_type": "display_data"
    }
   ],
   "source": [
    "dim(TrainClass)"
   ]
  },
  {
   "cell_type": "code",
   "execution_count": 98,
   "id": "dcafe5b3",
   "metadata": {},
   "outputs": [
    {
     "data": {
      "text/html": [
       "<ol class=list-inline>\n",
       "\t<li>52892</li>\n",
       "\t<li>28</li>\n",
       "</ol>\n"
      ],
      "text/latex": [
       "\\begin{enumerate*}\n",
       "\\item 52892\n",
       "\\item 28\n",
       "\\end{enumerate*}\n"
      ],
      "text/markdown": [
       "1. 52892\n",
       "2. 28\n",
       "\n",
       "\n"
      ],
      "text/plain": [
       "[1] 52892    28"
      ]
     },
     "metadata": {},
     "output_type": "display_data"
    }
   ],
   "source": [
    "dim(TestClass)"
   ]
  },
  {
   "cell_type": "markdown",
   "id": "e9f16eb3",
   "metadata": {},
   "source": [
    "**> Selected Subset**"
   ]
  },
  {
   "cell_type": "code",
   "execution_count": 69,
   "id": "36852801",
   "metadata": {},
   "outputs": [],
   "source": [
    "set.seed(103) \n",
    "sample2 = sample.split(dfSubClass$V4, SplitRatio = .80)\n",
    "TrainClassSub = subset(dfSubClass, sample2 == TRUE)\n",
    "TestClassSub  = subset(dfSubClass, sample2 == FALSE)"
   ]
  },
  {
   "cell_type": "code",
   "execution_count": null,
   "id": "553ad20b",
   "metadata": {},
   "outputs": [],
   "source": []
  },
  {
   "cell_type": "markdown",
   "id": "9fda5911",
   "metadata": {},
   "source": [
    "**Undersample Training Data Only**"
   ]
  },
  {
   "cell_type": "markdown",
   "id": "e84e5186",
   "metadata": {},
   "source": [
    "**Because the dataset is highly imbalanced with respect to the percent of records with fraud labels (0.17%) versus records with non-fraud labels (99.83%), the training data was under sampled data for the comparison supervised models.**"
   ]
  },
  {
   "cell_type": "markdown",
   "id": "793cdba9",
   "metadata": {},
   "source": [
    "**> Full Normal Dataset**"
   ]
  },
  {
   "cell_type": "code",
   "execution_count": 70,
   "id": "68a74425",
   "metadata": {},
   "outputs": [
    {
     "data": {
      "text/plain": [
       "\n",
       "     0      1 \n",
       "231501    414 "
      ]
     },
     "metadata": {},
     "output_type": "display_data"
    }
   ],
   "source": [
    "table(TrainClass$Class)"
   ]
  },
  {
   "cell_type": "code",
   "execution_count": 71,
   "id": "b74c8814",
   "metadata": {},
   "outputs": [
    {
     "data": {
      "text/plain": [
       "\n",
       "  0   1 \n",
       "414 414 "
      ]
     },
     "metadata": {},
     "output_type": "display_data"
    }
   ],
   "source": [
    "# Random Under-Sampling (RUS)\n",
    "\n",
    "# set the number of non-fraud records to under sample to\n",
    "n_fraud <- 414\n",
    "new_frac_fraud <- 0.50\n",
    "new_n_total <- n_fraud/new_frac_fraud\n",
    "\n",
    "undersampling_result <- ovun.sample(Class ~ .,\n",
    "                                   data = TrainClass,\n",
    "                                   method = \"under\",\n",
    "                                   N = new_n_total,\n",
    "                                   seed =123)\n",
    "\n",
    "TrainClass <- undersampling_result$data\n",
    "\n",
    "table(TrainClass$Class)"
   ]
  },
  {
   "cell_type": "markdown",
   "id": "21dae9f1",
   "metadata": {},
   "source": [
    "**> Select Feature Subset**"
   ]
  },
  {
   "cell_type": "code",
   "execution_count": 72,
   "id": "316ebeda",
   "metadata": {},
   "outputs": [
    {
     "data": {
      "text/plain": [
       "\n",
       "     0      1 \n",
       "227453    392 "
      ]
     },
     "metadata": {},
     "output_type": "display_data"
    }
   ],
   "source": [
    "table(TrainClassSub$Class)"
   ]
  },
  {
   "cell_type": "code",
   "execution_count": 73,
   "id": "1db4d6d7",
   "metadata": {},
   "outputs": [
    {
     "data": {
      "text/plain": [
       "\n",
       "  0   1 \n",
       "392 392 "
      ]
     },
     "metadata": {},
     "output_type": "display_data"
    }
   ],
   "source": [
    "# Random Under-Sampling (RUS)\n",
    "\n",
    "# set the number of non-fraud records to under sample to\n",
    "n_fraud <- 392\n",
    "new_frac_fraud <- 0.50\n",
    "new_n_total <- n_fraud/new_frac_fraud\n",
    "\n",
    "undersampling_result <- ovun.sample(Class ~ .,\n",
    "                                   data = TrainClassSub,\n",
    "                                   method = \"under\",\n",
    "                                   N = new_n_total,\n",
    "                                   seed =123)\n",
    "\n",
    "TrainClassSub <- undersampling_result$data\n",
    "\n",
    "table(TrainClassSub$Class)"
   ]
  },
  {
   "cell_type": "code",
   "execution_count": null,
   "id": "b4438049",
   "metadata": {},
   "outputs": [],
   "source": []
  },
  {
   "cell_type": "markdown",
   "id": "08f54847",
   "metadata": {},
   "source": [
    "**Separate Predictor Features from Target Feature**"
   ]
  },
  {
   "cell_type": "markdown",
   "id": "46d3256a",
   "metadata": {},
   "source": [
    "**> Full Normal Dataset**"
   ]
  },
  {
   "cell_type": "code",
   "execution_count": 74,
   "id": "f6a51ef3",
   "metadata": {},
   "outputs": [],
   "source": [
    "# drop the target variable\n",
    "XTrainClass <- TrainClass[, c(1:27)]\n",
    "yTrainClass <- subset(TrainClass, select=c(\"Class\"))\n",
    "\n",
    "XTestClass <- TestClass[, c(1:27)]\n",
    "yTestClass <- subset(TestClass, select=c(\"Class\"))"
   ]
  },
  {
   "cell_type": "markdown",
   "id": "dbea492e",
   "metadata": {},
   "source": [
    "**> Select Features Subset**"
   ]
  },
  {
   "cell_type": "code",
   "execution_count": 75,
   "id": "dc6b782a",
   "metadata": {},
   "outputs": [],
   "source": [
    "# drop the target variable\n",
    "yTrainClassSub <- subset(TrainClassSub, select=c(\"Class\"))\n",
    "yTestClassSub <- subset(TestClassSub, select=c(\"Class\"))\n",
    "XTrainClassSub <- TrainClassSub[, c(1:5)]\n",
    "XTestClassSub <- TestClassSub[, c(1:5)]"
   ]
  },
  {
   "cell_type": "code",
   "execution_count": null,
   "id": "dc9927da",
   "metadata": {},
   "outputs": [],
   "source": []
  },
  {
   "cell_type": "markdown",
   "id": "f56b1fa1",
   "metadata": {},
   "source": [
    "### Modeling"
   ]
  },
  {
   "cell_type": "markdown",
   "id": "1dd92717",
   "metadata": {},
   "source": [
    "**> Full Normal Dataset**"
   ]
  },
  {
   "cell_type": "code",
   "execution_count": 76,
   "id": "4084f943",
   "metadata": {},
   "outputs": [],
   "source": [
    "# SVM model with original class labels as the target variable\n",
    "\n",
    "# use cross-validation\n",
    "set.seed(123)\n",
    "train.control <- trainControl(method = \"cv\", number = 10)\n",
    "\n",
    "svmModel <- svm(Class ~ ., data = TrainClass,\n",
    "           type='C-classification',\n",
    "           gamma = .05,\n",
    "               # data already scaled\n",
    "           scale=FALSE,\n",
    "           kernel=\"radial\", trControl = train.control)\n",
    "\n"
   ]
  },
  {
   "cell_type": "markdown",
   "id": "2b4494ca",
   "metadata": {},
   "source": [
    "**> Selected Subset**"
   ]
  },
  {
   "cell_type": "code",
   "execution_count": 77,
   "id": "be615cb1",
   "metadata": {},
   "outputs": [],
   "source": [
    "# SVM model with original class labels as the target variable\n",
    "\n",
    "# use cross-validation\n",
    "set.seed(123)\n",
    "train.control <- trainControl(method = \"cv\", number = 10)\n",
    "\n",
    "svmModelSub <- svm(Class ~ ., data = TrainClassSub,\n",
    "           type='C-classification',\n",
    "           gamma = .05,\n",
    "               # data already scaled\n",
    "           scale=FALSE,\n",
    "           kernel=\"radial\", trControl = train.control)"
   ]
  },
  {
   "cell_type": "code",
   "execution_count": null,
   "id": "552d15ce",
   "metadata": {},
   "outputs": [],
   "source": []
  },
  {
   "cell_type": "markdown",
   "id": "c706d430",
   "metadata": {},
   "source": [
    "### Predictions"
   ]
  },
  {
   "cell_type": "markdown",
   "id": "78859885",
   "metadata": {},
   "source": [
    "**> Full Normal Dataset** "
   ]
  },
  {
   "cell_type": "code",
   "execution_count": 99,
   "id": "dc93863d",
   "metadata": {},
   "outputs": [],
   "source": [
    "# predictions on training data\n",
    "\n",
    "# make predictions with SVM model\n",
    "predSVM <- predict(svmModel, XTrainClass)\n"
   ]
  },
  {
   "cell_type": "code",
   "execution_count": 100,
   "id": "8d5afb2d",
   "metadata": {},
   "outputs": [],
   "source": [
    "predSVM <- as.numeric(as.character(predSVM))"
   ]
  },
  {
   "cell_type": "code",
   "execution_count": 101,
   "id": "3d2c5712",
   "metadata": {},
   "outputs": [],
   "source": [
    "# predictions on Test data\n",
    "predSVMTest <- predict(svmModel, XTestClass)\n"
   ]
  },
  {
   "cell_type": "code",
   "execution_count": 102,
   "id": "1560a235",
   "metadata": {},
   "outputs": [],
   "source": [
    "predSVMTest <- as.numeric(as.character(predSVMTest))"
   ]
  },
  {
   "cell_type": "code",
   "execution_count": null,
   "id": "36f7c2e4",
   "metadata": {},
   "outputs": [],
   "source": []
  },
  {
   "cell_type": "markdown",
   "id": "9af8fcc0",
   "metadata": {},
   "source": [
    "**> Selected Subset**"
   ]
  },
  {
   "cell_type": "code",
   "execution_count": 103,
   "id": "a71119ed",
   "metadata": {},
   "outputs": [],
   "source": [
    "# predictions on training data\n",
    "\n",
    "# make predictions with SVM model\n",
    "predSVMsub <- predict(svmModelSub, XTrainClassSub)\n",
    "predSVMsub <- as.numeric(as.character(predSVMsub))"
   ]
  },
  {
   "cell_type": "code",
   "execution_count": 104,
   "id": "316319e3",
   "metadata": {},
   "outputs": [],
   "source": [
    "# predictions on Test data\n",
    "predSVMTestSub <- predict(svmModelSub, XTestClassSub)\n",
    "predSVMTestSub <- as.numeric(as.character(predSVMTestSub))"
   ]
  },
  {
   "cell_type": "code",
   "execution_count": null,
   "id": "6f657fb9",
   "metadata": {},
   "outputs": [],
   "source": []
  },
  {
   "cell_type": "markdown",
   "id": "5fca696e",
   "metadata": {},
   "source": [
    "### Evaluation"
   ]
  },
  {
   "cell_type": "markdown",
   "id": "be76f6a8",
   "metadata": {},
   "source": [
    "**> Full Normal Dataset**"
   ]
  },
  {
   "cell_type": "markdown",
   "id": "9837a551",
   "metadata": {},
   "source": [
    "**Training Data**"
   ]
  },
  {
   "cell_type": "markdown",
   "id": "8b160d3c",
   "metadata": {},
   "source": [
    "**> Confusion Matrix**"
   ]
  },
  {
   "cell_type": "code",
   "execution_count": 84,
   "id": "6709faf5",
   "metadata": {},
   "outputs": [],
   "source": [
    "# https://www.journaldev.com/47628/f1-score-in-r\n",
    "\n",
    "#error metrics -- Confusion Matrix\n",
    "err_metric=function(CM)\n",
    "{\n",
    "  TN =CM[1,1]\n",
    "  TP =CM[2,2]\n",
    "  FP =CM[1,2]\n",
    "  FN =CM[2,1]\n",
    "  precision =(TP)/(TP+FP)\n",
    "  recall_score =(TP)/(TP+FN)\n",
    " \n",
    "  f1_score=2*((precision*recall_score)/(precision+recall_score))\n",
    "  accuracy_model  =(TP+TN)/(TP+TN+FP+FN)\n",
    "  False_positive_rate =(FP)/(FP+TN)\n",
    "  False_negative_rate =(FN)/(FN+TP)\n",
    " \n",
    "  print(paste(\"Precision value of the model: \",round(precision,2)))\n",
    "  print(paste(\"Accuracy of the model: \",round(accuracy_model,2)))\n",
    "  print(paste(\"Recall value of the model: \",round(recall_score,2)))\n",
    "  print(paste(\"False Positive rate of the model: \",round(False_positive_rate,2)))\n",
    " \n",
    "  print(paste(\"False Negative rate of the model: \",round(False_negative_rate,2)))\n",
    " \n",
    "  print(paste(\"f1 score of the model: \",round(f1_score,2)))\n",
    "}\n",
    "\n"
   ]
  },
  {
   "cell_type": "code",
   "execution_count": 105,
   "id": "0419b23e",
   "metadata": {},
   "outputs": [
    {
     "name": "stdout",
     "output_type": "stream",
     "text": [
      "   predSVM\n",
      "      0   1\n",
      "  0 413   1\n",
      "  1  11 403\n",
      "[1] \"Precision value of the model:  1\"\n",
      "[1] \"Accuracy of the model:  0.99\"\n",
      "[1] \"Recall value of the model:  0.97\"\n",
      "[1] \"False Positive rate of the model:  0\"\n",
      "[1] \"False Negative rate of the model:  0.03\"\n",
      "[1] \"f1 score of the model:  0.99\"\n"
     ]
    }
   ],
   "source": [
    "# make confusion matrix of SVC training predictions\n",
    "predSVM <- ifelse(predSVM > 0.5,1,0) # Probability check\n",
    "CM= table(yTrainClass$Class, predSVM)\n",
    "print(CM)\n",
    "err_metric(CM)"
   ]
  },
  {
   "cell_type": "code",
   "execution_count": null,
   "id": "76a43913",
   "metadata": {},
   "outputs": [],
   "source": []
  },
  {
   "cell_type": "markdown",
   "id": "ec6f0473",
   "metadata": {},
   "source": [
    "**> F1 and Recall Scores**"
   ]
  },
  {
   "cell_type": "code",
   "execution_count": 107,
   "id": "8e23e250",
   "metadata": {},
   "outputs": [
    {
     "data": {
      "text/html": [
       "0.985330073349633"
      ],
      "text/latex": [
       "0.985330073349633"
      ],
      "text/markdown": [
       "0.985330073349633"
      ],
      "text/plain": [
       "[1] 0.9853301"
      ]
     },
     "metadata": {},
     "output_type": "display_data"
    },
    {
     "data": {
      "text/html": [
       "0.973429951690821"
      ],
      "text/latex": [
       "0.973429951690821"
      ],
      "text/markdown": [
       "0.973429951690821"
      ],
      "text/plain": [
       "[1] 0.97343"
      ]
     },
     "metadata": {},
     "output_type": "display_data"
    }
   ],
   "source": [
    "# calculate F1 and Recall scores on SVC training predictions\n",
    "F1_Score(y_pred = predSVM, y_true = yTrainClass$Class, positive = \"1\")\n",
    "Recall(y_pred = predSVM, y_true = yTrainClass$Class, positive = \"1\")"
   ]
  },
  {
   "cell_type": "markdown",
   "id": "996b9967",
   "metadata": {},
   "source": [
    "**Testing Data**"
   ]
  },
  {
   "cell_type": "markdown",
   "id": "85e228d7",
   "metadata": {},
   "source": [
    "**> Confusion Matrix**"
   ]
  },
  {
   "cell_type": "code",
   "execution_count": 108,
   "id": "37c6d121",
   "metadata": {},
   "outputs": [
    {
     "name": "stdout",
     "output_type": "stream",
     "text": [
      "   predSVMTest\n",
      "        0     1\n",
      "  0 45709  7105\n",
      "  1     5    73\n",
      "[1] \"Precision value of the model:  0.01\"\n",
      "[1] \"Accuracy of the model:  0.87\"\n",
      "[1] \"Recall value of the model:  0.94\"\n",
      "[1] \"False Positive rate of the model:  0.13\"\n",
      "[1] \"False Negative rate of the model:  0.06\"\n",
      "[1] \"f1 score of the model:  0.02\"\n"
     ]
    }
   ],
   "source": [
    "# make confusion matrix of SVC testing predictions\n",
    "predSVMTest <- ifelse(predSVMTest > 0.5,1,0) # Probability check\n",
    "CM= table(yTestClass$Class, predSVMTest)\n",
    "print(CM)\n",
    "err_metric(CM)"
   ]
  },
  {
   "cell_type": "markdown",
   "id": "90d192e0",
   "metadata": {},
   "source": [
    "**> F1 and Recall Scores**"
   ]
  },
  {
   "cell_type": "code",
   "execution_count": 109,
   "id": "340725b5",
   "metadata": {},
   "outputs": [
    {
     "data": {
      "text/html": [
       "0.0201212789415656"
      ],
      "text/latex": [
       "0.0201212789415656"
      ],
      "text/markdown": [
       "0.0201212789415656"
      ],
      "text/plain": [
       "[1] 0.02012128"
      ]
     },
     "metadata": {},
     "output_type": "display_data"
    },
    {
     "data": {
      "text/html": [
       "0.935897435897436"
      ],
      "text/latex": [
       "0.935897435897436"
      ],
      "text/markdown": [
       "0.935897435897436"
      ],
      "text/plain": [
       "[1] 0.9358974"
      ]
     },
     "metadata": {},
     "output_type": "display_data"
    }
   ],
   "source": [
    "# calculate F1 and Recall scores on SVC testing predictions\n",
    "F1_Score(y_pred = predSVMTest, y_true = yTestClass$Class, positive = \"1\")\n",
    "Recall(y_pred = predSVMTest, y_true = yTestClass$Class, positive = \"1\")"
   ]
  },
  {
   "cell_type": "code",
   "execution_count": null,
   "id": "9289ae14",
   "metadata": {},
   "outputs": [],
   "source": []
  },
  {
   "cell_type": "markdown",
   "id": "788fdd17",
   "metadata": {},
   "source": [
    "**Evaluation of Selected Subset Data** "
   ]
  },
  {
   "cell_type": "markdown",
   "id": "5867ba45",
   "metadata": {},
   "source": [
    "**Training Data**"
   ]
  },
  {
   "cell_type": "markdown",
   "id": "3d75fcfd",
   "metadata": {},
   "source": [
    "**> Confusion Matrix**"
   ]
  },
  {
   "cell_type": "code",
   "execution_count": 110,
   "id": "9955bc87",
   "metadata": {},
   "outputs": [
    {
     "name": "stdout",
     "output_type": "stream",
     "text": [
      "   predSVMsub\n",
      "      0   1\n",
      "  0 391   1\n",
      "  1  38 354\n",
      "[1] \"Precision value of the model:  1\"\n",
      "[1] \"Accuracy of the model:  0.95\"\n",
      "[1] \"Recall value of the model:  0.9\"\n",
      "[1] \"False Positive rate of the model:  0\"\n",
      "[1] \"False Negative rate of the model:  0.1\"\n",
      "[1] \"f1 score of the model:  0.95\"\n"
     ]
    }
   ],
   "source": [
    "# make confusion matrix of SVC training predictions\n",
    "predSVMsub <- ifelse(predSVMsub > 0.5,1,0) # Probability check\n",
    "CM= table(yTrainClassSub$Class, predSVMsub)\n",
    "print(CM)\n",
    "err_metric(CM)"
   ]
  },
  {
   "cell_type": "markdown",
   "id": "3cfdf17f",
   "metadata": {},
   "source": [
    "**> F1 and Recall Scores**"
   ]
  },
  {
   "cell_type": "code",
   "execution_count": 112,
   "id": "e261de13",
   "metadata": {},
   "outputs": [
    {
     "data": {
      "text/html": [
       "0.947791164658635"
      ],
      "text/latex": [
       "0.947791164658635"
      ],
      "text/markdown": [
       "0.947791164658635"
      ],
      "text/plain": [
       "[1] 0.9477912"
      ]
     },
     "metadata": {},
     "output_type": "display_data"
    },
    {
     "data": {
      "text/html": [
       "0.903061224489796"
      ],
      "text/latex": [
       "0.903061224489796"
      ],
      "text/markdown": [
       "0.903061224489796"
      ],
      "text/plain": [
       "[1] 0.9030612"
      ]
     },
     "metadata": {},
     "output_type": "display_data"
    }
   ],
   "source": [
    "# calculate F1 and Recall scores on SVC training predictions\n",
    "F1_Score(y_pred = predSVMsub, y_true = yTrainClassSub$Class, positive = \"1\")\n",
    "Recall(y_pred = predSVMsub, y_true = yTrainClassSub$Class, positive = \"1\")"
   ]
  },
  {
   "cell_type": "markdown",
   "id": "6d733698",
   "metadata": {},
   "source": [
    "**Testing Data**"
   ]
  },
  {
   "cell_type": "markdown",
   "id": "af64136c",
   "metadata": {},
   "source": [
    "**> Confusion Matrix**"
   ]
  },
  {
   "cell_type": "code",
   "execution_count": 113,
   "id": "f32df78b",
   "metadata": {},
   "outputs": [
    {
     "name": "stdout",
     "output_type": "stream",
     "text": [
      "   predSVMTestSub\n",
      "        0     1\n",
      "  0 56053   809\n",
      "  1    15    85\n",
      "[1] \"Precision value of the model:  0.1\"\n",
      "[1] \"Accuracy of the model:  0.99\"\n",
      "[1] \"Recall value of the model:  0.85\"\n",
      "[1] \"False Positive rate of the model:  0.01\"\n",
      "[1] \"False Negative rate of the model:  0.15\"\n",
      "[1] \"f1 score of the model:  0.17\"\n"
     ]
    }
   ],
   "source": [
    "# make confusion matrix of SVC testing predictions\n",
    "predSVMTestSub <- ifelse(predSVMTestSub > 0.5,1,0) # Probability check\n",
    "CM= table(yTestClassSub$Class, predSVMTestSub)\n",
    "print(CM)\n",
    "err_metric(CM)"
   ]
  },
  {
   "cell_type": "markdown",
   "id": "efa423a6",
   "metadata": {},
   "source": [
    "**>F1 and Recall Scores**"
   ]
  },
  {
   "cell_type": "code",
   "execution_count": 114,
   "id": "4b3e6ae7",
   "metadata": {},
   "outputs": [
    {
     "data": {
      "text/html": [
       "0.17102615694165"
      ],
      "text/latex": [
       "0.17102615694165"
      ],
      "text/markdown": [
       "0.17102615694165"
      ],
      "text/plain": [
       "[1] 0.1710262"
      ]
     },
     "metadata": {},
     "output_type": "display_data"
    },
    {
     "data": {
      "text/html": [
       "0.85"
      ],
      "text/latex": [
       "0.85"
      ],
      "text/markdown": [
       "0.85"
      ],
      "text/plain": [
       "[1] 0.85"
      ]
     },
     "metadata": {},
     "output_type": "display_data"
    }
   ],
   "source": [
    "# calculate F1 and Recall scores on SVC testing predictions\n",
    "F1_Score(y_pred = predSVMTestSub, y_true = yTestClassSub$Class, positive = \"1\")\n",
    "Recall(y_pred = predSVMTestSub, y_true = yTestClassSub$Class, positive = \"1\")"
   ]
  },
  {
   "cell_type": "code",
   "execution_count": 115,
   "id": "6ff2b3a0",
   "metadata": {},
   "outputs": [
    {
     "data": {
      "text/html": [
       "0.0950782997762864"
      ],
      "text/latex": [
       "0.0950782997762864"
      ],
      "text/markdown": [
       "0.0950782997762864"
      ],
      "text/plain": [
       "[1] 0.0950783"
      ]
     },
     "metadata": {},
     "output_type": "display_data"
    }
   ],
   "source": [
    "Precision(y_pred = predSVMTestSub, y_true = yTestClassSub$Class, positive = \"1\")"
   ]
  },
  {
   "cell_type": "code",
   "execution_count": null,
   "id": "538d475f",
   "metadata": {},
   "outputs": [],
   "source": []
  }
 ],
 "metadata": {
  "kernelspec": {
   "display_name": "R",
   "language": "R",
   "name": "ir"
  },
  "language_info": {
   "codemirror_mode": "r",
   "file_extension": ".r",
   "mimetype": "text/x-r-source",
   "name": "R",
   "pygments_lexer": "r",
   "version": "3.6.1"
  }
 },
 "nbformat": 4,
 "nbformat_minor": 5
}
