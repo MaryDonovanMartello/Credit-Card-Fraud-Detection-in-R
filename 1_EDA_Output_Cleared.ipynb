{
 "cells": [
  {
   "cell_type": "markdown",
   "id": "676e12b0",
   "metadata": {},
   "source": [
    "# Anomaly Detection in R"
   ]
  },
  {
   "cell_type": "markdown",
   "id": "ccf9eced",
   "metadata": {},
   "source": [
    "# Mary Donovan Martello"
   ]
  },
  {
   "cell_type": "markdown",
   "id": "30ea3dbf",
   "metadata": {},
   "source": [
    "## The goal of this project was to use R to design unsupervised predictive binary classification models to predict whether credit card transactions are fraudulent transactions.  This file includes exploratory data analysis."
   ]
  },
  {
   "cell_type": "markdown",
   "id": "1866e9b3",
   "metadata": {},
   "source": [
    "## Part 1:  Exploratory Data Analysis"
   ]
  },
  {
   "cell_type": "code",
   "execution_count": null,
   "id": "8ed4f9eb",
   "metadata": {},
   "outputs": [],
   "source": []
  },
  {
   "cell_type": "markdown",
   "id": "75bbf054",
   "metadata": {},
   "source": [
    "# NOTE:  FILE WAS TOO BIG TO UPLOAD TO GITHUB WITH OUTPUTS INCLUDED.  THEREFORE OUTPUTS WERE CLEARED."
   ]
  },
  {
   "cell_type": "code",
   "execution_count": null,
   "id": "a9751842",
   "metadata": {},
   "outputs": [],
   "source": [
    "# Importing required libraries\n",
    "library(dplyr)\n",
    "library(caret)\n",
    "library(ggplot2)\n",
    "library(caTools)\n",
    "library(ROSE)\n",
    "library(smotefamily)\n",
    "library(rpart)\n",
    "library(rpart.plot)\n",
    "library(psych)\n",
    "library(ltm)\n",
    "library(corrplot)\n",
    "library(e1071)\n",
    "\n",
    "suppressMessages(library(dplyr))\n",
    "suppressMessages(library(caTools))\n",
    "suppressMessages(library(ROSE))\n",
    "suppressMessages(library(smotefamily))\n",
    "suppressMessages(library(rpart.plot))\n",
    "suppressMessages(library(psych))\n",
    "suppressMessages(library(ltm))\n",
    "suppressMessages(library(corrplot))\n",
    "suppressMessages(library(e1071))"
   ]
  },
  {
   "cell_type": "code",
   "execution_count": null,
   "id": "57bd3905",
   "metadata": {},
   "outputs": [],
   "source": [
    "# turns off scientific notation\n",
    "options(scipen = 999)"
   ]
  },
  {
   "cell_type": "code",
   "execution_count": null,
   "id": "271c36ab",
   "metadata": {},
   "outputs": [],
   "source": []
  },
  {
   "cell_type": "markdown",
   "id": "4d12c4dc",
   "metadata": {},
   "source": [
    "### The dataset contains transactions made by credit cards in September 2013 by European cardholders. For privacy purposes, 28 of the 31 features are the result of a PCA transformation.  The three non-PCA features are 'Time', 'Amount', and the target feature ‘Class' (1 in case of fraud and 0 for non-fraud). Time' contains the seconds elapsed between each transaction and the first transaction in the dataset and 'Amount' is the transaction amount. As a result of the PCA transformation of 28 features, the actual nature of these features cannot be understood, but these features are independent of each other due to PCA transformation."
   ]
  },
  {
   "cell_type": "code",
   "execution_count": null,
   "id": "a2c6e5ea",
   "metadata": {},
   "outputs": [],
   "source": [
    "#Loading the dataset\n",
    "fulldf<-read.csv(\"creditcard.csv\")"
   ]
  },
  {
   "cell_type": "code",
   "execution_count": null,
   "id": "88c3eda0",
   "metadata": {},
   "outputs": [],
   "source": [
    "#Viewing dataset\n",
    "str(fulldf)"
   ]
  },
  {
   "cell_type": "code",
   "execution_count": null,
   "id": "940dd171",
   "metadata": {},
   "outputs": [],
   "source": [
    "# Convert class to a factor variable\n",
    "fulldf$Class <- factor(fulldf$Class, levels =  c(0,1))"
   ]
  },
  {
   "cell_type": "code",
   "execution_count": null,
   "id": "d161830e",
   "metadata": {},
   "outputs": [],
   "source": [
    "fulldf%>%head()"
   ]
  },
  {
   "cell_type": "code",
   "execution_count": null,
   "id": "d7aeb010",
   "metadata": {},
   "outputs": [],
   "source": [
    "# Number of rows & columns\n",
    "nrow(fulldf)\n",
    "ncol(fulldf)"
   ]
  },
  {
   "cell_type": "code",
   "execution_count": null,
   "id": "a56bcf96",
   "metadata": {
    "scrolled": true
   },
   "outputs": [],
   "source": [
    "# Get the summary of the data\n",
    "summary(fulldf)"
   ]
  },
  {
   "cell_type": "code",
   "execution_count": null,
   "id": "23f5b189",
   "metadata": {
    "scrolled": true
   },
   "outputs": [],
   "source": [
    "psych::describe(fulldf)%>%as_tibble()"
   ]
  },
  {
   "cell_type": "code",
   "execution_count": null,
   "id": "1bc18c95",
   "metadata": {},
   "outputs": [],
   "source": [
    "# Count the missing values\n",
    "sum(is.null(fulldf))"
   ]
  },
  {
   "cell_type": "code",
   "execution_count": null,
   "id": "81f9bec8",
   "metadata": {},
   "outputs": [],
   "source": [
    "# Get the distribution of fraud and non-fraud transactions in the dataset\n",
    "table(fulldf$Class)"
   ]
  },
  {
   "cell_type": "code",
   "execution_count": null,
   "id": "685a5c8e",
   "metadata": {},
   "outputs": [],
   "source": [
    "# Get the percentage of fraud and legit transactions in the datasets\n",
    "prop.table(table(fulldf$Class))"
   ]
  },
  {
   "cell_type": "code",
   "execution_count": null,
   "id": "6a5893bb",
   "metadata": {},
   "outputs": [],
   "source": []
  },
  {
   "cell_type": "markdown",
   "id": "838d8248",
   "metadata": {},
   "source": [
    "### Each record in the dataset includes a label of whether the claim was classified as fraudulent (fraud = 1) or as non-fraudulent (fraud = 0). Create separate subsets of the dataset so that one subset only has records that did not have fraud transactions and another subset that only has records with fraud transactions. Use these separate subsets for EDA."
   ]
  },
  {
   "cell_type": "code",
   "execution_count": null,
   "id": "2b4c746b",
   "metadata": {},
   "outputs": [],
   "source": [
    "# Subsets of fraud vs non-fraud \n",
    "noFraud <- subset(fulldf, Class == 0)\n",
    "yesFraud <- subset(fulldf, Class == 1)\n",
    "\n"
   ]
  },
  {
   "cell_type": "code",
   "execution_count": null,
   "id": "a660948e",
   "metadata": {},
   "outputs": [],
   "source": [
    "dim(noFraud) #284807 .99827"
   ]
  },
  {
   "cell_type": "code",
   "execution_count": null,
   "id": "0cd797db",
   "metadata": {},
   "outputs": [],
   "source": [
    "dim(yesFraud) #.00172749"
   ]
  },
  {
   "cell_type": "code",
   "execution_count": null,
   "id": "0a04a9c2",
   "metadata": {},
   "outputs": [],
   "source": []
  },
  {
   "cell_type": "code",
   "execution_count": null,
   "id": "8a631f74",
   "metadata": {},
   "outputs": [],
   "source": []
  },
  {
   "cell_type": "markdown",
   "id": "329fb844",
   "metadata": {},
   "source": [
    "### Examine Feature Counts"
   ]
  },
  {
   "cell_type": "code",
   "execution_count": null,
   "id": "e045068b",
   "metadata": {},
   "outputs": [],
   "source": [
    "ggplot(fulldf, aes(x = Time, fill = Class)) +\n",
    "    geom_histogram(bins = 25) +\n",
    "    facet_wrap( ~ Class, scales = \"free\", ncol = 2) + labs(title = \"Fraud Subset Time Counts\")"
   ]
  },
  {
   "cell_type": "code",
   "execution_count": null,
   "id": "02bada70",
   "metadata": {},
   "outputs": [],
   "source": [
    "ggplot(fulldf, aes(x = Time, fill = Class)) +\n",
    "    geom_histogram(bins = 100) +\n",
    "    facet_wrap( ~ Class, scales = \"free\", ncol = 2) + labs(title = \"Fraud Subset Time Counts\")"
   ]
  },
  {
   "cell_type": "code",
   "execution_count": null,
   "id": "32201934",
   "metadata": {},
   "outputs": [],
   "source": []
  },
  {
   "cell_type": "code",
   "execution_count": null,
   "id": "32e16151",
   "metadata": {
    "scrolled": true
   },
   "outputs": [],
   "source": [
    "# get counts of non-PCA vars: fraud subset\n",
    "yesFraud %>% count(Time)"
   ]
  },
  {
   "cell_type": "code",
   "execution_count": null,
   "id": "81434605",
   "metadata": {
    "scrolled": true
   },
   "outputs": [],
   "source": [
    "# get counts of non-PCA vars: non-fraud subset\n",
    "noFraud %>% count(Time)"
   ]
  },
  {
   "cell_type": "code",
   "execution_count": null,
   "id": "fda93612",
   "metadata": {},
   "outputs": [],
   "source": []
  },
  {
   "cell_type": "code",
   "execution_count": null,
   "id": "5434d852",
   "metadata": {},
   "outputs": [],
   "source": []
  },
  {
   "cell_type": "code",
   "execution_count": null,
   "id": "56bf9253",
   "metadata": {},
   "outputs": [],
   "source": [
    "ggplot(fulldf, aes(x = Amount, fill = Class)) +\n",
    "    geom_histogram(bins = 25) +\n",
    "    facet_wrap( ~ Class, scales = \"free\", ncol = 2) + labs(title = \"Fraud Subset Amount Counts\")"
   ]
  },
  {
   "cell_type": "code",
   "execution_count": null,
   "id": "254494d5",
   "metadata": {},
   "outputs": [],
   "source": [
    "ggplot(fulldf, aes(x = Amount, fill = Class)) +\n",
    "    geom_histogram(bins = 100) +\n",
    "    facet_wrap( ~ Class, scales = \"free\", ncol = 2) + labs(title = \"Fraud Subset Amount Counts\")"
   ]
  },
  {
   "cell_type": "code",
   "execution_count": null,
   "id": "c1b53f1a",
   "metadata": {
    "scrolled": true
   },
   "outputs": [],
   "source": [
    "# get counts of non-PCA vars: fraud subset\n",
    "yesFraud %>% count(Amount)"
   ]
  },
  {
   "cell_type": "code",
   "execution_count": null,
   "id": "e4674e63",
   "metadata": {
    "scrolled": true
   },
   "outputs": [],
   "source": [
    "# get counts of non-PCA vars: non-fraud subset\n",
    "noFraud %>% count(Amount)"
   ]
  },
  {
   "cell_type": "code",
   "execution_count": null,
   "id": "f34962dd",
   "metadata": {},
   "outputs": [],
   "source": []
  },
  {
   "cell_type": "code",
   "execution_count": null,
   "id": "8ae1a408",
   "metadata": {},
   "outputs": [],
   "source": [
    "# Get the distribution of Time values in the dataset\n",
    "table(fulldf$Time)"
   ]
  },
  {
   "cell_type": "code",
   "execution_count": null,
   "id": "961682e0",
   "metadata": {},
   "outputs": [],
   "source": [
    "# Get the distribution of Amount values in the dataset\n",
    "table(fulldf$Amount)"
   ]
  },
  {
   "cell_type": "markdown",
   "id": "5174829d",
   "metadata": {},
   "source": [
    "### Visualizations"
   ]
  },
  {
   "cell_type": "markdown",
   "id": "2e1a1a2e",
   "metadata": {},
   "source": [
    "**Histograms**"
   ]
  },
  {
   "cell_type": "code",
   "execution_count": null,
   "id": "d3b62dc3",
   "metadata": {},
   "outputs": [],
   "source": [
    "for (i in fulldf)\n",
    "{\n",
    "for (j in colnames(fulldf))\n",
    "{\n",
    "    print(ggplot(fulldf, aes(x =\"\",y=i, fill=Class))+ geom_boxplot()+labs(title=j,x=i,y=\"\"))\n",
    "}\n",
    "}"
   ]
  },
  {
   "cell_type": "code",
   "execution_count": null,
   "id": "aef92b01",
   "metadata": {},
   "outputs": [],
   "source": []
  },
  {
   "cell_type": "markdown",
   "id": "b162ab32",
   "metadata": {},
   "source": [
    "**The boxplots show that the Time feature may have outliers. If the zscore is > 3 or < -3 then remove as an outlier. Need to remove from the full df and the two fraud subsets.**"
   ]
  },
  {
   "cell_type": "markdown",
   "id": "2cb14aad",
   "metadata": {},
   "source": [
    "**However,the z score calculation shows that there are no z scores > 2 or < -2.**"
   ]
  },
  {
   "cell_type": "code",
   "execution_count": null,
   "id": "1410a106",
   "metadata": {},
   "outputs": [],
   "source": [
    "# calculate the z score\n",
    "zscoreTimetest <- (zdf$Time - mean(zdf$Time)) / sd(zdf$Time)\n",
    "zscoreTimetest "
   ]
  },
  {
   "cell_type": "code",
   "execution_count": null,
   "id": "706867ab",
   "metadata": {},
   "outputs": [],
   "source": [
    "zScoreNeg2 <- subset(zscoreTimetest, zscoreTimetest < -2)"
   ]
  },
  {
   "cell_type": "code",
   "execution_count": null,
   "id": "a78b819d",
   "metadata": {},
   "outputs": [],
   "source": [
    "zScoreNeg2"
   ]
  },
  {
   "cell_type": "code",
   "execution_count": null,
   "id": "07a9f797",
   "metadata": {},
   "outputs": [],
   "source": [
    "zScorePos2 <- subset(zscoreTimetest, zscoreTimetest > 2)"
   ]
  },
  {
   "cell_type": "code",
   "execution_count": null,
   "id": "5ec8ced7",
   "metadata": {},
   "outputs": [],
   "source": [
    "zScorePos2"
   ]
  },
  {
   "cell_type": "code",
   "execution_count": null,
   "id": "6d109729",
   "metadata": {},
   "outputs": [],
   "source": []
  },
  {
   "cell_type": "markdown",
   "id": "425aefb8",
   "metadata": {},
   "source": [
    "### Visualizations continued."
   ]
  },
  {
   "cell_type": "code",
   "execution_count": null,
   "id": "eb61fac8",
   "metadata": {},
   "outputs": [],
   "source": [
    "for (i in fulldf){\n",
    "    print(ggplot(fulldf, aes(title=i, x = i, fill = Class)) +\n",
    "    geom_histogram(bins = 25) +\n",
    "    facet_wrap( ~ Class, scales = \"free\", ncol = 2))\n",
    "}"
   ]
  },
  {
   "cell_type": "code",
   "execution_count": null,
   "id": "d0416a3d",
   "metadata": {},
   "outputs": [],
   "source": [
    "# Histogram with normal curve colored by fraud variable\n",
    "for (i in fulldf){\n",
    "    print(ggplot(fulldf, aes(x=i, col = Class)) + \n",
    "    geom_histogram(binwidth = 100, aes(y=..density..), colour=\"black\", fill=\"white\") +\n",
    "    geom_density(alpha=.2, fill=\"yellow\") +\n",
    "    labs(title=i, x=i, y = \"Count\"))\n",
    "}"
   ]
  },
  {
   "cell_type": "code",
   "execution_count": null,
   "id": "b010ab84",
   "metadata": {},
   "outputs": [],
   "source": [
    "for (i in fulldf){\n",
    "    print(ggplot(fulldf, aes(title=i, x = i, fill = Class)) +\n",
    "    geom_density(alpha=1/3) + scale_fill_hue())\n",
    "}"
   ]
  },
  {
   "cell_type": "code",
   "execution_count": null,
   "id": "8c1aa099",
   "metadata": {},
   "outputs": [],
   "source": []
  },
  {
   "cell_type": "code",
   "execution_count": null,
   "id": "8e245750",
   "metadata": {},
   "outputs": [],
   "source": []
  },
  {
   "cell_type": "markdown",
   "id": "ce4d03af",
   "metadata": {},
   "source": [
    "### Correlation"
   ]
  },
  {
   "cell_type": "code",
   "execution_count": null,
   "id": "468a6054",
   "metadata": {},
   "outputs": [],
   "source": [
    "#point-biserial correlation = Computes the point-biserial correlation between a dichotomous and a continuous variable\n",
    "timeCorr = biserial.cor(fulldf$Time, fulldf$Class, use = \"complete.obs\", level = 2)\n",
    "amtCorr = biserial.cor(fulldf$Amount, fulldf$Class, use = \"complete.obs\", level = 2)\n",
    "V1Corr = biserial.cor(fulldf$V1, fulldf$Class, use = \"complete.obs\", level = 2)\n",
    "V2Corr = biserial.cor(fulldf$V2, fulldf$Class, use = \"complete.obs\", level = 2)\n",
    "V3Corr = biserial.cor(fulldf$V3, fulldf$Class, use = \"complete.obs\", level = 2)\n",
    "V4Corr = biserial.cor(fulldf$V4, fulldf$Class, use = \"complete.obs\", level = 2)\n",
    "V5Corr = biserial.cor(fulldf$V5, fulldf$Class, use = \"complete.obs\", level = 2)\n",
    "V6Corr = biserial.cor(fulldf$V6, fulldf$Class, use = \"complete.obs\", level = 2)\n",
    "V7Corr = biserial.cor(fulldf$V7, fulldf$Class, use = \"complete.obs\", level = 2)\n",
    "V8Corr = biserial.cor(fulldf$V8, fulldf$Class, use = \"complete.obs\", level = 2)\n",
    "V9Corr = biserial.cor(fulldf$V9, fulldf$Class, use = \"complete.obs\", level = 2)\n",
    "V10Corr = biserial.cor(fulldf$V10, fulldf$Class, use = \"complete.obs\", level = 2)\n",
    "V11Corr = biserial.cor(fulldf$V11, fulldf$Class, use = \"complete.obs\", level = 2)\n",
    "V12Corr = biserial.cor(fulldf$V12, fulldf$Class, use = \"complete.obs\", level = 2)\n",
    "V13Corr = biserial.cor(fulldf$V13, fulldf$Class, use = \"complete.obs\", level = 2)\n",
    "V14Corr = biserial.cor(fulldf$V14, fulldf$Class, use = \"complete.obs\", level = 2)\n",
    "V15Corr = biserial.cor(fulldf$V15, fulldf$Class, use = \"complete.obs\", level = 2)\n",
    "V16Corr = biserial.cor(fulldf$V16, fulldf$Class, use = \"complete.obs\", level = 2)\n",
    "V17Corr = biserial.cor(fulldf$V17, fulldf$Class, use = \"complete.obs\", level = 2)\n",
    "V18Corr = biserial.cor(fulldf$V18, fulldf$Class, use = \"complete.obs\", level = 2)\n",
    "V19Corr = biserial.cor(fulldf$V19, fulldf$Class, use = \"complete.obs\", level = 2)\n",
    "V20Corr = biserial.cor(fulldf$V20, fulldf$Class, use = \"complete.obs\", level = 2)\n",
    "V21Corr = biserial.cor(fulldf$V21, fulldf$Class, use = \"complete.obs\", level = 2)\n",
    "V22Corr = biserial.cor(fulldf$V22, fulldf$Class, use = \"complete.obs\", level = 2)\n",
    "V23Corr = biserial.cor(fulldf$V23, fulldf$Class, use = \"complete.obs\", level = 2)\n",
    "V24Corr = biserial.cor(fulldf$V24, fulldf$Class, use = \"complete.obs\", level = 2)\n",
    "V25Corr = biserial.cor(fulldf$V25, fulldf$Class, use = \"complete.obs\", level = 2)\n",
    "V26Corr = biserial.cor(fulldf$V26, fulldf$Class, use = \"complete.obs\", level = 2)\n",
    "V27Corr = biserial.cor(fulldf$V27, fulldf$Class, use = \"complete.obs\", level = 2)\n",
    "V28Corr = biserial.cor(fulldf$V28, fulldf$Class, use = \"complete.obs\", level = 2)\n",
    "\n"
   ]
  },
  {
   "cell_type": "code",
   "execution_count": null,
   "id": "0dd1b27c",
   "metadata": {},
   "outputs": [],
   "source": [
    "features =c(\"Time\", \"Amount\", \"V1\", \"V2\", \"V3\", \"V4\", \"V5\", \"V6\", \"V7\", \"V8\", \"V9\", \"V10\",\n",
    "            \"V11\", \"V12\", \"V13\", \"V14\", \"V15\", \"V16\", \"V17\", \"V18\", \"V19\", \"V20\",\n",
    "            \"V21\", \"V22\", \"V23\", \"V24\", \"V25\", \"V26\", \"V27\", \"V28\")\n",
    "\n",
    "pbCorr = c(timeCorr, amtCorr, V1Corr, V2Corr, V3Corr, V4Corr, V5Corr, V6Corr, V7Corr, V8Corr, V9Corr, V10Corr,\n",
    "           V11Corr, V12Corr, V13Corr, V14Corr, V15Corr, V16Corr, V17Corr, V18Corr, V19Corr, V20Corr,\n",
    "           V21Corr, V22Corr, V23Corr, V24Corr, V25Corr, V26Corr, V27Corr, V28Corr)"
   ]
  },
  {
   "cell_type": "code",
   "execution_count": null,
   "id": "57ed8c49",
   "metadata": {},
   "outputs": [],
   "source": [
    "# point-biserial correlation:  Full dataset\n",
    "corrDf <- data.frame(features = features, pointBiseralCorr = pbCorr, stringsAsFactors = FALSE)\n",
    "corrDf"
   ]
  },
  {
   "cell_type": "code",
   "execution_count": null,
   "id": "6c55609a",
   "metadata": {},
   "outputs": [],
   "source": [
    "# subset df to only numeric variables (remove Class variable)\n",
    "numDf <- fulldf[, c(1:30)]\n",
    "numDfYes <- yesFraud[, c(1:30)]\n",
    "numDfNo <- noFraud[, c(1:30)]"
   ]
  },
  {
   "cell_type": "code",
   "execution_count": null,
   "id": "a3b02c02",
   "metadata": {},
   "outputs": [],
   "source": [
    "# correlation matrix\n",
    "#http://www.sthda.com/english/wiki/correlation-matrix-a-quick-start-guide-to-analyze-format-and-visualize-a-correlation-matrix-using-r-software\n",
    "\n",
    "# Compute correlation matrix\n",
    "res <- cor(numDf, method = \"pearson\", use = \"complete.obs\")\n",
    "resYes <- cor(numDfYes, method = \"pearson\", use = \"complete.obs\")\n",
    "resNo <- cor(numDfNo, method = \"pearson\", use = \"complete.obs\")"
   ]
  },
  {
   "cell_type": "code",
   "execution_count": null,
   "id": "4fc5f07e",
   "metadata": {},
   "outputs": [],
   "source": [
    "write.csv(resYes,\"C:\\\\Users\\\\trave\\\\1_DSC680_Project3\\\\corrFraudYes.csv\", row.names = TRUE)"
   ]
  },
  {
   "cell_type": "code",
   "execution_count": null,
   "id": "ee9f1689",
   "metadata": {},
   "outputs": [],
   "source": []
  },
  {
   "cell_type": "code",
   "execution_count": null,
   "id": "08a71a51",
   "metadata": {},
   "outputs": [],
   "source": [
    "# full df\n",
    "corrplot(res, type = \"upper\", order = \"hclust\", \n",
    "         tl.col = \"black\", tl.srt = 45)"
   ]
  },
  {
   "cell_type": "code",
   "execution_count": null,
   "id": "8c8cd519",
   "metadata": {},
   "outputs": [],
   "source": [
    "# fraud df\n",
    "corrplot(resYes, type = \"upper\", order = \"hclust\", \n",
    "         tl.col = \"black\", tl.srt = 45)"
   ]
  },
  {
   "cell_type": "code",
   "execution_count": null,
   "id": "b0d5bd5d",
   "metadata": {},
   "outputs": [],
   "source": [
    "# no fraud df\n",
    "corrplot(resNo, type = \"upper\", order = \"hclust\", \n",
    "         tl.col = \"black\", tl.srt = 45)"
   ]
  },
  {
   "cell_type": "code",
   "execution_count": null,
   "id": "8adba1cd",
   "metadata": {},
   "outputs": [],
   "source": [
    "# heatmap full df\n",
    "# Get some colors\n",
    "col<- colorRampPalette(c(\"blue\", \"white\", \"red\"))(20)\n",
    "heatmap(x = res, col = col, symm = TRUE)"
   ]
  },
  {
   "cell_type": "code",
   "execution_count": null,
   "id": "a5efdc15",
   "metadata": {},
   "outputs": [],
   "source": [
    "# heatmap fraud df\n",
    "# Get some colors\n",
    "col<- colorRampPalette(c(\"blue\", \"white\", \"red\"))(20)\n",
    "heatmap(x = resYes, col = col, symm = TRUE)"
   ]
  },
  {
   "cell_type": "code",
   "execution_count": null,
   "id": "e159da1b",
   "metadata": {},
   "outputs": [],
   "source": [
    "# heatmap non-fraud df\n",
    "# Get some colors\n",
    "col<- colorRampPalette(c(\"blue\", \"white\", \"red\"))(20)\n",
    "heatmap(x = resNo, col = col, symm = TRUE)"
   ]
  },
  {
   "cell_type": "code",
   "execution_count": null,
   "id": "f26e44c2",
   "metadata": {
    "scrolled": true
   },
   "outputs": [],
   "source": [
    "# fraud df correlation\n",
    "round(resYes, 2)"
   ]
  },
  {
   "cell_type": "code",
   "execution_count": null,
   "id": "8fe8543e",
   "metadata": {},
   "outputs": [],
   "source": []
  },
  {
   "cell_type": "code",
   "execution_count": null,
   "id": "20b20301",
   "metadata": {},
   "outputs": [],
   "source": [
    "# Calculate correlation matrix\n",
    "#cor_matrix <- cor(num_df)\n",
    "# Find attributes that are highly corrected\n",
    "highlyCorrelated <- findCorrelation(res, cutoff=0.7)\n",
    "# Identifying Variable Names of Highly Correlated Variables\n",
    "highlyCorColumns <- colnames(numDf)[highlyCorrelated]\n",
    "# Print highly correlated attributes\n",
    "highlyCorColumns\n"
   ]
  },
  {
   "cell_type": "code",
   "execution_count": null,
   "id": "d9536483",
   "metadata": {},
   "outputs": [],
   "source": [
    "# Find attributes that are highly corrected\n",
    "highlyCorrelatedYes <- findCorrelation(resYes, cutoff=0.7)\n",
    "# Identifying Variable Names of Highly Correlated Variables\n",
    "highlyCorYesColumns <- colnames(numDfYes)[highlyCorrelatedYes]\n",
    "# Print highly correlated attributes\n",
    "highlyCorYesColumns"
   ]
  },
  {
   "cell_type": "code",
   "execution_count": null,
   "id": "d1d0909b",
   "metadata": {},
   "outputs": [],
   "source": [
    "# Remove highly correlated variables and create a new dataset\n",
    "college_df <- college_df[, -which(colnames(college_df) %in% highlyCorCol)]\n",
    "dim(college_df)\n"
   ]
  },
  {
   "cell_type": "code",
   "execution_count": null,
   "id": "2d70fb61",
   "metadata": {},
   "outputs": [],
   "source": []
  },
  {
   "cell_type": "code",
   "execution_count": null,
   "id": "0b4f6864",
   "metadata": {},
   "outputs": [],
   "source": []
  }
 ],
 "metadata": {
  "kernelspec": {
   "display_name": "R",
   "language": "R",
   "name": "ir"
  },
  "language_info": {
   "codemirror_mode": "r",
   "file_extension": ".r",
   "mimetype": "text/x-r-source",
   "name": "R",
   "pygments_lexer": "r",
   "version": "3.6.1"
  }
 },
 "nbformat": 4,
 "nbformat_minor": 5
}
